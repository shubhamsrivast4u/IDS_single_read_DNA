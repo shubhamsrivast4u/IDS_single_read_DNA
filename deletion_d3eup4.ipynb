{
 "cells": [
  {
   "cell_type": "code",
   "execution_count": 1,
   "id": "54bdf718",
   "metadata": {},
   "outputs": [],
   "source": [
    "import torch\n",
    "import torch.nn as nn\n",
    "import torch.nn.functional as F\n",
    "import random\n",
    "from torch.utils.data import Dataset, DataLoader\n",
    "import os\n",
    "os.environ[\"CUDA_VISIBLE_DEVICES\"] = \"2\"  # Select the GPU index\n",
    "import nltk\n",
    "from torch.optim.lr_scheduler import _LRScheduler\n",
    "import time\n",
    "import math\n",
    "import matplotlib.pyplot as plt\n",
    "import spacy\n",
    "from scipy.io import savemat\n",
    "import dill as pickle\n",
    "import thop"
   ]
  },
  {
   "cell_type": "code",
   "execution_count": 2,
   "id": "a700507b",
   "metadata": {},
   "outputs": [
    {
     "name": "stdout",
     "output_type": "stream",
     "text": [
      "['ACGTAGCAGA', 'ACTACAGACG', 'AGACGATGCA', 'AGCGACTATC', 'ATAGCTCGTG', 'CACGAGCTAT', 'CGTCTGTAGT', 'CTATCAGCGA', 'GATAGTCGCT', 'GCAGACATCA', 'GTGCTCGATA', 'TATCGAGCAC', 'TCGCTGATAG', 'TCTGCTACGT', 'TGATGTCTGC', 'TGCATCGTCT']\n"
     ]
    }
   ],
   "source": [
    "# Dictionary\n",
    "dicno=3\n",
    "dictionaries =[['AAGCGC', 'ACGAGC', 'ATGGCG', 'AGCACG', 'CAGGTG', 'CCTACG', 'CTACGC', 'CGAACG', 'TAGGGC',\n",
    "                'TCGTGC', 'TTGCCG', 'TGCTCG', 'GACGAC', 'GCAGCA', 'GTAGGC', 'GGTCGA'],\n",
    "               \n",
    "               ['AAGCGC', 'ACGAGC', 'ATCCGC', 'ATGGCG', 'AGCACG', 'CATCCG', 'CAGGTG', 'CCTACG', 'CCTGGT',\n",
    "                'CCGTTG', 'CTACGC', 'CTGGAG', 'CGAACG', 'CGGAAC', 'TAGGGC', 'TCCGCA', 'TCGTGC', 'TCGGGA',\n",
    "                'TTCGGC', 'TTGCCG', 'TGCTCG', 'GACGAC', 'GATGCG', 'GCAGCA', 'GCCTAC', 'GTAGGC', 'GGACGT',\n",
    "                'GGCTAG', 'GGCTTC', 'GGTAGC', 'GGTCCT', 'GGTCGA' ],\n",
    "               \n",
    "               ['ACTACGACA', 'ACTGACACA', 'ACGACTACA', 'ATCAGCACA', 'AGCATCACA', 'CATCAGACA', 'CAGCATACA', \n",
    "                'TACGACACA', 'GACTACACA', 'ACTACTGAG', 'ACTACGATG', 'ACTACGTAG', 'ACTACGTGA', 'ACTGACATG',\n",
    "                'ACTGACTAG', 'ACTGACTGA', 'ACTGACGAT', 'ACTGACGTA', 'ACTGATACG', 'ACTGATAGC', 'ACTGATCGA', \n",
    "                'ACTGATGAC', 'ACTGATGCA', 'ACTGCTAGA', 'ACGACTATG', 'ACGACTAGT', 'ACGACTGAT', 'ACGACTGTA', 'ACGATGACT', \n",
    "                'ACGATGATC', 'ACGATGCTA', 'ACGATGTAC', 'ACGATGTCA', 'ATCATCGAG', 'ATCAGCATG', 'ATCAGCAGT', 'ATCAGCTGA', \n",
    "                'ATCAGCGTA', 'ATCAGTACG', 'ATCAGTAGC', 'ATCAGTCAG', 'ATCAGTCGA', 'ATCAGTGCA', 'ATCGTACAG', 'ATCGTACGA', \n",
    "                'ATCGTAGAC', 'ATCGTAGCA', 'ATCGTCAGA', 'ATGACTACG', 'ATGACTAGC', 'ATGACTCGA', 'ATGACTGAC', 'ATGACTGCA', \n",
    "                'ATGACGACT', 'ATGACGATC', 'ATGACGCTA', 'ATGACGTCA', 'ATGATGCAC', 'ATGCTACAG', 'ATGCTACGA', 'ATGCTAGAC', \n",
    "                'ATGCTAGCA', 'ATGCTGACA', 'AGCATCATG', 'AGCATCAGT', 'AGCATCTAG', 'AGCATCTGA', 'AGCATCGTA', 'AGCAGTACT', \n",
    "                'AGCAGTATC', 'AGCAGTCAT', 'AGCAGTCTA', 'AGTAGCATC', 'AGTAGCTAC', 'AGTAGCTCA', 'AGTAGTCAC', 'AGTCATACG', \n",
    "                'AGTCATAGC', 'AGTCATCAG', 'AGTCATCGA', 'AGTCATGCA', 'AGTCAGATC', 'AGTCAGCAT', 'AGTCAGCTA', 'AGTCAGTAC', \n",
    "                'AGTCAGTCA', 'AGTCGTACA', 'CATCAGAGT', 'CATCAGTAG', 'CATCAGTGA', 'CATCGTAGA', 'CAGCATATG', 'CAGCATAGT', \n",
    "                'CAGCATGAT', 'CAGCATGTA', 'CAGCAGTAT', 'CAGTAGATC', 'CAGTAGCAT', 'CAGTAGCTA', 'CAGTAGTAC', 'CAGTAGTCA', \n",
    "                'CAGTCATAG', 'CAGTCATGA', 'CAGTCAGAT', 'CAGTCAGTA', 'CAGTCGATA', 'CTACTGAGA', 'CTACGATGA', 'CTACGAGAT', \n",
    "                'CTACGAGTA', 'CTGACTAGA', 'CTGACGATA', 'CTGATGACA', 'CGACTATAG', 'CGACTATGA', 'CGACTAGAT', 'CGACTAGTA',\n",
    "                'CGACTGATA', 'CGACGATAT', 'CGATGACTA', 'CGATGATAC', 'CGATGCATA', 'CGTAGCATA', 'CGTCATAGA', 'CGTCAGATA', \n",
    "                'TACTACGAG', 'TACTGACAG', 'TACTGACGA', 'TACTGAGAC', 'TACTGAGCA', 'TACTGCAGA', 'TACGACAGT', 'TACGACTAG',\n",
    "                'TACGACTGA', 'TACGACGAT', 'TACGATACG', 'TACGATAGC', 'TACGATCAG', 'TACGATCGA', 'TACGATGAC', 'TACGATGCA', \n",
    "                'TAGCATACG', 'TAGCATAGC', 'TAGCATCAG', 'TAGCATCGA', 'TAGCATGAC', 'TAGCATGCA', 'TAGCAGACT', 'TAGCAGCAT', \n",
    "                'TAGCAGTAC', 'TAGCAGTCA', 'TAGTAGCAC', 'TAGTCACAG', 'TAGTCACGA', 'TAGTCAGAC', 'TAGTCAGCA', 'TAGTCGACA', \n",
    "                'TCATCAGAG', 'TCATCGAGA', 'TCAGCATAG', 'TCAGCAGAT', 'TCAGCAGTA', 'TCAGTACAG', 'TCAGTACGA', 'TCAGTAGAC',\n",
    "                'TCAGTAGCA', 'TCAGTCAGA', 'TCGTAGACA', 'TGACTACAG', 'TGACTACGA', 'TGACTAGAC', 'TGACTAGCA', 'TGACTGACA', \n",
    "                'TGACGACAT', 'TGACGACTA', 'TGACGATAC', 'TGATGACAC', 'TGATGCACA', 'TGCTACAGA', 'GACTACATG', 'GACTACTAG', \n",
    "                'GACTACTGA', 'GACTACGAT', 'GACTACGTA', 'GACTGACAT', 'GACTGACTA', 'GACTGATAC', 'GACTGATCA', 'GACTGCATA', \n",
    "                'GACGACTAT', 'GACGATACT', 'GACGATATC', 'GACGATCAT', 'GACGATCTA', 'GATGACACT', 'GATGACTAC', 'GATGACTCA', \n",
    "                'GATGCTACA', 'GCATCATAG', 'GCATCAGAT', 'GCATCAGTA', 'GCATCGATA', 'GCAGCATAT', 'GCAGTACAT', 'GCAGTACTA', \n",
    "                'GCAGTATAC', 'GCAGTATCA', 'GCAGTCATA', 'GCTACGATA', 'GCTGACATA', 'GCTGATACA', 'GTAGCACAT', 'GTAGCACTA', \n",
    "                'GTAGCATCA', 'GTAGTCACA', 'GTCATCAGA', 'GTCAGCATA', 'GTCAGTACA', 'ACTGATGTG', 'ACGATGTGT', 'ATCAGTGTG', \n",
    "                'ATCGTAGTG', 'ATGACTGTG', 'ATGACGTGT', 'ATGATGCTG', 'ATGATGCGT', 'ATGATGTCG', 'ATGATGTGC', 'ATGCTAGTG', \n",
    "                'ATGCTGATG', 'ATGCTGAGT', 'ATGCTGTGA', 'AGTAGCTGT', 'AGTAGTCTG', 'AGTAGTCGT', 'AGTAGTGCT', 'AGTAGTGTC', \n",
    "                'AGTCATGTG', 'AGTCAGTGT', 'AGTCGTATG', 'AGTCGTAGT', 'AGTCGTGTA', 'CAGTAGTGT', 'CTGATGATG', 'CTGATGAGT', \n",
    "                'CTGATGTAG', 'CTGATGTGA', 'CGATGATGT', 'CGTAGTATG', 'CGTAGTAGT', 'CGTAGTGAT', 'CGTAGTGTA', 'TACGATGTG', \n",
    "                'TAGCATGTG', 'TAGCAGTGT'],\n",
    "               \n",
    "               ['ACGTAGCAGA', 'ACTACAGACG', 'AGACGATGCA', 'AGCGACTATC', 'ATAGCTCGTG', 'CACGAGCTAT','CGTCTGTAGT',\n",
    "                'CTATCAGCGA', 'GATAGTCGCT', 'GCAGACATCA', 'GTGCTCGATA', 'TATCGAGCAC', 'TCGCTGATAG', 'TCTGCTACGT',\n",
    "                'TGATGTCTGC', 'TGCATCGTCT'],\n",
    "               \n",
    "               ['ATCGATCGATCGAT','TACGTAGCTAGCTA', 'TAGCTACGTAGCTA', 'ATGCATGCATCGAT', 'ATGCTACGATGCTA', \n",
    "                'TAGCATGCTACGAT', 'TACGATCGTACGAT', 'ATCGTAGCATGCTA', 'TACGATGCTAGCAT', 'ATCGTACGATCGTA', \n",
    "                'ATGCTAGCATCGTA', 'TAGCATCGTAGCAT', 'TAGCTAGCTACGTA', 'ATGCATCGATGCAT', 'ATCGATGCATGCAT', \n",
    "                'TACGTACGTACGTA'],\n",
    "              \n",
    "               ['ATCGATCG', 'ATCGATGC', 'ATCGTAGC', 'ATCGTACG', 'ATGCTAGC', 'ATGCTACG', 'ATGCATCG', 'ATGCATGC',\n",
    "                'TAGCTAGC', 'TAGCTACG', 'TAGCATCG', 'TAGCATGC', 'TACGATCG', 'TACGATGC', 'TACGTAGC', 'TACGTACG']\n",
    "              \n",
    "               ]\n",
    "dicts=dictionaries[dicno]\n",
    "print(dicts)"
   ]
  },
  {
   "cell_type": "code",
   "execution_count": 3,
   "id": "dbcadf01",
   "metadata": {},
   "outputs": [],
   "source": [
    "batch_size=2000\n",
    "device = 'cuda' if torch.cuda.is_available() else 'cpu'\n",
    "lr=0.001\n",
    "num_epochs=500\n",
    "patience=400\n",
    "train_num_samples=30000\n",
    "test_num_samples=10000\n",
    "num_errors=4\n",
    "K=len(dicts[0])\n",
    "hidden_size=32"
   ]
  },
  {
   "cell_type": "code",
   "execution_count": 4,
   "id": "cd70d5fb",
   "metadata": {},
   "outputs": [
    {
     "data": {
      "text/plain": [
       "'deletionmodels/BiLSTM/Dictionary_3/batch_size_2000/num_errors_4/initial_lr_0.001/epochs500_p400_tr30000ts10000K10hs32/'"
      ]
     },
     "execution_count": 4,
     "metadata": {},
     "output_type": "execute_result"
    }
   ],
   "source": [
    "path_directory=f\"deletionmodels/BiLSTM/Dictionary_{dicno}/batch_size_{batch_size}/num_errors_{num_errors}/initial_lr_{lr}/epochs{num_epochs}_p{patience}_tr{train_num_samples}ts{test_num_samples}K{K}hs{hidden_size}/\"\n",
    "path_directory"
   ]
  },
  {
   "cell_type": "code",
   "execution_count": 5,
   "id": "62b8193e",
   "metadata": {},
   "outputs": [],
   "source": [
    "# Check if \"models\" folder exists, create it if it doesn't\n",
    "if not os.path.exists(path_directory):\n",
    "    os.makedirs(path_directory)\n"
   ]
  },
  {
   "cell_type": "code",
   "execution_count": 6,
   "id": "d805d412",
   "metadata": {},
   "outputs": [],
   "source": [
    "class LanguageDataset(Dataset):\n",
    "\n",
    "    def __init__(self, dictionary, num_samples, num_errors):\n",
    "        self.dictionary = dictionary\n",
    "        self.num_samples = num_samples \n",
    "        self.num_errors = num_errors\n",
    "\n",
    "    def __len__(self):\n",
    "        return self.num_samples\n",
    "\n",
    "    def __getitem__(self, idx):\n",
    "        source_idx = idx % len(self.dictionary)  \n",
    "        sequence = self.dictionary[source_idx]\n",
    "\n",
    "        if self.num_errors > 0:\n",
    "            sequence = self.introduce_errors(sequence, self.num_errors)\n",
    "\n",
    "        x = torch.tensor([self.char_to_idx(c) for c in sequence], dtype=torch.long)\n",
    "        y = torch.tensor([self.char_to_idx(c) for c in self.dictionary[source_idx]], dtype=torch.long)\n",
    "        return x.to(device), y.to(device)\n",
    "        \n",
    "    def introduce_errors(self, sequence, num_errors):\n",
    "        sequence = list(sequence)\n",
    "        for _ in range(num_errors):\n",
    "            i = random.randint(0, len(sequence)-1)\n",
    "            del sequence[i]\n",
    "\n",
    "        return ''.join(sequence)\n",
    "\n",
    "    def char_to_idx(self, char):\n",
    "        return {'A': 0, 'C': 1, 'T': 2, 'G': 3}[char]"
   ]
  },
  {
   "cell_type": "code",
   "execution_count": 7,
   "id": "a9c0ed7b",
   "metadata": {},
   "outputs": [
    {
     "data": {
      "text/plain": [
       "2"
      ]
     },
     "execution_count": 7,
     "metadata": {},
     "output_type": "execute_result"
    }
   ],
   "source": [
    "random.randint(1, 2)"
   ]
  },
  {
   "cell_type": "code",
   "execution_count": 8,
   "id": "7d7bfb16",
   "metadata": {},
   "outputs": [],
   "source": [
    "class LanguageDataset1(Dataset):\n",
    "\n",
    "    def __init__(self, dictionary, num_samples, num_errors):\n",
    "        self.dictionary = dictionary\n",
    "        self.num_samples = num_samples \n",
    "        self.num_errors = num_errors\n",
    "\n",
    "    def __len__(self):\n",
    "        return self.num_samples\n",
    "\n",
    "    def __getitem__(self, idx):\n",
    "        source_idx = idx % len(self.dictionary)\n",
    "        sequence = self.dictionary[source_idx]\n",
    "        \n",
    "        if self.num_errors > 0:\n",
    "            sequence = self.introduce_errors(sequence, self.num_errors)\n",
    "            \n",
    "        x = torch.tensor([self.char_to_idx(c) for c in sequence], dtype=torch.long)\n",
    "        y = torch.tensor([self.char_to_idx(c) for c in self.dictionary[source_idx]], dtype=torch.long)\n",
    "        return x.to(device), y.to(device)\n",
    "\n",
    "    def introduce_errors(self, sequence, num_errors):\n",
    "        ne = random.randint(1, num_errors)\n",
    "        sequence = list(sequence)\n",
    "        \n",
    "        for _ in range(ne):\n",
    "            i = random.randint(0, len(sequence)-1)\n",
    "            del sequence[i]\n",
    "            sequence.append('N') \n",
    "        return ''.join(sequence)\n",
    "\n",
    "    def char_to_idx(self, char):\n",
    "        return {'A': 0, 'C': 1, 'T': 2, 'G': 3, 'N': 4}[char]"
   ]
  },
  {
   "cell_type": "code",
   "execution_count": 9,
   "id": "e6c5ca76",
   "metadata": {},
   "outputs": [],
   "source": [
    "train_data = LanguageDataset1(dicts, num_samples=train_num_samples, num_errors=num_errors)\n",
    "test_data = LanguageDataset1(dicts, num_samples=test_num_samples, num_errors=num_errors)\n",
    "\n",
    "train_loader = DataLoader(train_data, batch_size=batch_size, shuffle=True)\n",
    "test_loader = DataLoader(test_data, batch_size=batch_size)"
   ]
  },
  {
   "cell_type": "code",
   "execution_count": 10,
   "id": "87577e33",
   "metadata": {},
   "outputs": [],
   "source": [
    "t1=iter(train_loader)\n",
    "X,y=next(t1)"
   ]
  },
  {
   "cell_type": "code",
   "execution_count": 11,
   "id": "fc455f7a",
   "metadata": {},
   "outputs": [
    {
     "data": {
      "text/plain": [
       "tensor([[3, 0, 2,  ..., 4, 4, 4],\n",
       "        [3, 1, 3,  ..., 4, 4, 4],\n",
       "        [2, 3, 1,  ..., 4, 4, 4],\n",
       "        ...,\n",
       "        [0, 1, 3,  ..., 4, 4, 4],\n",
       "        [1, 0, 3,  ..., 0, 4, 4],\n",
       "        [3, 0, 2,  ..., 1, 4, 4]], device='cuda:0')"
      ]
     },
     "execution_count": 11,
     "metadata": {},
     "output_type": "execute_result"
    }
   ],
   "source": [
    "X"
   ]
  },
  {
   "cell_type": "code",
   "execution_count": 12,
   "id": "83b83995",
   "metadata": {},
   "outputs": [
    {
     "data": {
      "text/plain": [
       "tensor([[2, 3, 0,  ..., 2, 3, 1],\n",
       "        [0, 3, 1,  ..., 0, 2, 1],\n",
       "        [2, 1, 2,  ..., 1, 3, 2],\n",
       "        ...,\n",
       "        [0, 3, 0,  ..., 3, 1, 0],\n",
       "        [3, 1, 0,  ..., 2, 1, 0],\n",
       "        [3, 0, 2,  ..., 3, 1, 2]], device='cuda:0')"
      ]
     },
     "execution_count": 12,
     "metadata": {},
     "output_type": "execute_result"
    }
   ],
   "source": [
    "y"
   ]
  },
  {
   "cell_type": "code",
   "execution_count": 13,
   "id": "640f9af6",
   "metadata": {},
   "outputs": [],
   "source": [
    "def one_hot_encode(sequences, n_unique):\n",
    "\n",
    "    # Get size of batch and max sequence length\n",
    "    batch_size,seq_len=sequences.shape\n",
    "    #len(sequences)\n",
    "    #seq_len=len(sequences[0])\n",
    "    \n",
    "    # Initialize encoded tensor\n",
    "    oneencoding = torch.zeros(batch_size, seq_len, n_unique, device = device)\n",
    "    # Set 1 at index of each character\n",
    "    for i in range(batch_size):\n",
    "        for j in range(seq_len):\n",
    "            index = sequences[i][j]\n",
    "            oneencoding[i, j, index] = 1          \n",
    "    return oneencoding"
   ]
  },
  {
   "cell_type": "code",
   "execution_count": 14,
   "id": "ee758123",
   "metadata": {},
   "outputs": [
    {
     "data": {
      "text/plain": [
       "torch.Size([2000, 10])"
      ]
     },
     "execution_count": 14,
     "metadata": {},
     "output_type": "execute_result"
    }
   ],
   "source": [
    "X.shape"
   ]
  },
  {
   "cell_type": "code",
   "execution_count": 15,
   "id": "6d4e7322",
   "metadata": {},
   "outputs": [],
   "source": [
    "def one_hot_decode(encoded_seq):\n",
    "    \"\"\"Converts a batch of one-hot encoded sequences to indices\"\"\"\n",
    "    \n",
    "    # Dimensions will be (batch_size, seq_len, num_classes)\n",
    "    batch_size, seq_len, num_classes = encoded_seq.shape\n",
    "    \n",
    "    # Flatten to treat as a list of one-hot vectors\n",
    "    encoded_seq = encoded_seq.reshape(-1, num_classes)\n",
    "    \n",
    "    # Argmax over classes to get class index\n",
    "    indices = encoded_seq.argmax(dim=1).to(device)\n",
    "    \n",
    "    # Reshape back to original dimensions\n",
    "    indices = indices.reshape(batch_size, seq_len)\n",
    "    \n",
    "    return indices"
   ]
  },
  {
   "cell_type": "code",
   "execution_count": 16,
   "id": "d3d48c1c",
   "metadata": {},
   "outputs": [],
   "source": [
    "class BiLSTMModel(nn.Module):\n",
    "\n",
    "    def __init__(self, hidden_size, dropout):\n",
    "        super().__init__()\n",
    "        \n",
    "        self.lstm1 = nn.LSTM(\n",
    "            input_size=5, \n",
    "            hidden_size=hidden_size,\n",
    "            num_layers=2,\n",
    "            batch_first=True,\n",
    "            bidirectional=True,\n",
    "            dropout=dropout\n",
    "        )\n",
    "        self.fc = nn.Linear(2*hidden_size, 4)\n",
    "        self.softmax = nn.Softmax(dim=2)\n",
    "    def forward(self, x):\n",
    "\n",
    "        # BiLSTM 1\n",
    "        out, _ = self.lstm1(x)\n",
    "        out = self.softmax(self.fc(out))\n",
    "        return out"
   ]
  },
  {
   "cell_type": "code",
   "execution_count": 17,
   "id": "c8bbfd99",
   "metadata": {},
   "outputs": [],
   "source": [
    "model=BiLSTMModel(hidden_size,0.1)"
   ]
  },
  {
   "cell_type": "code",
   "execution_count": 18,
   "id": "fdca5add",
   "metadata": {},
   "outputs": [],
   "source": [
    "def cal_model_parameters(model):\n",
    "    total_param  = []\n",
    "    for p1 in model.parameters():\n",
    "        total_param.append(int(p1.numel()))\n",
    "    return sum(total_param)"
   ]
  },
  {
   "cell_type": "code",
   "execution_count": 19,
   "id": "b4388fcc",
   "metadata": {},
   "outputs": [
    {
     "data": {
      "text/plain": [
       "35332"
      ]
     },
     "execution_count": 19,
     "metadata": {},
     "output_type": "execute_result"
    }
   ],
   "source": [
    "cal_model_parameters(model)"
   ]
  },
  {
   "cell_type": "code",
   "execution_count": 20,
   "id": "68ad73ac",
   "metadata": {},
   "outputs": [],
   "source": [
    "model=model.to(device)"
   ]
  },
  {
   "cell_type": "code",
   "execution_count": 21,
   "id": "d4268683",
   "metadata": {},
   "outputs": [],
   "source": [
    "train_next=iter(train_data)\n",
    "Xp, Yp=next(train_next)\n",
    "#Xp = torch.cat([Xp.view(1,-1), 4*torch.ones(1, num_errors, dtype=torch.int).to(device)], dim=1)\n",
    "xp=one_hot_encode(Xp.view(1,-1).to(device), 5).to(device)"
   ]
  },
  {
   "cell_type": "code",
   "execution_count": 22,
   "id": "e3e06394",
   "metadata": {},
   "outputs": [],
   "source": [
    "flops, params = thop.profile(model, inputs=(xp,), verbose=False)"
   ]
  },
  {
   "cell_type": "code",
   "execution_count": 23,
   "id": "d017e558",
   "metadata": {},
   "outputs": [
    {
     "name": "stdout",
     "output_type": "stream",
     "text": [
      "Model Flops: 363630.0\n",
      "Model Params Num: 35332.0\n",
      "\n"
     ]
    }
   ],
   "source": [
    "print(f'Model Flops: {flops}')\n",
    "print(f'Model Params Num: {params}\\n')"
   ]
  },
  {
   "cell_type": "code",
   "execution_count": 24,
   "id": "248e48b2",
   "metadata": {},
   "outputs": [],
   "source": [
    "\n",
    "criterion= nn.MSELoss().to(device)"
   ]
  },
  {
   "cell_type": "code",
   "execution_count": 25,
   "id": "ad91e622",
   "metadata": {},
   "outputs": [],
   "source": [
    "optimizer = torch.optim.Adam(model.parameters(), lr=lr, betas=(0.9, 0.98), eps=1e-9)"
   ]
  },
  {
   "cell_type": "code",
   "execution_count": 26,
   "id": "e5c7217e",
   "metadata": {},
   "outputs": [],
   "source": [
    "class WarmUpCosineAnnealingLR(_LRScheduler):\n",
    "    def __init__(self, optimizer, T_max, T_warmup, eta_min=0, last_epoch=-1):\n",
    "        self.T_max = T_max\n",
    "        self.T_warmup = T_warmup\n",
    "        self.eta_min = eta_min\n",
    "        super(WarmUpCosineAnnealingLR, self).__init__(optimizer, last_epoch)\n",
    "\n",
    "    def get_lr(self):\n",
    "        if self.last_epoch < self.T_warmup:\n",
    "            return [base_lr * self.last_epoch / self.T_warmup for base_lr in self.base_lrs]\n",
    "        else:\n",
    "            k = 1 + math.cos(math.pi * (self.last_epoch - self.T_warmup) / (self.T_max - self.T_warmup))\n",
    "            return [self.eta_min + (base_lr - self.eta_min) * k / 2 for base_lr in self.base_lrs]"
   ]
  },
  {
   "cell_type": "code",
   "execution_count": 27,
   "id": "23b7a66e",
   "metadata": {},
   "outputs": [],
   "source": [
    "scheduler = WarmUpCosineAnnealingLR(optimizer=optimizer,\n",
    "                                            T_max=num_epochs * len(train_loader),\n",
    "                                            T_warmup=20 * len(train_loader),\n",
    "                                            eta_min=1e-6)"
   ]
  },
  {
   "cell_type": "code",
   "execution_count": 28,
   "id": "da868db6",
   "metadata": {},
   "outputs": [
    {
     "name": "stdout",
     "output_type": "stream",
     "text": [
      "epoch:1/500 average TL:0.18775457 average VL:0.18772791 epoch time:29 seconds, lr:5.00e-05\n",
      "epoch:2/500 average TL:0.18768251 average VL:0.18762064 epoch time:29 seconds, lr:1.00e-04\n",
      "epoch:3/500 average TL:0.18755658 average VL:0.18748093 epoch time:28 seconds, lr:1.50e-04\n",
      "epoch:4/500 average TL:0.18741398 average VL:0.18733549 epoch time:29 seconds, lr:2.00e-04\n",
      "epoch:5/500 average TL:0.18726277 average VL:0.18716310 epoch time:29 seconds, lr:2.50e-04\n",
      "epoch:6/500 average TL:0.18705943 average VL:0.18691991 epoch time:28 seconds, lr:3.00e-04\n",
      "epoch:7/500 average TL:0.18674463 average VL:0.18649971 epoch time:28 seconds, lr:3.50e-04\n",
      "epoch:8/500 average TL:0.18618521 average VL:0.18571816 epoch time:28 seconds, lr:4.00e-04\n",
      "epoch:9/500 average TL:0.18500583 average VL:0.18388867 epoch time:28 seconds, lr:4.50e-04\n",
      "epoch:10/500 average TL:0.18225504 average VL:0.18021706 epoch time:28 seconds, lr:5.00e-04\n",
      "epoch:11/500 average TL:0.17945547 average VL:0.17837767 epoch time:28 seconds, lr:5.50e-04\n",
      "epoch:12/500 average TL:0.17748389 average VL:0.17608915 epoch time:28 seconds, lr:6.00e-04\n",
      "epoch:13/500 average TL:0.17495742 average VL:0.17311449 epoch time:28 seconds, lr:6.50e-04\n",
      "epoch:14/500 average TL:0.17215078 average VL:0.17008923 epoch time:28 seconds, lr:7.00e-04\n",
      "epoch:15/500 average TL:0.16950609 average VL:0.16761036 epoch time:28 seconds, lr:7.50e-04\n",
      "epoch:16/500 average TL:0.16737406 average VL:0.16549519 epoch time:28 seconds, lr:8.00e-04\n",
      "epoch:17/500 average TL:0.16506788 average VL:0.16279922 epoch time:28 seconds, lr:8.50e-04\n",
      "epoch:18/500 average TL:0.16272174 average VL:0.16028833 epoch time:28 seconds, lr:9.00e-04\n",
      "epoch:19/500 average TL:0.16008991 average VL:0.15768021 epoch time:28 seconds, lr:9.50e-04\n",
      "epoch:20/500 average TL:0.15802404 average VL:0.15583064 epoch time:28 seconds, lr:1.00e-03\n",
      "epoch:21/500 average TL:0.15562132 average VL:0.15364836 epoch time:28 seconds, lr:1.00e-03\n",
      "epoch:22/500 average TL:0.15373573 average VL:0.15142485 epoch time:28 seconds, lr:1.00e-03\n",
      "epoch:23/500 average TL:0.15165815 average VL:0.14937602 epoch time:28 seconds, lr:1.00e-03\n",
      "epoch:24/500 average TL:0.14964379 average VL:0.14734812 epoch time:28 seconds, lr:1.00e-03\n",
      "epoch:25/500 average TL:0.14761132 average VL:0.14509155 epoch time:28 seconds, lr:1.00e-03\n",
      "epoch:26/500 average TL:0.14567170 average VL:0.14265944 epoch time:28 seconds, lr:1.00e-03\n",
      "epoch:27/500 average TL:0.14311492 average VL:0.13964885 epoch time:28 seconds, lr:9.99e-04\n",
      "epoch:28/500 average TL:0.14042611 average VL:0.13633047 epoch time:28 seconds, lr:9.99e-04\n",
      "epoch:29/500 average TL:0.13732247 average VL:0.13290775 epoch time:28 seconds, lr:9.99e-04\n",
      "epoch:30/500 average TL:0.13387036 average VL:0.12964274 epoch time:28 seconds, lr:9.99e-04\n",
      "epoch:31/500 average TL:0.13011442 average VL:0.12577093 epoch time:28 seconds, lr:9.99e-04\n",
      "epoch:32/500 average TL:0.12639876 average VL:0.12130630 epoch time:28 seconds, lr:9.98e-04\n",
      "epoch:33/500 average TL:0.12301604 average VL:0.11747973 epoch time:28 seconds, lr:9.98e-04\n",
      "epoch:34/500 average TL:0.11897471 average VL:0.11329477 epoch time:28 seconds, lr:9.98e-04\n",
      "epoch:35/500 average TL:0.11539053 average VL:0.10932484 epoch time:28 seconds, lr:9.98e-04\n",
      "epoch:36/500 average TL:0.11111739 average VL:0.10433097 epoch time:28 seconds, lr:9.97e-04\n",
      "epoch:37/500 average TL:0.10681328 average VL:0.10023029 epoch time:28 seconds, lr:9.97e-04\n",
      "epoch:38/500 average TL:0.10259119 average VL:0.09560511 epoch time:28 seconds, lr:9.97e-04\n",
      "epoch:39/500 average TL:0.09873910 average VL:0.09107663 epoch time:28 seconds, lr:9.96e-04\n",
      "epoch:40/500 average TL:0.09435971 average VL:0.08761667 epoch time:28 seconds, lr:9.96e-04\n",
      "epoch:41/500 average TL:0.09068578 average VL:0.08412299 epoch time:28 seconds, lr:9.95e-04\n",
      "epoch:42/500 average TL:0.08768172 average VL:0.08068579 epoch time:28 seconds, lr:9.95e-04\n",
      "epoch:43/500 average TL:0.08325126 average VL:0.07683950 epoch time:28 seconds, lr:9.94e-04\n",
      "epoch:44/500 average TL:0.08031867 average VL:0.07329123 epoch time:28 seconds, lr:9.94e-04\n",
      "epoch:45/500 average TL:0.07714480 average VL:0.07021745 epoch time:28 seconds, lr:9.93e-04\n",
      "epoch:46/500 average TL:0.07391617 average VL:0.06677245 epoch time:28 seconds, lr:9.93e-04\n",
      "epoch:47/500 average TL:0.07186349 average VL:0.06482378 epoch time:28 seconds, lr:9.92e-04\n",
      "epoch:48/500 average TL:0.06806924 average VL:0.06079343 epoch time:28 seconds, lr:9.92e-04\n",
      "epoch:49/500 average TL:0.06518392 average VL:0.05904132 epoch time:28 seconds, lr:9.91e-04\n",
      "epoch:50/500 average TL:0.06245127 average VL:0.05613633 epoch time:28 seconds, lr:9.90e-04\n",
      "epoch:51/500 average TL:0.06034335 average VL:0.05350764 epoch time:28 seconds, lr:9.90e-04\n",
      "epoch:52/500 average TL:0.05765080 average VL:0.05029496 epoch time:28 seconds, lr:9.89e-04\n",
      "epoch:53/500 average TL:0.05525975 average VL:0.04985855 epoch time:28 seconds, lr:9.88e-04\n",
      "epoch:54/500 average TL:0.05318983 average VL:0.04664532 epoch time:28 seconds, lr:9.88e-04\n",
      "epoch:55/500 average TL:0.05167846 average VL:0.04632621 epoch time:28 seconds, lr:9.87e-04\n",
      "epoch:56/500 average TL:0.04949204 average VL:0.04366966 epoch time:28 seconds, lr:9.86e-04\n",
      "epoch:57/500 average TL:0.04810507 average VL:0.04213443 epoch time:28 seconds, lr:9.85e-04\n",
      "epoch:58/500 average TL:0.04646673 average VL:0.04118197 epoch time:28 seconds, lr:9.85e-04\n",
      "epoch:59/500 average TL:0.04470348 average VL:0.03970305 epoch time:28 seconds, lr:9.84e-04\n",
      "epoch:60/500 average TL:0.04364128 average VL:0.03912995 epoch time:28 seconds, lr:9.83e-04\n",
      "epoch:61/500 average TL:0.04196252 average VL:0.03675605 epoch time:28 seconds, lr:9.82e-04\n",
      "epoch:62/500 average TL:0.04149618 average VL:0.03678993 epoch time:28 seconds, lr:9.81e-04\n",
      "epoch:63/500 average TL:0.04002712 average VL:0.03462353 epoch time:28 seconds, lr:9.80e-04\n",
      "epoch:64/500 average TL:0.03946684 average VL:0.03412675 epoch time:28 seconds, lr:9.79e-04\n",
      "epoch:65/500 average TL:0.03836957 average VL:0.03302559 epoch time:28 seconds, lr:9.78e-04\n",
      "epoch:66/500 average TL:0.03741251 average VL:0.03310226 epoch time:28 seconds, lr:9.78e-04\n",
      "epoch:67/500 average TL:0.03653332 average VL:0.03171469 epoch time:28 seconds, lr:9.77e-04\n",
      "epoch:68/500 average TL:0.03563103 average VL:0.03081024 epoch time:28 seconds, lr:9.76e-04\n",
      "epoch:69/500 average TL:0.03557434 average VL:0.03111588 epoch time:28 seconds, lr:9.75e-04\n",
      "epoch:70/500 average TL:0.03487093 average VL:0.02996817 epoch time:28 seconds, lr:9.73e-04\n",
      "epoch:71/500 average TL:0.03406443 average VL:0.02965464 epoch time:28 seconds, lr:9.72e-04\n",
      "epoch:72/500 average TL:0.03418154 average VL:0.03014630 epoch time:28 seconds, lr:9.71e-04\n",
      "epoch:73/500 average TL:0.03320447 average VL:0.02871251 epoch time:28 seconds, lr:9.70e-04\n",
      "epoch:74/500 average TL:0.03273228 average VL:0.02914771 epoch time:28 seconds, lr:9.69e-04\n",
      "epoch:75/500 average TL:0.03265998 average VL:0.02749724 epoch time:28 seconds, lr:9.68e-04\n",
      "epoch:76/500 average TL:0.03187567 average VL:0.02753164 epoch time:28 seconds, lr:9.67e-04\n",
      "epoch:77/500 average TL:0.03164477 average VL:0.02773153 epoch time:28 seconds, lr:9.66e-04\n",
      "epoch:78/500 average TL:0.03152613 average VL:0.02754271 epoch time:28 seconds, lr:9.64e-04\n",
      "epoch:79/500 average TL:0.03067759 average VL:0.02757460 epoch time:28 seconds, lr:9.63e-04\n",
      "epoch:80/500 average TL:0.03068575 average VL:0.02730150 epoch time:28 seconds, lr:9.62e-04\n",
      "epoch:81/500 average TL:0.03029080 average VL:0.02653134 epoch time:28 seconds, lr:9.61e-04\n",
      "epoch:82/500 average TL:0.02934770 average VL:0.02607928 epoch time:28 seconds, lr:9.59e-04\n",
      "epoch:83/500 average TL:0.02935209 average VL:0.02592208 epoch time:28 seconds, lr:9.58e-04\n",
      "epoch:84/500 average TL:0.02952425 average VL:0.02648982 epoch time:28 seconds, lr:9.57e-04\n",
      "epoch:85/500 average TL:0.02896570 average VL:0.02556810 epoch time:28 seconds, lr:9.55e-04\n",
      "epoch:86/500 average TL:0.02888334 average VL:0.02558106 epoch time:28 seconds, lr:9.54e-04\n",
      "epoch:87/500 average TL:0.02767612 average VL:0.02468310 epoch time:28 seconds, lr:9.53e-04\n",
      "epoch:88/500 average TL:0.02855781 average VL:0.02444507 epoch time:28 seconds, lr:9.51e-04\n",
      "epoch:89/500 average TL:0.02776875 average VL:0.02517171 epoch time:28 seconds, lr:9.50e-04\n",
      "epoch:90/500 average TL:0.02727736 average VL:0.02413605 epoch time:28 seconds, lr:9.48e-04\n"
     ]
    },
    {
     "name": "stdout",
     "output_type": "stream",
     "text": [
      "epoch:91/500 average TL:0.02729888 average VL:0.02435167 epoch time:28 seconds, lr:9.47e-04\n",
      "epoch:92/500 average TL:0.02690831 average VL:0.02396263 epoch time:28 seconds, lr:9.46e-04\n",
      "epoch:93/500 average TL:0.02665201 average VL:0.02479257 epoch time:28 seconds, lr:9.44e-04\n",
      "epoch:94/500 average TL:0.02674885 average VL:0.02375150 epoch time:28 seconds, lr:9.43e-04\n",
      "epoch:95/500 average TL:0.02612132 average VL:0.02321035 epoch time:28 seconds, lr:9.41e-04\n",
      "epoch:96/500 average TL:0.02647585 average VL:0.02428823 epoch time:28 seconds, lr:9.39e-04\n",
      "epoch:97/500 average TL:0.02652096 average VL:0.02411138 epoch time:28 seconds, lr:9.38e-04\n",
      "epoch:98/500 average TL:0.02547095 average VL:0.02346929 epoch time:28 seconds, lr:9.36e-04\n",
      "epoch:99/500 average TL:0.02552232 average VL:0.02284661 epoch time:28 seconds, lr:9.35e-04\n",
      "epoch:100/500 average TL:0.02588031 average VL:0.02324286 epoch time:28 seconds, lr:9.33e-04\n",
      "epoch:101/500 average TL:0.02617408 average VL:0.02190314 epoch time:28 seconds, lr:9.31e-04\n",
      "epoch:102/500 average TL:0.02466147 average VL:0.02211019 epoch time:32 seconds, lr:9.30e-04\n",
      "epoch:103/500 average TL:0.02469061 average VL:0.02246257 epoch time:39 seconds, lr:9.28e-04\n",
      "epoch:104/500 average TL:0.02541159 average VL:0.02120487 epoch time:39 seconds, lr:9.26e-04\n",
      "epoch:105/500 average TL:0.02466750 average VL:0.02330753 epoch time:28 seconds, lr:9.25e-04\n",
      "epoch:106/500 average TL:0.02496911 average VL:0.02301826 epoch time:28 seconds, lr:9.23e-04\n",
      "epoch:107/500 average TL:0.02489714 average VL:0.02066752 epoch time:28 seconds, lr:9.21e-04\n",
      "epoch:108/500 average TL:0.02469864 average VL:0.02096285 epoch time:28 seconds, lr:9.19e-04\n",
      "epoch:109/500 average TL:0.02388735 average VL:0.02189982 epoch time:28 seconds, lr:9.18e-04\n",
      "epoch:110/500 average TL:0.02350708 average VL:0.02181490 epoch time:28 seconds, lr:9.16e-04\n",
      "epoch:111/500 average TL:0.02435898 average VL:0.02108751 epoch time:28 seconds, lr:9.14e-04\n",
      "epoch:112/500 average TL:0.02361188 average VL:0.02094181 epoch time:28 seconds, lr:9.12e-04\n",
      "epoch:113/500 average TL:0.02414508 average VL:0.02138071 epoch time:28 seconds, lr:9.10e-04\n",
      "epoch:114/500 average TL:0.02370705 average VL:0.02030852 epoch time:28 seconds, lr:9.08e-04\n",
      "epoch:115/500 average TL:0.02343755 average VL:0.02042690 epoch time:28 seconds, lr:9.07e-04\n",
      "epoch:116/500 average TL:0.02374326 average VL:0.02042307 epoch time:28 seconds, lr:9.05e-04\n",
      "epoch:117/500 average TL:0.02367819 average VL:0.02025365 epoch time:28 seconds, lr:9.03e-04\n",
      "epoch:118/500 average TL:0.02304087 average VL:0.01976511 epoch time:28 seconds, lr:9.01e-04\n",
      "epoch:119/500 average TL:0.02331949 average VL:0.01985546 epoch time:28 seconds, lr:8.99e-04\n",
      "epoch:120/500 average TL:0.02301894 average VL:0.02010642 epoch time:28 seconds, lr:8.97e-04\n",
      "epoch:121/500 average TL:0.02241614 average VL:0.02043789 epoch time:28 seconds, lr:8.95e-04\n",
      "epoch:122/500 average TL:0.02280574 average VL:0.01922089 epoch time:28 seconds, lr:8.93e-04\n",
      "epoch:123/500 average TL:0.02244150 average VL:0.01996673 epoch time:28 seconds, lr:8.91e-04\n",
      "epoch:124/500 average TL:0.02216207 average VL:0.01972554 epoch time:28 seconds, lr:8.89e-04\n",
      "epoch:125/500 average TL:0.02262167 average VL:0.01978353 epoch time:28 seconds, lr:8.87e-04\n",
      "epoch:126/500 average TL:0.02307041 average VL:0.01967714 epoch time:28 seconds, lr:8.85e-04\n",
      "epoch:127/500 average TL:0.02221712 average VL:0.01944482 epoch time:28 seconds, lr:8.82e-04\n",
      "epoch:128/500 average TL:0.02279492 average VL:0.01932833 epoch time:28 seconds, lr:8.80e-04\n",
      "epoch:129/500 average TL:0.02207238 average VL:0.01952249 epoch time:28 seconds, lr:8.78e-04\n",
      "epoch:130/500 average TL:0.02174658 average VL:0.01913026 epoch time:28 seconds, lr:8.76e-04\n",
      "epoch:131/500 average TL:0.02200565 average VL:0.01955770 epoch time:28 seconds, lr:8.74e-04\n",
      "epoch:132/500 average TL:0.02212470 average VL:0.01917958 epoch time:28 seconds, lr:8.72e-04\n",
      "epoch:133/500 average TL:0.02155158 average VL:0.01884952 epoch time:28 seconds, lr:8.70e-04\n",
      "epoch:134/500 average TL:0.02195338 average VL:0.01885147 epoch time:28 seconds, lr:8.67e-04\n",
      "epoch:135/500 average TL:0.02169997 average VL:0.01902868 epoch time:28 seconds, lr:8.65e-04\n",
      "epoch:136/500 average TL:0.02155383 average VL:0.01892546 epoch time:28 seconds, lr:8.63e-04\n",
      "epoch:137/500 average TL:0.02104606 average VL:0.01878178 epoch time:28 seconds, lr:8.61e-04\n",
      "epoch:138/500 average TL:0.02147063 average VL:0.01844854 epoch time:28 seconds, lr:8.58e-04\n",
      "epoch:139/500 average TL:0.02163938 average VL:0.01886892 epoch time:28 seconds, lr:8.56e-04\n",
      "epoch:140/500 average TL:0.02042394 average VL:0.01783848 epoch time:28 seconds, lr:8.54e-04\n",
      "epoch:141/500 average TL:0.02060753 average VL:0.01871123 epoch time:28 seconds, lr:8.51e-04\n",
      "epoch:142/500 average TL:0.02102348 average VL:0.01896427 epoch time:28 seconds, lr:8.49e-04\n",
      "epoch:143/500 average TL:0.02086380 average VL:0.01887004 epoch time:28 seconds, lr:8.47e-04\n",
      "epoch:144/500 average TL:0.02060192 average VL:0.01764167 epoch time:28 seconds, lr:8.44e-04\n",
      "epoch:145/500 average TL:0.02111646 average VL:0.01974795 epoch time:28 seconds, lr:8.42e-04\n",
      "epoch:146/500 average TL:0.02047323 average VL:0.01840453 epoch time:28 seconds, lr:8.40e-04\n",
      "epoch:147/500 average TL:0.02087853 average VL:0.01885618 epoch time:28 seconds, lr:8.37e-04\n",
      "epoch:148/500 average TL:0.02003559 average VL:0.01866181 epoch time:28 seconds, lr:8.35e-04\n",
      "epoch:149/500 average TL:0.02024395 average VL:0.01841419 epoch time:28 seconds, lr:8.32e-04\n",
      "epoch:150/500 average TL:0.02049345 average VL:0.01805857 epoch time:28 seconds, lr:8.30e-04\n",
      "epoch:151/500 average TL:0.02009882 average VL:0.01797290 epoch time:28 seconds, lr:8.27e-04\n",
      "epoch:152/500 average TL:0.02054982 average VL:0.01854442 epoch time:28 seconds, lr:8.25e-04\n",
      "epoch:153/500 average TL:0.02035283 average VL:0.01824678 epoch time:28 seconds, lr:8.22e-04\n",
      "epoch:154/500 average TL:0.02017586 average VL:0.01746748 epoch time:28 seconds, lr:8.20e-04\n",
      "epoch:155/500 average TL:0.01981855 average VL:0.01756827 epoch time:28 seconds, lr:8.17e-04\n",
      "epoch:156/500 average TL:0.01954122 average VL:0.01642160 epoch time:28 seconds, lr:8.15e-04\n",
      "epoch:157/500 average TL:0.01980695 average VL:0.01757533 epoch time:28 seconds, lr:8.12e-04\n",
      "epoch:158/500 average TL:0.01990480 average VL:0.01929574 epoch time:28 seconds, lr:8.10e-04\n",
      "epoch:159/500 average TL:0.02001326 average VL:0.01773971 epoch time:28 seconds, lr:8.07e-04\n",
      "epoch:160/500 average TL:0.01988139 average VL:0.01824003 epoch time:30 seconds, lr:8.05e-04\n",
      "epoch:161/500 average TL:0.02006876 average VL:0.01770086 epoch time:28 seconds, lr:8.02e-04\n",
      "epoch:162/500 average TL:0.01973073 average VL:0.01763459 epoch time:28 seconds, lr:7.99e-04\n",
      "epoch:163/500 average TL:0.01975714 average VL:0.01790804 epoch time:28 seconds, lr:7.97e-04\n",
      "epoch:164/500 average TL:0.01985814 average VL:0.01740198 epoch time:28 seconds, lr:7.94e-04\n",
      "epoch:165/500 average TL:0.01981751 average VL:0.01793784 epoch time:28 seconds, lr:7.91e-04\n",
      "epoch:166/500 average TL:0.02033721 average VL:0.01773098 epoch time:28 seconds, lr:7.89e-04\n",
      "epoch:167/500 average TL:0.01914589 average VL:0.01751678 epoch time:28 seconds, lr:7.86e-04\n",
      "epoch:168/500 average TL:0.01995901 average VL:0.01777523 epoch time:28 seconds, lr:7.83e-04\n",
      "epoch:169/500 average TL:0.01930850 average VL:0.01725469 epoch time:32 seconds, lr:7.81e-04\n",
      "epoch:170/500 average TL:0.01901698 average VL:0.01709452 epoch time:28 seconds, lr:7.78e-04\n",
      "epoch:171/500 average TL:0.01950430 average VL:0.01751149 epoch time:28 seconds, lr:7.75e-04\n",
      "epoch:172/500 average TL:0.01885016 average VL:0.01801223 epoch time:28 seconds, lr:7.73e-04\n",
      "epoch:173/500 average TL:0.01881708 average VL:0.01846585 epoch time:28 seconds, lr:7.70e-04\n",
      "epoch:174/500 average TL:0.01875279 average VL:0.01797638 epoch time:28 seconds, lr:7.67e-04\n",
      "epoch:175/500 average TL:0.01886234 average VL:0.01780309 epoch time:28 seconds, lr:7.64e-04\n",
      "epoch:176/500 average TL:0.01946378 average VL:0.01745105 epoch time:33 seconds, lr:7.61e-04\n",
      "epoch:177/500 average TL:0.01883354 average VL:0.01751662 epoch time:39 seconds, lr:7.59e-04\n",
      "epoch:178/500 average TL:0.01937957 average VL:0.01706826 epoch time:39 seconds, lr:7.56e-04\n",
      "epoch:179/500 average TL:0.01912489 average VL:0.01707174 epoch time:39 seconds, lr:7.53e-04\n"
     ]
    },
    {
     "name": "stdout",
     "output_type": "stream",
     "text": [
      "epoch:180/500 average TL:0.01904736 average VL:0.01724308 epoch time:30 seconds, lr:7.50e-04\n",
      "epoch:181/500 average TL:0.01902970 average VL:0.01670030 epoch time:28 seconds, lr:7.47e-04\n",
      "epoch:182/500 average TL:0.01908156 average VL:0.01676168 epoch time:28 seconds, lr:7.45e-04\n",
      "epoch:183/500 average TL:0.01915084 average VL:0.01701959 epoch time:28 seconds, lr:7.42e-04\n",
      "epoch:184/500 average TL:0.01844640 average VL:0.01661743 epoch time:28 seconds, lr:7.39e-04\n",
      "epoch:185/500 average TL:0.01852753 average VL:0.01634926 epoch time:28 seconds, lr:7.36e-04\n",
      "epoch:186/500 average TL:0.01847205 average VL:0.01708176 epoch time:28 seconds, lr:7.33e-04\n",
      "epoch:187/500 average TL:0.01904963 average VL:0.01710144 epoch time:28 seconds, lr:7.30e-04\n",
      "epoch:188/500 average TL:0.01895216 average VL:0.01681205 epoch time:28 seconds, lr:7.27e-04\n",
      "epoch:189/500 average TL:0.01910554 average VL:0.01747822 epoch time:28 seconds, lr:7.24e-04\n",
      "epoch:190/500 average TL:0.01879614 average VL:0.01692557 epoch time:28 seconds, lr:7.21e-04\n",
      "epoch:191/500 average TL:0.01814908 average VL:0.01647072 epoch time:28 seconds, lr:7.18e-04\n",
      "epoch:192/500 average TL:0.01839829 average VL:0.01756731 epoch time:28 seconds, lr:7.16e-04\n",
      "epoch:193/500 average TL:0.01849346 average VL:0.01724519 epoch time:28 seconds, lr:7.13e-04\n",
      "epoch:194/500 average TL:0.01851834 average VL:0.01623957 epoch time:28 seconds, lr:7.10e-04\n",
      "epoch:195/500 average TL:0.01850539 average VL:0.01720162 epoch time:28 seconds, lr:7.07e-04\n",
      "epoch:196/500 average TL:0.01765970 average VL:0.01661550 epoch time:28 seconds, lr:7.04e-04\n",
      "epoch:197/500 average TL:0.01843753 average VL:0.01681416 epoch time:28 seconds, lr:7.01e-04\n",
      "epoch:198/500 average TL:0.01844573 average VL:0.01661509 epoch time:28 seconds, lr:6.98e-04\n",
      "epoch:199/500 average TL:0.01788269 average VL:0.01699590 epoch time:28 seconds, lr:6.95e-04\n",
      "epoch:200/500 average TL:0.01784878 average VL:0.01681645 epoch time:28 seconds, lr:6.92e-04\n",
      "epoch:201/500 average TL:0.01836567 average VL:0.01725149 epoch time:28 seconds, lr:6.89e-04\n",
      "epoch:202/500 average TL:0.01813476 average VL:0.01730321 epoch time:28 seconds, lr:6.86e-04\n",
      "epoch:203/500 average TL:0.01839799 average VL:0.01608021 epoch time:28 seconds, lr:6.83e-04\n",
      "epoch:204/500 average TL:0.01865467 average VL:0.01670752 epoch time:28 seconds, lr:6.80e-04\n",
      "epoch:205/500 average TL:0.01821910 average VL:0.01704348 epoch time:28 seconds, lr:6.76e-04\n",
      "epoch:206/500 average TL:0.01879656 average VL:0.01726392 epoch time:28 seconds, lr:6.73e-04\n",
      "epoch:207/500 average TL:0.01829422 average VL:0.01559792 epoch time:28 seconds, lr:6.70e-04\n",
      "epoch:208/500 average TL:0.01832678 average VL:0.01597375 epoch time:28 seconds, lr:6.67e-04\n",
      "epoch:209/500 average TL:0.01783859 average VL:0.01674290 epoch time:28 seconds, lr:6.64e-04\n",
      "epoch:210/500 average TL:0.01813460 average VL:0.01722032 epoch time:28 seconds, lr:6.61e-04\n",
      "epoch:211/500 average TL:0.01782350 average VL:0.01586350 epoch time:28 seconds, lr:6.58e-04\n",
      "epoch:212/500 average TL:0.01773094 average VL:0.01673340 epoch time:28 seconds, lr:6.55e-04\n",
      "epoch:213/500 average TL:0.01827192 average VL:0.01526669 epoch time:28 seconds, lr:6.52e-04\n",
      "epoch:214/500 average TL:0.01845521 average VL:0.01624401 epoch time:28 seconds, lr:6.49e-04\n",
      "epoch:215/500 average TL:0.01813587 average VL:0.01511649 epoch time:28 seconds, lr:6.45e-04\n",
      "epoch:216/500 average TL:0.01772293 average VL:0.01660978 epoch time:28 seconds, lr:6.42e-04\n",
      "epoch:217/500 average TL:0.01794870 average VL:0.01599936 epoch time:28 seconds, lr:6.39e-04\n",
      "epoch:218/500 average TL:0.01850591 average VL:0.01625329 epoch time:28 seconds, lr:6.36e-04\n",
      "epoch:219/500 average TL:0.01815336 average VL:0.01599214 epoch time:37 seconds, lr:6.33e-04\n",
      "epoch:220/500 average TL:0.01862547 average VL:0.01546606 epoch time:39 seconds, lr:6.30e-04\n",
      "epoch:221/500 average TL:0.01764539 average VL:0.01591268 epoch time:39 seconds, lr:6.27e-04\n",
      "epoch:222/500 average TL:0.01807174 average VL:0.01671393 epoch time:39 seconds, lr:6.23e-04\n",
      "epoch:223/500 average TL:0.01769318 average VL:0.01678015 epoch time:39 seconds, lr:6.20e-04\n",
      "epoch:224/500 average TL:0.01794624 average VL:0.01646702 epoch time:39 seconds, lr:6.17e-04\n",
      "epoch:225/500 average TL:0.01795552 average VL:0.01582174 epoch time:31 seconds, lr:6.14e-04\n",
      "epoch:226/500 average TL:0.01734537 average VL:0.01674928 epoch time:28 seconds, lr:6.11e-04\n",
      "epoch:227/500 average TL:0.01814688 average VL:0.01564470 epoch time:32 seconds, lr:6.08e-04\n",
      "epoch:228/500 average TL:0.01749986 average VL:0.01621320 epoch time:39 seconds, lr:6.04e-04\n",
      "epoch:229/500 average TL:0.01778343 average VL:0.01631279 epoch time:29 seconds, lr:6.01e-04\n",
      "epoch:230/500 average TL:0.01785863 average VL:0.01599677 epoch time:28 seconds, lr:5.98e-04\n",
      "epoch:231/500 average TL:0.01827116 average VL:0.01637451 epoch time:38 seconds, lr:5.95e-04\n",
      "epoch:232/500 average TL:0.01746263 average VL:0.01565468 epoch time:32 seconds, lr:5.92e-04\n",
      "epoch:233/500 average TL:0.01749999 average VL:0.01596423 epoch time:28 seconds, lr:5.88e-04\n",
      "epoch:234/500 average TL:0.01779615 average VL:0.01585564 epoch time:28 seconds, lr:5.85e-04\n",
      "epoch:235/500 average TL:0.01819335 average VL:0.01578313 epoch time:28 seconds, lr:5.82e-04\n",
      "epoch:236/500 average TL:0.01802457 average VL:0.01653758 epoch time:28 seconds, lr:5.79e-04\n",
      "epoch:237/500 average TL:0.01706850 average VL:0.01547411 epoch time:28 seconds, lr:5.75e-04\n",
      "epoch:238/500 average TL:0.01751081 average VL:0.01498403 epoch time:28 seconds, lr:5.72e-04\n",
      "epoch:239/500 average TL:0.01760951 average VL:0.01520398 epoch time:28 seconds, lr:5.69e-04\n",
      "epoch:240/500 average TL:0.01723503 average VL:0.01494815 epoch time:28 seconds, lr:5.66e-04\n",
      "epoch:241/500 average TL:0.01769740 average VL:0.01659090 epoch time:28 seconds, lr:5.62e-04\n",
      "epoch:242/500 average TL:0.01755110 average VL:0.01645789 epoch time:28 seconds, lr:5.59e-04\n",
      "epoch:243/500 average TL:0.01722137 average VL:0.01458632 epoch time:28 seconds, lr:5.56e-04\n",
      "epoch:244/500 average TL:0.01810760 average VL:0.01667407 epoch time:28 seconds, lr:5.53e-04\n",
      "epoch:245/500 average TL:0.01739583 average VL:0.01558094 epoch time:28 seconds, lr:5.49e-04\n",
      "epoch:246/500 average TL:0.01739292 average VL:0.01617877 epoch time:28 seconds, lr:5.46e-04\n",
      "epoch:247/500 average TL:0.01745592 average VL:0.01534615 epoch time:28 seconds, lr:5.43e-04\n",
      "epoch:248/500 average TL:0.01741289 average VL:0.01625602 epoch time:28 seconds, lr:5.40e-04\n",
      "epoch:249/500 average TL:0.01757949 average VL:0.01544792 epoch time:28 seconds, lr:5.36e-04\n",
      "epoch:250/500 average TL:0.01720041 average VL:0.01564608 epoch time:28 seconds, lr:5.33e-04\n",
      "epoch:251/500 average TL:0.01719218 average VL:0.01585221 epoch time:28 seconds, lr:5.30e-04\n",
      "epoch:252/500 average TL:0.01716395 average VL:0.01562800 epoch time:28 seconds, lr:5.27e-04\n",
      "epoch:253/500 average TL:0.01705485 average VL:0.01524020 epoch time:28 seconds, lr:5.23e-04\n",
      "epoch:254/500 average TL:0.01765512 average VL:0.01627608 epoch time:28 seconds, lr:5.20e-04\n",
      "epoch:255/500 average TL:0.01716282 average VL:0.01555921 epoch time:28 seconds, lr:5.17e-04\n",
      "epoch:256/500 average TL:0.01711525 average VL:0.01624448 epoch time:28 seconds, lr:5.14e-04\n",
      "epoch:257/500 average TL:0.01704426 average VL:0.01627252 epoch time:28 seconds, lr:5.10e-04\n",
      "epoch:258/500 average TL:0.01781650 average VL:0.01594377 epoch time:28 seconds, lr:5.07e-04\n",
      "epoch:259/500 average TL:0.01807156 average VL:0.01581193 epoch time:28 seconds, lr:5.04e-04\n",
      "epoch:260/500 average TL:0.01709161 average VL:0.01605931 epoch time:28 seconds, lr:5.01e-04\n",
      "epoch:261/500 average TL:0.01713064 average VL:0.01545656 epoch time:28 seconds, lr:4.97e-04\n",
      "epoch:262/500 average TL:0.01751174 average VL:0.01649347 epoch time:28 seconds, lr:4.94e-04\n",
      "epoch:263/500 average TL:0.01724295 average VL:0.01456666 epoch time:28 seconds, lr:4.91e-04\n",
      "epoch:264/500 average TL:0.01805964 average VL:0.01505272 epoch time:28 seconds, lr:4.87e-04\n",
      "epoch:265/500 average TL:0.01743815 average VL:0.01578574 epoch time:28 seconds, lr:4.84e-04\n",
      "epoch:266/500 average TL:0.01670339 average VL:0.01578579 epoch time:28 seconds, lr:4.81e-04\n",
      "epoch:267/500 average TL:0.01680663 average VL:0.01628540 epoch time:28 seconds, lr:4.78e-04\n",
      "epoch:268/500 average TL:0.01730856 average VL:0.01492083 epoch time:28 seconds, lr:4.74e-04\n"
     ]
    },
    {
     "name": "stdout",
     "output_type": "stream",
     "text": [
      "epoch:269/500 average TL:0.01726141 average VL:0.01600665 epoch time:28 seconds, lr:4.71e-04\n",
      "epoch:270/500 average TL:0.01712907 average VL:0.01563455 epoch time:28 seconds, lr:4.68e-04\n",
      "epoch:271/500 average TL:0.01680125 average VL:0.01554425 epoch time:28 seconds, lr:4.65e-04\n",
      "epoch:272/500 average TL:0.01692962 average VL:0.01535755 epoch time:28 seconds, lr:4.61e-04\n",
      "epoch:273/500 average TL:0.01666643 average VL:0.01557319 epoch time:28 seconds, lr:4.58e-04\n",
      "epoch:274/500 average TL:0.01684670 average VL:0.01584418 epoch time:28 seconds, lr:4.55e-04\n",
      "epoch:275/500 average TL:0.01676694 average VL:0.01524309 epoch time:28 seconds, lr:4.52e-04\n",
      "epoch:276/500 average TL:0.01714235 average VL:0.01540927 epoch time:28 seconds, lr:4.48e-04\n",
      "epoch:277/500 average TL:0.01647648 average VL:0.01496402 epoch time:28 seconds, lr:4.45e-04\n",
      "epoch:278/500 average TL:0.01690983 average VL:0.01527790 epoch time:28 seconds, lr:4.42e-04\n",
      "epoch:279/500 average TL:0.01723805 average VL:0.01511597 epoch time:28 seconds, lr:4.39e-04\n",
      "epoch:280/500 average TL:0.01734641 average VL:0.01560743 epoch time:28 seconds, lr:4.35e-04\n",
      "epoch:281/500 average TL:0.01722236 average VL:0.01540719 epoch time:28 seconds, lr:4.32e-04\n",
      "epoch:282/500 average TL:0.01663511 average VL:0.01565073 epoch time:37 seconds, lr:4.29e-04\n",
      "epoch:283/500 average TL:0.01734142 average VL:0.01509716 epoch time:39 seconds, lr:4.26e-04\n",
      "epoch:284/500 average TL:0.01725918 average VL:0.01482451 epoch time:38 seconds, lr:4.22e-04\n",
      "epoch:285/500 average TL:0.01650783 average VL:0.01626370 epoch time:28 seconds, lr:4.19e-04\n",
      "epoch:286/500 average TL:0.01692710 average VL:0.01568745 epoch time:28 seconds, lr:4.16e-04\n",
      "epoch:287/500 average TL:0.01690040 average VL:0.01488128 epoch time:28 seconds, lr:4.13e-04\n",
      "epoch:288/500 average TL:0.01726094 average VL:0.01565769 epoch time:28 seconds, lr:4.09e-04\n",
      "epoch:289/500 average TL:0.01700364 average VL:0.01569330 epoch time:28 seconds, lr:4.06e-04\n",
      "epoch:290/500 average TL:0.01689778 average VL:0.01544039 epoch time:28 seconds, lr:4.03e-04\n",
      "epoch:291/500 average TL:0.01663936 average VL:0.01560992 epoch time:28 seconds, lr:4.00e-04\n",
      "epoch:292/500 average TL:0.01671772 average VL:0.01540339 epoch time:28 seconds, lr:3.97e-04\n",
      "epoch:293/500 average TL:0.01689947 average VL:0.01443670 epoch time:28 seconds, lr:3.93e-04\n",
      "epoch:294/500 average TL:0.01690764 average VL:0.01542993 epoch time:28 seconds, lr:3.90e-04\n",
      "epoch:295/500 average TL:0.01607857 average VL:0.01580243 epoch time:28 seconds, lr:3.87e-04\n",
      "epoch:296/500 average TL:0.01656182 average VL:0.01536831 epoch time:28 seconds, lr:3.84e-04\n",
      "epoch:297/500 average TL:0.01731608 average VL:0.01503600 epoch time:28 seconds, lr:3.81e-04\n",
      "epoch:298/500 average TL:0.01739198 average VL:0.01515610 epoch time:28 seconds, lr:3.78e-04\n",
      "epoch:299/500 average TL:0.01652445 average VL:0.01521723 epoch time:28 seconds, lr:3.74e-04\n",
      "epoch:300/500 average TL:0.01719875 average VL:0.01541192 epoch time:28 seconds, lr:3.71e-04\n",
      "epoch:301/500 average TL:0.01684219 average VL:0.01525371 epoch time:28 seconds, lr:3.68e-04\n",
      "epoch:302/500 average TL:0.01632860 average VL:0.01533314 epoch time:28 seconds, lr:3.65e-04\n",
      "epoch:303/500 average TL:0.01712688 average VL:0.01515906 epoch time:28 seconds, lr:3.62e-04\n",
      "epoch:304/500 average TL:0.01703141 average VL:0.01570550 epoch time:28 seconds, lr:3.59e-04\n",
      "epoch:305/500 average TL:0.01681442 average VL:0.01579310 epoch time:28 seconds, lr:3.56e-04\n",
      "epoch:306/500 average TL:0.01713899 average VL:0.01545344 epoch time:28 seconds, lr:3.52e-04\n",
      "epoch:307/500 average TL:0.01614187 average VL:0.01602031 epoch time:28 seconds, lr:3.49e-04\n",
      "epoch:308/500 average TL:0.01666584 average VL:0.01536870 epoch time:28 seconds, lr:3.46e-04\n",
      "epoch:309/500 average TL:0.01629824 average VL:0.01570670 epoch time:28 seconds, lr:3.43e-04\n",
      "epoch:310/500 average TL:0.01659167 average VL:0.01443079 epoch time:28 seconds, lr:3.40e-04\n",
      "epoch:311/500 average TL:0.01670511 average VL:0.01465305 epoch time:28 seconds, lr:3.37e-04\n",
      "epoch:312/500 average TL:0.01629984 average VL:0.01522773 epoch time:28 seconds, lr:3.34e-04\n",
      "epoch:313/500 average TL:0.01646523 average VL:0.01574568 epoch time:28 seconds, lr:3.31e-04\n",
      "epoch:314/500 average TL:0.01651844 average VL:0.01478744 epoch time:28 seconds, lr:3.28e-04\n",
      "epoch:315/500 average TL:0.01656050 average VL:0.01547392 epoch time:28 seconds, lr:3.25e-04\n",
      "epoch:316/500 average TL:0.01612100 average VL:0.01494561 epoch time:28 seconds, lr:3.21e-04\n",
      "epoch:317/500 average TL:0.01679358 average VL:0.01484824 epoch time:28 seconds, lr:3.18e-04\n",
      "epoch:318/500 average TL:0.01682485 average VL:0.01521648 epoch time:28 seconds, lr:3.15e-04\n",
      "epoch:319/500 average TL:0.01666342 average VL:0.01427468 epoch time:28 seconds, lr:3.12e-04\n",
      "epoch:320/500 average TL:0.01690104 average VL:0.01489965 epoch time:28 seconds, lr:3.09e-04\n",
      "epoch:321/500 average TL:0.01648006 average VL:0.01507391 epoch time:28 seconds, lr:3.06e-04\n",
      "epoch:322/500 average TL:0.01630107 average VL:0.01480935 epoch time:28 seconds, lr:3.03e-04\n",
      "epoch:323/500 average TL:0.01691850 average VL:0.01508365 epoch time:28 seconds, lr:3.00e-04\n",
      "epoch:324/500 average TL:0.01627073 average VL:0.01474707 epoch time:28 seconds, lr:2.97e-04\n",
      "epoch:325/500 average TL:0.01672526 average VL:0.01450793 epoch time:28 seconds, lr:2.94e-04\n",
      "epoch:326/500 average TL:0.01672585 average VL:0.01517437 epoch time:28 seconds, lr:2.91e-04\n",
      "epoch:327/500 average TL:0.01667198 average VL:0.01564238 epoch time:28 seconds, lr:2.88e-04\n",
      "epoch:328/500 average TL:0.01648069 average VL:0.01484870 epoch time:28 seconds, lr:2.85e-04\n",
      "epoch:329/500 average TL:0.01678384 average VL:0.01577206 epoch time:28 seconds, lr:2.83e-04\n",
      "epoch:330/500 average TL:0.01711015 average VL:0.01530283 epoch time:28 seconds, lr:2.80e-04\n",
      "epoch:331/500 average TL:0.01654640 average VL:0.01470087 epoch time:32 seconds, lr:2.77e-04\n",
      "epoch:332/500 average TL:0.01633942 average VL:0.01566979 epoch time:39 seconds, lr:2.74e-04\n",
      "epoch:333/500 average TL:0.01696327 average VL:0.01577343 epoch time:39 seconds, lr:2.71e-04\n",
      "epoch:334/500 average TL:0.01676378 average VL:0.01478485 epoch time:39 seconds, lr:2.68e-04\n",
      "epoch:335/500 average TL:0.01665758 average VL:0.01450271 epoch time:39 seconds, lr:2.65e-04\n",
      "epoch:336/500 average TL:0.01669123 average VL:0.01499558 epoch time:39 seconds, lr:2.62e-04\n",
      "epoch:337/500 average TL:0.01588703 average VL:0.01573550 epoch time:39 seconds, lr:2.59e-04\n",
      "epoch:338/500 average TL:0.01678411 average VL:0.01485318 epoch time:36 seconds, lr:2.56e-04\n",
      "epoch:339/500 average TL:0.01648674 average VL:0.01593403 epoch time:28 seconds, lr:2.54e-04\n",
      "epoch:340/500 average TL:0.01625977 average VL:0.01477010 epoch time:28 seconds, lr:2.51e-04\n",
      "epoch:341/500 average TL:0.01679487 average VL:0.01416863 epoch time:28 seconds, lr:2.48e-04\n",
      "epoch:342/500 average TL:0.01607106 average VL:0.01537038 epoch time:28 seconds, lr:2.45e-04\n",
      "epoch:343/500 average TL:0.01637824 average VL:0.01530223 epoch time:28 seconds, lr:2.42e-04\n",
      "epoch:344/500 average TL:0.01645698 average VL:0.01469718 epoch time:28 seconds, lr:2.40e-04\n",
      "epoch:345/500 average TL:0.01710433 average VL:0.01517399 epoch time:28 seconds, lr:2.37e-04\n",
      "epoch:346/500 average TL:0.01646443 average VL:0.01518255 epoch time:28 seconds, lr:2.34e-04\n",
      "epoch:347/500 average TL:0.01641796 average VL:0.01569116 epoch time:28 seconds, lr:2.31e-04\n",
      "epoch:348/500 average TL:0.01627188 average VL:0.01549686 epoch time:28 seconds, lr:2.28e-04\n",
      "epoch:349/500 average TL:0.01641961 average VL:0.01531212 epoch time:28 seconds, lr:2.26e-04\n",
      "epoch:350/500 average TL:0.01616015 average VL:0.01463108 epoch time:28 seconds, lr:2.23e-04\n",
      "epoch:351/500 average TL:0.01655184 average VL:0.01552901 epoch time:28 seconds, lr:2.20e-04\n",
      "epoch:352/500 average TL:0.01620670 average VL:0.01502644 epoch time:28 seconds, lr:2.18e-04\n",
      "epoch:353/500 average TL:0.01607786 average VL:0.01479905 epoch time:28 seconds, lr:2.15e-04\n",
      "epoch:354/500 average TL:0.01613669 average VL:0.01509270 epoch time:28 seconds, lr:2.12e-04\n",
      "epoch:355/500 average TL:0.01601588 average VL:0.01480603 epoch time:28 seconds, lr:2.10e-04\n",
      "epoch:356/500 average TL:0.01727958 average VL:0.01448456 epoch time:28 seconds, lr:2.07e-04\n",
      "epoch:357/500 average TL:0.01662542 average VL:0.01586469 epoch time:28 seconds, lr:2.04e-04\n"
     ]
    },
    {
     "name": "stdout",
     "output_type": "stream",
     "text": [
      "epoch:358/500 average TL:0.01663836 average VL:0.01534878 epoch time:28 seconds, lr:2.02e-04\n",
      "epoch:359/500 average TL:0.01642559 average VL:0.01499182 epoch time:28 seconds, lr:1.99e-04\n",
      "epoch:360/500 average TL:0.01626551 average VL:0.01538549 epoch time:28 seconds, lr:1.96e-04\n",
      "epoch:361/500 average TL:0.01608819 average VL:0.01496749 epoch time:28 seconds, lr:1.94e-04\n",
      "epoch:362/500 average TL:0.01610652 average VL:0.01531112 epoch time:28 seconds, lr:1.91e-04\n",
      "epoch:363/500 average TL:0.01672930 average VL:0.01484206 epoch time:28 seconds, lr:1.89e-04\n",
      "epoch:364/500 average TL:0.01623644 average VL:0.01528570 epoch time:28 seconds, lr:1.86e-04\n",
      "epoch:365/500 average TL:0.01620065 average VL:0.01494641 epoch time:28 seconds, lr:1.84e-04\n",
      "epoch:366/500 average TL:0.01691013 average VL:0.01498435 epoch time:28 seconds, lr:1.81e-04\n",
      "epoch:367/500 average TL:0.01611795 average VL:0.01536065 epoch time:28 seconds, lr:1.79e-04\n",
      "epoch:368/500 average TL:0.01636408 average VL:0.01550017 epoch time:28 seconds, lr:1.76e-04\n",
      "epoch:369/500 average TL:0.01657190 average VL:0.01529871 epoch time:28 seconds, lr:1.74e-04\n",
      "epoch:370/500 average TL:0.01700283 average VL:0.01473701 epoch time:28 seconds, lr:1.71e-04\n",
      "epoch:371/500 average TL:0.01632516 average VL:0.01515992 epoch time:28 seconds, lr:1.69e-04\n",
      "epoch:372/500 average TL:0.01590896 average VL:0.01501457 epoch time:28 seconds, lr:1.66e-04\n",
      "epoch:373/500 average TL:0.01662881 average VL:0.01523374 epoch time:28 seconds, lr:1.64e-04\n",
      "epoch:374/500 average TL:0.01675141 average VL:0.01472800 epoch time:28 seconds, lr:1.61e-04\n",
      "epoch:375/500 average TL:0.01593078 average VL:0.01459013 epoch time:28 seconds, lr:1.59e-04\n",
      "epoch:376/500 average TL:0.01609875 average VL:0.01518427 epoch time:28 seconds, lr:1.57e-04\n",
      "epoch:377/500 average TL:0.01630009 average VL:0.01505551 epoch time:28 seconds, lr:1.54e-04\n",
      "epoch:378/500 average TL:0.01636576 average VL:0.01452926 epoch time:28 seconds, lr:1.52e-04\n",
      "epoch:379/500 average TL:0.01630414 average VL:0.01471697 epoch time:28 seconds, lr:1.50e-04\n",
      "epoch:380/500 average TL:0.01636869 average VL:0.01458987 epoch time:28 seconds, lr:1.47e-04\n",
      "epoch:381/500 average TL:0.01668110 average VL:0.01492981 epoch time:28 seconds, lr:1.45e-04\n",
      "epoch:382/500 average TL:0.01634875 average VL:0.01471453 epoch time:28 seconds, lr:1.43e-04\n",
      "epoch:383/500 average TL:0.01623265 average VL:0.01523036 epoch time:28 seconds, lr:1.40e-04\n",
      "epoch:384/500 average TL:0.01632075 average VL:0.01431274 epoch time:28 seconds, lr:1.38e-04\n",
      "epoch:385/500 average TL:0.01627894 average VL:0.01558329 epoch time:28 seconds, lr:1.36e-04\n",
      "epoch:386/500 average TL:0.01663497 average VL:0.01438472 epoch time:28 seconds, lr:1.34e-04\n",
      "epoch:387/500 average TL:0.01658502 average VL:0.01526909 epoch time:28 seconds, lr:1.31e-04\n",
      "epoch:388/500 average TL:0.01607838 average VL:0.01454108 epoch time:28 seconds, lr:1.29e-04\n",
      "epoch:389/500 average TL:0.01654808 average VL:0.01466561 epoch time:28 seconds, lr:1.27e-04\n",
      "epoch:390/500 average TL:0.01627123 average VL:0.01478552 epoch time:28 seconds, lr:1.25e-04\n",
      "epoch:391/500 average TL:0.01655186 average VL:0.01441499 epoch time:28 seconds, lr:1.23e-04\n",
      "epoch:392/500 average TL:0.01619726 average VL:0.01404842 epoch time:28 seconds, lr:1.21e-04\n",
      "epoch:393/500 average TL:0.01609338 average VL:0.01437262 epoch time:28 seconds, lr:1.19e-04\n",
      "epoch:394/500 average TL:0.01596217 average VL:0.01509541 epoch time:28 seconds, lr:1.16e-04\n",
      "epoch:395/500 average TL:0.01606923 average VL:0.01465430 epoch time:28 seconds, lr:1.14e-04\n",
      "epoch:396/500 average TL:0.01686723 average VL:0.01522201 epoch time:28 seconds, lr:1.12e-04\n",
      "epoch:397/500 average TL:0.01624869 average VL:0.01491759 epoch time:28 seconds, lr:1.10e-04\n",
      "epoch:398/500 average TL:0.01618601 average VL:0.01483736 epoch time:28 seconds, lr:1.08e-04\n",
      "epoch:399/500 average TL:0.01616561 average VL:0.01594821 epoch time:28 seconds, lr:1.06e-04\n",
      "epoch:400/500 average TL:0.01620196 average VL:0.01429584 epoch time:28 seconds, lr:1.04e-04\n",
      "epoch:401/500 average TL:0.01675399 average VL:0.01417684 epoch time:28 seconds, lr:1.02e-04\n",
      "epoch:402/500 average TL:0.01670936 average VL:0.01413825 epoch time:28 seconds, lr:1.00e-04\n",
      "epoch:403/500 average TL:0.01650421 average VL:0.01474272 epoch time:28 seconds, lr:9.83e-05\n",
      "epoch:404/500 average TL:0.01628691 average VL:0.01497095 epoch time:28 seconds, lr:9.64e-05\n",
      "epoch:405/500 average TL:0.01637137 average VL:0.01480542 epoch time:28 seconds, lr:9.45e-05\n",
      "epoch:406/500 average TL:0.01599641 average VL:0.01450129 epoch time:28 seconds, lr:9.26e-05\n",
      "epoch:407/500 average TL:0.01622999 average VL:0.01387487 epoch time:28 seconds, lr:9.07e-05\n",
      "epoch:408/500 average TL:0.01643424 average VL:0.01432269 epoch time:28 seconds, lr:8.88e-05\n",
      "epoch:409/500 average TL:0.01641695 average VL:0.01422298 epoch time:28 seconds, lr:8.70e-05\n",
      "epoch:410/500 average TL:0.01633965 average VL:0.01473441 epoch time:28 seconds, lr:8.52e-05\n",
      "epoch:411/500 average TL:0.01589676 average VL:0.01498899 epoch time:28 seconds, lr:8.34e-05\n",
      "epoch:412/500 average TL:0.01656037 average VL:0.01513389 epoch time:38 seconds, lr:8.16e-05\n",
      "epoch:413/500 average TL:0.01591817 average VL:0.01373677 epoch time:39 seconds, lr:7.98e-05\n",
      "epoch:414/500 average TL:0.01649101 average VL:0.01459426 epoch time:39 seconds, lr:7.81e-05\n",
      "epoch:415/500 average TL:0.01620324 average VL:0.01399110 epoch time:39 seconds, lr:7.63e-05\n",
      "epoch:416/500 average TL:0.01598690 average VL:0.01412513 epoch time:39 seconds, lr:7.46e-05\n",
      "epoch:417/500 average TL:0.01606099 average VL:0.01505821 epoch time:34 seconds, lr:7.29e-05\n",
      "epoch:418/500 average TL:0.01610870 average VL:0.01451069 epoch time:28 seconds, lr:7.12e-05\n",
      "epoch:419/500 average TL:0.01628531 average VL:0.01505936 epoch time:28 seconds, lr:6.96e-05\n",
      "epoch:420/500 average TL:0.01652659 average VL:0.01401829 epoch time:28 seconds, lr:6.79e-05\n",
      "epoch:421/500 average TL:0.01622747 average VL:0.01419292 epoch time:28 seconds, lr:6.63e-05\n",
      "epoch:422/500 average TL:0.01597497 average VL:0.01540833 epoch time:28 seconds, lr:6.47e-05\n",
      "epoch:423/500 average TL:0.01595645 average VL:0.01463240 epoch time:28 seconds, lr:6.31e-05\n",
      "epoch:424/500 average TL:0.01657686 average VL:0.01597998 epoch time:28 seconds, lr:6.15e-05\n",
      "epoch:425/500 average TL:0.01631990 average VL:0.01514929 epoch time:28 seconds, lr:6.00e-05\n",
      "epoch:426/500 average TL:0.01629637 average VL:0.01441079 epoch time:28 seconds, lr:5.84e-05\n",
      "epoch:427/500 average TL:0.01585856 average VL:0.01481271 epoch time:28 seconds, lr:5.69e-05\n",
      "epoch:428/500 average TL:0.01584874 average VL:0.01513280 epoch time:28 seconds, lr:5.54e-05\n",
      "epoch:429/500 average TL:0.01599965 average VL:0.01464400 epoch time:28 seconds, lr:5.40e-05\n",
      "epoch:430/500 average TL:0.01603483 average VL:0.01543974 epoch time:28 seconds, lr:5.25e-05\n",
      "epoch:431/500 average TL:0.01613604 average VL:0.01456454 epoch time:28 seconds, lr:5.11e-05\n",
      "epoch:432/500 average TL:0.01665693 average VL:0.01521943 epoch time:28 seconds, lr:4.97e-05\n",
      "epoch:433/500 average TL:0.01607351 average VL:0.01409363 epoch time:28 seconds, lr:4.83e-05\n",
      "epoch:434/500 average TL:0.01597653 average VL:0.01474506 epoch time:28 seconds, lr:4.69e-05\n",
      "epoch:435/500 average TL:0.01627850 average VL:0.01492395 epoch time:28 seconds, lr:4.55e-05\n",
      "epoch:436/500 average TL:0.01611777 average VL:0.01438103 epoch time:28 seconds, lr:4.42e-05\n",
      "epoch:437/500 average TL:0.01646968 average VL:0.01512564 epoch time:28 seconds, lr:4.29e-05\n",
      "epoch:438/500 average TL:0.01649026 average VL:0.01498606 epoch time:28 seconds, lr:4.16e-05\n",
      "epoch:439/500 average TL:0.01648885 average VL:0.01383699 epoch time:28 seconds, lr:4.03e-05\n",
      "epoch:440/500 average TL:0.01671132 average VL:0.01482651 epoch time:28 seconds, lr:3.90e-05\n",
      "epoch:441/500 average TL:0.01653359 average VL:0.01443178 epoch time:28 seconds, lr:3.78e-05\n",
      "epoch:442/500 average TL:0.01627080 average VL:0.01499566 epoch time:28 seconds, lr:3.66e-05\n",
      "epoch:443/500 average TL:0.01582812 average VL:0.01518343 epoch time:28 seconds, lr:3.54e-05\n",
      "epoch:444/500 average TL:0.01589802 average VL:0.01554533 epoch time:28 seconds, lr:3.42e-05\n",
      "epoch:445/500 average TL:0.01654431 average VL:0.01398935 epoch time:28 seconds, lr:3.30e-05\n",
      "epoch:446/500 average TL:0.01669003 average VL:0.01532672 epoch time:28 seconds, lr:3.19e-05\n"
     ]
    },
    {
     "name": "stdout",
     "output_type": "stream",
     "text": [
      "epoch:447/500 average TL:0.01571869 average VL:0.01486855 epoch time:28 seconds, lr:3.08e-05\n",
      "epoch:448/500 average TL:0.01654131 average VL:0.01493926 epoch time:28 seconds, lr:2.97e-05\n",
      "epoch:449/500 average TL:0.01607694 average VL:0.01501227 epoch time:28 seconds, lr:2.86e-05\n",
      "epoch:450/500 average TL:0.01604231 average VL:0.01396716 epoch time:28 seconds, lr:2.75e-05\n",
      "epoch:451/500 average TL:0.01591455 average VL:0.01476608 epoch time:28 seconds, lr:2.65e-05\n",
      "epoch:452/500 average TL:0.01605398 average VL:0.01472480 epoch time:28 seconds, lr:2.54e-05\n",
      "epoch:453/500 average TL:0.01595085 average VL:0.01426182 epoch time:28 seconds, lr:2.44e-05\n",
      "epoch:454/500 average TL:0.01594379 average VL:0.01446400 epoch time:28 seconds, lr:2.35e-05\n",
      "epoch:455/500 average TL:0.01589042 average VL:0.01430039 epoch time:28 seconds, lr:2.25e-05\n",
      "epoch:456/500 average TL:0.01589869 average VL:0.01480757 epoch time:28 seconds, lr:2.16e-05\n",
      "epoch:457/500 average TL:0.01632981 average VL:0.01489714 epoch time:28 seconds, lr:2.07e-05\n",
      "epoch:458/500 average TL:0.01628092 average VL:0.01455199 epoch time:28 seconds, lr:1.98e-05\n",
      "epoch:459/500 average TL:0.01604130 average VL:0.01509661 epoch time:28 seconds, lr:1.89e-05\n",
      "epoch:460/500 average TL:0.01590970 average VL:0.01469648 epoch time:28 seconds, lr:1.80e-05\n",
      "epoch:461/500 average TL:0.01611444 average VL:0.01492840 epoch time:28 seconds, lr:1.72e-05\n",
      "epoch:462/500 average TL:0.01569951 average VL:0.01448209 epoch time:28 seconds, lr:1.64e-05\n",
      "epoch:463/500 average TL:0.01595895 average VL:0.01470960 epoch time:28 seconds, lr:1.56e-05\n",
      "epoch:464/500 average TL:0.01620428 average VL:0.01530012 epoch time:28 seconds, lr:1.48e-05\n",
      "epoch:465/500 average TL:0.01622499 average VL:0.01533402 epoch time:28 seconds, lr:1.40e-05\n",
      "epoch:466/500 average TL:0.01623297 average VL:0.01598252 epoch time:28 seconds, lr:1.33e-05\n",
      "epoch:467/500 average TL:0.01596591 average VL:0.01446909 epoch time:28 seconds, lr:1.26e-05\n",
      "epoch:468/500 average TL:0.01560300 average VL:0.01457252 epoch time:28 seconds, lr:1.19e-05\n",
      "epoch:469/500 average TL:0.01606657 average VL:0.01426383 epoch time:28 seconds, lr:1.12e-05\n",
      "epoch:470/500 average TL:0.01635452 average VL:0.01457573 epoch time:28 seconds, lr:1.06e-05\n",
      "epoch:471/500 average TL:0.01591312 average VL:0.01521194 epoch time:28 seconds, lr:9.97e-06\n",
      "epoch:472/500 average TL:0.01610891 average VL:0.01463594 epoch time:28 seconds, lr:9.36e-06\n",
      "epoch:473/500 average TL:0.01599436 average VL:0.01559500 epoch time:28 seconds, lr:8.78e-06\n",
      "epoch:474/500 average TL:0.01642786 average VL:0.01473514 epoch time:28 seconds, lr:8.21e-06\n",
      "epoch:475/500 average TL:0.01637147 average VL:0.01468981 epoch time:28 seconds, lr:7.67e-06\n",
      "epoch:476/500 average TL:0.01592204 average VL:0.01486025 epoch time:28 seconds, lr:7.15e-06\n",
      "epoch:477/500 average TL:0.01604475 average VL:0.01485866 epoch time:28 seconds, lr:6.65e-06\n",
      "epoch:478/500 average TL:0.01643760 average VL:0.01449096 epoch time:28 seconds, lr:6.17e-06\n",
      "epoch:479/500 average TL:0.01664445 average VL:0.01474287 epoch time:28 seconds, lr:5.71e-06\n",
      "epoch:480/500 average TL:0.01607563 average VL:0.01416530 epoch time:28 seconds, lr:5.27e-06\n",
      "epoch:481/500 average TL:0.01573182 average VL:0.01503111 epoch time:28 seconds, lr:4.86e-06\n",
      "epoch:482/500 average TL:0.01613133 average VL:0.01437596 epoch time:28 seconds, lr:4.46e-06\n",
      "epoch:483/500 average TL:0.01632384 average VL:0.01487666 epoch time:28 seconds, lr:4.09e-06\n",
      "epoch:484/500 average TL:0.01629986 average VL:0.01540811 epoch time:28 seconds, lr:3.74e-06\n",
      "epoch:485/500 average TL:0.01584282 average VL:0.01417689 epoch time:28 seconds, lr:3.41e-06\n",
      "epoch:486/500 average TL:0.01653421 average VL:0.01525408 epoch time:28 seconds, lr:3.10e-06\n",
      "epoch:487/500 average TL:0.01546990 average VL:0.01467896 epoch time:28 seconds, lr:2.81e-06\n",
      "epoch:488/500 average TL:0.01528883 average VL:0.01450553 epoch time:28 seconds, lr:2.54e-06\n",
      "epoch:489/500 average TL:0.01656994 average VL:0.01479049 epoch time:28 seconds, lr:2.29e-06\n",
      "epoch:490/500 average TL:0.01596696 average VL:0.01479602 epoch time:28 seconds, lr:2.07e-06\n",
      "epoch:491/500 average TL:0.01587988 average VL:0.01405135 epoch time:28 seconds, lr:1.87e-06\n",
      "epoch:492/500 average TL:0.01631238 average VL:0.01456557 epoch time:28 seconds, lr:1.68e-06\n",
      "epoch:493/500 average TL:0.01609840 average VL:0.01457806 epoch time:28 seconds, lr:1.52e-06\n",
      "epoch:494/500 average TL:0.01596610 average VL:0.01515713 epoch time:28 seconds, lr:1.39e-06\n",
      "epoch:495/500 average TL:0.01587460 average VL:0.01481631 epoch time:28 seconds, lr:1.27e-06\n",
      "epoch:496/500 average TL:0.01605676 average VL:0.01445744 epoch time:28 seconds, lr:1.17e-06\n",
      "epoch:497/500 average TL:0.01583012 average VL:0.01474597 epoch time:28 seconds, lr:1.10e-06\n",
      "epoch:498/500 average TL:0.01578925 average VL:0.01511855 epoch time:28 seconds, lr:1.04e-06\n",
      "epoch:499/500 average TL:0.01607110 average VL:0.01520991 epoch time:28 seconds, lr:1.01e-06\n",
      "epoch:500/500 average TL:0.01596976 average VL:0.01443623 epoch time:28 seconds, lr:1.00e-06\n",
      "\n",
      "Duration: 14457 seconds\n"
     ]
    }
   ],
   "source": [
    "start_time = time.time()\n",
    "num_train_batches=len(train_loader)\n",
    "num_test_batches=len(test_loader)\n",
    "train_losses = []\n",
    "val_losses = []\n",
    "patience_counter = 0\n",
    "best_val_loss = float('inf')\n",
    "\n",
    "for i in range(num_epochs):\n",
    "    loss1 = 0\n",
    "    epoch_time = time.time()\n",
    "    model.train()\n",
    "    # Run the training batches\n",
    "    for b, (X_train, y_train) in enumerate(train_loader):  \n",
    "        optimizer.zero_grad()\n",
    "        \n",
    "        # Apply the model\n",
    "        #X_train = torch.cat([X_train, 4*torch.ones(batch_size, num_errors, dtype=torch.int).to(device)], dim=1)\n",
    "        xt=one_hot_encode(X_train, 5)\n",
    "        y_pred=model(xt)\n",
    "        #print(y_pred.shape)\n",
    "        yt=one_hot_encode(y_train, 4)\n",
    "        loss = criterion(y_pred, yt) \n",
    "        # Update parameters\n",
    "        loss.backward()\n",
    "        optimizer.step()\n",
    "        scheduler.step()\n",
    "        loss1=loss1+loss\n",
    "        #if (b+1)%50==1:\n",
    "        #    print(f'epoch: {i+1}/{num_epochs} batch:{b+1}/{num_train_batches} loss: {loss.item():10.8f}')      \n",
    "    train_loss=loss1/num_train_batches  \n",
    "    train_losses.append(train_loss.item())\n",
    "    # Run the testing batches\n",
    "    model.eval()\n",
    "    with torch.no_grad():\n",
    "        loss1=0\n",
    "        for b, (X_test, y_test) in enumerate(test_loader):\n",
    "            y_test=y_test.to(device)\n",
    "            # Apply the model\n",
    "            #X_test = torch.cat([X_test, 4*torch.ones(batch_size, num_errors, dtype=torch.int).to(device)], dim=1)\n",
    "            xt=one_hot_encode(X_test, 5)\n",
    "            y_pred=model(xt)\n",
    "            \n",
    "            yt=one_hot_encode(y_test, 4)\n",
    "            loss = criterion(y_pred, yt) \n",
    "            loss1=loss1+loss         \n",
    "        val_loss=loss1/num_test_batches  \n",
    "        val_losses.append(val_loss.item())\n",
    "    \n",
    "    print(f'epoch:{i+1}/{num_epochs} average TL:{train_loss.item():10.8f} average VL:{val_loss.item():10.8f} epoch time:{time.time() - epoch_time:.0f} seconds, lr:{optimizer.param_groups[0][\"lr\"]:.2e}')               \n",
    "     # Early stopping\n",
    "    if val_loss < best_val_loss:\n",
    "        best_val_loss = val_loss\n",
    "        torch.save(model.state_dict(), path_directory+\"model.pth\")\n",
    "        patience_counter = 0\n",
    "    else:\n",
    "        patience_counter += 1\n",
    "\n",
    "    if patience_counter >= patience:\n",
    "        print(f'Validation loss did not decrease for {patience} epochs. Stopping training.')\n",
    "        break  \n",
    "        \n",
    "print(f'\\nDuration: {time.time() - start_time:.0f} seconds') # print the time elapsed            "
   ]
  },
  {
   "cell_type": "code",
   "execution_count": 29,
   "id": "d1b7ed3f",
   "metadata": {},
   "outputs": [
    {
     "data": {
      "image/png": "[encoded data removed]",
      "text/plain": [
       "<Figure size 640x480 with 1 Axes>"
      ]
     },
     "metadata": {},
     "output_type": "display_data"
    }
   ],
   "source": [
    "# Plotting\n",
    "plt.plot(train_losses, label='Train Loss')\n",
    "plt.plot(val_losses, label='Validation Loss')\n",
    "plt.xlabel('Epoch')\n",
    "plt.ylabel('Loss')\n",
    "plt.legend()\n",
    "plt.grid()\n",
    "plt.show()\n"
   ]
  },
  {
   "cell_type": "code",
   "execution_count": 30,
   "id": "730fe193",
   "metadata": {},
   "outputs": [],
   "source": [
    "dict={'train_losses':train_losses, 'val_losses':val_losses, 'flops':flops, 'parameters':params }"
   ]
  },
  {
   "cell_type": "code",
   "execution_count": 31,
   "id": "82c1c94c",
   "metadata": {},
   "outputs": [],
   "source": [
    "savemat(path_directory+'losses.mat', dict)\n",
    "with open(path_directory+'losses.pkl', 'wb') as file:\n",
    "    \n",
    "    # A new file will be created\n",
    "    pickle.dump(dict, file)"
   ]
  },
  {
   "cell_type": "markdown",
   "id": "486b1334",
   "metadata": {},
   "source": [
    "# Testing"
   ]
  },
  {
   "cell_type": "code",
   "execution_count": 32,
   "id": "0827e8c0",
   "metadata": {},
   "outputs": [
    {
     "data": {
      "text/plain": [
       "<All keys matched successfully>"
      ]
     },
     "execution_count": 32,
     "metadata": {},
     "output_type": "execute_result"
    }
   ],
   "source": [
    "model.load_state_dict(torch.load(path_directory+\"model.pth\"))"
   ]
  },
  {
   "cell_type": "code",
   "execution_count": 33,
   "id": "eefcadef",
   "metadata": {},
   "outputs": [],
   "source": [
    "start_test=1\n",
    "stop_test=4\n",
    "num_test=200000\n",
    "test_error_points=torch.arange(start_test, stop_test+1)\n",
    "#nucleotide error rate\n",
    "ner=torch.zeros((stop_test-start_test+1)).to(device)\n",
    "#sequence error rate\n",
    "ser=torch.zeros((stop_test-start_test+1)).to(device)"
   ]
  },
  {
   "cell_type": "code",
   "execution_count": 34,
   "id": "66257385",
   "metadata": {},
   "outputs": [],
   "source": [
    "def count_different_rows(matrix1, matrix2):\n",
    "    \"\"\"\n",
    "    Calculates the number of rows that are not equal between two 2D PyTorch matrices.\n",
    "\n",
    "    Args:\n",
    "        matrix1 (torch.Tensor): A 2D PyTorch tensor of shape (m, n).\n",
    "        matrix2 (torch.Tensor): A 2D PyTorch tensor of shape (m, n).\n",
    "\n",
    "    Returns:\n",
    "        int: The number of rows that are not equal between the two matrices.\n",
    "    \"\"\"\n",
    "    assert matrix1.shape == matrix2.shape, \"The input matrices must have the same shape.\"\n",
    "    equal_rows = torch.all(matrix1 == matrix2, dim=1)\n",
    "    return matrix1.shape[0] - torch.sum(equal_rows).item()"
   ]
  },
  {
   "cell_type": "code",
   "execution_count": 35,
   "id": "213866b5",
   "metadata": {},
   "outputs": [],
   "source": [
    "i1=0\n",
    "for i in range(start_test, stop_test+1):\n",
    "    test_data1 = LanguageDataset(dicts, num_samples=num_test, num_errors=i)\n",
    "    test_loader1 = DataLoader(test_data1, batch_size=batch_size, shuffle=True)\n",
    "    n_tbatch=len(test_loader1)\n",
    "    ne=0.0\n",
    "    count=0.0\n",
    "    # Run the testing batches\n",
    "    model.eval()\n",
    "    with torch.no_grad():\n",
    "        for b, (X_test, y_test) in enumerate(test_loader1):\n",
    "            y_test=y_test\n",
    "            X_test = torch.cat([X_test, 4*torch.ones(batch_size, i, dtype=torch.int).to(device)], dim=1)\n",
    "            # Apply the model\n",
    "            xt=one_hot_encode(X_test, 5)\n",
    "            y_pred=model(xt)\n",
    "            y_pred_d=one_hot_decode(y_pred)\n",
    "            ne=ne+torch.sum(y_pred_d!=y_test).item()\n",
    "            count=count+count_different_rows(y_test,y_pred_d)\n",
    "        ner[i1]=ne/(n_tbatch*batch_size*K)\n",
    "        ser[i1]=count/(n_tbatch*batch_size)\n",
    "    i1=i1+1"
   ]
  },
  {
   "cell_type": "code",
   "execution_count": 36,
   "id": "613b089d",
   "metadata": {},
   "outputs": [],
   "source": [
    "dict1={'ner':torch.Tensor.cpu(ner).numpy(), 'ser':torch.Tensor.cpu(ser).numpy()}"
   ]
  },
  {
   "cell_type": "code",
   "execution_count": 37,
   "id": "fb487284",
   "metadata": {},
   "outputs": [
    {
     "data": {
      "text/plain": [
       "tensor([0.0000, 0.0120, 0.0587, 0.1884], device='cuda:0')"
      ]
     },
     "execution_count": 37,
     "metadata": {},
     "output_type": "execute_result"
    }
   ],
   "source": [
    "ner"
   ]
  },
  {
   "cell_type": "code",
   "execution_count": 38,
   "id": "fbd05713",
   "metadata": {},
   "outputs": [
    {
     "data": {
      "text/plain": [
       "tensor([0.0000, 0.0336, 0.1355, 0.4113], device='cuda:0')"
      ]
     },
     "execution_count": 38,
     "metadata": {},
     "output_type": "execute_result"
    }
   ],
   "source": [
    "ser"
   ]
  },
  {
   "cell_type": "code",
   "execution_count": 39,
   "id": "e2bdc20c",
   "metadata": {},
   "outputs": [],
   "source": [
    "savemat(path_directory+'metric.mat', dict1)\n",
    "with open(path_directory+'metric.pkl', 'wb') as file:\n",
    "    \n",
    "    # A new file will be created\n",
    "    pickle.dump(dict1, file)"
   ]
  },
  {
   "cell_type": "code",
   "execution_count": 40,
   "id": "00193886",
   "metadata": {},
   "outputs": [
    {
     "data": {
      "image/png": "[encoded data removed]",
      "text/plain": [
       "<Figure size 640x480 with 1 Axes>"
      ]
     },
     "metadata": {},
     "output_type": "display_data"
    }
   ],
   "source": [
    "plt.plot(torch.Tensor.cpu(test_error_points).numpy(),torch.Tensor.cpu(ner).numpy())\n",
    "plt.yscale('log')\n",
    "plt.xlabel('Number of errors')\n",
    "plt.ylabel('NER')    \n",
    "plt.grid(True)\n",
    "plt.show()"
   ]
  },
  {
   "cell_type": "code",
   "execution_count": 41,
   "id": "e22b1f71",
   "metadata": {},
   "outputs": [
    {
     "data": {
      "image/png": "[encoded data removed]",
      "text/plain": [
       "<Figure size 640x480 with 1 Axes>"
      ]
     },
     "metadata": {},
     "output_type": "display_data"
    }
   ],
   "source": [
    "plt.plot(torch.Tensor.cpu(test_error_points).numpy(),torch.Tensor.cpu(ser).numpy())\n",
    "plt.yscale('log')\n",
    "plt.xlabel('Number of errors')\n",
    "plt.ylabel('SER')    \n",
    "plt.grid(True)\n",
    "plt.show()"
   ]
  },
  {
   "cell_type": "code",
   "execution_count": null,
   "id": "ff194c2d",
   "metadata": {},
   "outputs": [],
   "source": []
  }
 ],
 "metadata": {
  "kernelspec": {
   "display_name": "Python 3 (ipykernel)",
   "language": "python",
   "name": "python3"
  },
  "language_info": {
   "codemirror_mode": {
    "name": "ipython",
    "version": 3
   },
   "file_extension": ".py",
   "mimetype": "text/x-python",
   "name": "python",
   "nbconvert_exporter": "python",
   "pygments_lexer": "ipython3",
   "version": "3.10.9"
  }
 },
 "nbformat": 4,
 "nbformat_minor": 5
}

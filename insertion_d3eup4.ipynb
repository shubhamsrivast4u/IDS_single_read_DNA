{
 "cells": [
  {
   "cell_type": "code",
   "execution_count": 1,
   "id": "54bdf718",
   "metadata": {},
   "outputs": [],
   "source": [
    "import torch\n",
    "import torch.nn as nn\n",
    "import torch.nn.functional as F\n",
    "import random\n",
    "from torch.utils.data import Dataset, DataLoader\n",
    "import os\n",
    "os.environ[\"CUDA_VISIBLE_DEVICES\"] = \"3\"  # Select the GPU index\n",
    "import nltk\n",
    "from torch.optim.lr_scheduler import _LRScheduler\n",
    "import time\n",
    "import math\n",
    "import matplotlib.pyplot as plt\n",
    "import spacy\n",
    "from scipy.io import savemat\n",
    "import dill as pickle\n",
    "import thop"
   ]
  },
  {
   "cell_type": "code",
   "execution_count": 2,
   "id": "a700507b",
   "metadata": {},
   "outputs": [
    {
     "name": "stdout",
     "output_type": "stream",
     "text": [
      "['ACGTAGCAGA', 'ACTACAGACG', 'AGACGATGCA', 'AGCGACTATC', 'ATAGCTCGTG', 'CACGAGCTAT', 'CGTCTGTAGT', 'CTATCAGCGA', 'GATAGTCGCT', 'GCAGACATCA', 'GTGCTCGATA', 'TATCGAGCAC', 'TCGCTGATAG', 'TCTGCTACGT', 'TGATGTCTGC', 'TGCATCGTCT']\n"
     ]
    }
   ],
   "source": [
    "# Dictionary\n",
    "dicno=3\n",
    "dictionaries =[['AAGCGC', 'ACGAGC', 'ATGGCG', 'AGCACG', 'CAGGTG', 'CCTACG', 'CTACGC', 'CGAACG', 'TAGGGC',\n",
    "                'TCGTGC', 'TTGCCG', 'TGCTCG', 'GACGAC', 'GCAGCA', 'GTAGGC', 'GGTCGA'],\n",
    "               \n",
    "               ['AAGCGC', 'ACGAGC', 'ATCCGC', 'ATGGCG', 'AGCACG', 'CATCCG', 'CAGGTG', 'CCTACG', 'CCTGGT',\n",
    "                'CCGTTG', 'CTACGC', 'CTGGAG', 'CGAACG', 'CGGAAC', 'TAGGGC', 'TCCGCA', 'TCGTGC', 'TCGGGA',\n",
    "                'TTCGGC', 'TTGCCG', 'TGCTCG', 'GACGAC', 'GATGCG', 'GCAGCA', 'GCCTAC', 'GTAGGC', 'GGACGT',\n",
    "                'GGCTAG', 'GGCTTC', 'GGTAGC', 'GGTCCT', 'GGTCGA' ],\n",
    "               \n",
    "               ['ACTACGACA', 'ACTGACACA', 'ACGACTACA', 'ATCAGCACA', 'AGCATCACA', 'CATCAGACA', 'CAGCATACA', \n",
    "                'TACGACACA', 'GACTACACA', 'ACTACTGAG', 'ACTACGATG', 'ACTACGTAG', 'ACTACGTGA', 'ACTGACATG',\n",
    "                'ACTGACTAG', 'ACTGACTGA', 'ACTGACGAT', 'ACTGACGTA', 'ACTGATACG', 'ACTGATAGC', 'ACTGATCGA', \n",
    "                'ACTGATGAC', 'ACTGATGCA', 'ACTGCTAGA', 'ACGACTATG', 'ACGACTAGT', 'ACGACTGAT', 'ACGACTGTA', 'ACGATGACT', \n",
    "                'ACGATGATC', 'ACGATGCTA', 'ACGATGTAC', 'ACGATGTCA', 'ATCATCGAG', 'ATCAGCATG', 'ATCAGCAGT', 'ATCAGCTGA', \n",
    "                'ATCAGCGTA', 'ATCAGTACG', 'ATCAGTAGC', 'ATCAGTCAG', 'ATCAGTCGA', 'ATCAGTGCA', 'ATCGTACAG', 'ATCGTACGA', \n",
    "                'ATCGTAGAC', 'ATCGTAGCA', 'ATCGTCAGA', 'ATGACTACG', 'ATGACTAGC', 'ATGACTCGA', 'ATGACTGAC', 'ATGACTGCA', \n",
    "                'ATGACGACT', 'ATGACGATC', 'ATGACGCTA', 'ATGACGTCA', 'ATGATGCAC', 'ATGCTACAG', 'ATGCTACGA', 'ATGCTAGAC', \n",
    "                'ATGCTAGCA', 'ATGCTGACA', 'AGCATCATG', 'AGCATCAGT', 'AGCATCTAG', 'AGCATCTGA', 'AGCATCGTA', 'AGCAGTACT', \n",
    "                'AGCAGTATC', 'AGCAGTCAT', 'AGCAGTCTA', 'AGTAGCATC', 'AGTAGCTAC', 'AGTAGCTCA', 'AGTAGTCAC', 'AGTCATACG', \n",
    "                'AGTCATAGC', 'AGTCATCAG', 'AGTCATCGA', 'AGTCATGCA', 'AGTCAGATC', 'AGTCAGCAT', 'AGTCAGCTA', 'AGTCAGTAC', \n",
    "                'AGTCAGTCA', 'AGTCGTACA', 'CATCAGAGT', 'CATCAGTAG', 'CATCAGTGA', 'CATCGTAGA', 'CAGCATATG', 'CAGCATAGT', \n",
    "                'CAGCATGAT', 'CAGCATGTA', 'CAGCAGTAT', 'CAGTAGATC', 'CAGTAGCAT', 'CAGTAGCTA', 'CAGTAGTAC', 'CAGTAGTCA', \n",
    "                'CAGTCATAG', 'CAGTCATGA', 'CAGTCAGAT', 'CAGTCAGTA', 'CAGTCGATA', 'CTACTGAGA', 'CTACGATGA', 'CTACGAGAT', \n",
    "                'CTACGAGTA', 'CTGACTAGA', 'CTGACGATA', 'CTGATGACA', 'CGACTATAG', 'CGACTATGA', 'CGACTAGAT', 'CGACTAGTA',\n",
    "                'CGACTGATA', 'CGACGATAT', 'CGATGACTA', 'CGATGATAC', 'CGATGCATA', 'CGTAGCATA', 'CGTCATAGA', 'CGTCAGATA', \n",
    "                'TACTACGAG', 'TACTGACAG', 'TACTGACGA', 'TACTGAGAC', 'TACTGAGCA', 'TACTGCAGA', 'TACGACAGT', 'TACGACTAG',\n",
    "                'TACGACTGA', 'TACGACGAT', 'TACGATACG', 'TACGATAGC', 'TACGATCAG', 'TACGATCGA', 'TACGATGAC', 'TACGATGCA', \n",
    "                'TAGCATACG', 'TAGCATAGC', 'TAGCATCAG', 'TAGCATCGA', 'TAGCATGAC', 'TAGCATGCA', 'TAGCAGACT', 'TAGCAGCAT', \n",
    "                'TAGCAGTAC', 'TAGCAGTCA', 'TAGTAGCAC', 'TAGTCACAG', 'TAGTCACGA', 'TAGTCAGAC', 'TAGTCAGCA', 'TAGTCGACA', \n",
    "                'TCATCAGAG', 'TCATCGAGA', 'TCAGCATAG', 'TCAGCAGAT', 'TCAGCAGTA', 'TCAGTACAG', 'TCAGTACGA', 'TCAGTAGAC',\n",
    "                'TCAGTAGCA', 'TCAGTCAGA', 'TCGTAGACA', 'TGACTACAG', 'TGACTACGA', 'TGACTAGAC', 'TGACTAGCA', 'TGACTGACA', \n",
    "                'TGACGACAT', 'TGACGACTA', 'TGACGATAC', 'TGATGACAC', 'TGATGCACA', 'TGCTACAGA', 'GACTACATG', 'GACTACTAG', \n",
    "                'GACTACTGA', 'GACTACGAT', 'GACTACGTA', 'GACTGACAT', 'GACTGACTA', 'GACTGATAC', 'GACTGATCA', 'GACTGCATA', \n",
    "                'GACGACTAT', 'GACGATACT', 'GACGATATC', 'GACGATCAT', 'GACGATCTA', 'GATGACACT', 'GATGACTAC', 'GATGACTCA', \n",
    "                'GATGCTACA', 'GCATCATAG', 'GCATCAGAT', 'GCATCAGTA', 'GCATCGATA', 'GCAGCATAT', 'GCAGTACAT', 'GCAGTACTA', \n",
    "                'GCAGTATAC', 'GCAGTATCA', 'GCAGTCATA', 'GCTACGATA', 'GCTGACATA', 'GCTGATACA', 'GTAGCACAT', 'GTAGCACTA', \n",
    "                'GTAGCATCA', 'GTAGTCACA', 'GTCATCAGA', 'GTCAGCATA', 'GTCAGTACA', 'ACTGATGTG', 'ACGATGTGT', 'ATCAGTGTG', \n",
    "                'ATCGTAGTG', 'ATGACTGTG', 'ATGACGTGT', 'ATGATGCTG', 'ATGATGCGT', 'ATGATGTCG', 'ATGATGTGC', 'ATGCTAGTG', \n",
    "                'ATGCTGATG', 'ATGCTGAGT', 'ATGCTGTGA', 'AGTAGCTGT', 'AGTAGTCTG', 'AGTAGTCGT', 'AGTAGTGCT', 'AGTAGTGTC', \n",
    "                'AGTCATGTG', 'AGTCAGTGT', 'AGTCGTATG', 'AGTCGTAGT', 'AGTCGTGTA', 'CAGTAGTGT', 'CTGATGATG', 'CTGATGAGT', \n",
    "                'CTGATGTAG', 'CTGATGTGA', 'CGATGATGT', 'CGTAGTATG', 'CGTAGTAGT', 'CGTAGTGAT', 'CGTAGTGTA', 'TACGATGTG', \n",
    "                'TAGCATGTG', 'TAGCAGTGT'],\n",
    "               \n",
    "               ['ACGTAGCAGA', 'ACTACAGACG', 'AGACGATGCA', 'AGCGACTATC', 'ATAGCTCGTG', 'CACGAGCTAT','CGTCTGTAGT',\n",
    "                'CTATCAGCGA', 'GATAGTCGCT', 'GCAGACATCA', 'GTGCTCGATA', 'TATCGAGCAC', 'TCGCTGATAG', 'TCTGCTACGT',\n",
    "                'TGATGTCTGC', 'TGCATCGTCT'],\n",
    "               \n",
    "               ['ATCGATCGATCGAT','TACGTAGCTAGCTA', 'TAGCTACGTAGCTA', 'ATGCATGCATCGAT', 'ATGCTACGATGCTA', \n",
    "                'TAGCATGCTACGAT', 'TACGATCGTACGAT', 'ATCGTAGCATGCTA', 'TACGATGCTAGCAT', 'ATCGTACGATCGTA', \n",
    "                'ATGCTAGCATCGTA', 'TAGCATCGTAGCAT', 'TAGCTAGCTACGTA', 'ATGCATCGATGCAT', 'ATCGATGCATGCAT', \n",
    "                'TACGTACGTACGTA'],\n",
    "              \n",
    "               ['ATCGATCG', 'ATCGATGC', 'ATCGTAGC', 'ATCGTACG', 'ATGCTAGC', 'ATGCTACG', 'ATGCATCG', 'ATGCATGC',\n",
    "                'TAGCTAGC', 'TAGCTACG', 'TAGCATCG', 'TAGCATGC', 'TACGATCG', 'TACGATGC', 'TACGTAGC', 'TACGTACG']\n",
    "              \n",
    "               ]\n",
    "dicts=dictionaries[dicno]\n",
    "print(dicts)"
   ]
  },
  {
   "cell_type": "code",
   "execution_count": 3,
   "id": "dbcadf01",
   "metadata": {},
   "outputs": [],
   "source": [
    "batch_size=2000\n",
    "device = 'cuda' if torch.cuda.is_available() else 'cpu'\n",
    "lr=0.001\n",
    "num_epochs=500\n",
    "patience=400\n",
    "train_num_samples=30000\n",
    "test_num_samples=10000\n",
    "num_errors=4\n",
    "K=len(dicts[0])\n",
    "hidden_size=32"
   ]
  },
  {
   "cell_type": "code",
   "execution_count": 4,
   "id": "cd70d5fb",
   "metadata": {},
   "outputs": [
    {
     "data": {
      "text/plain": [
       "'insertionmodels/BiLSTM/Dictionary_3/batch_size_2000/num_errors_4/initial_lr_0.001/epochs500_p400_tr30000ts10000K10hs32/'"
      ]
     },
     "execution_count": 4,
     "metadata": {},
     "output_type": "execute_result"
    }
   ],
   "source": [
    "path_directory=f\"insertionmodels/BiLSTM/Dictionary_{dicno}/batch_size_{batch_size}/num_errors_{num_errors}/initial_lr_{lr}/epochs{num_epochs}_p{patience}_tr{train_num_samples}ts{test_num_samples}K{K}hs{hidden_size}/\"\n",
    "path_directory"
   ]
  },
  {
   "cell_type": "code",
   "execution_count": 5,
   "id": "62b8193e",
   "metadata": {},
   "outputs": [],
   "source": [
    "# Check if \"models\" folder exists, create it if it doesn't\n",
    "if not os.path.exists(path_directory):\n",
    "    os.makedirs(path_directory)\n"
   ]
  },
  {
   "cell_type": "code",
   "execution_count": 6,
   "id": "d805d412",
   "metadata": {},
   "outputs": [],
   "source": [
    "class LanguageDataset(Dataset):\n",
    "\n",
    "    def __init__(self, dictionary, num_samples, num_errors):\n",
    "        self.dictionary = dictionary\n",
    "        self.num_samples = num_samples \n",
    "        self.num_errors = num_errors\n",
    "\n",
    "    def __len__(self):\n",
    "        return self.num_samples\n",
    "\n",
    "    def __getitem__(self, idx):\n",
    "        source_idx = idx % len(self.dictionary)  \n",
    "        sequence = self.dictionary[source_idx]\n",
    "        if self.num_errors > 0:\n",
    "            sequence = self.introduce_errors(sequence, self.num_errors)\n",
    "        x = torch.tensor([self.char_to_idx(c) for c in sequence], dtype=torch.long)\n",
    "        y = torch.tensor([self.char_to_idx(c) for c in self.dictionary[source_idx]], dtype=torch.long)\n",
    "        return x.to(device), y.to(device)\n",
    "        \n",
    "    def introduce_errors(self, sequence, ne):\n",
    "        sequence = list(sequence)\n",
    "        for _ in range(num_errors-ne):\n",
    "            sequence.append('N')\n",
    "        for _ in range(ne):\n",
    "            i = random.randint(0, len(sequence))\n",
    "            random_char = random.choice(['A','C','T','G']) \n",
    "            sequence.insert(i, random_char)\n",
    "        return ''.join(sequence)\n",
    "\n",
    "    def char_to_idx(self, char):\n",
    "        return {'A': 0, 'C': 1, 'T': 2, 'G': 3, 'N': 4}[char]"
   ]
  },
  {
   "cell_type": "code",
   "execution_count": 7,
   "id": "a9c0ed7b",
   "metadata": {},
   "outputs": [
    {
     "data": {
      "text/plain": [
       "2"
      ]
     },
     "execution_count": 7,
     "metadata": {},
     "output_type": "execute_result"
    }
   ],
   "source": [
    "random.randint(1, 2)"
   ]
  },
  {
   "cell_type": "code",
   "execution_count": 8,
   "id": "7d7bfb16",
   "metadata": {},
   "outputs": [],
   "source": [
    "class LanguageDataset1(Dataset):\n",
    "\n",
    "    def __init__(self, dictionary, num_samples, num_errors):\n",
    "        self.dictionary = dictionary\n",
    "        self.num_samples = num_samples \n",
    "        self.num_errors = num_errors\n",
    "\n",
    "    def __len__(self):\n",
    "        return self.num_samples\n",
    "\n",
    "    def __getitem__(self, idx):\n",
    "        source_idx = idx % len(self.dictionary)\n",
    "        sequence = self.dictionary[source_idx]\n",
    "        if self.num_errors > 0:\n",
    "            sequence = self.introduce_errors(sequence, self.num_errors)\n",
    "        x = torch.tensor([self.char_to_idx(c) for c in sequence], dtype=torch.long)\n",
    "        y = torch.tensor([self.char_to_idx(c) for c in self.dictionary[source_idx]], dtype=torch.long)\n",
    "        return x.to(device), y.to(device)\n",
    "\n",
    "    def introduce_errors(self, sequence, num_errors):\n",
    "        ne = random.randint(1, num_errors)\n",
    "        sequence = list(sequence)\n",
    "        for _ in range(num_errors-ne):\n",
    "            sequence.append('N')\n",
    "        for _ in range(ne):\n",
    "            i = random.randint(0, len(sequence))\n",
    "            random_char = random.choice(['A','C','T','G']) \n",
    "            sequence.insert(i, random_char)\n",
    "        return ''.join(sequence)\n",
    "\n",
    "    def char_to_idx(self, char):\n",
    "        return {'A': 0, 'C': 1, 'T': 2, 'G': 3, 'N': 4}[char]"
   ]
  },
  {
   "cell_type": "code",
   "execution_count": 9,
   "id": "e6c5ca76",
   "metadata": {},
   "outputs": [],
   "source": [
    "train_data = LanguageDataset1(dicts, num_samples=train_num_samples, num_errors=num_errors)\n",
    "test_data = LanguageDataset1(dicts, num_samples=test_num_samples, num_errors=num_errors)\n",
    "\n",
    "train_loader = DataLoader(train_data, batch_size=batch_size, shuffle=True)\n",
    "test_loader = DataLoader(test_data, batch_size=batch_size)"
   ]
  },
  {
   "cell_type": "code",
   "execution_count": 10,
   "id": "87577e33",
   "metadata": {},
   "outputs": [],
   "source": [
    "t1=iter(train_loader)\n",
    "X,y=next(t1)"
   ]
  },
  {
   "cell_type": "code",
   "execution_count": 11,
   "id": "fc455f7a",
   "metadata": {},
   "outputs": [
    {
     "data": {
      "text/plain": [
       "torch.Size([2000, 14])"
      ]
     },
     "execution_count": 11,
     "metadata": {},
     "output_type": "execute_result"
    }
   ],
   "source": [
    "X.shape"
   ]
  },
  {
   "cell_type": "code",
   "execution_count": 12,
   "id": "83b83995",
   "metadata": {},
   "outputs": [
    {
     "data": {
      "text/plain": [
       "tensor([[1, 0, 1,  ..., 2, 0, 2],\n",
       "        [2, 1, 2,  ..., 1, 3, 2],\n",
       "        [0, 3, 0,  ..., 3, 1, 0],\n",
       "        ...,\n",
       "        [2, 1, 2,  ..., 1, 3, 2],\n",
       "        [3, 2, 3,  ..., 0, 2, 0],\n",
       "        [2, 1, 2,  ..., 1, 3, 2]], device='cuda:0')"
      ]
     },
     "execution_count": 12,
     "metadata": {},
     "output_type": "execute_result"
    }
   ],
   "source": [
    "y"
   ]
  },
  {
   "cell_type": "code",
   "execution_count": 13,
   "id": "640f9af6",
   "metadata": {},
   "outputs": [],
   "source": [
    "def one_hot_encode(sequences, n_unique):\n",
    "\n",
    "    # Get size of batch and max sequence length\n",
    "    batch_size,seq_len=sequences.shape\n",
    "    #len(sequences)\n",
    "    #seq_len=len(sequences[0])\n",
    "    \n",
    "    # Initialize encoded tensor\n",
    "    oneencoding = torch.zeros(batch_size, seq_len, n_unique, device = device)\n",
    "    # Set 1 at index of each character\n",
    "    for i in range(batch_size):\n",
    "        for j in range(seq_len):\n",
    "            index = sequences[i][j]\n",
    "            oneencoding[i, j, index] = 1          \n",
    "    return oneencoding"
   ]
  },
  {
   "cell_type": "code",
   "execution_count": 14,
   "id": "ee758123",
   "metadata": {},
   "outputs": [
    {
     "data": {
      "text/plain": [
       "torch.Size([2000, 14])"
      ]
     },
     "execution_count": 14,
     "metadata": {},
     "output_type": "execute_result"
    }
   ],
   "source": [
    "X.shape"
   ]
  },
  {
   "cell_type": "code",
   "execution_count": 15,
   "id": "6d4e7322",
   "metadata": {},
   "outputs": [],
   "source": [
    "def one_hot_decode(encoded_seq):\n",
    "    \"\"\"Converts a batch of one-hot encoded sequences to indices\"\"\"\n",
    "    \n",
    "    # Dimensions will be (batch_size, seq_len, num_classes)\n",
    "    batch_size, seq_len, num_classes = encoded_seq.shape\n",
    "    \n",
    "    # Flatten to treat as a list of one-hot vectors\n",
    "    encoded_seq = encoded_seq.reshape(-1, num_classes)\n",
    "    \n",
    "    # Argmax over classes to get class index\n",
    "    indices = encoded_seq.argmax(dim=1).to(device)\n",
    "    \n",
    "    # Reshape back to original dimensions\n",
    "    indices = indices.reshape(batch_size, seq_len)\n",
    "    \n",
    "    return indices"
   ]
  },
  {
   "cell_type": "code",
   "execution_count": 16,
   "id": "d3d48c1c",
   "metadata": {},
   "outputs": [],
   "source": [
    "class BiLSTMModel(nn.Module):\n",
    "\n",
    "    def __init__(self, hidden_size, dropout):\n",
    "        super().__init__()\n",
    "        \n",
    "        self.lstm1 = nn.LSTM(\n",
    "            input_size=5, \n",
    "            hidden_size=hidden_size,\n",
    "            num_layers=2,\n",
    "            batch_first=True,\n",
    "            bidirectional=True,\n",
    "            dropout=dropout\n",
    "        )\n",
    "        self.fc = nn.Linear(2*hidden_size, 5)\n",
    "        self.softmax = nn.Softmax(dim=2)\n",
    "    def forward(self, x):\n",
    "\n",
    "        # BiLSTM 1\n",
    "        out, _ = self.lstm1(x)\n",
    "        out = self.softmax(self.fc(out))\n",
    "        return out"
   ]
  },
  {
   "cell_type": "code",
   "execution_count": 17,
   "id": "c8bbfd99",
   "metadata": {},
   "outputs": [],
   "source": [
    "model=BiLSTMModel(hidden_size,0.1)"
   ]
  },
  {
   "cell_type": "code",
   "execution_count": 18,
   "id": "fdca5add",
   "metadata": {},
   "outputs": [],
   "source": [
    "def cal_model_parameters(model):\n",
    "    total_param  = []\n",
    "    for p1 in model.parameters():\n",
    "        total_param.append(int(p1.numel()))\n",
    "    return sum(total_param)"
   ]
  },
  {
   "cell_type": "code",
   "execution_count": 19,
   "id": "b4388fcc",
   "metadata": {},
   "outputs": [
    {
     "data": {
      "text/plain": [
       "35397"
      ]
     },
     "execution_count": 19,
     "metadata": {},
     "output_type": "execute_result"
    }
   ],
   "source": [
    "cal_model_parameters(model)"
   ]
  },
  {
   "cell_type": "code",
   "execution_count": 20,
   "id": "68ad73ac",
   "metadata": {},
   "outputs": [],
   "source": [
    "model=model.to(device)"
   ]
  },
  {
   "cell_type": "code",
   "execution_count": 21,
   "id": "d4268683",
   "metadata": {},
   "outputs": [],
   "source": [
    "train_next=iter(train_data)\n",
    "Xp, Yp=next(train_next)\n",
    "#Xp = torch.cat([Xp.view(1,-1), 4*torch.ones(1, num_errors, dtype=torch.int).to(device)], dim=1)\n",
    "xp=one_hot_encode(Xp.view(1,-1).to(device), 5).to(device)"
   ]
  },
  {
   "cell_type": "code",
   "execution_count": 22,
   "id": "e3e06394",
   "metadata": {},
   "outputs": [],
   "source": [
    "flops, params = thop.profile(model, inputs=(xp,), verbose=False)"
   ]
  },
  {
   "cell_type": "code",
   "execution_count": 23,
   "id": "d017e558",
   "metadata": {},
   "outputs": [
    {
     "name": "stdout",
     "output_type": "stream",
     "text": [
      "Model Flops: 510020.0\n",
      "Model Params Num: 35397.0\n",
      "\n"
     ]
    }
   ],
   "source": [
    "print(f'Model Flops: {flops}')\n",
    "print(f'Model Params Num: {params}\\n')"
   ]
  },
  {
   "cell_type": "code",
   "execution_count": 24,
   "id": "248e48b2",
   "metadata": {},
   "outputs": [],
   "source": [
    "\n",
    "criterion= nn.MSELoss().to(device)"
   ]
  },
  {
   "cell_type": "code",
   "execution_count": 25,
   "id": "ad91e622",
   "metadata": {},
   "outputs": [],
   "source": [
    "optimizer = torch.optim.Adam(model.parameters(), lr=lr, betas=(0.9, 0.98), eps=1e-9)"
   ]
  },
  {
   "cell_type": "code",
   "execution_count": 26,
   "id": "e5c7217e",
   "metadata": {},
   "outputs": [],
   "source": [
    "class WarmUpCosineAnnealingLR(_LRScheduler):\n",
    "    def __init__(self, optimizer, T_max, T_warmup, eta_min=0, last_epoch=-1):\n",
    "        self.T_max = T_max\n",
    "        self.T_warmup = T_warmup\n",
    "        self.eta_min = eta_min\n",
    "        super(WarmUpCosineAnnealingLR, self).__init__(optimizer, last_epoch)\n",
    "\n",
    "    def get_lr(self):\n",
    "        if self.last_epoch < self.T_warmup:\n",
    "            return [base_lr * self.last_epoch / self.T_warmup for base_lr in self.base_lrs]\n",
    "        else:\n",
    "            k = 1 + math.cos(math.pi * (self.last_epoch - self.T_warmup) / (self.T_max - self.T_warmup))\n",
    "            return [self.eta_min + (base_lr - self.eta_min) * k / 2 for base_lr in self.base_lrs]"
   ]
  },
  {
   "cell_type": "code",
   "execution_count": 27,
   "id": "23b7a66e",
   "metadata": {},
   "outputs": [],
   "source": [
    "scheduler = WarmUpCosineAnnealingLR(optimizer=optimizer,\n",
    "                                            T_max=num_epochs * len(train_loader),\n",
    "                                            T_warmup=20 * len(train_loader),\n",
    "                                            eta_min=1e-6)"
   ]
  },
  {
   "cell_type": "code",
   "execution_count": 28,
   "id": "da868db6",
   "metadata": {},
   "outputs": [
    {
     "name": "stdout",
     "output_type": "stream",
     "text": [
      "epoch:1/500 average TL:0.16088833 average VL:0.16082691 epoch time:175 seconds, lr:5.00e-05\n",
      "epoch:2/500 average TL:0.16071860 average VL:0.16056125 epoch time:175 seconds, lr:1.00e-04\n",
      "epoch:3/500 average TL:0.16036849 average VL:0.16010855 epoch time:175 seconds, lr:1.50e-04\n",
      "epoch:4/500 average TL:0.15980299 average VL:0.15939102 epoch time:175 seconds, lr:2.00e-04\n",
      "epoch:5/500 average TL:0.15887171 average VL:0.15813740 epoch time:175 seconds, lr:2.50e-04\n",
      "epoch:6/500 average TL:0.15704718 average VL:0.15533859 epoch time:175 seconds, lr:3.00e-04\n",
      "epoch:7/500 average TL:0.15239133 average VL:0.14761762 epoch time:175 seconds, lr:3.50e-04\n",
      "epoch:8/500 average TL:0.14127313 average VL:0.13330714 epoch time:175 seconds, lr:4.00e-04\n",
      "epoch:9/500 average TL:0.12655059 average VL:0.11929740 epoch time:175 seconds, lr:4.50e-04\n",
      "epoch:10/500 average TL:0.11533518 average VL:0.11178883 epoch time:175 seconds, lr:5.00e-04\n",
      "epoch:11/500 average TL:0.11073935 average VL:0.10918268 epoch time:175 seconds, lr:5.50e-04\n",
      "epoch:12/500 average TL:0.10896928 average VL:0.10793463 epoch time:175 seconds, lr:6.00e-04\n",
      "epoch:13/500 average TL:0.10795696 average VL:0.10711970 epoch time:175 seconds, lr:6.50e-04\n",
      "epoch:14/500 average TL:0.10706013 average VL:0.10611047 epoch time:175 seconds, lr:7.00e-04\n",
      "epoch:15/500 average TL:0.10585088 average VL:0.10482087 epoch time:175 seconds, lr:7.50e-04\n",
      "epoch:16/500 average TL:0.10468431 average VL:0.10382092 epoch time:175 seconds, lr:8.00e-04\n",
      "epoch:17/500 average TL:0.10373235 average VL:0.10302354 epoch time:175 seconds, lr:8.50e-04\n",
      "epoch:18/500 average TL:0.10288327 average VL:0.10205956 epoch time:175 seconds, lr:9.00e-04\n",
      "epoch:19/500 average TL:0.10184640 average VL:0.10078213 epoch time:175 seconds, lr:9.50e-04\n",
      "epoch:20/500 average TL:0.10046615 average VL:0.09912250 epoch time:176 seconds, lr:1.00e-03\n",
      "epoch:21/500 average TL:0.09862810 average VL:0.09704411 epoch time:175 seconds, lr:1.00e-03\n",
      "epoch:22/500 average TL:0.09655413 average VL:0.09471911 epoch time:176 seconds, lr:1.00e-03\n",
      "epoch:23/500 average TL:0.09429743 average VL:0.09220862 epoch time:175 seconds, lr:1.00e-03\n",
      "epoch:24/500 average TL:0.09185262 average VL:0.08973140 epoch time:175 seconds, lr:1.00e-03\n",
      "epoch:25/500 average TL:0.08954688 average VL:0.08706219 epoch time:175 seconds, lr:1.00e-03\n",
      "epoch:26/500 average TL:0.08729188 average VL:0.08461946 epoch time:175 seconds, lr:1.00e-03\n",
      "epoch:27/500 average TL:0.08512971 average VL:0.08273941 epoch time:175 seconds, lr:9.99e-04\n",
      "epoch:28/500 average TL:0.08321340 average VL:0.08100569 epoch time:175 seconds, lr:9.99e-04\n",
      "epoch:29/500 average TL:0.08126579 average VL:0.07899733 epoch time:175 seconds, lr:9.99e-04\n",
      "epoch:30/500 average TL:0.07943478 average VL:0.07754450 epoch time:175 seconds, lr:9.99e-04\n",
      "epoch:31/500 average TL:0.07811902 average VL:0.07563204 epoch time:175 seconds, lr:9.99e-04\n",
      "epoch:32/500 average TL:0.07670017 average VL:0.07457092 epoch time:175 seconds, lr:9.98e-04\n",
      "epoch:33/500 average TL:0.07510486 average VL:0.07269865 epoch time:175 seconds, lr:9.98e-04\n",
      "epoch:34/500 average TL:0.07350764 average VL:0.07116865 epoch time:175 seconds, lr:9.98e-04\n",
      "epoch:35/500 average TL:0.07211637 average VL:0.06928688 epoch time:176 seconds, lr:9.98e-04\n",
      "epoch:36/500 average TL:0.07003050 average VL:0.06677332 epoch time:175 seconds, lr:9.97e-04\n",
      "epoch:37/500 average TL:0.06794409 average VL:0.06431417 epoch time:175 seconds, lr:9.97e-04\n",
      "epoch:38/500 average TL:0.06622926 average VL:0.06283591 epoch time:175 seconds, lr:9.97e-04\n",
      "epoch:39/500 average TL:0.06389033 average VL:0.06015025 epoch time:175 seconds, lr:9.96e-04\n",
      "epoch:40/500 average TL:0.06123554 average VL:0.05785388 epoch time:175 seconds, lr:9.96e-04\n",
      "epoch:41/500 average TL:0.05872077 average VL:0.05448574 epoch time:175 seconds, lr:9.95e-04\n",
      "epoch:42/500 average TL:0.05641099 average VL:0.05215719 epoch time:175 seconds, lr:9.95e-04\n",
      "epoch:43/500 average TL:0.05442412 average VL:0.05011685 epoch time:175 seconds, lr:9.94e-04\n",
      "epoch:44/500 average TL:0.05175561 average VL:0.04709310 epoch time:175 seconds, lr:9.94e-04\n",
      "epoch:45/500 average TL:0.04928700 average VL:0.04545045 epoch time:175 seconds, lr:9.93e-04\n",
      "epoch:46/500 average TL:0.04709217 average VL:0.04250534 epoch time:175 seconds, lr:9.93e-04\n",
      "epoch:47/500 average TL:0.04517505 average VL:0.04026956 epoch time:176 seconds, lr:9.92e-04\n",
      "epoch:48/500 average TL:0.04296071 average VL:0.03784158 epoch time:175 seconds, lr:9.92e-04\n",
      "epoch:49/500 average TL:0.04088244 average VL:0.03644023 epoch time:175 seconds, lr:9.91e-04\n",
      "epoch:50/500 average TL:0.03852535 average VL:0.03457067 epoch time:175 seconds, lr:9.90e-04\n",
      "epoch:51/500 average TL:0.03665925 average VL:0.03194785 epoch time:175 seconds, lr:9.90e-04\n",
      "epoch:52/500 average TL:0.03466514 average VL:0.03022348 epoch time:175 seconds, lr:9.89e-04\n",
      "epoch:53/500 average TL:0.03278244 average VL:0.02831301 epoch time:175 seconds, lr:9.88e-04\n",
      "epoch:54/500 average TL:0.03106278 average VL:0.02631002 epoch time:175 seconds, lr:9.88e-04\n",
      "epoch:55/500 average TL:0.02905577 average VL:0.02542155 epoch time:175 seconds, lr:9.87e-04\n",
      "epoch:56/500 average TL:0.02792603 average VL:0.02390820 epoch time:175 seconds, lr:9.86e-04\n",
      "epoch:57/500 average TL:0.02639739 average VL:0.02249170 epoch time:175 seconds, lr:9.85e-04\n",
      "epoch:58/500 average TL:0.02481986 average VL:0.02087834 epoch time:175 seconds, lr:9.85e-04\n",
      "epoch:59/500 average TL:0.02336523 average VL:0.02028850 epoch time:175 seconds, lr:9.84e-04\n",
      "epoch:60/500 average TL:0.02260629 average VL:0.01902092 epoch time:175 seconds, lr:9.83e-04\n",
      "epoch:61/500 average TL:0.02169885 average VL:0.01832752 epoch time:175 seconds, lr:9.82e-04\n",
      "epoch:62/500 average TL:0.02045751 average VL:0.01725271 epoch time:175 seconds, lr:9.81e-04\n",
      "epoch:63/500 average TL:0.01984336 average VL:0.01581103 epoch time:175 seconds, lr:9.80e-04\n",
      "epoch:64/500 average TL:0.01843434 average VL:0.01608336 epoch time:175 seconds, lr:9.79e-04\n",
      "epoch:65/500 average TL:0.01769267 average VL:0.01444556 epoch time:175 seconds, lr:9.78e-04\n",
      "epoch:66/500 average TL:0.01684886 average VL:0.01423946 epoch time:175 seconds, lr:9.78e-04\n",
      "epoch:67/500 average TL:0.01608219 average VL:0.01317936 epoch time:175 seconds, lr:9.77e-04\n",
      "epoch:68/500 average TL:0.01570864 average VL:0.01273759 epoch time:175 seconds, lr:9.76e-04\n",
      "epoch:69/500 average TL:0.01472011 average VL:0.01203539 epoch time:175 seconds, lr:9.75e-04\n",
      "epoch:70/500 average TL:0.01417511 average VL:0.01131930 epoch time:175 seconds, lr:9.73e-04\n",
      "epoch:71/500 average TL:0.01386206 average VL:0.01128095 epoch time:175 seconds, lr:9.72e-04\n",
      "epoch:72/500 average TL:0.01294058 average VL:0.01049687 epoch time:175 seconds, lr:9.71e-04\n",
      "epoch:73/500 average TL:0.01252475 average VL:0.00981593 epoch time:175 seconds, lr:9.70e-04\n",
      "epoch:74/500 average TL:0.01189776 average VL:0.00936801 epoch time:175 seconds, lr:9.69e-04\n",
      "epoch:75/500 average TL:0.01164110 average VL:0.00919349 epoch time:175 seconds, lr:9.68e-04\n",
      "epoch:76/500 average TL:0.01113658 average VL:0.00885945 epoch time:175 seconds, lr:9.67e-04\n",
      "epoch:77/500 average TL:0.01052894 average VL:0.00846994 epoch time:175 seconds, lr:9.66e-04\n",
      "epoch:78/500 average TL:0.01026431 average VL:0.00798708 epoch time:175 seconds, lr:9.64e-04\n",
      "epoch:79/500 average TL:0.01014048 average VL:0.00823992 epoch time:175 seconds, lr:9.63e-04\n",
      "epoch:80/500 average TL:0.00978974 average VL:0.00775529 epoch time:175 seconds, lr:9.62e-04\n",
      "epoch:81/500 average TL:0.00934796 average VL:0.00714983 epoch time:175 seconds, lr:9.61e-04\n",
      "epoch:82/500 average TL:0.00886260 average VL:0.00664426 epoch time:175 seconds, lr:9.59e-04\n",
      "epoch:83/500 average TL:0.00856627 average VL:0.00692271 epoch time:175 seconds, lr:9.58e-04\n",
      "epoch:84/500 average TL:0.00834403 average VL:0.00625158 epoch time:175 seconds, lr:9.57e-04\n",
      "epoch:85/500 average TL:0.00814649 average VL:0.00661258 epoch time:175 seconds, lr:9.55e-04\n",
      "epoch:86/500 average TL:0.00797800 average VL:0.00601308 epoch time:176 seconds, lr:9.54e-04\n",
      "epoch:87/500 average TL:0.00773897 average VL:0.00600611 epoch time:175 seconds, lr:9.53e-04\n",
      "epoch:88/500 average TL:0.00762491 average VL:0.00573721 epoch time:175 seconds, lr:9.51e-04\n",
      "epoch:89/500 average TL:0.00761618 average VL:0.00547609 epoch time:175 seconds, lr:9.50e-04\n"
     ]
    },
    {
     "name": "stdout",
     "output_type": "stream",
     "text": [
      "epoch:90/500 average TL:0.00744249 average VL:0.00586496 epoch time:175 seconds, lr:9.48e-04\n",
      "epoch:91/500 average TL:0.00700124 average VL:0.00564506 epoch time:175 seconds, lr:9.47e-04\n",
      "epoch:92/500 average TL:0.00684190 average VL:0.00512853 epoch time:176 seconds, lr:9.46e-04\n",
      "epoch:93/500 average TL:0.00669258 average VL:0.00509996 epoch time:175 seconds, lr:9.44e-04\n",
      "epoch:94/500 average TL:0.00640187 average VL:0.00535343 epoch time:176 seconds, lr:9.43e-04\n",
      "epoch:95/500 average TL:0.00634477 average VL:0.00463868 epoch time:175 seconds, lr:9.41e-04\n",
      "epoch:96/500 average TL:0.00627776 average VL:0.00456090 epoch time:176 seconds, lr:9.39e-04\n",
      "epoch:97/500 average TL:0.00579484 average VL:0.00501003 epoch time:175 seconds, lr:9.38e-04\n",
      "epoch:98/500 average TL:0.00603845 average VL:0.00464527 epoch time:175 seconds, lr:9.36e-04\n",
      "epoch:99/500 average TL:0.00586175 average VL:0.00472699 epoch time:176 seconds, lr:9.35e-04\n",
      "epoch:100/500 average TL:0.00589506 average VL:0.00476247 epoch time:175 seconds, lr:9.33e-04\n",
      "epoch:101/500 average TL:0.00561480 average VL:0.00452776 epoch time:176 seconds, lr:9.31e-04\n",
      "epoch:102/500 average TL:0.00558826 average VL:0.00444293 epoch time:175 seconds, lr:9.30e-04\n",
      "epoch:103/500 average TL:0.00524053 average VL:0.00426508 epoch time:175 seconds, lr:9.28e-04\n",
      "epoch:104/500 average TL:0.00555051 average VL:0.00427739 epoch time:175 seconds, lr:9.26e-04\n",
      "epoch:105/500 average TL:0.00509872 average VL:0.00401383 epoch time:175 seconds, lr:9.25e-04\n",
      "epoch:106/500 average TL:0.00529438 average VL:0.00362694 epoch time:176 seconds, lr:9.23e-04\n",
      "epoch:107/500 average TL:0.00472099 average VL:0.00400877 epoch time:176 seconds, lr:9.21e-04\n",
      "epoch:108/500 average TL:0.00471896 average VL:0.00361108 epoch time:175 seconds, lr:9.19e-04\n",
      "epoch:109/500 average TL:0.00495866 average VL:0.00387263 epoch time:176 seconds, lr:9.18e-04\n",
      "epoch:110/500 average TL:0.00491541 average VL:0.00368394 epoch time:175 seconds, lr:9.16e-04\n",
      "epoch:111/500 average TL:0.00475900 average VL:0.00327205 epoch time:176 seconds, lr:9.14e-04\n",
      "epoch:112/500 average TL:0.00468507 average VL:0.00354361 epoch time:175 seconds, lr:9.12e-04\n",
      "epoch:113/500 average TL:0.00458706 average VL:0.00370816 epoch time:175 seconds, lr:9.10e-04\n",
      "epoch:114/500 average TL:0.00451872 average VL:0.00358578 epoch time:175 seconds, lr:9.08e-04\n",
      "epoch:115/500 average TL:0.00453078 average VL:0.00354974 epoch time:175 seconds, lr:9.07e-04\n",
      "epoch:116/500 average TL:0.00421037 average VL:0.00307381 epoch time:175 seconds, lr:9.05e-04\n",
      "epoch:117/500 average TL:0.00428582 average VL:0.00325478 epoch time:175 seconds, lr:9.03e-04\n",
      "epoch:118/500 average TL:0.00437995 average VL:0.00343720 epoch time:175 seconds, lr:9.01e-04\n",
      "epoch:119/500 average TL:0.00430758 average VL:0.00320593 epoch time:175 seconds, lr:8.99e-04\n",
      "epoch:120/500 average TL:0.00425057 average VL:0.00328073 epoch time:175 seconds, lr:8.97e-04\n",
      "epoch:121/500 average TL:0.00408907 average VL:0.00312768 epoch time:175 seconds, lr:8.95e-04\n",
      "epoch:122/500 average TL:0.00402916 average VL:0.00337295 epoch time:175 seconds, lr:8.93e-04\n",
      "epoch:123/500 average TL:0.00401741 average VL:0.00295587 epoch time:175 seconds, lr:8.91e-04\n",
      "epoch:124/500 average TL:0.00398662 average VL:0.00308952 epoch time:175 seconds, lr:8.89e-04\n",
      "epoch:125/500 average TL:0.00376157 average VL:0.00328622 epoch time:175 seconds, lr:8.87e-04\n",
      "epoch:126/500 average TL:0.00383729 average VL:0.00299982 epoch time:175 seconds, lr:8.85e-04\n",
      "epoch:127/500 average TL:0.00386269 average VL:0.00284233 epoch time:175 seconds, lr:8.82e-04\n",
      "epoch:128/500 average TL:0.00380503 average VL:0.00288859 epoch time:175 seconds, lr:8.80e-04\n",
      "epoch:129/500 average TL:0.00363841 average VL:0.00298856 epoch time:175 seconds, lr:8.78e-04\n",
      "epoch:130/500 average TL:0.00351081 average VL:0.00301044 epoch time:175 seconds, lr:8.76e-04\n",
      "epoch:131/500 average TL:0.00360001 average VL:0.00283930 epoch time:175 seconds, lr:8.74e-04\n",
      "epoch:132/500 average TL:0.00354465 average VL:0.00257355 epoch time:175 seconds, lr:8.72e-04\n",
      "epoch:133/500 average TL:0.00362902 average VL:0.00277892 epoch time:175 seconds, lr:8.70e-04\n",
      "epoch:134/500 average TL:0.00368585 average VL:0.00277170 epoch time:175 seconds, lr:8.67e-04\n",
      "epoch:135/500 average TL:0.00360761 average VL:0.00288889 epoch time:175 seconds, lr:8.65e-04\n",
      "epoch:136/500 average TL:0.00334052 average VL:0.00297054 epoch time:175 seconds, lr:8.63e-04\n",
      "epoch:137/500 average TL:0.00352892 average VL:0.00282492 epoch time:175 seconds, lr:8.61e-04\n",
      "epoch:138/500 average TL:0.00328625 average VL:0.00255037 epoch time:175 seconds, lr:8.58e-04\n",
      "epoch:139/500 average TL:0.00316285 average VL:0.00238979 epoch time:175 seconds, lr:8.56e-04\n",
      "epoch:140/500 average TL:0.00339057 average VL:0.00258303 epoch time:175 seconds, lr:8.54e-04\n",
      "epoch:141/500 average TL:0.00324403 average VL:0.00237839 epoch time:175 seconds, lr:8.51e-04\n",
      "epoch:142/500 average TL:0.00336767 average VL:0.00253696 epoch time:175 seconds, lr:8.49e-04\n",
      "epoch:143/500 average TL:0.00327458 average VL:0.00262009 epoch time:175 seconds, lr:8.47e-04\n",
      "epoch:144/500 average TL:0.00309359 average VL:0.00301061 epoch time:175 seconds, lr:8.44e-04\n",
      "epoch:145/500 average TL:0.00324211 average VL:0.00245402 epoch time:175 seconds, lr:8.42e-04\n",
      "epoch:146/500 average TL:0.00312498 average VL:0.00257673 epoch time:175 seconds, lr:8.40e-04\n",
      "epoch:147/500 average TL:0.00310902 average VL:0.00226572 epoch time:175 seconds, lr:8.37e-04\n",
      "epoch:148/500 average TL:0.00289926 average VL:0.00220737 epoch time:175 seconds, lr:8.35e-04\n",
      "epoch:149/500 average TL:0.00302505 average VL:0.00254069 epoch time:175 seconds, lr:8.32e-04\n",
      "epoch:150/500 average TL:0.00305598 average VL:0.00226160 epoch time:175 seconds, lr:8.30e-04\n",
      "epoch:151/500 average TL:0.00300502 average VL:0.00235522 epoch time:175 seconds, lr:8.27e-04\n",
      "epoch:152/500 average TL:0.00312392 average VL:0.00236715 epoch time:175 seconds, lr:8.25e-04\n",
      "epoch:153/500 average TL:0.00288438 average VL:0.00216425 epoch time:175 seconds, lr:8.22e-04\n",
      "epoch:154/500 average TL:0.00312090 average VL:0.00210711 epoch time:175 seconds, lr:8.20e-04\n",
      "epoch:155/500 average TL:0.00270071 average VL:0.00232334 epoch time:175 seconds, lr:8.17e-04\n",
      "epoch:156/500 average TL:0.00277566 average VL:0.00220605 epoch time:175 seconds, lr:8.15e-04\n",
      "epoch:157/500 average TL:0.00288520 average VL:0.00206083 epoch time:175 seconds, lr:8.12e-04\n",
      "epoch:158/500 average TL:0.00277989 average VL:0.00217490 epoch time:176 seconds, lr:8.10e-04\n",
      "epoch:159/500 average TL:0.00287349 average VL:0.00239919 epoch time:175 seconds, lr:8.07e-04\n",
      "epoch:160/500 average TL:0.00275469 average VL:0.00216906 epoch time:175 seconds, lr:8.05e-04\n",
      "epoch:161/500 average TL:0.00270008 average VL:0.00240974 epoch time:175 seconds, lr:8.02e-04\n",
      "epoch:162/500 average TL:0.00270834 average VL:0.00227474 epoch time:175 seconds, lr:7.99e-04\n",
      "epoch:163/500 average TL:0.00263938 average VL:0.00194162 epoch time:175 seconds, lr:7.97e-04\n",
      "epoch:164/500 average TL:0.00270716 average VL:0.00190636 epoch time:175 seconds, lr:7.94e-04\n",
      "epoch:165/500 average TL:0.00261084 average VL:0.00212157 epoch time:175 seconds, lr:7.91e-04\n",
      "epoch:166/500 average TL:0.00264997 average VL:0.00199679 epoch time:176 seconds, lr:7.89e-04\n",
      "epoch:167/500 average TL:0.00259735 average VL:0.00176292 epoch time:175 seconds, lr:7.86e-04\n",
      "epoch:168/500 average TL:0.00264458 average VL:0.00188239 epoch time:176 seconds, lr:7.83e-04\n",
      "epoch:169/500 average TL:0.00263038 average VL:0.00207357 epoch time:175 seconds, lr:7.81e-04\n",
      "epoch:170/500 average TL:0.00263502 average VL:0.00196980 epoch time:176 seconds, lr:7.78e-04\n",
      "epoch:171/500 average TL:0.00242454 average VL:0.00201081 epoch time:175 seconds, lr:7.75e-04\n",
      "epoch:172/500 average TL:0.00257503 average VL:0.00175998 epoch time:175 seconds, lr:7.73e-04\n",
      "epoch:173/500 average TL:0.00239491 average VL:0.00174984 epoch time:175 seconds, lr:7.70e-04\n",
      "epoch:174/500 average TL:0.00259955 average VL:0.00188070 epoch time:175 seconds, lr:7.67e-04\n",
      "epoch:175/500 average TL:0.00261103 average VL:0.00215085 epoch time:175 seconds, lr:7.64e-04\n",
      "epoch:176/500 average TL:0.00238559 average VL:0.00182347 epoch time:175 seconds, lr:7.61e-04\n",
      "epoch:177/500 average TL:0.00252070 average VL:0.00197792 epoch time:175 seconds, lr:7.59e-04\n"
     ]
    },
    {
     "name": "stdout",
     "output_type": "stream",
     "text": [
      "epoch:178/500 average TL:0.00232496 average VL:0.00173171 epoch time:176 seconds, lr:7.56e-04\n",
      "epoch:179/500 average TL:0.00243588 average VL:0.00219865 epoch time:175 seconds, lr:7.53e-04\n",
      "epoch:180/500 average TL:0.00244086 average VL:0.00191158 epoch time:175 seconds, lr:7.50e-04\n",
      "epoch:181/500 average TL:0.00240911 average VL:0.00165442 epoch time:175 seconds, lr:7.47e-04\n",
      "epoch:182/500 average TL:0.00249491 average VL:0.00202907 epoch time:175 seconds, lr:7.45e-04\n",
      "epoch:183/500 average TL:0.00246442 average VL:0.00189208 epoch time:175 seconds, lr:7.42e-04\n",
      "epoch:184/500 average TL:0.00246136 average VL:0.00185289 epoch time:175 seconds, lr:7.39e-04\n",
      "epoch:185/500 average TL:0.00234478 average VL:0.00206695 epoch time:175 seconds, lr:7.36e-04\n",
      "epoch:186/500 average TL:0.00246447 average VL:0.00174856 epoch time:176 seconds, lr:7.33e-04\n",
      "epoch:187/500 average TL:0.00234902 average VL:0.00191998 epoch time:175 seconds, lr:7.30e-04\n",
      "epoch:188/500 average TL:0.00228330 average VL:0.00176346 epoch time:175 seconds, lr:7.27e-04\n",
      "epoch:189/500 average TL:0.00216868 average VL:0.00170437 epoch time:175 seconds, lr:7.24e-04\n",
      "epoch:190/500 average TL:0.00223293 average VL:0.00181694 epoch time:175 seconds, lr:7.21e-04\n",
      "epoch:191/500 average TL:0.00228828 average VL:0.00169183 epoch time:175 seconds, lr:7.18e-04\n",
      "epoch:192/500 average TL:0.00234716 average VL:0.00161752 epoch time:175 seconds, lr:7.16e-04\n",
      "epoch:193/500 average TL:0.00231323 average VL:0.00189825 epoch time:175 seconds, lr:7.13e-04\n",
      "epoch:194/500 average TL:0.00225635 average VL:0.00177050 epoch time:175 seconds, lr:7.10e-04\n",
      "epoch:195/500 average TL:0.00216237 average VL:0.00174075 epoch time:175 seconds, lr:7.07e-04\n",
      "epoch:196/500 average TL:0.00213749 average VL:0.00145632 epoch time:175 seconds, lr:7.04e-04\n",
      "epoch:197/500 average TL:0.00203569 average VL:0.00152794 epoch time:176 seconds, lr:7.01e-04\n",
      "epoch:198/500 average TL:0.00206818 average VL:0.00193528 epoch time:175 seconds, lr:6.98e-04\n",
      "epoch:199/500 average TL:0.00213493 average VL:0.00161788 epoch time:175 seconds, lr:6.95e-04\n",
      "epoch:200/500 average TL:0.00219105 average VL:0.00153982 epoch time:175 seconds, lr:6.92e-04\n",
      "epoch:201/500 average TL:0.00227054 average VL:0.00181028 epoch time:175 seconds, lr:6.89e-04\n",
      "epoch:202/500 average TL:0.00206270 average VL:0.00170523 epoch time:175 seconds, lr:6.86e-04\n",
      "epoch:203/500 average TL:0.00198577 average VL:0.00160788 epoch time:175 seconds, lr:6.83e-04\n",
      "epoch:204/500 average TL:0.00218372 average VL:0.00161054 epoch time:175 seconds, lr:6.80e-04\n",
      "epoch:205/500 average TL:0.00215356 average VL:0.00159308 epoch time:175 seconds, lr:6.76e-04\n",
      "epoch:206/500 average TL:0.00227757 average VL:0.00161561 epoch time:175 seconds, lr:6.73e-04\n",
      "epoch:207/500 average TL:0.00202113 average VL:0.00162856 epoch time:175 seconds, lr:6.70e-04\n",
      "epoch:208/500 average TL:0.00187084 average VL:0.00153057 epoch time:175 seconds, lr:6.67e-04\n",
      "epoch:209/500 average TL:0.00188692 average VL:0.00142126 epoch time:175 seconds, lr:6.64e-04\n",
      "epoch:210/500 average TL:0.00210145 average VL:0.00149886 epoch time:175 seconds, lr:6.61e-04\n",
      "epoch:211/500 average TL:0.00212208 average VL:0.00152408 epoch time:175 seconds, lr:6.58e-04\n",
      "epoch:212/500 average TL:0.00202076 average VL:0.00164883 epoch time:175 seconds, lr:6.55e-04\n",
      "epoch:213/500 average TL:0.00196010 average VL:0.00156528 epoch time:175 seconds, lr:6.52e-04\n",
      "epoch:214/500 average TL:0.00185155 average VL:0.00176254 epoch time:175 seconds, lr:6.49e-04\n",
      "epoch:215/500 average TL:0.00210550 average VL:0.00145477 epoch time:176 seconds, lr:6.45e-04\n",
      "epoch:216/500 average TL:0.00203814 average VL:0.00158739 epoch time:175 seconds, lr:6.42e-04\n",
      "epoch:217/500 average TL:0.00195071 average VL:0.00144075 epoch time:175 seconds, lr:6.39e-04\n",
      "epoch:218/500 average TL:0.00188714 average VL:0.00176769 epoch time:175 seconds, lr:6.36e-04\n",
      "epoch:219/500 average TL:0.00191943 average VL:0.00131104 epoch time:175 seconds, lr:6.33e-04\n",
      "epoch:220/500 average TL:0.00199069 average VL:0.00148201 epoch time:175 seconds, lr:6.30e-04\n",
      "epoch:221/500 average TL:0.00187083 average VL:0.00139875 epoch time:175 seconds, lr:6.27e-04\n",
      "epoch:222/500 average TL:0.00204207 average VL:0.00160244 epoch time:175 seconds, lr:6.23e-04\n",
      "epoch:223/500 average TL:0.00192315 average VL:0.00150937 epoch time:175 seconds, lr:6.20e-04\n",
      "epoch:224/500 average TL:0.00177248 average VL:0.00159618 epoch time:175 seconds, lr:6.17e-04\n",
      "epoch:225/500 average TL:0.00189659 average VL:0.00152962 epoch time:175 seconds, lr:6.14e-04\n",
      "epoch:226/500 average TL:0.00186957 average VL:0.00140557 epoch time:175 seconds, lr:6.11e-04\n",
      "epoch:227/500 average TL:0.00183828 average VL:0.00162362 epoch time:175 seconds, lr:6.08e-04\n",
      "epoch:228/500 average TL:0.00194127 average VL:0.00149007 epoch time:175 seconds, lr:6.04e-04\n",
      "epoch:229/500 average TL:0.00184940 average VL:0.00137239 epoch time:175 seconds, lr:6.01e-04\n",
      "epoch:230/500 average TL:0.00191082 average VL:0.00133396 epoch time:175 seconds, lr:5.98e-04\n",
      "epoch:231/500 average TL:0.00167317 average VL:0.00139228 epoch time:175 seconds, lr:5.95e-04\n",
      "epoch:232/500 average TL:0.00171052 average VL:0.00149650 epoch time:175 seconds, lr:5.92e-04\n",
      "epoch:233/500 average TL:0.00187232 average VL:0.00174617 epoch time:175 seconds, lr:5.88e-04\n",
      "epoch:234/500 average TL:0.00186815 average VL:0.00136944 epoch time:175 seconds, lr:5.85e-04\n",
      "epoch:235/500 average TL:0.00174853 average VL:0.00169489 epoch time:175 seconds, lr:5.82e-04\n",
      "epoch:236/500 average TL:0.00176086 average VL:0.00139524 epoch time:175 seconds, lr:5.79e-04\n",
      "epoch:237/500 average TL:0.00192597 average VL:0.00121325 epoch time:175 seconds, lr:5.75e-04\n",
      "epoch:238/500 average TL:0.00176578 average VL:0.00158446 epoch time:175 seconds, lr:5.72e-04\n",
      "epoch:239/500 average TL:0.00189447 average VL:0.00128636 epoch time:175 seconds, lr:5.69e-04\n",
      "epoch:240/500 average TL:0.00176626 average VL:0.00122734 epoch time:176 seconds, lr:5.66e-04\n",
      "epoch:241/500 average TL:0.00160851 average VL:0.00141988 epoch time:175 seconds, lr:5.62e-04\n",
      "epoch:242/500 average TL:0.00176665 average VL:0.00146236 epoch time:175 seconds, lr:5.59e-04\n",
      "epoch:243/500 average TL:0.00172861 average VL:0.00116763 epoch time:175 seconds, lr:5.56e-04\n",
      "epoch:244/500 average TL:0.00183771 average VL:0.00140736 epoch time:175 seconds, lr:5.53e-04\n",
      "epoch:245/500 average TL:0.00167166 average VL:0.00121537 epoch time:175 seconds, lr:5.49e-04\n",
      "epoch:246/500 average TL:0.00173867 average VL:0.00133070 epoch time:175 seconds, lr:5.46e-04\n",
      "epoch:247/500 average TL:0.00178054 average VL:0.00137902 epoch time:175 seconds, lr:5.43e-04\n",
      "epoch:248/500 average TL:0.00170773 average VL:0.00154842 epoch time:175 seconds, lr:5.40e-04\n",
      "epoch:249/500 average TL:0.00177281 average VL:0.00126172 epoch time:175 seconds, lr:5.36e-04\n",
      "epoch:250/500 average TL:0.00169402 average VL:0.00127032 epoch time:175 seconds, lr:5.33e-04\n",
      "epoch:251/500 average TL:0.00161520 average VL:0.00154303 epoch time:175 seconds, lr:5.30e-04\n",
      "epoch:252/500 average TL:0.00162860 average VL:0.00129367 epoch time:176 seconds, lr:5.27e-04\n",
      "epoch:253/500 average TL:0.00164611 average VL:0.00104813 epoch time:175 seconds, lr:5.23e-04\n",
      "epoch:254/500 average TL:0.00170493 average VL:0.00136275 epoch time:175 seconds, lr:5.20e-04\n",
      "epoch:255/500 average TL:0.00164807 average VL:0.00120294 epoch time:175 seconds, lr:5.17e-04\n",
      "epoch:256/500 average TL:0.00156763 average VL:0.00136900 epoch time:176 seconds, lr:5.14e-04\n",
      "epoch:257/500 average TL:0.00166896 average VL:0.00140964 epoch time:176 seconds, lr:5.10e-04\n",
      "epoch:258/500 average TL:0.00168952 average VL:0.00115088 epoch time:175 seconds, lr:5.07e-04\n",
      "epoch:259/500 average TL:0.00166352 average VL:0.00134094 epoch time:175 seconds, lr:5.04e-04\n",
      "epoch:260/500 average TL:0.00143840 average VL:0.00141101 epoch time:175 seconds, lr:5.01e-04\n",
      "epoch:261/500 average TL:0.00157734 average VL:0.00129299 epoch time:176 seconds, lr:4.97e-04\n",
      "epoch:262/500 average TL:0.00160035 average VL:0.00114165 epoch time:175 seconds, lr:4.94e-04\n",
      "epoch:263/500 average TL:0.00160739 average VL:0.00119144 epoch time:175 seconds, lr:4.91e-04\n",
      "epoch:264/500 average TL:0.00157828 average VL:0.00127640 epoch time:176 seconds, lr:4.87e-04\n",
      "epoch:265/500 average TL:0.00162004 average VL:0.00126520 epoch time:175 seconds, lr:4.84e-04\n"
     ]
    },
    {
     "name": "stdout",
     "output_type": "stream",
     "text": [
      "epoch:266/500 average TL:0.00171564 average VL:0.00115310 epoch time:175 seconds, lr:4.81e-04\n",
      "epoch:267/500 average TL:0.00164394 average VL:0.00105063 epoch time:175 seconds, lr:4.78e-04\n",
      "epoch:268/500 average TL:0.00169044 average VL:0.00124915 epoch time:175 seconds, lr:4.74e-04\n",
      "epoch:269/500 average TL:0.00166950 average VL:0.00117192 epoch time:176 seconds, lr:4.71e-04\n",
      "epoch:270/500 average TL:0.00151200 average VL:0.00108888 epoch time:175 seconds, lr:4.68e-04\n",
      "epoch:271/500 average TL:0.00152840 average VL:0.00091981 epoch time:175 seconds, lr:4.65e-04\n",
      "epoch:272/500 average TL:0.00156694 average VL:0.00133539 epoch time:175 seconds, lr:4.61e-04\n",
      "epoch:273/500 average TL:0.00159282 average VL:0.00109957 epoch time:175 seconds, lr:4.58e-04\n",
      "epoch:274/500 average TL:0.00175495 average VL:0.00135620 epoch time:175 seconds, lr:4.55e-04\n",
      "epoch:275/500 average TL:0.00149707 average VL:0.00117101 epoch time:175 seconds, lr:4.52e-04\n",
      "epoch:276/500 average TL:0.00171909 average VL:0.00137659 epoch time:175 seconds, lr:4.48e-04\n",
      "epoch:277/500 average TL:0.00155071 average VL:0.00121666 epoch time:175 seconds, lr:4.45e-04\n",
      "epoch:278/500 average TL:0.00153712 average VL:0.00119872 epoch time:175 seconds, lr:4.42e-04\n",
      "epoch:279/500 average TL:0.00165391 average VL:0.00122958 epoch time:176 seconds, lr:4.39e-04\n",
      "epoch:280/500 average TL:0.00151278 average VL:0.00116422 epoch time:175 seconds, lr:4.35e-04\n",
      "epoch:281/500 average TL:0.00147213 average VL:0.00127234 epoch time:175 seconds, lr:4.32e-04\n",
      "epoch:282/500 average TL:0.00154084 average VL:0.00124691 epoch time:175 seconds, lr:4.29e-04\n",
      "epoch:283/500 average TL:0.00173581 average VL:0.00140484 epoch time:175 seconds, lr:4.26e-04\n",
      "epoch:284/500 average TL:0.00157891 average VL:0.00124139 epoch time:175 seconds, lr:4.22e-04\n",
      "epoch:285/500 average TL:0.00132455 average VL:0.00119184 epoch time:175 seconds, lr:4.19e-04\n",
      "epoch:286/500 average TL:0.00149100 average VL:0.00115716 epoch time:175 seconds, lr:4.16e-04\n",
      "epoch:287/500 average TL:0.00156162 average VL:0.00111173 epoch time:175 seconds, lr:4.13e-04\n",
      "epoch:288/500 average TL:0.00143567 average VL:0.00119189 epoch time:175 seconds, lr:4.09e-04\n",
      "epoch:289/500 average TL:0.00149815 average VL:0.00118151 epoch time:175 seconds, lr:4.06e-04\n",
      "epoch:290/500 average TL:0.00152971 average VL:0.00120629 epoch time:175 seconds, lr:4.03e-04\n",
      "epoch:291/500 average TL:0.00154814 average VL:0.00118266 epoch time:175 seconds, lr:4.00e-04\n",
      "epoch:292/500 average TL:0.00148151 average VL:0.00106436 epoch time:175 seconds, lr:3.97e-04\n",
      "epoch:293/500 average TL:0.00142035 average VL:0.00103751 epoch time:175 seconds, lr:3.93e-04\n",
      "epoch:294/500 average TL:0.00145034 average VL:0.00117630 epoch time:175 seconds, lr:3.90e-04\n",
      "epoch:295/500 average TL:0.00148051 average VL:0.00110835 epoch time:175 seconds, lr:3.87e-04\n",
      "epoch:296/500 average TL:0.00146481 average VL:0.00104014 epoch time:176 seconds, lr:3.84e-04\n",
      "epoch:297/500 average TL:0.00142823 average VL:0.00133655 epoch time:175 seconds, lr:3.81e-04\n",
      "epoch:298/500 average TL:0.00154822 average VL:0.00096578 epoch time:175 seconds, lr:3.78e-04\n",
      "epoch:299/500 average TL:0.00152515 average VL:0.00110754 epoch time:175 seconds, lr:3.74e-04\n",
      "epoch:300/500 average TL:0.00149797 average VL:0.00126859 epoch time:175 seconds, lr:3.71e-04\n",
      "epoch:301/500 average TL:0.00140580 average VL:0.00103543 epoch time:175 seconds, lr:3.68e-04\n",
      "epoch:302/500 average TL:0.00138237 average VL:0.00094590 epoch time:175 seconds, lr:3.65e-04\n",
      "epoch:303/500 average TL:0.00139706 average VL:0.00123762 epoch time:176 seconds, lr:3.62e-04\n",
      "epoch:304/500 average TL:0.00144316 average VL:0.00098423 epoch time:175 seconds, lr:3.59e-04\n",
      "epoch:305/500 average TL:0.00141817 average VL:0.00113212 epoch time:175 seconds, lr:3.56e-04\n",
      "epoch:306/500 average TL:0.00145980 average VL:0.00116490 epoch time:175 seconds, lr:3.52e-04\n",
      "epoch:307/500 average TL:0.00151781 average VL:0.00116789 epoch time:175 seconds, lr:3.49e-04\n",
      "epoch:308/500 average TL:0.00142092 average VL:0.00113913 epoch time:175 seconds, lr:3.46e-04\n",
      "epoch:309/500 average TL:0.00133900 average VL:0.00115074 epoch time:175 seconds, lr:3.43e-04\n",
      "epoch:310/500 average TL:0.00157719 average VL:0.00094990 epoch time:175 seconds, lr:3.40e-04\n",
      "epoch:311/500 average TL:0.00145941 average VL:0.00114233 epoch time:175 seconds, lr:3.37e-04\n",
      "epoch:312/500 average TL:0.00147309 average VL:0.00101247 epoch time:175 seconds, lr:3.34e-04\n",
      "epoch:313/500 average TL:0.00139666 average VL:0.00120873 epoch time:175 seconds, lr:3.31e-04\n",
      "epoch:314/500 average TL:0.00132280 average VL:0.00105426 epoch time:175 seconds, lr:3.28e-04\n",
      "epoch:315/500 average TL:0.00138312 average VL:0.00121134 epoch time:175 seconds, lr:3.25e-04\n",
      "epoch:316/500 average TL:0.00147613 average VL:0.00113621 epoch time:176 seconds, lr:3.21e-04\n",
      "epoch:317/500 average TL:0.00143497 average VL:0.00100197 epoch time:175 seconds, lr:3.18e-04\n",
      "epoch:318/500 average TL:0.00137393 average VL:0.00127968 epoch time:175 seconds, lr:3.15e-04\n",
      "epoch:319/500 average TL:0.00139178 average VL:0.00110915 epoch time:175 seconds, lr:3.12e-04\n",
      "epoch:320/500 average TL:0.00130528 average VL:0.00108119 epoch time:175 seconds, lr:3.09e-04\n",
      "epoch:321/500 average TL:0.00136010 average VL:0.00103991 epoch time:175 seconds, lr:3.06e-04\n",
      "epoch:322/500 average TL:0.00129982 average VL:0.00091862 epoch time:175 seconds, lr:3.03e-04\n",
      "epoch:323/500 average TL:0.00138493 average VL:0.00119320 epoch time:175 seconds, lr:3.00e-04\n",
      "epoch:324/500 average TL:0.00140914 average VL:0.00094461 epoch time:175 seconds, lr:2.97e-04\n",
      "epoch:325/500 average TL:0.00151177 average VL:0.00114589 epoch time:175 seconds, lr:2.94e-04\n",
      "epoch:326/500 average TL:0.00146500 average VL:0.00110463 epoch time:175 seconds, lr:2.91e-04\n",
      "epoch:327/500 average TL:0.00138887 average VL:0.00115211 epoch time:175 seconds, lr:2.88e-04\n",
      "epoch:328/500 average TL:0.00145778 average VL:0.00105062 epoch time:175 seconds, lr:2.85e-04\n",
      "epoch:329/500 average TL:0.00129921 average VL:0.00107296 epoch time:175 seconds, lr:2.83e-04\n",
      "epoch:330/500 average TL:0.00132109 average VL:0.00097323 epoch time:175 seconds, lr:2.80e-04\n",
      "epoch:331/500 average TL:0.00134514 average VL:0.00101241 epoch time:175 seconds, lr:2.77e-04\n",
      "epoch:332/500 average TL:0.00148742 average VL:0.00102701 epoch time:175 seconds, lr:2.74e-04\n",
      "epoch:333/500 average TL:0.00138721 average VL:0.00104662 epoch time:175 seconds, lr:2.71e-04\n",
      "epoch:334/500 average TL:0.00137501 average VL:0.00112414 epoch time:175 seconds, lr:2.68e-04\n",
      "epoch:335/500 average TL:0.00138100 average VL:0.00099238 epoch time:176 seconds, lr:2.65e-04\n",
      "epoch:336/500 average TL:0.00129205 average VL:0.00100126 epoch time:175 seconds, lr:2.62e-04\n",
      "epoch:337/500 average TL:0.00136288 average VL:0.00098741 epoch time:175 seconds, lr:2.59e-04\n",
      "epoch:338/500 average TL:0.00128546 average VL:0.00092328 epoch time:176 seconds, lr:2.56e-04\n",
      "epoch:339/500 average TL:0.00133898 average VL:0.00093102 epoch time:175 seconds, lr:2.54e-04\n",
      "epoch:340/500 average TL:0.00133220 average VL:0.00091313 epoch time:175 seconds, lr:2.51e-04\n",
      "epoch:341/500 average TL:0.00132942 average VL:0.00087089 epoch time:175 seconds, lr:2.48e-04\n",
      "epoch:342/500 average TL:0.00123844 average VL:0.00094202 epoch time:176 seconds, lr:2.45e-04\n",
      "epoch:343/500 average TL:0.00134881 average VL:0.00100994 epoch time:175 seconds, lr:2.42e-04\n",
      "epoch:344/500 average TL:0.00146160 average VL:0.00126218 epoch time:175 seconds, lr:2.40e-04\n",
      "epoch:345/500 average TL:0.00140043 average VL:0.00094961 epoch time:175 seconds, lr:2.37e-04\n",
      "epoch:346/500 average TL:0.00136541 average VL:0.00100882 epoch time:175 seconds, lr:2.34e-04\n",
      "epoch:347/500 average TL:0.00129088 average VL:0.00103398 epoch time:176 seconds, lr:2.31e-04\n",
      "epoch:348/500 average TL:0.00128734 average VL:0.00109014 epoch time:176 seconds, lr:2.28e-04\n",
      "epoch:349/500 average TL:0.00127183 average VL:0.00096028 epoch time:175 seconds, lr:2.26e-04\n",
      "epoch:350/500 average TL:0.00123121 average VL:0.00103780 epoch time:176 seconds, lr:2.23e-04\n",
      "epoch:351/500 average TL:0.00142388 average VL:0.00091047 epoch time:175 seconds, lr:2.20e-04\n",
      "epoch:352/500 average TL:0.00129696 average VL:0.00127993 epoch time:176 seconds, lr:2.18e-04\n",
      "epoch:353/500 average TL:0.00131778 average VL:0.00092375 epoch time:176 seconds, lr:2.15e-04\n"
     ]
    },
    {
     "name": "stdout",
     "output_type": "stream",
     "text": [
      "epoch:354/500 average TL:0.00140014 average VL:0.00096672 epoch time:175 seconds, lr:2.12e-04\n",
      "epoch:355/500 average TL:0.00133396 average VL:0.00080503 epoch time:176 seconds, lr:2.10e-04\n",
      "epoch:356/500 average TL:0.00126318 average VL:0.00094375 epoch time:175 seconds, lr:2.07e-04\n",
      "epoch:357/500 average TL:0.00130023 average VL:0.00106800 epoch time:176 seconds, lr:2.04e-04\n",
      "epoch:358/500 average TL:0.00122956 average VL:0.00086837 epoch time:176 seconds, lr:2.02e-04\n",
      "epoch:359/500 average TL:0.00129577 average VL:0.00116708 epoch time:175 seconds, lr:1.99e-04\n",
      "epoch:360/500 average TL:0.00129611 average VL:0.00115409 epoch time:176 seconds, lr:1.96e-04\n",
      "epoch:361/500 average TL:0.00117141 average VL:0.00100943 epoch time:175 seconds, lr:1.94e-04\n",
      "epoch:362/500 average TL:0.00114872 average VL:0.00100334 epoch time:176 seconds, lr:1.91e-04\n",
      "epoch:363/500 average TL:0.00130020 average VL:0.00091820 epoch time:176 seconds, lr:1.89e-04\n",
      "epoch:364/500 average TL:0.00124499 average VL:0.00093652 epoch time:175 seconds, lr:1.86e-04\n",
      "epoch:365/500 average TL:0.00129402 average VL:0.00092241 epoch time:176 seconds, lr:1.84e-04\n",
      "epoch:366/500 average TL:0.00115104 average VL:0.00098690 epoch time:175 seconds, lr:1.81e-04\n",
      "epoch:367/500 average TL:0.00122934 average VL:0.00094288 epoch time:176 seconds, lr:1.79e-04\n",
      "epoch:368/500 average TL:0.00120118 average VL:0.00107646 epoch time:175 seconds, lr:1.76e-04\n",
      "epoch:369/500 average TL:0.00127967 average VL:0.00105938 epoch time:176 seconds, lr:1.74e-04\n",
      "epoch:370/500 average TL:0.00127816 average VL:0.00106425 epoch time:176 seconds, lr:1.71e-04\n",
      "epoch:371/500 average TL:0.00123407 average VL:0.00110726 epoch time:175 seconds, lr:1.69e-04\n",
      "epoch:372/500 average TL:0.00120104 average VL:0.00094923 epoch time:176 seconds, lr:1.66e-04\n",
      "epoch:373/500 average TL:0.00119995 average VL:0.00089325 epoch time:175 seconds, lr:1.64e-04\n",
      "epoch:374/500 average TL:0.00129637 average VL:0.00099306 epoch time:176 seconds, lr:1.61e-04\n",
      "epoch:375/500 average TL:0.00122535 average VL:0.00106021 epoch time:176 seconds, lr:1.59e-04\n",
      "epoch:376/500 average TL:0.00128651 average VL:0.00080483 epoch time:175 seconds, lr:1.57e-04\n",
      "epoch:377/500 average TL:0.00126162 average VL:0.00106340 epoch time:176 seconds, lr:1.54e-04\n",
      "epoch:378/500 average TL:0.00130530 average VL:0.00092638 epoch time:175 seconds, lr:1.52e-04\n",
      "epoch:379/500 average TL:0.00120160 average VL:0.00096649 epoch time:176 seconds, lr:1.50e-04\n",
      "epoch:380/500 average TL:0.00133553 average VL:0.00114518 epoch time:175 seconds, lr:1.47e-04\n",
      "epoch:381/500 average TL:0.00123470 average VL:0.00103151 epoch time:175 seconds, lr:1.45e-04\n",
      "epoch:382/500 average TL:0.00114996 average VL:0.00104230 epoch time:176 seconds, lr:1.43e-04\n",
      "epoch:383/500 average TL:0.00121142 average VL:0.00082396 epoch time:175 seconds, lr:1.40e-04\n",
      "epoch:384/500 average TL:0.00118847 average VL:0.00101397 epoch time:176 seconds, lr:1.38e-04\n",
      "epoch:385/500 average TL:0.00123210 average VL:0.00087301 epoch time:175 seconds, lr:1.36e-04\n",
      "epoch:386/500 average TL:0.00133320 average VL:0.00082843 epoch time:176 seconds, lr:1.34e-04\n",
      "epoch:387/500 average TL:0.00129543 average VL:0.00087522 epoch time:176 seconds, lr:1.31e-04\n",
      "epoch:388/500 average TL:0.00120853 average VL:0.00116002 epoch time:175 seconds, lr:1.29e-04\n",
      "epoch:389/500 average TL:0.00120022 average VL:0.00090926 epoch time:176 seconds, lr:1.27e-04\n",
      "epoch:390/500 average TL:0.00127052 average VL:0.00090456 epoch time:175 seconds, lr:1.25e-04\n",
      "epoch:391/500 average TL:0.00127028 average VL:0.00093177 epoch time:175 seconds, lr:1.23e-04\n",
      "epoch:392/500 average TL:0.00118724 average VL:0.00070373 epoch time:176 seconds, lr:1.21e-04\n",
      "epoch:393/500 average TL:0.00127161 average VL:0.00081649 epoch time:175 seconds, lr:1.19e-04\n",
      "epoch:394/500 average TL:0.00137089 average VL:0.00094138 epoch time:176 seconds, lr:1.16e-04\n",
      "epoch:395/500 average TL:0.00121041 average VL:0.00087593 epoch time:175 seconds, lr:1.14e-04\n",
      "epoch:396/500 average TL:0.00117110 average VL:0.00104851 epoch time:176 seconds, lr:1.12e-04\n",
      "epoch:397/500 average TL:0.00113520 average VL:0.00107887 epoch time:176 seconds, lr:1.10e-04\n",
      "epoch:398/500 average TL:0.00125579 average VL:0.00076107 epoch time:175 seconds, lr:1.08e-04\n",
      "epoch:399/500 average TL:0.00112167 average VL:0.00087500 epoch time:176 seconds, lr:1.06e-04\n",
      "epoch:400/500 average TL:0.00123931 average VL:0.00078571 epoch time:175 seconds, lr:1.04e-04\n",
      "epoch:401/500 average TL:0.00120525 average VL:0.00091525 epoch time:175 seconds, lr:1.02e-04\n",
      "epoch:402/500 average TL:0.00121968 average VL:0.00077707 epoch time:176 seconds, lr:1.00e-04\n",
      "epoch:403/500 average TL:0.00126703 average VL:0.00093340 epoch time:175 seconds, lr:9.83e-05\n",
      "epoch:404/500 average TL:0.00122803 average VL:0.00061839 epoch time:176 seconds, lr:9.64e-05\n",
      "epoch:405/500 average TL:0.00122892 average VL:0.00111770 epoch time:175 seconds, lr:9.45e-05\n",
      "epoch:406/500 average TL:0.00121234 average VL:0.00102613 epoch time:175 seconds, lr:9.26e-05\n",
      "epoch:407/500 average TL:0.00125532 average VL:0.00094052 epoch time:176 seconds, lr:9.07e-05\n",
      "epoch:408/500 average TL:0.00118861 average VL:0.00092397 epoch time:175 seconds, lr:8.88e-05\n",
      "epoch:409/500 average TL:0.00113492 average VL:0.00086357 epoch time:176 seconds, lr:8.70e-05\n",
      "epoch:410/500 average TL:0.00119199 average VL:0.00090053 epoch time:175 seconds, lr:8.52e-05\n",
      "epoch:411/500 average TL:0.00119299 average VL:0.00092288 epoch time:176 seconds, lr:8.34e-05\n",
      "epoch:412/500 average TL:0.00128947 average VL:0.00112141 epoch time:175 seconds, lr:8.16e-05\n",
      "epoch:413/500 average TL:0.00121031 average VL:0.00102248 epoch time:176 seconds, lr:7.98e-05\n",
      "epoch:414/500 average TL:0.00110769 average VL:0.00076605 epoch time:176 seconds, lr:7.81e-05\n",
      "epoch:415/500 average TL:0.00129491 average VL:0.00103964 epoch time:175 seconds, lr:7.63e-05\n",
      "epoch:416/500 average TL:0.00131797 average VL:0.00099341 epoch time:176 seconds, lr:7.46e-05\n",
      "epoch:417/500 average TL:0.00116215 average VL:0.00098197 epoch time:175 seconds, lr:7.29e-05\n",
      "epoch:418/500 average TL:0.00116976 average VL:0.00082965 epoch time:176 seconds, lr:7.12e-05\n",
      "epoch:419/500 average TL:0.00125200 average VL:0.00094561 epoch time:175 seconds, lr:6.96e-05\n",
      "epoch:420/500 average TL:0.00113528 average VL:0.00095862 epoch time:175 seconds, lr:6.79e-05\n",
      "epoch:421/500 average TL:0.00106055 average VL:0.00091966 epoch time:176 seconds, lr:6.63e-05\n",
      "epoch:422/500 average TL:0.00113870 average VL:0.00094223 epoch time:175 seconds, lr:6.47e-05\n",
      "epoch:423/500 average TL:0.00118228 average VL:0.00099168 epoch time:176 seconds, lr:6.31e-05\n",
      "epoch:424/500 average TL:0.00117223 average VL:0.00092030 epoch time:175 seconds, lr:6.15e-05\n",
      "epoch:425/500 average TL:0.00116738 average VL:0.00076324 epoch time:176 seconds, lr:6.00e-05\n",
      "epoch:426/500 average TL:0.00122493 average VL:0.00092868 epoch time:176 seconds, lr:5.84e-05\n",
      "epoch:427/500 average TL:0.00122962 average VL:0.00106331 epoch time:175 seconds, lr:5.69e-05\n",
      "epoch:428/500 average TL:0.00118191 average VL:0.00100651 epoch time:175 seconds, lr:5.54e-05\n",
      "epoch:429/500 average TL:0.00117661 average VL:0.00111965 epoch time:175 seconds, lr:5.40e-05\n",
      "epoch:430/500 average TL:0.00119010 average VL:0.00085927 epoch time:175 seconds, lr:5.25e-05\n",
      "epoch:431/500 average TL:0.00116816 average VL:0.00103832 epoch time:176 seconds, lr:5.11e-05\n",
      "epoch:432/500 average TL:0.00117877 average VL:0.00107824 epoch time:175 seconds, lr:4.97e-05\n",
      "epoch:433/500 average TL:0.00123838 average VL:0.00083027 epoch time:176 seconds, lr:4.83e-05\n",
      "epoch:434/500 average TL:0.00125612 average VL:0.00118925 epoch time:175 seconds, lr:4.69e-05\n",
      "epoch:435/500 average TL:0.00109210 average VL:0.00102443 epoch time:176 seconds, lr:4.55e-05\n",
      "epoch:436/500 average TL:0.00108232 average VL:0.00090635 epoch time:176 seconds, lr:4.42e-05\n",
      "epoch:437/500 average TL:0.00123289 average VL:0.00090718 epoch time:175 seconds, lr:4.29e-05\n",
      "epoch:438/500 average TL:0.00113771 average VL:0.00102953 epoch time:175 seconds, lr:4.16e-05\n",
      "epoch:439/500 average TL:0.00119552 average VL:0.00080376 epoch time:175 seconds, lr:4.03e-05\n",
      "epoch:440/500 average TL:0.00120183 average VL:0.00081799 epoch time:176 seconds, lr:3.90e-05\n",
      "epoch:441/500 average TL:0.00107042 average VL:0.00070365 epoch time:176 seconds, lr:3.78e-05\n"
     ]
    },
    {
     "name": "stdout",
     "output_type": "stream",
     "text": [
      "epoch:442/500 average TL:0.00121077 average VL:0.00116345 epoch time:175 seconds, lr:3.66e-05\n",
      "epoch:443/500 average TL:0.00116907 average VL:0.00089043 epoch time:176 seconds, lr:3.54e-05\n",
      "epoch:444/500 average TL:0.00126823 average VL:0.00096181 epoch time:175 seconds, lr:3.42e-05\n",
      "epoch:445/500 average TL:0.00115962 average VL:0.00088543 epoch time:176 seconds, lr:3.30e-05\n",
      "epoch:446/500 average TL:0.00113326 average VL:0.00101745 epoch time:175 seconds, lr:3.19e-05\n",
      "epoch:447/500 average TL:0.00115188 average VL:0.00108558 epoch time:175 seconds, lr:3.08e-05\n",
      "epoch:448/500 average TL:0.00110071 average VL:0.00086997 epoch time:175 seconds, lr:2.97e-05\n",
      "epoch:449/500 average TL:0.00128961 average VL:0.00091562 epoch time:175 seconds, lr:2.86e-05\n",
      "epoch:450/500 average TL:0.00105032 average VL:0.00092754 epoch time:176 seconds, lr:2.75e-05\n",
      "epoch:451/500 average TL:0.00127487 average VL:0.00087828 epoch time:176 seconds, lr:2.65e-05\n",
      "epoch:452/500 average TL:0.00118934 average VL:0.00106628 epoch time:175 seconds, lr:2.54e-05\n",
      "epoch:453/500 average TL:0.00109606 average VL:0.00111887 epoch time:176 seconds, lr:2.44e-05\n",
      "epoch:454/500 average TL:0.00118524 average VL:0.00094915 epoch time:175 seconds, lr:2.35e-05\n",
      "epoch:455/500 average TL:0.00122253 average VL:0.00098288 epoch time:176 seconds, lr:2.25e-05\n",
      "epoch:456/500 average TL:0.00124210 average VL:0.00094569 epoch time:175 seconds, lr:2.16e-05\n",
      "epoch:457/500 average TL:0.00123186 average VL:0.00093639 epoch time:176 seconds, lr:2.07e-05\n",
      "epoch:458/500 average TL:0.00109797 average VL:0.00082751 epoch time:176 seconds, lr:1.98e-05\n",
      "epoch:459/500 average TL:0.00105447 average VL:0.00095648 epoch time:175 seconds, lr:1.89e-05\n",
      "epoch:460/500 average TL:0.00120151 average VL:0.00095172 epoch time:176 seconds, lr:1.80e-05\n",
      "epoch:461/500 average TL:0.00125769 average VL:0.00085317 epoch time:175 seconds, lr:1.72e-05\n",
      "epoch:462/500 average TL:0.00122778 average VL:0.00082538 epoch time:176 seconds, lr:1.64e-05\n",
      "epoch:463/500 average TL:0.00118876 average VL:0.00089384 epoch time:175 seconds, lr:1.56e-05\n",
      "epoch:464/500 average TL:0.00120266 average VL:0.00088985 epoch time:175 seconds, lr:1.48e-05\n",
      "epoch:465/500 average TL:0.00116543 average VL:0.00073538 epoch time:175 seconds, lr:1.40e-05\n",
      "epoch:466/500 average TL:0.00124357 average VL:0.00096033 epoch time:175 seconds, lr:1.33e-05\n",
      "epoch:467/500 average TL:0.00111345 average VL:0.00084465 epoch time:176 seconds, lr:1.26e-05\n",
      "epoch:468/500 average TL:0.00122058 average VL:0.00077956 epoch time:175 seconds, lr:1.19e-05\n",
      "epoch:469/500 average TL:0.00113879 average VL:0.00080570 epoch time:175 seconds, lr:1.12e-05\n",
      "epoch:470/500 average TL:0.00104964 average VL:0.00072109 epoch time:175 seconds, lr:1.06e-05\n",
      "epoch:471/500 average TL:0.00124468 average VL:0.00091136 epoch time:175 seconds, lr:9.97e-06\n",
      "epoch:472/500 average TL:0.00110583 average VL:0.00093038 epoch time:175 seconds, lr:9.36e-06\n",
      "epoch:473/500 average TL:0.00109681 average VL:0.00069263 epoch time:175 seconds, lr:8.78e-06\n",
      "epoch:474/500 average TL:0.00120670 average VL:0.00090271 epoch time:175 seconds, lr:8.21e-06\n",
      "epoch:475/500 average TL:0.00124937 average VL:0.00090879 epoch time:175 seconds, lr:7.67e-06\n",
      "epoch:476/500 average TL:0.00114698 average VL:0.00081470 epoch time:175 seconds, lr:7.15e-06\n",
      "epoch:477/500 average TL:0.00113174 average VL:0.00092986 epoch time:175 seconds, lr:6.65e-06\n",
      "epoch:478/500 average TL:0.00133556 average VL:0.00086218 epoch time:175 seconds, lr:6.17e-06\n",
      "epoch:479/500 average TL:0.00109198 average VL:0.00095199 epoch time:175 seconds, lr:5.71e-06\n",
      "epoch:480/500 average TL:0.00109389 average VL:0.00081096 epoch time:176 seconds, lr:5.27e-06\n",
      "epoch:481/500 average TL:0.00134493 average VL:0.00089611 epoch time:175 seconds, lr:4.86e-06\n",
      "epoch:482/500 average TL:0.00123834 average VL:0.00095281 epoch time:175 seconds, lr:4.46e-06\n",
      "epoch:483/500 average TL:0.00113031 average VL:0.00112075 epoch time:175 seconds, lr:4.09e-06\n",
      "epoch:484/500 average TL:0.00122992 average VL:0.00090025 epoch time:175 seconds, lr:3.74e-06\n",
      "epoch:485/500 average TL:0.00122223 average VL:0.00091745 epoch time:175 seconds, lr:3.41e-06\n",
      "epoch:486/500 average TL:0.00116964 average VL:0.00082564 epoch time:175 seconds, lr:3.10e-06\n",
      "epoch:487/500 average TL:0.00110237 average VL:0.00089922 epoch time:175 seconds, lr:2.81e-06\n",
      "epoch:488/500 average TL:0.00117324 average VL:0.00102742 epoch time:175 seconds, lr:2.54e-06\n",
      "epoch:489/500 average TL:0.00118294 average VL:0.00100245 epoch time:175 seconds, lr:2.29e-06\n",
      "epoch:490/500 average TL:0.00113201 average VL:0.00107965 epoch time:175 seconds, lr:2.07e-06\n",
      "epoch:491/500 average TL:0.00119067 average VL:0.00097190 epoch time:175 seconds, lr:1.87e-06\n",
      "epoch:492/500 average TL:0.00119370 average VL:0.00105956 epoch time:175 seconds, lr:1.68e-06\n",
      "epoch:493/500 average TL:0.00130391 average VL:0.00088257 epoch time:175 seconds, lr:1.52e-06\n",
      "epoch:494/500 average TL:0.00113372 average VL:0.00091771 epoch time:175 seconds, lr:1.39e-06\n",
      "epoch:495/500 average TL:0.00120083 average VL:0.00089416 epoch time:175 seconds, lr:1.27e-06\n",
      "epoch:496/500 average TL:0.00123159 average VL:0.00089589 epoch time:175 seconds, lr:1.17e-06\n",
      "epoch:497/500 average TL:0.00111070 average VL:0.00090130 epoch time:175 seconds, lr:1.10e-06\n",
      "epoch:498/500 average TL:0.00118236 average VL:0.00079890 epoch time:175 seconds, lr:1.04e-06\n",
      "epoch:499/500 average TL:0.00125378 average VL:0.00096665 epoch time:175 seconds, lr:1.01e-06\n",
      "epoch:500/500 average TL:0.00118734 average VL:0.00097836 epoch time:175 seconds, lr:1.00e-06\n",
      "\n",
      "Duration: 87602 seconds\n"
     ]
    }
   ],
   "source": [
    "start_time = time.time()\n",
    "num_train_batches=len(train_loader)\n",
    "num_test_batches=len(test_loader)\n",
    "train_losses = []\n",
    "val_losses = []\n",
    "patience_counter = 0\n",
    "best_val_loss = float('inf')\n",
    "\n",
    "for i in range(num_epochs):\n",
    "    loss1 = 0\n",
    "    epoch_time = time.time()\n",
    "    model.train()\n",
    "    # Run the training batches\n",
    "    for b, (X_train, y_train) in enumerate(train_loader):  \n",
    "        optimizer.zero_grad()\n",
    "        \n",
    "        # Apply the model\n",
    "        #X_train = torch.cat([X_train, 4*torch.ones(batch_size, num_errors, dtype=torch.int).to(device)], dim=1)\n",
    "        xt=one_hot_encode(X_train, 5)\n",
    "        y_pred=model(xt)\n",
    "        #print(y_pred.shape)\n",
    "        y_train = torch.cat([y_train, 4*torch.ones(batch_size, num_errors, dtype=torch.int).to(device)], dim=1)\n",
    "        yt=one_hot_encode(y_train, 5)\n",
    "        \n",
    "        loss = criterion(y_pred, yt) \n",
    "        # Update parameters\n",
    "        loss.backward()\n",
    "        optimizer.step()\n",
    "        scheduler.step()\n",
    "        loss1=loss1+loss\n",
    "        #if (b+1)%50==1:\n",
    "        #    print(f'epoch: {i+1}/{num_epochs} batch:{b+1}/{num_train_batches} loss: {loss.item():10.8f}')      \n",
    "    train_loss=loss1/num_train_batches  \n",
    "    train_losses.append(train_loss.item())\n",
    "    # Run the testing batches\n",
    "    model.eval()\n",
    "    with torch.no_grad():\n",
    "        loss1=0\n",
    "        for b, (X_test, y_test) in enumerate(test_loader):\n",
    "            y_test=y_test.to(device)\n",
    "            # Apply the model\n",
    "            #X_test = torch.cat([X_test, 4*torch.ones(batch_size, num_errors, dtype=torch.int).to(device)], dim=1)\n",
    "            xt=one_hot_encode(X_test, 5)\n",
    "            y_pred=model(xt)\n",
    "            y_test = torch.cat([y_test, 4*torch.ones(batch_size, num_errors, dtype=torch.int).to(device)], dim=1)\n",
    "            yt=one_hot_encode(y_test, 5)\n",
    "            loss = criterion(y_pred, yt) \n",
    "            loss1=loss1+loss         \n",
    "        val_loss=loss1/num_test_batches  \n",
    "        val_losses.append(val_loss.item())\n",
    "    \n",
    "    print(f'epoch:{i+1}/{num_epochs} average TL:{train_loss.item():10.8f} average VL:{val_loss.item():10.8f} epoch time:{time.time() - epoch_time:.0f} seconds, lr:{optimizer.param_groups[0][\"lr\"]:.2e}')               \n",
    "     # Early stopping\n",
    "    if val_loss < best_val_loss:\n",
    "        best_val_loss = val_loss\n",
    "        torch.save(model.state_dict(), path_directory+\"model.pth\")\n",
    "        patience_counter = 0\n",
    "    else:\n",
    "        patience_counter += 1\n",
    "\n",
    "    if patience_counter >= patience:\n",
    "        print(f'Validation loss did not decrease for {patience} epochs. Stopping training.')\n",
    "        break  \n",
    "        \n",
    "print(f'\\nDuration: {time.time() - start_time:.0f} seconds') # print the time elapsed            "
   ]
  },
  {
   "cell_type": "code",
   "execution_count": 29,
   "id": "d1b7ed3f",
   "metadata": {},
   "outputs": [
    {
     "data": {
      "image/png": "[encoded data removed]",
      "text/plain": [
       "<Figure size 640x480 with 1 Axes>"
      ]
     },
     "metadata": {},
     "output_type": "display_data"
    }
   ],
   "source": [
    "# Plotting\n",
    "plt.plot(train_losses, label='Train Loss')\n",
    "plt.plot(val_losses, label='Validation Loss')\n",
    "plt.xlabel('Epoch')\n",
    "plt.ylabel('Loss')\n",
    "plt.legend()\n",
    "plt.grid()\n",
    "plt.show()\n"
   ]
  },
  {
   "cell_type": "code",
   "execution_count": 30,
   "id": "730fe193",
   "metadata": {},
   "outputs": [],
   "source": [
    "dict={'train_losses':train_losses, 'val_losses':val_losses, 'flops':flops, 'parameters':params }"
   ]
  },
  {
   "cell_type": "code",
   "execution_count": 31,
   "id": "82c1c94c",
   "metadata": {},
   "outputs": [],
   "source": [
    "savemat(path_directory+'losses.mat', dict)\n",
    "with open(path_directory+'losses.pkl', 'wb') as file:\n",
    "    \n",
    "    # A new file will be created\n",
    "    pickle.dump(dict, file)"
   ]
  },
  {
   "cell_type": "markdown",
   "id": "486b1334",
   "metadata": {},
   "source": [
    "# Testing"
   ]
  },
  {
   "cell_type": "code",
   "execution_count": 32,
   "id": "0827e8c0",
   "metadata": {},
   "outputs": [
    {
     "data": {
      "text/plain": [
       "<All keys matched successfully>"
      ]
     },
     "execution_count": 32,
     "metadata": {},
     "output_type": "execute_result"
    }
   ],
   "source": [
    "model.load_state_dict(torch.load(path_directory+\"model.pth\"))"
   ]
  },
  {
   "cell_type": "code",
   "execution_count": 33,
   "id": "eefcadef",
   "metadata": {},
   "outputs": [],
   "source": [
    "start_test=1\n",
    "stop_test=4\n",
    "num_test=200000\n",
    "test_error_points=torch.arange(start_test, stop_test+1)\n",
    "#nucleotide error rate\n",
    "ner=torch.zeros((stop_test-start_test+1)).to(device)\n",
    "#sequence error rate\n",
    "ser=torch.zeros((stop_test-start_test+1)).to(device)"
   ]
  },
  {
   "cell_type": "code",
   "execution_count": 34,
   "id": "66257385",
   "metadata": {},
   "outputs": [],
   "source": [
    "def count_different_rows(matrix1, matrix2):\n",
    "    \"\"\"\n",
    "    Calculates the number of rows that are not equal between two 2D PyTorch matrices.\n",
    "\n",
    "    Args:\n",
    "        matrix1 (torch.Tensor): A 2D PyTorch tensor of shape (m, n).\n",
    "        matrix2 (torch.Tensor): A 2D PyTorch tensor of shape (m, n).\n",
    "\n",
    "    Returns:\n",
    "        int: The number of rows that are not equal between the two matrices.\n",
    "    \"\"\"\n",
    "    assert matrix1.shape == matrix2.shape, \"The input matrices must have the same shape.\"\n",
    "    equal_rows = torch.all(matrix1 == matrix2, dim=1)\n",
    "    return matrix1.shape[0] - torch.sum(equal_rows).item()"
   ]
  },
  {
   "cell_type": "code",
   "execution_count": 35,
   "id": "213866b5",
   "metadata": {},
   "outputs": [],
   "source": [
    "i1=0\n",
    "for i in range(start_test, stop_test+1):\n",
    "    test_data1 = LanguageDataset(dicts, num_samples=num_test, num_errors=i)\n",
    "    test_loader1 = DataLoader(test_data1, batch_size=batch_size, shuffle=True)\n",
    "    n_tbatch=len(test_loader1)\n",
    "    ne=0.0\n",
    "    count=0.0\n",
    "    # Run the testing batches\n",
    "    model.eval()\n",
    "    with torch.no_grad():\n",
    "        for b, (X_test, y_test) in enumerate(test_loader1):\n",
    "            #y_test=y_test\n",
    "            #X_test = torch.cat([X_test, 4*torch.ones(batch_size, i, dtype=torch.int).to(device)], dim=1)\n",
    "            # Apply the model\n",
    "            xt=one_hot_encode(X_test, 5)\n",
    "            y_pred=model(xt)\n",
    "            y_pred_d=one_hot_decode(y_pred)\n",
    "            y_test = torch.cat([y_test, 4*torch.ones(batch_size, num_errors, dtype=torch.int).to(device)], dim=1)\n",
    "            #yt=one_hot_encode(y_test, 5)\n",
    "            ne=ne+torch.sum(y_pred_d!=y_test).item()\n",
    "            count=count+count_different_rows(y_test,y_pred_d)\n",
    "        ner[i1]=ne/(n_tbatch*batch_size*K)\n",
    "        ser[i1]=count/(n_tbatch*batch_size)\n",
    "    i1=i1+1"
   ]
  },
  {
   "cell_type": "code",
   "execution_count": 36,
   "id": "613b089d",
   "metadata": {},
   "outputs": [],
   "source": [
    "dict1={'ner':torch.Tensor.cpu(ner).numpy(), 'ser':torch.Tensor.cpu(ser).numpy()}"
   ]
  },
  {
   "cell_type": "code",
   "execution_count": 37,
   "id": "87bb7c2e",
   "metadata": {},
   "outputs": [
    {
     "data": {
      "text/plain": [
       "tensor([0.0000, 0.0004, 0.0025, 0.0131], device='cuda:0')"
      ]
     },
     "execution_count": 37,
     "metadata": {},
     "output_type": "execute_result"
    }
   ],
   "source": [
    "ner"
   ]
  },
  {
   "cell_type": "code",
   "execution_count": 38,
   "id": "fb487284",
   "metadata": {},
   "outputs": [
    {
     "data": {
      "text/plain": [
       "tensor([0.0000, 0.0004, 0.0025, 0.0131], device='cuda:0')"
      ]
     },
     "execution_count": 38,
     "metadata": {},
     "output_type": "execute_result"
    }
   ],
   "source": [
    "ner"
   ]
  },
  {
   "cell_type": "code",
   "execution_count": 39,
   "id": "fbd05713",
   "metadata": {},
   "outputs": [
    {
     "data": {
      "text/plain": [
       "tensor([0.0000, 0.0008, 0.0076, 0.0398], device='cuda:0')"
      ]
     },
     "execution_count": 39,
     "metadata": {},
     "output_type": "execute_result"
    }
   ],
   "source": [
    "ser"
   ]
  },
  {
   "cell_type": "code",
   "execution_count": 40,
   "id": "e2bdc20c",
   "metadata": {},
   "outputs": [],
   "source": [
    "savemat(path_directory+'metric.mat', dict1)\n",
    "with open(path_directory+'metric.pkl', 'wb') as file:\n",
    "    \n",
    "    # A new file will be created\n",
    "    pickle.dump(dict1, file)"
   ]
  },
  {
   "cell_type": "code",
   "execution_count": 41,
   "id": "00193886",
   "metadata": {},
   "outputs": [
    {
     "data": {
      "image/png": "[encoded data removed]",
      "text/plain": [
       "<Figure size 640x480 with 1 Axes>"
      ]
     },
     "metadata": {},
     "output_type": "display_data"
    }
   ],
   "source": [
    "plt.plot(torch.Tensor.cpu(test_error_points).numpy(),torch.Tensor.cpu(ner).numpy())\n",
    "plt.yscale('log')\n",
    "plt.xlabel('Number of errors')\n",
    "plt.ylabel('NER')    \n",
    "plt.grid(True)\n",
    "plt.show()"
   ]
  },
  {
   "cell_type": "code",
   "execution_count": 42,
   "id": "e22b1f71",
   "metadata": {},
   "outputs": [
    {
     "data": {
      "image/png": "[encoded data removed]",
      "text/plain": [
       "<Figure size 640x480 with 1 Axes>"
      ]
     },
     "metadata": {},
     "output_type": "display_data"
    }
   ],
   "source": [
    "plt.plot(torch.Tensor.cpu(test_error_points).numpy(),torch.Tensor.cpu(ser).numpy())\n",
    "plt.yscale('log')\n",
    "plt.xlabel('Number of errors')\n",
    "plt.ylabel('SER')    \n",
    "plt.grid(True)\n",
    "plt.show()"
   ]
  },
  {
   "cell_type": "code",
   "execution_count": null,
   "id": "ff194c2d",
   "metadata": {},
   "outputs": [],
   "source": []
  },
  {
   "cell_type": "code",
   "execution_count": null,
   "id": "0ea980a5",
   "metadata": {},
   "outputs": [],
   "source": []
  }
 ],
 "metadata": {
  "kernelspec": {
   "display_name": "Python 3 (ipykernel)",
   "language": "python",
   "name": "python3"
  },
  "language_info": {
   "codemirror_mode": {
    "name": "ipython",
    "version": 3
   },
   "file_extension": ".py",
   "mimetype": "text/x-python",
   "name": "python",
   "nbconvert_exporter": "python",
   "pygments_lexer": "ipython3",
   "version": "3.10.9"
  }
 },
 "nbformat": 4,
 "nbformat_minor": 5
}

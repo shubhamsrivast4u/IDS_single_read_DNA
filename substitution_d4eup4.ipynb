{
 "cells": [
  {
   "cell_type": "code",
   "execution_count": 1,
   "id": "54bdf718",
   "metadata": {},
   "outputs": [],
   "source": [
    "import torch\n",
    "import torch.nn as nn\n",
    "import torch.nn.functional as F\n",
    "import random\n",
    "from torch.utils.data import Dataset, DataLoader\n",
    "import os\n",
    "os.environ[\"CUDA_VISIBLE_DEVICES\"] = \"0\"  # Select the GPU index\n",
    "import nltk\n",
    "from torch.optim.lr_scheduler import _LRScheduler\n",
    "import time\n",
    "import math\n",
    "import matplotlib.pyplot as plt\n",
    "import spacy\n",
    "from scipy.io import savemat\n",
    "import dill as pickle\n",
    "import thop"
   ]
  },
  {
   "cell_type": "code",
   "execution_count": 2,
   "id": "a700507b",
   "metadata": {},
   "outputs": [
    {
     "name": "stdout",
     "output_type": "stream",
     "text": [
      "['ATCGATCGATCGAT', 'TACGTAGCTAGCTA', 'TAGCTACGTAGCTA', 'ATGCATGCATCGAT', 'ATGCTACGATGCTA', 'TAGCATGCTACGAT', 'TACGATCGTACGAT', 'ATCGTAGCATGCTA', 'TACGATGCTAGCAT', 'ATCGTACGATCGTA', 'ATGCTAGCATCGTA', 'TAGCATCGTAGCAT', 'TAGCTAGCTACGTA', 'ATGCATCGATGCAT', 'ATCGATGCATGCAT', 'TACGTACGTACGTA']\n"
     ]
    }
   ],
   "source": [
    "# Dictionary\n",
    "dicno=4\n",
    "dictionaries =[['AAGCGC', 'ACGAGC', 'ATGGCG', 'AGCACG', 'CAGGTG', 'CCTACG', 'CTACGC', 'CGAACG', 'TAGGGC',\n",
    "                'TCGTGC', 'TTGCCG', 'TGCTCG', 'GACGAC', 'GCAGCA', 'GTAGGC', 'GGTCGA'],\n",
    "               \n",
    "               ['AAGCGC', 'ACGAGC', 'ATCCGC', 'ATGGCG', 'AGCACG', 'CATCCG', 'CAGGTG', 'CCTACG', 'CCTGGT',\n",
    "                'CCGTTG', 'CTACGC', 'CTGGAG', 'CGAACG', 'CGGAAC', 'TAGGGC', 'TCCGCA', 'TCGTGC', 'TCGGGA',\n",
    "                'TTCGGC', 'TTGCCG', 'TGCTCG', 'GACGAC', 'GATGCG', 'GCAGCA', 'GCCTAC', 'GTAGGC', 'GGACGT',\n",
    "                'GGCTAG', 'GGCTTC', 'GGTAGC', 'GGTCCT', 'GGTCGA' ],\n",
    "               \n",
    "               ['ACTACGACA', 'ACTGACACA', 'ACGACTACA', 'ATCAGCACA', 'AGCATCACA', 'CATCAGACA', 'CAGCATACA', \n",
    "                'TACGACACA', 'GACTACACA', 'ACTACTGAG', 'ACTACGATG', 'ACTACGTAG', 'ACTACGTGA', 'ACTGACATG',\n",
    "                'ACTGACTAG', 'ACTGACTGA', 'ACTGACGAT', 'ACTGACGTA', 'ACTGATACG', 'ACTGATAGC', 'ACTGATCGA', \n",
    "                'ACTGATGAC', 'ACTGATGCA', 'ACTGCTAGA', 'ACGACTATG', 'ACGACTAGT', 'ACGACTGAT', 'ACGACTGTA', 'ACGATGACT', \n",
    "                'ACGATGATC', 'ACGATGCTA', 'ACGATGTAC', 'ACGATGTCA', 'ATCATCGAG', 'ATCAGCATG', 'ATCAGCAGT', 'ATCAGCTGA', \n",
    "                'ATCAGCGTA', 'ATCAGTACG', 'ATCAGTAGC', 'ATCAGTCAG', 'ATCAGTCGA', 'ATCAGTGCA', 'ATCGTACAG', 'ATCGTACGA', \n",
    "                'ATCGTAGAC', 'ATCGTAGCA', 'ATCGTCAGA', 'ATGACTACG', 'ATGACTAGC', 'ATGACTCGA', 'ATGACTGAC', 'ATGACTGCA', \n",
    "                'ATGACGACT', 'ATGACGATC', 'ATGACGCTA', 'ATGACGTCA', 'ATGATGCAC', 'ATGCTACAG', 'ATGCTACGA', 'ATGCTAGAC', \n",
    "                'ATGCTAGCA', 'ATGCTGACA', 'AGCATCATG', 'AGCATCAGT', 'AGCATCTAG', 'AGCATCTGA', 'AGCATCGTA', 'AGCAGTACT', \n",
    "                'AGCAGTATC', 'AGCAGTCAT', 'AGCAGTCTA', 'AGTAGCATC', 'AGTAGCTAC', 'AGTAGCTCA', 'AGTAGTCAC', 'AGTCATACG', \n",
    "                'AGTCATAGC', 'AGTCATCAG', 'AGTCATCGA', 'AGTCATGCA', 'AGTCAGATC', 'AGTCAGCAT', 'AGTCAGCTA', 'AGTCAGTAC', \n",
    "                'AGTCAGTCA', 'AGTCGTACA', 'CATCAGAGT', 'CATCAGTAG', 'CATCAGTGA', 'CATCGTAGA', 'CAGCATATG', 'CAGCATAGT', \n",
    "                'CAGCATGAT', 'CAGCATGTA', 'CAGCAGTAT', 'CAGTAGATC', 'CAGTAGCAT', 'CAGTAGCTA', 'CAGTAGTAC', 'CAGTAGTCA', \n",
    "                'CAGTCATAG', 'CAGTCATGA', 'CAGTCAGAT', 'CAGTCAGTA', 'CAGTCGATA', 'CTACTGAGA', 'CTACGATGA', 'CTACGAGAT', \n",
    "                'CTACGAGTA', 'CTGACTAGA', 'CTGACGATA', 'CTGATGACA', 'CGACTATAG', 'CGACTATGA', 'CGACTAGAT', 'CGACTAGTA',\n",
    "                'CGACTGATA', 'CGACGATAT', 'CGATGACTA', 'CGATGATAC', 'CGATGCATA', 'CGTAGCATA', 'CGTCATAGA', 'CGTCAGATA', \n",
    "                'TACTACGAG', 'TACTGACAG', 'TACTGACGA', 'TACTGAGAC', 'TACTGAGCA', 'TACTGCAGA', 'TACGACAGT', 'TACGACTAG',\n",
    "                'TACGACTGA', 'TACGACGAT', 'TACGATACG', 'TACGATAGC', 'TACGATCAG', 'TACGATCGA', 'TACGATGAC', 'TACGATGCA', \n",
    "                'TAGCATACG', 'TAGCATAGC', 'TAGCATCAG', 'TAGCATCGA', 'TAGCATGAC', 'TAGCATGCA', 'TAGCAGACT', 'TAGCAGCAT', \n",
    "                'TAGCAGTAC', 'TAGCAGTCA', 'TAGTAGCAC', 'TAGTCACAG', 'TAGTCACGA', 'TAGTCAGAC', 'TAGTCAGCA', 'TAGTCGACA', \n",
    "                'TCATCAGAG', 'TCATCGAGA', 'TCAGCATAG', 'TCAGCAGAT', 'TCAGCAGTA', 'TCAGTACAG', 'TCAGTACGA', 'TCAGTAGAC',\n",
    "                'TCAGTAGCA', 'TCAGTCAGA', 'TCGTAGACA', 'TGACTACAG', 'TGACTACGA', 'TGACTAGAC', 'TGACTAGCA', 'TGACTGACA', \n",
    "                'TGACGACAT', 'TGACGACTA', 'TGACGATAC', 'TGATGACAC', 'TGATGCACA', 'TGCTACAGA', 'GACTACATG', 'GACTACTAG', \n",
    "                'GACTACTGA', 'GACTACGAT', 'GACTACGTA', 'GACTGACAT', 'GACTGACTA', 'GACTGATAC', 'GACTGATCA', 'GACTGCATA', \n",
    "                'GACGACTAT', 'GACGATACT', 'GACGATATC', 'GACGATCAT', 'GACGATCTA', 'GATGACACT', 'GATGACTAC', 'GATGACTCA', \n",
    "                'GATGCTACA', 'GCATCATAG', 'GCATCAGAT', 'GCATCAGTA', 'GCATCGATA', 'GCAGCATAT', 'GCAGTACAT', 'GCAGTACTA', \n",
    "                'GCAGTATAC', 'GCAGTATCA', 'GCAGTCATA', 'GCTACGATA', 'GCTGACATA', 'GCTGATACA', 'GTAGCACAT', 'GTAGCACTA', \n",
    "                'GTAGCATCA', 'GTAGTCACA', 'GTCATCAGA', 'GTCAGCATA', 'GTCAGTACA', 'ACTGATGTG', 'ACGATGTGT', 'ATCAGTGTG', \n",
    "                'ATCGTAGTG', 'ATGACTGTG', 'ATGACGTGT', 'ATGATGCTG', 'ATGATGCGT', 'ATGATGTCG', 'ATGATGTGC', 'ATGCTAGTG', \n",
    "                'ATGCTGATG', 'ATGCTGAGT', 'ATGCTGTGA', 'AGTAGCTGT', 'AGTAGTCTG', 'AGTAGTCGT', 'AGTAGTGCT', 'AGTAGTGTC', \n",
    "                'AGTCATGTG', 'AGTCAGTGT', 'AGTCGTATG', 'AGTCGTAGT', 'AGTCGTGTA', 'CAGTAGTGT', 'CTGATGATG', 'CTGATGAGT', \n",
    "                'CTGATGTAG', 'CTGATGTGA', 'CGATGATGT', 'CGTAGTATG', 'CGTAGTAGT', 'CGTAGTGAT', 'CGTAGTGTA', 'TACGATGTG', \n",
    "                'TAGCATGTG', 'TAGCAGTGT'],\n",
    "               \n",
    "               ['ACGTAGCAGA', 'ACTACAGACG', 'AGACGATGCA', 'AGCGACTATC', 'ATAGCTCGTG', 'CACGAGCTAT','CGTCTGTAGT',\n",
    "                'CTATCAGCGA', 'GATAGTCGCT', 'GCAGACATCA', 'GTGCTCGATA', 'TATCGAGCAC', 'TCGCTGATAG', 'TCTGCTACGT',\n",
    "                'TGATGTCTGC', 'TGCATCGTCT'],\n",
    "               \n",
    "               ['ATCGATCGATCGAT','TACGTAGCTAGCTA', 'TAGCTACGTAGCTA', 'ATGCATGCATCGAT', 'ATGCTACGATGCTA', \n",
    "                'TAGCATGCTACGAT', 'TACGATCGTACGAT', 'ATCGTAGCATGCTA', 'TACGATGCTAGCAT', 'ATCGTACGATCGTA', \n",
    "                'ATGCTAGCATCGTA', 'TAGCATCGTAGCAT', 'TAGCTAGCTACGTA', 'ATGCATCGATGCAT', 'ATCGATGCATGCAT', \n",
    "                'TACGTACGTACGTA'],\n",
    "              \n",
    "               ['ATCGATCG', 'ATCGATGC', 'ATCGTAGC', 'ATCGTACG', 'ATGCTAGC', 'ATGCTACG', 'ATGCATCG', 'ATGCATGC',\n",
    "                'TAGCTAGC', 'TAGCTACG', 'TAGCATCG', 'TAGCATGC', 'TACGATCG', 'TACGATGC', 'TACGTAGC', 'TACGTACG']\n",
    "              \n",
    "               ]\n",
    "dicts=dictionaries[dicno]\n",
    "print(dicts)"
   ]
  },
  {
   "cell_type": "code",
   "execution_count": 3,
   "id": "dbcadf01",
   "metadata": {},
   "outputs": [],
   "source": [
    "batch_size=2000\n",
    "device = 'cuda' if torch.cuda.is_available() else 'cpu'\n",
    "lr=0.001\n",
    "num_epochs=500\n",
    "patience=400\n",
    "train_num_samples=30000\n",
    "test_num_samples=10000\n",
    "num_errors=4\n",
    "K=len(dicts[0])\n",
    "hidden_size=32"
   ]
  },
  {
   "cell_type": "code",
   "execution_count": 4,
   "id": "cd70d5fb",
   "metadata": {},
   "outputs": [
    {
     "data": {
      "text/plain": [
       "'substitutionmodels/BiLSTM/Dictionary_4/batch_size_2000/num_errors_4/initial_lr_0.001/epochs500_p400_tr30000ts10000K14hs32/'"
      ]
     },
     "execution_count": 4,
     "metadata": {},
     "output_type": "execute_result"
    }
   ],
   "source": [
    "path_directory=f\"substitutionmodels/BiLSTM/Dictionary_{dicno}/batch_size_{batch_size}/num_errors_{num_errors}/initial_lr_{lr}/epochs{num_epochs}_p{patience}_tr{train_num_samples}ts{test_num_samples}K{K}hs{hidden_size}/\"\n",
    "path_directory"
   ]
  },
  {
   "cell_type": "code",
   "execution_count": 5,
   "id": "62b8193e",
   "metadata": {},
   "outputs": [],
   "source": [
    "# Check if \"models\" folder exists, create it if it doesn't\n",
    "if not os.path.exists(path_directory):\n",
    "    os.makedirs(path_directory)\n"
   ]
  },
  {
   "cell_type": "code",
   "execution_count": 6,
   "id": "d805d412",
   "metadata": {},
   "outputs": [],
   "source": [
    "class LanguageDataset(Dataset):\n",
    "\n",
    "    def __init__(self, dictionary, num_samples, num_errors):\n",
    "        self.dictionary = dictionary\n",
    "        self.num_samples = num_samples \n",
    "        self.num_errors = num_errors\n",
    "\n",
    "    def __len__(self):\n",
    "        return self.num_samples\n",
    "\n",
    "    def __getitem__(self, idx):\n",
    "        source_idx = idx % len(self.dictionary)  \n",
    "        sequence = self.dictionary[source_idx]\n",
    "\n",
    "        if self.num_errors > 0:\n",
    "            sequence = self.introduce_errors(sequence, self.num_errors)\n",
    "\n",
    "        x = torch.tensor([self.char_to_idx(c) for c in sequence], dtype=torch.long)\n",
    "        y = torch.tensor([self.char_to_idx(c) for c in self.dictionary[source_idx]], dtype=torch.long)\n",
    "        return x, y\n",
    "\n",
    "    def introduce_errors(self, sequence, num_errors):\n",
    "        sequence = list(sequence)\n",
    "        for _ in range(num_errors):\n",
    "            i = random.randint(0, len(sequence)-1)\n",
    "            if sequence[i] == 'A':\n",
    "                sequence[i] = random.choice(['T', 'G', 'C'])\n",
    "            elif sequence[i] == 'T':\n",
    "                sequence[i] = random.choice(['A', 'G', 'C'])\n",
    "            elif sequence[i] == 'G':\n",
    "                sequence[i] = random.choice(['A', 'T', 'C'])\n",
    "            elif sequence[i] == 'C':\n",
    "                sequence[i] = random.choice(['A', 'T', 'G'])\n",
    "\n",
    "        return ''.join(sequence)\n",
    "\n",
    "    def char_to_idx(self, char):\n",
    "        return {'A': 0, 'C': 1, 'T': 2, 'G': 3}[char]"
   ]
  },
  {
   "cell_type": "code",
   "execution_count": 7,
   "id": "a9c0ed7b",
   "metadata": {},
   "outputs": [
    {
     "data": {
      "text/plain": [
       "1"
      ]
     },
     "execution_count": 7,
     "metadata": {},
     "output_type": "execute_result"
    }
   ],
   "source": [
    "random.randint(1, 2)"
   ]
  },
  {
   "cell_type": "code",
   "execution_count": 8,
   "id": "7d7bfb16",
   "metadata": {},
   "outputs": [],
   "source": [
    "class LanguageDataset1(Dataset):\n",
    "\n",
    "    def __init__(self, dictionary, num_samples, num_errors):\n",
    "        self.dictionary = dictionary\n",
    "        self.num_samples = num_samples \n",
    "        self.num_errors = num_errors\n",
    "\n",
    "    def __len__(self):\n",
    "        return self.num_samples\n",
    "\n",
    "    def __getitem__(self, idx):\n",
    "        source_idx = idx % len(self.dictionary)  \n",
    "        sequence = self.dictionary[source_idx]\n",
    "\n",
    "        if self.num_errors > 0:\n",
    "            sequence = self.introduce_errors(sequence, self.num_errors)\n",
    "\n",
    "        x = torch.tensor([self.char_to_idx(c) for c in sequence], dtype=torch.long)\n",
    "        y = torch.tensor([self.char_to_idx(c) for c in self.dictionary[source_idx]], dtype=torch.long)\n",
    "        return x, y\n",
    "\n",
    "    def introduce_errors(self, sequence, num_errors):\n",
    "        ne = random.randint(1, num_errors)\n",
    "        sequence = list(sequence)\n",
    "        for _ in range(ne):\n",
    "            i = random.randint(0, len(sequence)-1)\n",
    "            if sequence[i] == 'A':\n",
    "                sequence[i] = random.choice(['T', 'G', 'C'])\n",
    "            elif sequence[i] == 'T':\n",
    "                sequence[i] = random.choice(['A', 'G', 'C'])\n",
    "            elif sequence[i] == 'G':\n",
    "                sequence[i] = random.choice(['A', 'T', 'C'])\n",
    "            elif sequence[i] == 'C':\n",
    "                sequence[i] = random.choice(['A', 'T', 'G'])\n",
    "\n",
    "        return ''.join(sequence)\n",
    "\n",
    "    def char_to_idx(self, char):\n",
    "        return {'A': 0, 'C': 1, 'T': 2, 'G': 3}[char]\n"
   ]
  },
  {
   "cell_type": "code",
   "execution_count": 9,
   "id": "e6c5ca76",
   "metadata": {},
   "outputs": [],
   "source": [
    "train_data = LanguageDataset1(dicts, num_samples=train_num_samples, num_errors=num_errors)\n",
    "test_data = LanguageDataset1(dicts, num_samples=test_num_samples, num_errors=num_errors)\n",
    "\n",
    "train_loader = DataLoader(train_data, batch_size=batch_size, shuffle=True)\n",
    "test_loader = DataLoader(test_data, batch_size=batch_size)"
   ]
  },
  {
   "cell_type": "code",
   "execution_count": 10,
   "id": "87577e33",
   "metadata": {},
   "outputs": [],
   "source": [
    "t1=iter(train_loader)\n",
    "X,y=next(t1)"
   ]
  },
  {
   "cell_type": "code",
   "execution_count": 11,
   "id": "fc455f7a",
   "metadata": {},
   "outputs": [
    {
     "data": {
      "text/plain": [
       "torch.Size([2000, 14])"
      ]
     },
     "execution_count": 11,
     "metadata": {},
     "output_type": "execute_result"
    }
   ],
   "source": [
    "X.shape"
   ]
  },
  {
   "cell_type": "code",
   "execution_count": 12,
   "id": "83b83995",
   "metadata": {},
   "outputs": [
    {
     "data": {
      "text/plain": [
       "tensor([[0, 2, 3,  ..., 3, 0, 2],\n",
       "        [2, 0, 3,  ..., 3, 0, 2],\n",
       "        [0, 2, 1,  ..., 3, 0, 2],\n",
       "        ...,\n",
       "        [2, 0, 1,  ..., 1, 0, 2],\n",
       "        [0, 2, 1,  ..., 3, 2, 0],\n",
       "        [2, 0, 1,  ..., 3, 0, 2]])"
      ]
     },
     "execution_count": 12,
     "metadata": {},
     "output_type": "execute_result"
    }
   ],
   "source": [
    "y"
   ]
  },
  {
   "cell_type": "code",
   "execution_count": 13,
   "id": "640f9af6",
   "metadata": {},
   "outputs": [],
   "source": [
    "def one_hot_encode(sequences, n_unique):\n",
    "\n",
    "    # Get size of batch and max sequence length\n",
    "    batch_size,seq_len=sequences.shape\n",
    "    #len(sequences)\n",
    "    #seq_len=len(sequences[0])\n",
    "    \n",
    "    # Initialize encoded tensor\n",
    "    oneencoding = torch.zeros(batch_size, seq_len, n_unique, device = device)\n",
    "    # Set 1 at index of each character\n",
    "    for i in range(batch_size):\n",
    "        for j in range(seq_len):\n",
    "            index = sequences[i][j]\n",
    "            oneencoding[i, j, index] = 1          \n",
    "    return oneencoding"
   ]
  },
  {
   "cell_type": "code",
   "execution_count": 14,
   "id": "ee758123",
   "metadata": {},
   "outputs": [
    {
     "data": {
      "text/plain": [
       "torch.Size([2000, 14])"
      ]
     },
     "execution_count": 14,
     "metadata": {},
     "output_type": "execute_result"
    }
   ],
   "source": [
    "X.shape"
   ]
  },
  {
   "cell_type": "code",
   "execution_count": 15,
   "id": "6d4e7322",
   "metadata": {},
   "outputs": [],
   "source": [
    "def one_hot_decode(encoded_seq):\n",
    "    \"\"\"Converts a batch of one-hot encoded sequences to indices\"\"\"\n",
    "    \n",
    "    # Dimensions will be (batch_size, seq_len, num_classes)\n",
    "    batch_size, seq_len, num_classes = encoded_seq.shape\n",
    "    \n",
    "    # Flatten to treat as a list of one-hot vectors\n",
    "    encoded_seq = encoded_seq.reshape(-1, num_classes)\n",
    "    \n",
    "    # Argmax over classes to get class index\n",
    "    indices = encoded_seq.argmax(dim=1).to(device)\n",
    "    \n",
    "    # Reshape back to original dimensions\n",
    "    indices = indices.reshape(batch_size, seq_len)\n",
    "    \n",
    "    return indices"
   ]
  },
  {
   "cell_type": "code",
   "execution_count": 16,
   "id": "d3d48c1c",
   "metadata": {},
   "outputs": [],
   "source": [
    "class BiLSTMModel(nn.Module):\n",
    "\n",
    "    def __init__(self, hidden_size, dropout):\n",
    "        super().__init__()\n",
    "        \n",
    "        self.lstm1 = nn.LSTM(\n",
    "            input_size=4, \n",
    "            hidden_size=hidden_size,\n",
    "            num_layers=2,\n",
    "            batch_first=True,\n",
    "            bidirectional=True,\n",
    "            dropout=dropout\n",
    "        )\n",
    "        self.fc = nn.Linear(2*hidden_size, 4)\n",
    "        self.softmax = nn.Softmax(dim=2)\n",
    "    def forward(self, x):\n",
    "\n",
    "        # BiLSTM 1\n",
    "        out, _ = self.lstm1(x)\n",
    "        out = self.softmax(self.fc(out))\n",
    "        return out"
   ]
  },
  {
   "cell_type": "code",
   "execution_count": 17,
   "id": "c8bbfd99",
   "metadata": {},
   "outputs": [],
   "source": [
    "model=BiLSTMModel(hidden_size,0.1)"
   ]
  },
  {
   "cell_type": "code",
   "execution_count": 18,
   "id": "fdca5add",
   "metadata": {},
   "outputs": [],
   "source": [
    "def cal_model_parameters(model):\n",
    "    total_param  = []\n",
    "    for p1 in model.parameters():\n",
    "        total_param.append(int(p1.numel()))\n",
    "    return sum(total_param)"
   ]
  },
  {
   "cell_type": "code",
   "execution_count": 19,
   "id": "b4388fcc",
   "metadata": {},
   "outputs": [
    {
     "data": {
      "text/plain": [
       "35076"
      ]
     },
     "execution_count": 19,
     "metadata": {},
     "output_type": "execute_result"
    }
   ],
   "source": [
    "cal_model_parameters(model)"
   ]
  },
  {
   "cell_type": "code",
   "execution_count": 20,
   "id": "68ad73ac",
   "metadata": {},
   "outputs": [],
   "source": [
    "model=model.to(device)"
   ]
  },
  {
   "cell_type": "code",
   "execution_count": 21,
   "id": "d4268683",
   "metadata": {},
   "outputs": [],
   "source": [
    "train_next=iter(train_data)\n",
    "Xp, Yp=next(train_next)\n",
    "#Xp = torch.cat([Xp.view(1,-1), 4*torch.ones(1, num_errors, dtype=torch.int).to(device)], dim=1)\n",
    "xp=one_hot_encode(Xp.view(1,-1).to(device), 4).to(device)"
   ]
  },
  {
   "cell_type": "code",
   "execution_count": 22,
   "id": "e3e06394",
   "metadata": {},
   "outputs": [],
   "source": [
    "flops, params = thop.profile(model, inputs=(xp,), verbose=False)"
   ]
  },
  {
   "cell_type": "code",
   "execution_count": 23,
   "id": "d017e558",
   "metadata": {},
   "outputs": [
    {
     "name": "stdout",
     "output_type": "stream",
     "text": [
      "Model Flops: 505498.0\n",
      "Model Params Num: 35076.0\n",
      "\n"
     ]
    }
   ],
   "source": [
    "print(f'Model Flops: {flops}')\n",
    "print(f'Model Params Num: {params}\\n')"
   ]
  },
  {
   "cell_type": "code",
   "execution_count": 24,
   "id": "248e48b2",
   "metadata": {},
   "outputs": [],
   "source": [
    "\n",
    "criterion= nn.MSELoss().to(device)"
   ]
  },
  {
   "cell_type": "code",
   "execution_count": 25,
   "id": "ad91e622",
   "metadata": {},
   "outputs": [],
   "source": [
    "optimizer = torch.optim.Adam(model.parameters(), lr=lr, betas=(0.9, 0.98), eps=1e-9)"
   ]
  },
  {
   "cell_type": "code",
   "execution_count": 26,
   "id": "e5c7217e",
   "metadata": {},
   "outputs": [],
   "source": [
    "class WarmUpCosineAnnealingLR(_LRScheduler):\n",
    "    def __init__(self, optimizer, T_max, T_warmup, eta_min=0, last_epoch=-1):\n",
    "        self.T_max = T_max\n",
    "        self.T_warmup = T_warmup\n",
    "        self.eta_min = eta_min\n",
    "        super(WarmUpCosineAnnealingLR, self).__init__(optimizer, last_epoch)\n",
    "\n",
    "    def get_lr(self):\n",
    "        if self.last_epoch < self.T_warmup:\n",
    "            return [base_lr * self.last_epoch / self.T_warmup for base_lr in self.base_lrs]\n",
    "        else:\n",
    "            k = 1 + math.cos(math.pi * (self.last_epoch - self.T_warmup) / (self.T_max - self.T_warmup))\n",
    "            return [self.eta_min + (base_lr - self.eta_min) * k / 2 for base_lr in self.base_lrs]"
   ]
  },
  {
   "cell_type": "code",
   "execution_count": 27,
   "id": "23b7a66e",
   "metadata": {},
   "outputs": [],
   "source": [
    "scheduler = WarmUpCosineAnnealingLR(optimizer=optimizer,\n",
    "                                            T_max=num_epochs * len(train_loader),\n",
    "                                            T_warmup=20 * len(train_loader),\n",
    "                                            eta_min=1e-6)"
   ]
  },
  {
   "cell_type": "code",
   "execution_count": 28,
   "id": "da868db6",
   "metadata": {},
   "outputs": [
    {
     "name": "stdout",
     "output_type": "stream",
     "text": [
      "epoch:1/500 average TL:0.18731584 average VL:0.18726994 epoch time:38 seconds, lr:5.00e-05\n",
      "epoch:2/500 average TL:0.18719123 average VL:0.18708146 epoch time:37 seconds, lr:1.00e-04\n",
      "epoch:3/500 average TL:0.18695959 average VL:0.18680690 epoch time:37 seconds, lr:1.50e-04\n",
      "epoch:4/500 average TL:0.18665694 average VL:0.18647626 epoch time:38 seconds, lr:2.00e-04\n",
      "epoch:5/500 average TL:0.18629853 average VL:0.18607830 epoch time:38 seconds, lr:2.50e-04\n",
      "epoch:6/500 average TL:0.18584575 average VL:0.18554179 epoch time:37 seconds, lr:3.00e-04\n",
      "epoch:7/500 average TL:0.18518627 average VL:0.18469428 epoch time:37 seconds, lr:3.50e-04\n",
      "epoch:8/500 average TL:0.18407027 average VL:0.18315928 epoch time:37 seconds, lr:4.00e-04\n",
      "epoch:9/500 average TL:0.18189166 average VL:0.17994523 epoch time:37 seconds, lr:4.50e-04\n",
      "epoch:10/500 average TL:0.17700276 average VL:0.17241047 epoch time:37 seconds, lr:5.00e-04\n",
      "epoch:11/500 average TL:0.16588752 average VL:0.15587799 epoch time:37 seconds, lr:5.50e-04\n",
      "epoch:12/500 average TL:0.14488728 average VL:0.12807620 epoch time:37 seconds, lr:6.00e-04\n",
      "epoch:13/500 average TL:0.11583535 average VL:0.09607580 epoch time:37 seconds, lr:6.50e-04\n",
      "epoch:14/500 average TL:0.08539738 average VL:0.06689035 epoch time:37 seconds, lr:7.00e-04\n",
      "epoch:15/500 average TL:0.06036475 average VL:0.04734573 epoch time:37 seconds, lr:7.50e-04\n",
      "epoch:16/500 average TL:0.04501256 average VL:0.03681954 epoch time:37 seconds, lr:8.00e-04\n",
      "epoch:17/500 average TL:0.03595112 average VL:0.03081874 epoch time:37 seconds, lr:8.50e-04\n",
      "epoch:18/500 average TL:0.03047853 average VL:0.02719246 epoch time:37 seconds, lr:9.00e-04\n",
      "epoch:19/500 average TL:0.02763035 average VL:0.02537926 epoch time:37 seconds, lr:9.50e-04\n",
      "epoch:20/500 average TL:0.02545521 average VL:0.02384811 epoch time:37 seconds, lr:1.00e-03\n",
      "epoch:21/500 average TL:0.02407530 average VL:0.02261652 epoch time:37 seconds, lr:1.00e-03\n",
      "epoch:22/500 average TL:0.02313383 average VL:0.02126173 epoch time:37 seconds, lr:1.00e-03\n",
      "epoch:23/500 average TL:0.02166757 average VL:0.02047976 epoch time:37 seconds, lr:1.00e-03\n",
      "epoch:24/500 average TL:0.02087621 average VL:0.01925354 epoch time:37 seconds, lr:1.00e-03\n",
      "epoch:25/500 average TL:0.01974872 average VL:0.01824199 epoch time:37 seconds, lr:1.00e-03\n",
      "epoch:26/500 average TL:0.01867473 average VL:0.01742049 epoch time:37 seconds, lr:1.00e-03\n",
      "epoch:27/500 average TL:0.01751172 average VL:0.01633855 epoch time:37 seconds, lr:9.99e-04\n",
      "epoch:28/500 average TL:0.01696230 average VL:0.01521074 epoch time:37 seconds, lr:9.99e-04\n",
      "epoch:29/500 average TL:0.01568814 average VL:0.01475272 epoch time:37 seconds, lr:9.99e-04\n",
      "epoch:30/500 average TL:0.01490461 average VL:0.01424211 epoch time:37 seconds, lr:9.99e-04\n",
      "epoch:31/500 average TL:0.01414742 average VL:0.01296725 epoch time:37 seconds, lr:9.99e-04\n",
      "epoch:32/500 average TL:0.01357357 average VL:0.01243261 epoch time:37 seconds, lr:9.98e-04\n",
      "epoch:33/500 average TL:0.01291198 average VL:0.01193735 epoch time:37 seconds, lr:9.98e-04\n",
      "epoch:34/500 average TL:0.01230769 average VL:0.01119323 epoch time:37 seconds, lr:9.98e-04\n",
      "epoch:35/500 average TL:0.01196392 average VL:0.01139879 epoch time:37 seconds, lr:9.98e-04\n",
      "epoch:36/500 average TL:0.01175745 average VL:0.01058894 epoch time:37 seconds, lr:9.97e-04\n",
      "epoch:37/500 average TL:0.01132331 average VL:0.01045169 epoch time:37 seconds, lr:9.97e-04\n",
      "epoch:38/500 average TL:0.01117907 average VL:0.01059801 epoch time:37 seconds, lr:9.97e-04\n",
      "epoch:39/500 average TL:0.01099900 average VL:0.01025906 epoch time:37 seconds, lr:9.96e-04\n",
      "epoch:40/500 average TL:0.01113599 average VL:0.01052334 epoch time:37 seconds, lr:9.96e-04\n",
      "epoch:41/500 average TL:0.01087616 average VL:0.01061347 epoch time:37 seconds, lr:9.95e-04\n",
      "epoch:42/500 average TL:0.01073033 average VL:0.01036965 epoch time:37 seconds, lr:9.95e-04\n",
      "epoch:43/500 average TL:0.01080121 average VL:0.01005497 epoch time:37 seconds, lr:9.94e-04\n",
      "epoch:44/500 average TL:0.01057016 average VL:0.01023474 epoch time:37 seconds, lr:9.94e-04\n",
      "epoch:45/500 average TL:0.01068397 average VL:0.01040364 epoch time:37 seconds, lr:9.93e-04\n",
      "epoch:46/500 average TL:0.01050700 average VL:0.01033748 epoch time:37 seconds, lr:9.93e-04\n",
      "epoch:47/500 average TL:0.01066478 average VL:0.01038830 epoch time:37 seconds, lr:9.92e-04\n",
      "epoch:48/500 average TL:0.01072572 average VL:0.01009921 epoch time:37 seconds, lr:9.92e-04\n",
      "epoch:49/500 average TL:0.01058597 average VL:0.00992085 epoch time:37 seconds, lr:9.91e-04\n",
      "epoch:50/500 average TL:0.01050485 average VL:0.01030157 epoch time:37 seconds, lr:9.90e-04\n",
      "epoch:51/500 average TL:0.01060356 average VL:0.01017785 epoch time:37 seconds, lr:9.90e-04\n",
      "epoch:52/500 average TL:0.01046714 average VL:0.01047022 epoch time:37 seconds, lr:9.89e-04\n",
      "epoch:53/500 average TL:0.01063178 average VL:0.01038286 epoch time:37 seconds, lr:9.88e-04\n",
      "epoch:54/500 average TL:0.01048752 average VL:0.01000337 epoch time:37 seconds, lr:9.88e-04\n",
      "epoch:55/500 average TL:0.01045199 average VL:0.00976753 epoch time:37 seconds, lr:9.87e-04\n",
      "epoch:56/500 average TL:0.01050242 average VL:0.00980943 epoch time:37 seconds, lr:9.86e-04\n",
      "epoch:57/500 average TL:0.01025555 average VL:0.01016796 epoch time:38 seconds, lr:9.85e-04\n",
      "epoch:58/500 average TL:0.01033868 average VL:0.00977032 epoch time:37 seconds, lr:9.85e-04\n",
      "epoch:59/500 average TL:0.01029236 average VL:0.01042835 epoch time:45 seconds, lr:9.84e-04\n",
      "epoch:60/500 average TL:0.01026213 average VL:0.00993010 epoch time:52 seconds, lr:9.83e-04\n",
      "epoch:61/500 average TL:0.01023812 average VL:0.01033309 epoch time:52 seconds, lr:9.82e-04\n",
      "epoch:62/500 average TL:0.01034971 average VL:0.01026641 epoch time:52 seconds, lr:9.81e-04\n",
      "epoch:63/500 average TL:0.01017118 average VL:0.01007126 epoch time:52 seconds, lr:9.80e-04\n",
      "epoch:64/500 average TL:0.01020135 average VL:0.00994914 epoch time:52 seconds, lr:9.79e-04\n",
      "epoch:65/500 average TL:0.01016239 average VL:0.01026611 epoch time:52 seconds, lr:9.78e-04\n",
      "epoch:66/500 average TL:0.01028107 average VL:0.01011573 epoch time:52 seconds, lr:9.78e-04\n",
      "epoch:67/500 average TL:0.01028331 average VL:0.01012826 epoch time:52 seconds, lr:9.77e-04\n",
      "epoch:68/500 average TL:0.01051466 average VL:0.01001632 epoch time:52 seconds, lr:9.76e-04\n",
      "epoch:69/500 average TL:0.01032206 average VL:0.01025315 epoch time:52 seconds, lr:9.75e-04\n",
      "epoch:70/500 average TL:0.01024009 average VL:0.01037895 epoch time:44 seconds, lr:9.73e-04\n",
      "epoch:71/500 average TL:0.01020027 average VL:0.00983601 epoch time:37 seconds, lr:9.72e-04\n",
      "epoch:72/500 average TL:0.01032380 average VL:0.01015314 epoch time:37 seconds, lr:9.71e-04\n",
      "epoch:73/500 average TL:0.01038485 average VL:0.01019797 epoch time:37 seconds, lr:9.70e-04\n",
      "epoch:74/500 average TL:0.01016180 average VL:0.00985115 epoch time:37 seconds, lr:9.69e-04\n",
      "epoch:75/500 average TL:0.01022837 average VL:0.01037496 epoch time:37 seconds, lr:9.68e-04\n",
      "epoch:76/500 average TL:0.01022374 average VL:0.00991277 epoch time:37 seconds, lr:9.67e-04\n",
      "epoch:77/500 average TL:0.01018643 average VL:0.00993896 epoch time:37 seconds, lr:9.66e-04\n",
      "epoch:78/500 average TL:0.01023227 average VL:0.00990915 epoch time:37 seconds, lr:9.64e-04\n",
      "epoch:79/500 average TL:0.01020445 average VL:0.01060963 epoch time:37 seconds, lr:9.63e-04\n",
      "epoch:80/500 average TL:0.01014222 average VL:0.00985992 epoch time:37 seconds, lr:9.62e-04\n",
      "epoch:81/500 average TL:0.01035788 average VL:0.01022264 epoch time:37 seconds, lr:9.61e-04\n",
      "epoch:82/500 average TL:0.01009188 average VL:0.01000564 epoch time:37 seconds, lr:9.59e-04\n",
      "epoch:83/500 average TL:0.01011613 average VL:0.00989985 epoch time:37 seconds, lr:9.58e-04\n",
      "epoch:84/500 average TL:0.01005324 average VL:0.01059721 epoch time:37 seconds, lr:9.57e-04\n",
      "epoch:85/500 average TL:0.01002515 average VL:0.01016949 epoch time:37 seconds, lr:9.55e-04\n",
      "epoch:86/500 average TL:0.01031704 average VL:0.00999405 epoch time:37 seconds, lr:9.54e-04\n",
      "epoch:87/500 average TL:0.01012886 average VL:0.00992630 epoch time:37 seconds, lr:9.53e-04\n",
      "epoch:88/500 average TL:0.01012257 average VL:0.00991774 epoch time:37 seconds, lr:9.51e-04\n",
      "epoch:89/500 average TL:0.01005536 average VL:0.01031625 epoch time:37 seconds, lr:9.50e-04\n",
      "epoch:90/500 average TL:0.01017961 average VL:0.01005686 epoch time:37 seconds, lr:9.48e-04\n"
     ]
    },
    {
     "name": "stdout",
     "output_type": "stream",
     "text": [
      "epoch:91/500 average TL:0.01001747 average VL:0.00962499 epoch time:37 seconds, lr:9.47e-04\n",
      "epoch:92/500 average TL:0.01005718 average VL:0.01023067 epoch time:37 seconds, lr:9.46e-04\n",
      "epoch:93/500 average TL:0.01011775 average VL:0.00984646 epoch time:37 seconds, lr:9.44e-04\n",
      "epoch:94/500 average TL:0.00992667 average VL:0.00995859 epoch time:37 seconds, lr:9.43e-04\n",
      "epoch:95/500 average TL:0.00984010 average VL:0.00990933 epoch time:37 seconds, lr:9.41e-04\n",
      "epoch:96/500 average TL:0.00998644 average VL:0.01002594 epoch time:37 seconds, lr:9.39e-04\n",
      "epoch:97/500 average TL:0.01033238 average VL:0.00997111 epoch time:37 seconds, lr:9.38e-04\n",
      "epoch:98/500 average TL:0.01001295 average VL:0.01001456 epoch time:37 seconds, lr:9.36e-04\n",
      "epoch:99/500 average TL:0.01007804 average VL:0.01001194 epoch time:37 seconds, lr:9.35e-04\n",
      "epoch:100/500 average TL:0.00999148 average VL:0.00954719 epoch time:37 seconds, lr:9.33e-04\n",
      "epoch:101/500 average TL:0.00989123 average VL:0.00999858 epoch time:37 seconds, lr:9.31e-04\n",
      "epoch:102/500 average TL:0.00993223 average VL:0.00964087 epoch time:37 seconds, lr:9.30e-04\n",
      "epoch:103/500 average TL:0.01002260 average VL:0.00934064 epoch time:37 seconds, lr:9.28e-04\n",
      "epoch:104/500 average TL:0.01004362 average VL:0.00967588 epoch time:37 seconds, lr:9.26e-04\n",
      "epoch:105/500 average TL:0.00997257 average VL:0.00975876 epoch time:37 seconds, lr:9.25e-04\n",
      "epoch:106/500 average TL:0.01009212 average VL:0.00981347 epoch time:37 seconds, lr:9.23e-04\n",
      "epoch:107/500 average TL:0.00970729 average VL:0.00964476 epoch time:37 seconds, lr:9.21e-04\n",
      "epoch:108/500 average TL:0.00955568 average VL:0.00982913 epoch time:37 seconds, lr:9.19e-04\n",
      "epoch:109/500 average TL:0.00978980 average VL:0.00909082 epoch time:37 seconds, lr:9.18e-04\n",
      "epoch:110/500 average TL:0.00952964 average VL:0.00919785 epoch time:37 seconds, lr:9.16e-04\n",
      "epoch:111/500 average TL:0.00960536 average VL:0.00918283 epoch time:43 seconds, lr:9.14e-04\n",
      "epoch:112/500 average TL:0.00941804 average VL:0.00905676 epoch time:37 seconds, lr:9.12e-04\n",
      "epoch:113/500 average TL:0.00924230 average VL:0.00890337 epoch time:37 seconds, lr:9.10e-04\n",
      "epoch:114/500 average TL:0.00934992 average VL:0.00876798 epoch time:37 seconds, lr:9.08e-04\n",
      "epoch:115/500 average TL:0.00902199 average VL:0.00866535 epoch time:37 seconds, lr:9.07e-04\n",
      "epoch:116/500 average TL:0.00921940 average VL:0.00874982 epoch time:37 seconds, lr:9.05e-04\n",
      "epoch:117/500 average TL:0.00879783 average VL:0.00864052 epoch time:37 seconds, lr:9.03e-04\n",
      "epoch:118/500 average TL:0.00873242 average VL:0.00818971 epoch time:37 seconds, lr:9.01e-04\n",
      "epoch:119/500 average TL:0.00841377 average VL:0.00768987 epoch time:37 seconds, lr:8.99e-04\n",
      "epoch:120/500 average TL:0.00802533 average VL:0.00757332 epoch time:37 seconds, lr:8.97e-04\n",
      "epoch:121/500 average TL:0.00773583 average VL:0.00712824 epoch time:37 seconds, lr:8.95e-04\n",
      "epoch:122/500 average TL:0.00704461 average VL:0.00656536 epoch time:37 seconds, lr:8.93e-04\n",
      "epoch:123/500 average TL:0.00665540 average VL:0.00632317 epoch time:37 seconds, lr:8.91e-04\n",
      "epoch:124/500 average TL:0.00643924 average VL:0.00576505 epoch time:37 seconds, lr:8.89e-04\n",
      "epoch:125/500 average TL:0.00611185 average VL:0.00598456 epoch time:37 seconds, lr:8.87e-04\n",
      "epoch:126/500 average TL:0.00593992 average VL:0.00570857 epoch time:37 seconds, lr:8.85e-04\n",
      "epoch:127/500 average TL:0.00582333 average VL:0.00542706 epoch time:37 seconds, lr:8.82e-04\n",
      "epoch:128/500 average TL:0.00573470 average VL:0.00508539 epoch time:37 seconds, lr:8.80e-04\n",
      "epoch:129/500 average TL:0.00557359 average VL:0.00522203 epoch time:37 seconds, lr:8.78e-04\n",
      "epoch:130/500 average TL:0.00546748 average VL:0.00500598 epoch time:37 seconds, lr:8.76e-04\n",
      "epoch:131/500 average TL:0.00542277 average VL:0.00511816 epoch time:37 seconds, lr:8.74e-04\n",
      "epoch:132/500 average TL:0.00549544 average VL:0.00499622 epoch time:37 seconds, lr:8.72e-04\n",
      "epoch:133/500 average TL:0.00544282 average VL:0.00490177 epoch time:37 seconds, lr:8.70e-04\n",
      "epoch:134/500 average TL:0.00537547 average VL:0.00522272 epoch time:37 seconds, lr:8.67e-04\n",
      "epoch:135/500 average TL:0.00515163 average VL:0.00457205 epoch time:39 seconds, lr:8.65e-04\n",
      "epoch:136/500 average TL:0.00527329 average VL:0.00501429 epoch time:52 seconds, lr:8.63e-04\n",
      "epoch:137/500 average TL:0.00500812 average VL:0.00480293 epoch time:53 seconds, lr:8.61e-04\n",
      "epoch:138/500 average TL:0.00526344 average VL:0.00473229 epoch time:51 seconds, lr:8.58e-04\n",
      "epoch:139/500 average TL:0.00516494 average VL:0.00473050 epoch time:37 seconds, lr:8.56e-04\n",
      "epoch:140/500 average TL:0.00505842 average VL:0.00507829 epoch time:37 seconds, lr:8.54e-04\n",
      "epoch:141/500 average TL:0.00502857 average VL:0.00461743 epoch time:37 seconds, lr:8.51e-04\n",
      "epoch:142/500 average TL:0.00505133 average VL:0.00466074 epoch time:37 seconds, lr:8.49e-04\n",
      "epoch:143/500 average TL:0.00514587 average VL:0.00463492 epoch time:37 seconds, lr:8.47e-04\n",
      "epoch:144/500 average TL:0.00493758 average VL:0.00478369 epoch time:37 seconds, lr:8.44e-04\n",
      "epoch:145/500 average TL:0.00491425 average VL:0.00484728 epoch time:37 seconds, lr:8.42e-04\n",
      "epoch:146/500 average TL:0.00519736 average VL:0.00468372 epoch time:37 seconds, lr:8.40e-04\n",
      "epoch:147/500 average TL:0.00494501 average VL:0.00457604 epoch time:37 seconds, lr:8.37e-04\n",
      "epoch:148/500 average TL:0.00528518 average VL:0.00468318 epoch time:37 seconds, lr:8.35e-04\n",
      "epoch:149/500 average TL:0.00488015 average VL:0.00463856 epoch time:37 seconds, lr:8.32e-04\n",
      "epoch:150/500 average TL:0.00504181 average VL:0.00457251 epoch time:37 seconds, lr:8.30e-04\n",
      "epoch:151/500 average TL:0.00492451 average VL:0.00502711 epoch time:37 seconds, lr:8.27e-04\n",
      "epoch:152/500 average TL:0.00478169 average VL:0.00497011 epoch time:37 seconds, lr:8.25e-04\n",
      "epoch:153/500 average TL:0.00507026 average VL:0.00486203 epoch time:37 seconds, lr:8.22e-04\n",
      "epoch:154/500 average TL:0.00504016 average VL:0.00477804 epoch time:43 seconds, lr:8.20e-04\n",
      "epoch:155/500 average TL:0.00493530 average VL:0.00453598 epoch time:53 seconds, lr:8.17e-04\n",
      "epoch:156/500 average TL:0.00498631 average VL:0.00442372 epoch time:40 seconds, lr:8.15e-04\n",
      "epoch:157/500 average TL:0.00470792 average VL:0.00458395 epoch time:37 seconds, lr:8.12e-04\n",
      "epoch:158/500 average TL:0.00481924 average VL:0.00445624 epoch time:37 seconds, lr:8.10e-04\n",
      "epoch:159/500 average TL:0.00485808 average VL:0.00458588 epoch time:37 seconds, lr:8.07e-04\n",
      "epoch:160/500 average TL:0.00472180 average VL:0.00481434 epoch time:37 seconds, lr:8.05e-04\n",
      "epoch:161/500 average TL:0.00458885 average VL:0.00464467 epoch time:37 seconds, lr:8.02e-04\n",
      "epoch:162/500 average TL:0.00491984 average VL:0.00451906 epoch time:37 seconds, lr:7.99e-04\n",
      "epoch:163/500 average TL:0.00470262 average VL:0.00447079 epoch time:37 seconds, lr:7.97e-04\n",
      "epoch:164/500 average TL:0.00482776 average VL:0.00485894 epoch time:37 seconds, lr:7.94e-04\n",
      "epoch:165/500 average TL:0.00482797 average VL:0.00452628 epoch time:37 seconds, lr:7.91e-04\n",
      "epoch:166/500 average TL:0.00498113 average VL:0.00442530 epoch time:37 seconds, lr:7.89e-04\n",
      "epoch:167/500 average TL:0.00473502 average VL:0.00469633 epoch time:37 seconds, lr:7.86e-04\n",
      "epoch:168/500 average TL:0.00459857 average VL:0.00450227 epoch time:37 seconds, lr:7.83e-04\n",
      "epoch:169/500 average TL:0.00495241 average VL:0.00481666 epoch time:37 seconds, lr:7.81e-04\n",
      "epoch:170/500 average TL:0.00470192 average VL:0.00431515 epoch time:37 seconds, lr:7.78e-04\n",
      "epoch:171/500 average TL:0.00477214 average VL:0.00451782 epoch time:37 seconds, lr:7.75e-04\n",
      "epoch:172/500 average TL:0.00479696 average VL:0.00430713 epoch time:37 seconds, lr:7.73e-04\n",
      "epoch:173/500 average TL:0.00483217 average VL:0.00436734 epoch time:37 seconds, lr:7.70e-04\n",
      "epoch:174/500 average TL:0.00475833 average VL:0.00444460 epoch time:37 seconds, lr:7.67e-04\n",
      "epoch:175/500 average TL:0.00487948 average VL:0.00448405 epoch time:37 seconds, lr:7.64e-04\n",
      "epoch:176/500 average TL:0.00466770 average VL:0.00440011 epoch time:37 seconds, lr:7.61e-04\n",
      "epoch:177/500 average TL:0.00462438 average VL:0.00465362 epoch time:37 seconds, lr:7.59e-04\n",
      "epoch:178/500 average TL:0.00460656 average VL:0.00451180 epoch time:37 seconds, lr:7.56e-04\n",
      "epoch:179/500 average TL:0.00472672 average VL:0.00451627 epoch time:37 seconds, lr:7.53e-04\n"
     ]
    },
    {
     "name": "stdout",
     "output_type": "stream",
     "text": [
      "epoch:180/500 average TL:0.00460873 average VL:0.00451353 epoch time:37 seconds, lr:7.50e-04\n",
      "epoch:181/500 average TL:0.00468823 average VL:0.00473849 epoch time:37 seconds, lr:7.47e-04\n",
      "epoch:182/500 average TL:0.00454929 average VL:0.00475313 epoch time:37 seconds, lr:7.45e-04\n",
      "epoch:183/500 average TL:0.00458725 average VL:0.00451745 epoch time:37 seconds, lr:7.42e-04\n",
      "epoch:184/500 average TL:0.00464392 average VL:0.00464422 epoch time:37 seconds, lr:7.39e-04\n",
      "epoch:185/500 average TL:0.00479393 average VL:0.00427652 epoch time:37 seconds, lr:7.36e-04\n",
      "epoch:186/500 average TL:0.00483480 average VL:0.00452120 epoch time:37 seconds, lr:7.33e-04\n",
      "epoch:187/500 average TL:0.00467806 average VL:0.00454943 epoch time:37 seconds, lr:7.30e-04\n",
      "epoch:188/500 average TL:0.00459565 average VL:0.00478044 epoch time:37 seconds, lr:7.27e-04\n",
      "epoch:189/500 average TL:0.00470981 average VL:0.00462377 epoch time:37 seconds, lr:7.24e-04\n",
      "epoch:190/500 average TL:0.00456867 average VL:0.00457280 epoch time:37 seconds, lr:7.21e-04\n",
      "epoch:191/500 average TL:0.00467008 average VL:0.00428647 epoch time:37 seconds, lr:7.18e-04\n",
      "epoch:192/500 average TL:0.00473407 average VL:0.00460132 epoch time:37 seconds, lr:7.16e-04\n",
      "epoch:193/500 average TL:0.00462753 average VL:0.00435150 epoch time:37 seconds, lr:7.13e-04\n",
      "epoch:194/500 average TL:0.00444273 average VL:0.00446370 epoch time:37 seconds, lr:7.10e-04\n",
      "epoch:195/500 average TL:0.00453550 average VL:0.00445545 epoch time:37 seconds, lr:7.07e-04\n",
      "epoch:196/500 average TL:0.00478465 average VL:0.00476420 epoch time:37 seconds, lr:7.04e-04\n",
      "epoch:197/500 average TL:0.00487727 average VL:0.00451332 epoch time:37 seconds, lr:7.01e-04\n",
      "epoch:198/500 average TL:0.00467546 average VL:0.00442522 epoch time:37 seconds, lr:6.98e-04\n",
      "epoch:199/500 average TL:0.00465994 average VL:0.00466060 epoch time:37 seconds, lr:6.95e-04\n",
      "epoch:200/500 average TL:0.00454418 average VL:0.00488241 epoch time:37 seconds, lr:6.92e-04\n",
      "epoch:201/500 average TL:0.00466466 average VL:0.00429907 epoch time:37 seconds, lr:6.89e-04\n",
      "epoch:202/500 average TL:0.00454733 average VL:0.00477736 epoch time:37 seconds, lr:6.86e-04\n",
      "epoch:203/500 average TL:0.00458784 average VL:0.00479340 epoch time:37 seconds, lr:6.83e-04\n",
      "epoch:204/500 average TL:0.00452452 average VL:0.00423329 epoch time:37 seconds, lr:6.80e-04\n",
      "epoch:205/500 average TL:0.00449508 average VL:0.00405348 epoch time:37 seconds, lr:6.76e-04\n",
      "epoch:206/500 average TL:0.00464783 average VL:0.00422807 epoch time:37 seconds, lr:6.73e-04\n",
      "epoch:207/500 average TL:0.00468776 average VL:0.00444165 epoch time:37 seconds, lr:6.70e-04\n",
      "epoch:208/500 average TL:0.00455632 average VL:0.00385943 epoch time:37 seconds, lr:6.67e-04\n",
      "epoch:209/500 average TL:0.00473034 average VL:0.00418017 epoch time:37 seconds, lr:6.64e-04\n",
      "epoch:210/500 average TL:0.00457519 average VL:0.00445458 epoch time:37 seconds, lr:6.61e-04\n",
      "epoch:211/500 average TL:0.00476816 average VL:0.00429453 epoch time:37 seconds, lr:6.58e-04\n",
      "epoch:212/500 average TL:0.00471206 average VL:0.00457943 epoch time:37 seconds, lr:6.55e-04\n",
      "epoch:213/500 average TL:0.00450770 average VL:0.00441363 epoch time:37 seconds, lr:6.52e-04\n",
      "epoch:214/500 average TL:0.00449833 average VL:0.00419158 epoch time:37 seconds, lr:6.49e-04\n",
      "epoch:215/500 average TL:0.00457950 average VL:0.00451168 epoch time:37 seconds, lr:6.45e-04\n",
      "epoch:216/500 average TL:0.00467942 average VL:0.00456871 epoch time:37 seconds, lr:6.42e-04\n",
      "epoch:217/500 average TL:0.00446893 average VL:0.00453000 epoch time:37 seconds, lr:6.39e-04\n",
      "epoch:218/500 average TL:0.00471839 average VL:0.00460015 epoch time:37 seconds, lr:6.36e-04\n",
      "epoch:219/500 average TL:0.00468015 average VL:0.00420546 epoch time:37 seconds, lr:6.33e-04\n",
      "epoch:220/500 average TL:0.00450394 average VL:0.00440774 epoch time:37 seconds, lr:6.30e-04\n",
      "epoch:221/500 average TL:0.00459870 average VL:0.00447607 epoch time:37 seconds, lr:6.27e-04\n",
      "epoch:222/500 average TL:0.00464486 average VL:0.00465061 epoch time:37 seconds, lr:6.23e-04\n",
      "epoch:223/500 average TL:0.00452164 average VL:0.00431688 epoch time:37 seconds, lr:6.20e-04\n",
      "epoch:224/500 average TL:0.00473525 average VL:0.00439515 epoch time:37 seconds, lr:6.17e-04\n",
      "epoch:225/500 average TL:0.00447830 average VL:0.00451534 epoch time:37 seconds, lr:6.14e-04\n",
      "epoch:226/500 average TL:0.00439935 average VL:0.00446565 epoch time:37 seconds, lr:6.11e-04\n",
      "epoch:227/500 average TL:0.00467089 average VL:0.00440755 epoch time:37 seconds, lr:6.08e-04\n",
      "epoch:228/500 average TL:0.00462892 average VL:0.00436334 epoch time:37 seconds, lr:6.04e-04\n",
      "epoch:229/500 average TL:0.00455854 average VL:0.00458030 epoch time:37 seconds, lr:6.01e-04\n",
      "epoch:230/500 average TL:0.00463985 average VL:0.00437572 epoch time:37 seconds, lr:5.98e-04\n",
      "epoch:231/500 average TL:0.00451942 average VL:0.00477098 epoch time:37 seconds, lr:5.95e-04\n",
      "epoch:232/500 average TL:0.00449555 average VL:0.00441568 epoch time:37 seconds, lr:5.92e-04\n",
      "epoch:233/500 average TL:0.00457378 average VL:0.00434743 epoch time:37 seconds, lr:5.88e-04\n",
      "epoch:234/500 average TL:0.00446781 average VL:0.00461083 epoch time:37 seconds, lr:5.85e-04\n",
      "epoch:235/500 average TL:0.00457191 average VL:0.00438008 epoch time:37 seconds, lr:5.82e-04\n",
      "epoch:236/500 average TL:0.00438446 average VL:0.00433525 epoch time:37 seconds, lr:5.79e-04\n",
      "epoch:237/500 average TL:0.00440010 average VL:0.00423283 epoch time:37 seconds, lr:5.75e-04\n",
      "epoch:238/500 average TL:0.00444555 average VL:0.00432422 epoch time:37 seconds, lr:5.72e-04\n",
      "epoch:239/500 average TL:0.00455105 average VL:0.00444773 epoch time:37 seconds, lr:5.69e-04\n",
      "epoch:240/500 average TL:0.00453486 average VL:0.00468499 epoch time:40 seconds, lr:5.66e-04\n",
      "epoch:241/500 average TL:0.00450118 average VL:0.00441398 epoch time:37 seconds, lr:5.62e-04\n",
      "epoch:242/500 average TL:0.00462383 average VL:0.00439285 epoch time:37 seconds, lr:5.59e-04\n",
      "epoch:243/500 average TL:0.00460252 average VL:0.00428545 epoch time:37 seconds, lr:5.56e-04\n",
      "epoch:244/500 average TL:0.00455326 average VL:0.00417637 epoch time:37 seconds, lr:5.53e-04\n",
      "epoch:245/500 average TL:0.00454725 average VL:0.00431176 epoch time:37 seconds, lr:5.49e-04\n",
      "epoch:246/500 average TL:0.00461380 average VL:0.00461467 epoch time:37 seconds, lr:5.46e-04\n",
      "epoch:247/500 average TL:0.00462907 average VL:0.00446996 epoch time:37 seconds, lr:5.43e-04\n",
      "epoch:248/500 average TL:0.00435986 average VL:0.00417203 epoch time:37 seconds, lr:5.40e-04\n",
      "epoch:249/500 average TL:0.00442701 average VL:0.00463570 epoch time:37 seconds, lr:5.36e-04\n",
      "epoch:250/500 average TL:0.00444426 average VL:0.00440298 epoch time:37 seconds, lr:5.33e-04\n",
      "epoch:251/500 average TL:0.00455830 average VL:0.00470112 epoch time:37 seconds, lr:5.30e-04\n",
      "epoch:252/500 average TL:0.00439151 average VL:0.00450988 epoch time:37 seconds, lr:5.27e-04\n",
      "epoch:253/500 average TL:0.00454071 average VL:0.00441571 epoch time:37 seconds, lr:5.23e-04\n",
      "epoch:254/500 average TL:0.00435117 average VL:0.00432654 epoch time:37 seconds, lr:5.20e-04\n",
      "epoch:255/500 average TL:0.00459144 average VL:0.00438907 epoch time:37 seconds, lr:5.17e-04\n",
      "epoch:256/500 average TL:0.00450216 average VL:0.00431130 epoch time:37 seconds, lr:5.14e-04\n",
      "epoch:257/500 average TL:0.00442658 average VL:0.00422197 epoch time:38 seconds, lr:5.10e-04\n",
      "epoch:258/500 average TL:0.00444888 average VL:0.00461075 epoch time:37 seconds, lr:5.07e-04\n",
      "epoch:259/500 average TL:0.00454891 average VL:0.00439293 epoch time:37 seconds, lr:5.04e-04\n",
      "epoch:260/500 average TL:0.00454954 average VL:0.00416087 epoch time:37 seconds, lr:5.01e-04\n",
      "epoch:261/500 average TL:0.00440134 average VL:0.00429907 epoch time:37 seconds, lr:4.97e-04\n",
      "epoch:262/500 average TL:0.00444177 average VL:0.00402555 epoch time:40 seconds, lr:4.94e-04\n",
      "epoch:263/500 average TL:0.00452756 average VL:0.00427910 epoch time:52 seconds, lr:4.91e-04\n",
      "epoch:264/500 average TL:0.00452682 average VL:0.00431500 epoch time:53 seconds, lr:4.87e-04\n",
      "epoch:265/500 average TL:0.00463101 average VL:0.00442271 epoch time:47 seconds, lr:4.84e-04\n",
      "epoch:266/500 average TL:0.00458472 average VL:0.00436293 epoch time:37 seconds, lr:4.81e-04\n",
      "epoch:267/500 average TL:0.00455410 average VL:0.00440332 epoch time:37 seconds, lr:4.78e-04\n",
      "epoch:268/500 average TL:0.00439227 average VL:0.00415388 epoch time:37 seconds, lr:4.74e-04\n"
     ]
    },
    {
     "name": "stdout",
     "output_type": "stream",
     "text": [
      "epoch:269/500 average TL:0.00444089 average VL:0.00418836 epoch time:37 seconds, lr:4.71e-04\n",
      "epoch:270/500 average TL:0.00444224 average VL:0.00448070 epoch time:37 seconds, lr:4.68e-04\n",
      "epoch:271/500 average TL:0.00443384 average VL:0.00423202 epoch time:37 seconds, lr:4.65e-04\n",
      "epoch:272/500 average TL:0.00458700 average VL:0.00423425 epoch time:37 seconds, lr:4.61e-04\n",
      "epoch:273/500 average TL:0.00457188 average VL:0.00454372 epoch time:37 seconds, lr:4.58e-04\n",
      "epoch:274/500 average TL:0.00452603 average VL:0.00432405 epoch time:37 seconds, lr:4.55e-04\n",
      "epoch:275/500 average TL:0.00447378 average VL:0.00428199 epoch time:37 seconds, lr:4.52e-04\n",
      "epoch:276/500 average TL:0.00451073 average VL:0.00425849 epoch time:37 seconds, lr:4.48e-04\n",
      "epoch:277/500 average TL:0.00448601 average VL:0.00419775 epoch time:37 seconds, lr:4.45e-04\n",
      "epoch:278/500 average TL:0.00448746 average VL:0.00452710 epoch time:37 seconds, lr:4.42e-04\n",
      "epoch:279/500 average TL:0.00461052 average VL:0.00469520 epoch time:37 seconds, lr:4.39e-04\n",
      "epoch:280/500 average TL:0.00446957 average VL:0.00421585 epoch time:37 seconds, lr:4.35e-04\n",
      "epoch:281/500 average TL:0.00441906 average VL:0.00403947 epoch time:37 seconds, lr:4.32e-04\n",
      "epoch:282/500 average TL:0.00465725 average VL:0.00462087 epoch time:37 seconds, lr:4.29e-04\n",
      "epoch:283/500 average TL:0.00448992 average VL:0.00421519 epoch time:37 seconds, lr:4.26e-04\n",
      "epoch:284/500 average TL:0.00455200 average VL:0.00429458 epoch time:37 seconds, lr:4.22e-04\n",
      "epoch:285/500 average TL:0.00440070 average VL:0.00433896 epoch time:37 seconds, lr:4.19e-04\n",
      "epoch:286/500 average TL:0.00438831 average VL:0.00492197 epoch time:37 seconds, lr:4.16e-04\n",
      "epoch:287/500 average TL:0.00436732 average VL:0.00414581 epoch time:37 seconds, lr:4.13e-04\n",
      "epoch:288/500 average TL:0.00454950 average VL:0.00436671 epoch time:37 seconds, lr:4.09e-04\n",
      "epoch:289/500 average TL:0.00440711 average VL:0.00404615 epoch time:37 seconds, lr:4.06e-04\n",
      "epoch:290/500 average TL:0.00435322 average VL:0.00426152 epoch time:37 seconds, lr:4.03e-04\n",
      "epoch:291/500 average TL:0.00449881 average VL:0.00468042 epoch time:37 seconds, lr:4.00e-04\n",
      "epoch:292/500 average TL:0.00436542 average VL:0.00411436 epoch time:37 seconds, lr:3.97e-04\n",
      "epoch:293/500 average TL:0.00439615 average VL:0.00456399 epoch time:37 seconds, lr:3.93e-04\n",
      "epoch:294/500 average TL:0.00444790 average VL:0.00451960 epoch time:37 seconds, lr:3.90e-04\n",
      "epoch:295/500 average TL:0.00446930 average VL:0.00464841 epoch time:37 seconds, lr:3.87e-04\n",
      "epoch:296/500 average TL:0.00458612 average VL:0.00430003 epoch time:37 seconds, lr:3.84e-04\n",
      "epoch:297/500 average TL:0.00446179 average VL:0.00460872 epoch time:37 seconds, lr:3.81e-04\n",
      "epoch:298/500 average TL:0.00459829 average VL:0.00462955 epoch time:37 seconds, lr:3.78e-04\n",
      "epoch:299/500 average TL:0.00434670 average VL:0.00429202 epoch time:37 seconds, lr:3.74e-04\n",
      "epoch:300/500 average TL:0.00431655 average VL:0.00443537 epoch time:37 seconds, lr:3.71e-04\n",
      "epoch:301/500 average TL:0.00443844 average VL:0.00448762 epoch time:37 seconds, lr:3.68e-04\n",
      "epoch:302/500 average TL:0.00443919 average VL:0.00438779 epoch time:37 seconds, lr:3.65e-04\n",
      "epoch:303/500 average TL:0.00438318 average VL:0.00447918 epoch time:37 seconds, lr:3.62e-04\n",
      "epoch:304/500 average TL:0.00456476 average VL:0.00425736 epoch time:37 seconds, lr:3.59e-04\n",
      "epoch:305/500 average TL:0.00455118 average VL:0.00428636 epoch time:37 seconds, lr:3.56e-04\n",
      "epoch:306/500 average TL:0.00444924 average VL:0.00445839 epoch time:37 seconds, lr:3.52e-04\n",
      "epoch:307/500 average TL:0.00456117 average VL:0.00428044 epoch time:37 seconds, lr:3.49e-04\n",
      "epoch:308/500 average TL:0.00439755 average VL:0.00432026 epoch time:37 seconds, lr:3.46e-04\n",
      "epoch:309/500 average TL:0.00462437 average VL:0.00402233 epoch time:37 seconds, lr:3.43e-04\n",
      "epoch:310/500 average TL:0.00448065 average VL:0.00438547 epoch time:37 seconds, lr:3.40e-04\n",
      "epoch:311/500 average TL:0.00443239 average VL:0.00421354 epoch time:37 seconds, lr:3.37e-04\n",
      "epoch:312/500 average TL:0.00428800 average VL:0.00457978 epoch time:37 seconds, lr:3.34e-04\n",
      "epoch:313/500 average TL:0.00427935 average VL:0.00437757 epoch time:37 seconds, lr:3.31e-04\n",
      "epoch:314/500 average TL:0.00447277 average VL:0.00473184 epoch time:37 seconds, lr:3.28e-04\n",
      "epoch:315/500 average TL:0.00436531 average VL:0.00419116 epoch time:37 seconds, lr:3.25e-04\n",
      "epoch:316/500 average TL:0.00436059 average VL:0.00422961 epoch time:37 seconds, lr:3.21e-04\n",
      "epoch:317/500 average TL:0.00448205 average VL:0.00414597 epoch time:37 seconds, lr:3.18e-04\n",
      "epoch:318/500 average TL:0.00434515 average VL:0.00448003 epoch time:37 seconds, lr:3.15e-04\n",
      "epoch:319/500 average TL:0.00448040 average VL:0.00433117 epoch time:37 seconds, lr:3.12e-04\n",
      "epoch:320/500 average TL:0.00415896 average VL:0.00434686 epoch time:37 seconds, lr:3.09e-04\n",
      "epoch:321/500 average TL:0.00446351 average VL:0.00448030 epoch time:37 seconds, lr:3.06e-04\n",
      "epoch:322/500 average TL:0.00442999 average VL:0.00451915 epoch time:37 seconds, lr:3.03e-04\n",
      "epoch:323/500 average TL:0.00431547 average VL:0.00406443 epoch time:37 seconds, lr:3.00e-04\n",
      "epoch:324/500 average TL:0.00440516 average VL:0.00427772 epoch time:37 seconds, lr:2.97e-04\n",
      "epoch:325/500 average TL:0.00433433 average VL:0.00419951 epoch time:37 seconds, lr:2.94e-04\n",
      "epoch:326/500 average TL:0.00459923 average VL:0.00426686 epoch time:37 seconds, lr:2.91e-04\n",
      "epoch:327/500 average TL:0.00446188 average VL:0.00450243 epoch time:37 seconds, lr:2.88e-04\n",
      "epoch:328/500 average TL:0.00428181 average VL:0.00460060 epoch time:37 seconds, lr:2.85e-04\n",
      "epoch:329/500 average TL:0.00459707 average VL:0.00422259 epoch time:37 seconds, lr:2.83e-04\n",
      "epoch:330/500 average TL:0.00447638 average VL:0.00419614 epoch time:37 seconds, lr:2.80e-04\n",
      "epoch:331/500 average TL:0.00451401 average VL:0.00420875 epoch time:37 seconds, lr:2.77e-04\n",
      "epoch:332/500 average TL:0.00437681 average VL:0.00420934 epoch time:37 seconds, lr:2.74e-04\n",
      "epoch:333/500 average TL:0.00424115 average VL:0.00442989 epoch time:37 seconds, lr:2.71e-04\n",
      "epoch:334/500 average TL:0.00451561 average VL:0.00407679 epoch time:37 seconds, lr:2.68e-04\n",
      "epoch:335/500 average TL:0.00434392 average VL:0.00447912 epoch time:37 seconds, lr:2.65e-04\n",
      "epoch:336/500 average TL:0.00457405 average VL:0.00439166 epoch time:37 seconds, lr:2.62e-04\n",
      "epoch:337/500 average TL:0.00425607 average VL:0.00412038 epoch time:37 seconds, lr:2.59e-04\n",
      "epoch:338/500 average TL:0.00430868 average VL:0.00452634 epoch time:37 seconds, lr:2.56e-04\n",
      "epoch:339/500 average TL:0.00443558 average VL:0.00411782 epoch time:38 seconds, lr:2.54e-04\n",
      "epoch:340/500 average TL:0.00436864 average VL:0.00436170 epoch time:37 seconds, lr:2.51e-04\n",
      "epoch:341/500 average TL:0.00454211 average VL:0.00416082 epoch time:37 seconds, lr:2.48e-04\n",
      "epoch:342/500 average TL:0.00446018 average VL:0.00417593 epoch time:37 seconds, lr:2.45e-04\n",
      "epoch:343/500 average TL:0.00435538 average VL:0.00410156 epoch time:37 seconds, lr:2.42e-04\n",
      "epoch:344/500 average TL:0.00446372 average VL:0.00407266 epoch time:37 seconds, lr:2.40e-04\n",
      "epoch:345/500 average TL:0.00440598 average VL:0.00394251 epoch time:37 seconds, lr:2.37e-04\n",
      "epoch:346/500 average TL:0.00433409 average VL:0.00404825 epoch time:37 seconds, lr:2.34e-04\n",
      "epoch:347/500 average TL:0.00423759 average VL:0.00436069 epoch time:38 seconds, lr:2.31e-04\n",
      "epoch:348/500 average TL:0.00439342 average VL:0.00426946 epoch time:37 seconds, lr:2.28e-04\n",
      "epoch:349/500 average TL:0.00433431 average VL:0.00408960 epoch time:37 seconds, lr:2.26e-04\n",
      "epoch:350/500 average TL:0.00459087 average VL:0.00442314 epoch time:37 seconds, lr:2.23e-04\n",
      "epoch:351/500 average TL:0.00421333 average VL:0.00409055 epoch time:37 seconds, lr:2.20e-04\n",
      "epoch:352/500 average TL:0.00436174 average VL:0.00412681 epoch time:37 seconds, lr:2.18e-04\n",
      "epoch:353/500 average TL:0.00456887 average VL:0.00443470 epoch time:37 seconds, lr:2.15e-04\n",
      "epoch:354/500 average TL:0.00425038 average VL:0.00425500 epoch time:37 seconds, lr:2.12e-04\n",
      "epoch:355/500 average TL:0.00440841 average VL:0.00433721 epoch time:37 seconds, lr:2.10e-04\n",
      "epoch:356/500 average TL:0.00438578 average VL:0.00468447 epoch time:37 seconds, lr:2.07e-04\n",
      "epoch:357/500 average TL:0.00450286 average VL:0.00425984 epoch time:37 seconds, lr:2.04e-04\n"
     ]
    },
    {
     "name": "stdout",
     "output_type": "stream",
     "text": [
      "epoch:358/500 average TL:0.00434007 average VL:0.00397073 epoch time:37 seconds, lr:2.02e-04\n",
      "epoch:359/500 average TL:0.00449972 average VL:0.00403588 epoch time:37 seconds, lr:1.99e-04\n",
      "epoch:360/500 average TL:0.00454943 average VL:0.00421074 epoch time:37 seconds, lr:1.96e-04\n",
      "epoch:361/500 average TL:0.00426907 average VL:0.00401636 epoch time:37 seconds, lr:1.94e-04\n",
      "epoch:362/500 average TL:0.00446569 average VL:0.00398421 epoch time:37 seconds, lr:1.91e-04\n",
      "epoch:363/500 average TL:0.00438485 average VL:0.00460244 epoch time:37 seconds, lr:1.89e-04\n",
      "epoch:364/500 average TL:0.00445141 average VL:0.00421295 epoch time:37 seconds, lr:1.86e-04\n",
      "epoch:365/500 average TL:0.00443198 average VL:0.00425576 epoch time:37 seconds, lr:1.84e-04\n",
      "epoch:366/500 average TL:0.00439230 average VL:0.00427833 epoch time:37 seconds, lr:1.81e-04\n",
      "epoch:367/500 average TL:0.00440881 average VL:0.00408273 epoch time:38 seconds, lr:1.79e-04\n",
      "epoch:368/500 average TL:0.00449863 average VL:0.00424052 epoch time:37 seconds, lr:1.76e-04\n",
      "epoch:369/500 average TL:0.00436684 average VL:0.00417511 epoch time:37 seconds, lr:1.74e-04\n",
      "epoch:370/500 average TL:0.00458882 average VL:0.00417893 epoch time:37 seconds, lr:1.71e-04\n",
      "epoch:371/500 average TL:0.00440165 average VL:0.00411025 epoch time:37 seconds, lr:1.69e-04\n",
      "epoch:372/500 average TL:0.00443913 average VL:0.00451016 epoch time:37 seconds, lr:1.66e-04\n",
      "epoch:373/500 average TL:0.00447109 average VL:0.00439281 epoch time:37 seconds, lr:1.64e-04\n",
      "epoch:374/500 average TL:0.00432516 average VL:0.00398413 epoch time:37 seconds, lr:1.61e-04\n",
      "epoch:375/500 average TL:0.00444314 average VL:0.00477222 epoch time:37 seconds, lr:1.59e-04\n",
      "epoch:376/500 average TL:0.00427354 average VL:0.00440943 epoch time:37 seconds, lr:1.57e-04\n",
      "epoch:377/500 average TL:0.00461379 average VL:0.00445382 epoch time:37 seconds, lr:1.54e-04\n",
      "epoch:378/500 average TL:0.00444039 average VL:0.00428582 epoch time:37 seconds, lr:1.52e-04\n",
      "epoch:379/500 average TL:0.00443273 average VL:0.00437853 epoch time:37 seconds, lr:1.50e-04\n",
      "epoch:380/500 average TL:0.00451921 average VL:0.00419502 epoch time:53 seconds, lr:1.47e-04\n",
      "epoch:381/500 average TL:0.00447027 average VL:0.00446975 epoch time:53 seconds, lr:1.45e-04\n",
      "epoch:382/500 average TL:0.00441085 average VL:0.00407877 epoch time:53 seconds, lr:1.43e-04\n",
      "epoch:383/500 average TL:0.00417424 average VL:0.00405319 epoch time:40 seconds, lr:1.40e-04\n",
      "epoch:384/500 average TL:0.00436112 average VL:0.00419333 epoch time:37 seconds, lr:1.38e-04\n",
      "epoch:385/500 average TL:0.00432432 average VL:0.00411216 epoch time:37 seconds, lr:1.36e-04\n",
      "epoch:386/500 average TL:0.00428620 average VL:0.00408164 epoch time:37 seconds, lr:1.34e-04\n",
      "epoch:387/500 average TL:0.00458583 average VL:0.00458025 epoch time:37 seconds, lr:1.31e-04\n",
      "epoch:388/500 average TL:0.00439100 average VL:0.00413848 epoch time:37 seconds, lr:1.29e-04\n",
      "epoch:389/500 average TL:0.00447602 average VL:0.00413247 epoch time:37 seconds, lr:1.27e-04\n",
      "epoch:390/500 average TL:0.00427752 average VL:0.00420752 epoch time:37 seconds, lr:1.25e-04\n",
      "epoch:391/500 average TL:0.00454514 average VL:0.00426009 epoch time:37 seconds, lr:1.23e-04\n",
      "epoch:392/500 average TL:0.00460017 average VL:0.00424168 epoch time:37 seconds, lr:1.21e-04\n",
      "epoch:393/500 average TL:0.00436036 average VL:0.00439141 epoch time:37 seconds, lr:1.19e-04\n",
      "epoch:394/500 average TL:0.00439665 average VL:0.00402076 epoch time:37 seconds, lr:1.16e-04\n",
      "epoch:395/500 average TL:0.00445715 average VL:0.00412803 epoch time:37 seconds, lr:1.14e-04\n",
      "epoch:396/500 average TL:0.00454085 average VL:0.00400349 epoch time:37 seconds, lr:1.12e-04\n",
      "epoch:397/500 average TL:0.00437165 average VL:0.00451580 epoch time:37 seconds, lr:1.10e-04\n",
      "epoch:398/500 average TL:0.00430652 average VL:0.00412195 epoch time:37 seconds, lr:1.08e-04\n",
      "epoch:399/500 average TL:0.00439467 average VL:0.00428223 epoch time:37 seconds, lr:1.06e-04\n",
      "epoch:400/500 average TL:0.00432055 average VL:0.00429771 epoch time:37 seconds, lr:1.04e-04\n",
      "epoch:401/500 average TL:0.00453450 average VL:0.00419918 epoch time:37 seconds, lr:1.02e-04\n",
      "epoch:402/500 average TL:0.00443871 average VL:0.00419928 epoch time:37 seconds, lr:1.00e-04\n",
      "epoch:403/500 average TL:0.00431621 average VL:0.00448748 epoch time:37 seconds, lr:9.83e-05\n",
      "epoch:404/500 average TL:0.00434335 average VL:0.00411454 epoch time:37 seconds, lr:9.64e-05\n",
      "epoch:405/500 average TL:0.00433889 average VL:0.00435509 epoch time:37 seconds, lr:9.45e-05\n",
      "epoch:406/500 average TL:0.00447652 average VL:0.00419641 epoch time:37 seconds, lr:9.26e-05\n",
      "epoch:407/500 average TL:0.00454171 average VL:0.00414750 epoch time:37 seconds, lr:9.07e-05\n",
      "epoch:408/500 average TL:0.00456098 average VL:0.00414923 epoch time:37 seconds, lr:8.88e-05\n",
      "epoch:409/500 average TL:0.00448078 average VL:0.00418991 epoch time:37 seconds, lr:8.70e-05\n",
      "epoch:410/500 average TL:0.00453566 average VL:0.00410240 epoch time:37 seconds, lr:8.52e-05\n",
      "epoch:411/500 average TL:0.00436763 average VL:0.00434471 epoch time:37 seconds, lr:8.34e-05\n",
      "epoch:412/500 average TL:0.00447710 average VL:0.00436438 epoch time:37 seconds, lr:8.16e-05\n",
      "epoch:413/500 average TL:0.00431910 average VL:0.00394077 epoch time:37 seconds, lr:7.98e-05\n",
      "epoch:414/500 average TL:0.00445641 average VL:0.00454352 epoch time:37 seconds, lr:7.81e-05\n",
      "epoch:415/500 average TL:0.00430099 average VL:0.00411449 epoch time:37 seconds, lr:7.63e-05\n",
      "epoch:416/500 average TL:0.00442126 average VL:0.00415759 epoch time:37 seconds, lr:7.46e-05\n",
      "epoch:417/500 average TL:0.00423498 average VL:0.00418578 epoch time:44 seconds, lr:7.29e-05\n",
      "epoch:418/500 average TL:0.00448966 average VL:0.00421854 epoch time:52 seconds, lr:7.12e-05\n",
      "epoch:419/500 average TL:0.00443341 average VL:0.00426316 epoch time:50 seconds, lr:6.96e-05\n",
      "epoch:420/500 average TL:0.00429485 average VL:0.00440970 epoch time:37 seconds, lr:6.79e-05\n",
      "epoch:421/500 average TL:0.00452842 average VL:0.00408283 epoch time:37 seconds, lr:6.63e-05\n",
      "epoch:422/500 average TL:0.00434333 average VL:0.00408763 epoch time:37 seconds, lr:6.47e-05\n",
      "epoch:423/500 average TL:0.00440392 average VL:0.00453118 epoch time:37 seconds, lr:6.31e-05\n",
      "epoch:424/500 average TL:0.00447152 average VL:0.00409445 epoch time:37 seconds, lr:6.15e-05\n",
      "epoch:425/500 average TL:0.00457741 average VL:0.00433709 epoch time:37 seconds, lr:6.00e-05\n",
      "epoch:426/500 average TL:0.00435264 average VL:0.00442524 epoch time:37 seconds, lr:5.84e-05\n",
      "epoch:427/500 average TL:0.00432452 average VL:0.00415215 epoch time:38 seconds, lr:5.69e-05\n",
      "epoch:428/500 average TL:0.00443354 average VL:0.00414101 epoch time:37 seconds, lr:5.54e-05\n",
      "epoch:429/500 average TL:0.00423654 average VL:0.00431404 epoch time:37 seconds, lr:5.40e-05\n",
      "epoch:430/500 average TL:0.00425417 average VL:0.00415667 epoch time:37 seconds, lr:5.25e-05\n",
      "epoch:431/500 average TL:0.00424715 average VL:0.00427575 epoch time:37 seconds, lr:5.11e-05\n",
      "epoch:432/500 average TL:0.00422776 average VL:0.00414550 epoch time:37 seconds, lr:4.97e-05\n",
      "epoch:433/500 average TL:0.00425455 average VL:0.00412189 epoch time:37 seconds, lr:4.83e-05\n",
      "epoch:434/500 average TL:0.00434341 average VL:0.00433131 epoch time:37 seconds, lr:4.69e-05\n",
      "epoch:435/500 average TL:0.00446994 average VL:0.00414034 epoch time:37 seconds, lr:4.55e-05\n",
      "epoch:436/500 average TL:0.00431223 average VL:0.00418166 epoch time:37 seconds, lr:4.42e-05\n",
      "epoch:437/500 average TL:0.00447918 average VL:0.00422317 epoch time:37 seconds, lr:4.29e-05\n",
      "epoch:438/500 average TL:0.00443920 average VL:0.00446930 epoch time:37 seconds, lr:4.16e-05\n",
      "epoch:439/500 average TL:0.00432062 average VL:0.00418662 epoch time:37 seconds, lr:4.03e-05\n",
      "epoch:440/500 average TL:0.00433234 average VL:0.00437626 epoch time:37 seconds, lr:3.90e-05\n",
      "epoch:441/500 average TL:0.00442453 average VL:0.00413280 epoch time:37 seconds, lr:3.78e-05\n",
      "epoch:442/500 average TL:0.00423708 average VL:0.00417242 epoch time:37 seconds, lr:3.66e-05\n",
      "epoch:443/500 average TL:0.00440085 average VL:0.00441534 epoch time:37 seconds, lr:3.54e-05\n",
      "epoch:444/500 average TL:0.00450771 average VL:0.00438295 epoch time:37 seconds, lr:3.42e-05\n",
      "epoch:445/500 average TL:0.00428312 average VL:0.00427267 epoch time:37 seconds, lr:3.30e-05\n",
      "epoch:446/500 average TL:0.00438900 average VL:0.00428894 epoch time:37 seconds, lr:3.19e-05\n"
     ]
    },
    {
     "name": "stdout",
     "output_type": "stream",
     "text": [
      "epoch:447/500 average TL:0.00441553 average VL:0.00411396 epoch time:37 seconds, lr:3.08e-05\n",
      "epoch:448/500 average TL:0.00433917 average VL:0.00443730 epoch time:37 seconds, lr:2.97e-05\n",
      "epoch:449/500 average TL:0.00433013 average VL:0.00435509 epoch time:37 seconds, lr:2.86e-05\n",
      "epoch:450/500 average TL:0.00447140 average VL:0.00377098 epoch time:51 seconds, lr:2.75e-05\n",
      "epoch:451/500 average TL:0.00415691 average VL:0.00449504 epoch time:39 seconds, lr:2.65e-05\n",
      "epoch:452/500 average TL:0.00451901 average VL:0.00397742 epoch time:37 seconds, lr:2.54e-05\n",
      "epoch:453/500 average TL:0.00434804 average VL:0.00433021 epoch time:37 seconds, lr:2.44e-05\n",
      "epoch:454/500 average TL:0.00442690 average VL:0.00409274 epoch time:37 seconds, lr:2.35e-05\n",
      "epoch:455/500 average TL:0.00430908 average VL:0.00437343 epoch time:37 seconds, lr:2.25e-05\n",
      "epoch:456/500 average TL:0.00421008 average VL:0.00430924 epoch time:37 seconds, lr:2.16e-05\n",
      "epoch:457/500 average TL:0.00431759 average VL:0.00423146 epoch time:37 seconds, lr:2.07e-05\n",
      "epoch:458/500 average TL:0.00434192 average VL:0.00408397 epoch time:37 seconds, lr:1.98e-05\n",
      "epoch:459/500 average TL:0.00431748 average VL:0.00415551 epoch time:37 seconds, lr:1.89e-05\n",
      "epoch:460/500 average TL:0.00441160 average VL:0.00402366 epoch time:37 seconds, lr:1.80e-05\n",
      "epoch:461/500 average TL:0.00436886 average VL:0.00458349 epoch time:37 seconds, lr:1.72e-05\n",
      "epoch:462/500 average TL:0.00446244 average VL:0.00444626 epoch time:37 seconds, lr:1.64e-05\n",
      "epoch:463/500 average TL:0.00448521 average VL:0.00417088 epoch time:37 seconds, lr:1.56e-05\n",
      "epoch:464/500 average TL:0.00435954 average VL:0.00423714 epoch time:37 seconds, lr:1.48e-05\n",
      "epoch:465/500 average TL:0.00442681 average VL:0.00439350 epoch time:37 seconds, lr:1.40e-05\n",
      "epoch:466/500 average TL:0.00434483 average VL:0.00461608 epoch time:37 seconds, lr:1.33e-05\n",
      "epoch:467/500 average TL:0.00433915 average VL:0.00420578 epoch time:37 seconds, lr:1.26e-05\n",
      "epoch:468/500 average TL:0.00438318 average VL:0.00455819 epoch time:37 seconds, lr:1.19e-05\n",
      "epoch:469/500 average TL:0.00446959 average VL:0.00431306 epoch time:37 seconds, lr:1.12e-05\n",
      "epoch:470/500 average TL:0.00429041 average VL:0.00435907 epoch time:37 seconds, lr:1.06e-05\n",
      "epoch:471/500 average TL:0.00428947 average VL:0.00444912 epoch time:37 seconds, lr:9.97e-06\n",
      "epoch:472/500 average TL:0.00441275 average VL:0.00430096 epoch time:37 seconds, lr:9.36e-06\n",
      "epoch:473/500 average TL:0.00435437 average VL:0.00445485 epoch time:37 seconds, lr:8.78e-06\n",
      "epoch:474/500 average TL:0.00430717 average VL:0.00426623 epoch time:37 seconds, lr:8.21e-06\n",
      "epoch:475/500 average TL:0.00438207 average VL:0.00442617 epoch time:48 seconds, lr:7.67e-06\n",
      "epoch:476/500 average TL:0.00427675 average VL:0.00460997 epoch time:53 seconds, lr:7.15e-06\n",
      "epoch:477/500 average TL:0.00444296 average VL:0.00417522 epoch time:52 seconds, lr:6.65e-06\n",
      "epoch:478/500 average TL:0.00452123 average VL:0.00408896 epoch time:42 seconds, lr:6.17e-06\n",
      "epoch:479/500 average TL:0.00446819 average VL:0.00427929 epoch time:37 seconds, lr:5.71e-06\n",
      "epoch:480/500 average TL:0.00423969 average VL:0.00429311 epoch time:37 seconds, lr:5.27e-06\n",
      "epoch:481/500 average TL:0.00433180 average VL:0.00451940 epoch time:37 seconds, lr:4.86e-06\n",
      "epoch:482/500 average TL:0.00432456 average VL:0.00451850 epoch time:37 seconds, lr:4.46e-06\n",
      "epoch:483/500 average TL:0.00430473 average VL:0.00410184 epoch time:37 seconds, lr:4.09e-06\n",
      "epoch:484/500 average TL:0.00444263 average VL:0.00421293 epoch time:37 seconds, lr:3.74e-06\n",
      "epoch:485/500 average TL:0.00448451 average VL:0.00419403 epoch time:37 seconds, lr:3.41e-06\n",
      "epoch:486/500 average TL:0.00461368 average VL:0.00423901 epoch time:37 seconds, lr:3.10e-06\n",
      "epoch:487/500 average TL:0.00434537 average VL:0.00432854 epoch time:37 seconds, lr:2.81e-06\n",
      "epoch:488/500 average TL:0.00425837 average VL:0.00424869 epoch time:37 seconds, lr:2.54e-06\n",
      "epoch:489/500 average TL:0.00429413 average VL:0.00424353 epoch time:37 seconds, lr:2.29e-06\n",
      "epoch:490/500 average TL:0.00443968 average VL:0.00413375 epoch time:37 seconds, lr:2.07e-06\n",
      "epoch:491/500 average TL:0.00438710 average VL:0.00438860 epoch time:37 seconds, lr:1.87e-06\n",
      "epoch:492/500 average TL:0.00429053 average VL:0.00429639 epoch time:37 seconds, lr:1.68e-06\n",
      "epoch:493/500 average TL:0.00434993 average VL:0.00436668 epoch time:37 seconds, lr:1.52e-06\n",
      "epoch:494/500 average TL:0.00419932 average VL:0.00439012 epoch time:37 seconds, lr:1.39e-06\n",
      "epoch:495/500 average TL:0.00441949 average VL:0.00442361 epoch time:37 seconds, lr:1.27e-06\n",
      "epoch:496/500 average TL:0.00430238 average VL:0.00423041 epoch time:37 seconds, lr:1.17e-06\n",
      "epoch:497/500 average TL:0.00437198 average VL:0.00412563 epoch time:37 seconds, lr:1.10e-06\n",
      "epoch:498/500 average TL:0.00431211 average VL:0.00421869 epoch time:37 seconds, lr:1.04e-06\n",
      "epoch:499/500 average TL:0.00439911 average VL:0.00417577 epoch time:37 seconds, lr:1.01e-06\n",
      "epoch:500/500 average TL:0.00437040 average VL:0.00422119 epoch time:37 seconds, lr:1.00e-06\n",
      "\n",
      "Duration: 19040 seconds\n"
     ]
    }
   ],
   "source": [
    "start_time = time.time()\n",
    "num_train_batches=len(train_loader)\n",
    "num_test_batches=len(test_loader)\n",
    "train_losses = []\n",
    "val_losses = []\n",
    "patience_counter = 0\n",
    "best_val_loss = float('inf')\n",
    "\n",
    "for i in range(num_epochs):\n",
    "    loss1 = 0\n",
    "    epoch_time = time.time()\n",
    "    model.train()\n",
    "    # Run the training batches\n",
    "    for b, (X_train, y_train) in enumerate(train_loader):  \n",
    "        optimizer.zero_grad()\n",
    "        y_train=y_train.to(device)\n",
    "        # Apply the model\n",
    "        xt=one_hot_encode(X_train.to(device), 4).to(device)\n",
    "        y_pred=model(xt)\n",
    "        #print(y_pred.shape)\n",
    "        yt=one_hot_encode(y_train, 4).to(device)\n",
    "        loss = criterion(y_pred, yt) \n",
    "        # Update parameters\n",
    "        loss.backward()\n",
    "        optimizer.step()\n",
    "        scheduler.step()\n",
    "        loss1=loss1+loss\n",
    "        #if (b+1)%50==1:\n",
    "        #    print(f'epoch: {i+1}/{num_epochs} batch:{b+1}/{num_train_batches} loss: {loss.item():10.8f}')      \n",
    "    train_loss=loss1/num_train_batches  \n",
    "    train_losses.append(train_loss.item())\n",
    "    # Run the testing batches\n",
    "    model.eval()\n",
    "    with torch.no_grad():\n",
    "        loss1=0\n",
    "        for b, (X_test, y_test) in enumerate(test_loader):\n",
    "            y_test=y_test.to(device)\n",
    "            # Apply the model\n",
    "            xt=one_hot_encode(X_test.to(device), 4).to(device)\n",
    "            y_pred=model(xt)\n",
    "            \n",
    "            yt=one_hot_encode(y_test, 4).to(device)\n",
    "            loss = criterion(y_pred, yt) \n",
    "            loss1=loss1+loss         \n",
    "        val_loss=loss1/num_test_batches  \n",
    "        val_losses.append(val_loss.item())\n",
    "    \n",
    "    print(f'epoch:{i+1}/{num_epochs} average TL:{train_loss.item():10.8f} average VL:{val_loss.item():10.8f} epoch time:{time.time() - epoch_time:.0f} seconds, lr:{optimizer.param_groups[0][\"lr\"]:.2e}')               \n",
    "     # Early stopping\n",
    "    if val_loss < best_val_loss:\n",
    "        best_val_loss = val_loss\n",
    "        torch.save(model.state_dict(), path_directory+\"model.pth\")\n",
    "        patience_counter = 0\n",
    "    else:\n",
    "        patience_counter += 1\n",
    "\n",
    "    if patience_counter >= patience:\n",
    "        print(f'Validation loss did not decrease for {patience} epochs. Stopping training.')\n",
    "        break  \n",
    "        \n",
    "print(f'\\nDuration: {time.time() - start_time:.0f} seconds') # print the time elapsed            "
   ]
  },
  {
   "cell_type": "code",
   "execution_count": 29,
   "id": "d1b7ed3f",
   "metadata": {},
   "outputs": [
    {
     "data": {
      "image/png": "[encoded data removed]",
      "text/plain": [
       "<Figure size 640x480 with 1 Axes>"
      ]
     },
     "metadata": {},
     "output_type": "display_data"
    }
   ],
   "source": [
    "# Plotting\n",
    "plt.plot(train_losses, label='Train Loss')\n",
    "plt.plot(val_losses, label='Validation Loss')\n",
    "plt.xlabel('Epoch')\n",
    "plt.ylabel('Loss')\n",
    "plt.legend()\n",
    "plt.grid()\n",
    "plt.show()\n"
   ]
  },
  {
   "cell_type": "code",
   "execution_count": 30,
   "id": "730fe193",
   "metadata": {},
   "outputs": [],
   "source": [
    "dict={'train_losses':train_losses, 'val_losses':val_losses, 'flops':flops, 'parameters':params }"
   ]
  },
  {
   "cell_type": "code",
   "execution_count": 31,
   "id": "82c1c94c",
   "metadata": {},
   "outputs": [],
   "source": [
    "savemat(path_directory+'losses.mat', dict)\n",
    "with open(path_directory+'losses.pkl', 'wb') as file:\n",
    "    \n",
    "    # A new file will be created\n",
    "    pickle.dump(dict, file)"
   ]
  },
  {
   "cell_type": "markdown",
   "id": "486b1334",
   "metadata": {},
   "source": [
    "# Testing"
   ]
  },
  {
   "cell_type": "code",
   "execution_count": 32,
   "id": "0827e8c0",
   "metadata": {},
   "outputs": [
    {
     "data": {
      "text/plain": [
       "<All keys matched successfully>"
      ]
     },
     "execution_count": 32,
     "metadata": {},
     "output_type": "execute_result"
    }
   ],
   "source": [
    "model.load_state_dict(torch.load(path_directory+\"model.pth\"))"
   ]
  },
  {
   "cell_type": "code",
   "execution_count": 33,
   "id": "eefcadef",
   "metadata": {},
   "outputs": [],
   "source": [
    "start_test=1\n",
    "stop_test=4\n",
    "num_test=200000\n",
    "test_error_points=torch.arange(start_test, stop_test+1)\n",
    "#nucleotide error rate\n",
    "ner=torch.zeros((stop_test-start_test+1)).to(device)\n",
    "#sequence error rate\n",
    "ser=torch.zeros((stop_test-start_test+1)).to(device)"
   ]
  },
  {
   "cell_type": "code",
   "execution_count": 34,
   "id": "66257385",
   "metadata": {},
   "outputs": [],
   "source": [
    "def count_different_rows(matrix1, matrix2):\n",
    "    \"\"\"\n",
    "    Calculates the number of rows that are not equal between two 2D PyTorch matrices.\n",
    "\n",
    "    Args:\n",
    "        matrix1 (torch.Tensor): A 2D PyTorch tensor of shape (m, n).\n",
    "        matrix2 (torch.Tensor): A 2D PyTorch tensor of shape (m, n).\n",
    "\n",
    "    Returns:\n",
    "        int: The number of rows that are not equal between the two matrices.\n",
    "    \"\"\"\n",
    "    assert matrix1.shape == matrix2.shape, \"The input matrices must have the same shape.\"\n",
    "    equal_rows = torch.all(matrix1 == matrix2, dim=1)\n",
    "    return matrix1.shape[0] - torch.sum(equal_rows).item()"
   ]
  },
  {
   "cell_type": "code",
   "execution_count": 35,
   "id": "213866b5",
   "metadata": {},
   "outputs": [],
   "source": [
    "i1=0\n",
    "for i in range(start_test, stop_test+1):\n",
    "    test_data1 = LanguageDataset(dicts, num_samples=num_test, num_errors=i)\n",
    "    test_loader1 = DataLoader(test_data1, batch_size=batch_size, shuffle=True)\n",
    "    n_tbatch=len(test_loader1)\n",
    "    ne=0.0\n",
    "    count=0.0\n",
    "    # Run the testing batches\n",
    "    model.eval()\n",
    "    with torch.no_grad():\n",
    "        for b, (X_test, y_test) in enumerate(test_loader1):\n",
    "            y_test=y_test.to(device)\n",
    "            # Apply the model\n",
    "            xt=one_hot_encode(X_test.to(device), 4).to(device)\n",
    "            y_pred=model(xt)\n",
    "            y_pred_d=one_hot_decode(y_pred)\n",
    "            ne=ne+torch.sum(y_pred_d!=y_test).item()\n",
    "            count=count+count_different_rows(y_test,y_pred_d)\n",
    "        ner[i1]=ne/(n_tbatch*batch_size*K)\n",
    "        ser[i1]=count/(n_tbatch*batch_size)\n",
    "    i1=i1+1"
   ]
  },
  {
   "cell_type": "code",
   "execution_count": 36,
   "id": "613b089d",
   "metadata": {},
   "outputs": [],
   "source": [
    "dict1={'ner':torch.Tensor.cpu(ner).numpy(), 'ser':torch.Tensor.cpu(ser).numpy()}"
   ]
  },
  {
   "cell_type": "code",
   "execution_count": 37,
   "id": "947e5ade",
   "metadata": {},
   "outputs": [
    {
     "data": {
      "text/plain": [
       "tensor([0.0000, 0.0044, 0.0156, 0.0335], device='cuda:0')"
      ]
     },
     "execution_count": 37,
     "metadata": {},
     "output_type": "execute_result"
    }
   ],
   "source": [
    "ner"
   ]
  },
  {
   "cell_type": "code",
   "execution_count": 38,
   "id": "fb487284",
   "metadata": {},
   "outputs": [
    {
     "data": {
      "text/plain": [
       "tensor([0.0000, 0.0044, 0.0156, 0.0335], device='cuda:0')"
      ]
     },
     "execution_count": 38,
     "metadata": {},
     "output_type": "execute_result"
    }
   ],
   "source": [
    "ner"
   ]
  },
  {
   "cell_type": "code",
   "execution_count": 39,
   "id": "fbd05713",
   "metadata": {},
   "outputs": [
    {
     "data": {
      "text/plain": [
       "tensor([0.0000, 0.0257, 0.0790, 0.1573], device='cuda:0')"
      ]
     },
     "execution_count": 39,
     "metadata": {},
     "output_type": "execute_result"
    }
   ],
   "source": [
    "ser"
   ]
  },
  {
   "cell_type": "code",
   "execution_count": 40,
   "id": "e2bdc20c",
   "metadata": {},
   "outputs": [],
   "source": [
    "savemat(path_directory+'metric.mat', dict1)\n",
    "with open(path_directory+'metric.pkl', 'wb') as file:\n",
    "    \n",
    "    # A new file will be created\n",
    "    pickle.dump(dict1, file)"
   ]
  },
  {
   "cell_type": "code",
   "execution_count": 41,
   "id": "00193886",
   "metadata": {},
   "outputs": [
    {
     "data": {
      "image/png": "[encoded data removed]",
      "text/plain": [
       "<Figure size 640x480 with 1 Axes>"
      ]
     },
     "metadata": {},
     "output_type": "display_data"
    }
   ],
   "source": [
    "plt.plot(torch.Tensor.cpu(test_error_points).numpy(),torch.Tensor.cpu(ner).numpy())\n",
    "plt.yscale('log')\n",
    "plt.xlabel('Number of errors')\n",
    "plt.ylabel('NER')    \n",
    "plt.grid(True)\n",
    "plt.show()"
   ]
  },
  {
   "cell_type": "code",
   "execution_count": 42,
   "id": "e22b1f71",
   "metadata": {},
   "outputs": [
    {
     "data": {
      "image/png": "[encoded data removed]",
      "text/plain": [
       "<Figure size 640x480 with 1 Axes>"
      ]
     },
     "metadata": {},
     "output_type": "display_data"
    }
   ],
   "source": [
    "plt.plot(torch.Tensor.cpu(test_error_points).numpy(),torch.Tensor.cpu(ser).numpy())\n",
    "plt.yscale('log')\n",
    "plt.xlabel('Number of errors')\n",
    "plt.ylabel('SER')    \n",
    "plt.grid(True)\n",
    "plt.show()"
   ]
  },
  {
   "cell_type": "code",
   "execution_count": null,
   "id": "ff194c2d",
   "metadata": {},
   "outputs": [],
   "source": []
  },
  {
   "cell_type": "code",
   "execution_count": null,
   "id": "a43e290d",
   "metadata": {},
   "outputs": [],
   "source": []
  }
 ],
 "metadata": {
  "kernelspec": {
   "display_name": "Python 3 (ipykernel)",
   "language": "python",
   "name": "python3"
  },
  "language_info": {
   "codemirror_mode": {
    "name": "ipython",
    "version": 3
   },
   "file_extension": ".py",
   "mimetype": "text/x-python",
   "name": "python",
   "nbconvert_exporter": "python",
   "pygments_lexer": "ipython3",
   "version": "3.10.9"
  }
 },
 "nbformat": 4,
 "nbformat_minor": 5
}

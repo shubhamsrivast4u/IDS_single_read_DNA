{
 "cells": [
  {
   "cell_type": "code",
   "execution_count": 1,
   "id": "540b46d5",
   "metadata": {},
   "outputs": [],
   "source": [
    "import torch\n",
    "import torch.nn as nn\n",
    "import torch.nn.functional as F\n",
    "import random\n",
    "from torch.utils.data import Dataset, DataLoader\n",
    "import os\n",
    "os.environ[\"CUDA_VISIBLE_DEVICES\"] = \"3\"  # Select the GPU index\n",
    "import nltk\n",
    "from torch.optim.lr_scheduler import _LRScheduler\n",
    "import time\n",
    "import math\n",
    "import matplotlib.pyplot as plt\n",
    "import spacy\n",
    "from scipy.io import savemat\n",
    "import dill as pickle\n",
    "import thop"
   ]
  },
  {
   "cell_type": "code",
   "execution_count": 2,
   "id": "a7459a68",
   "metadata": {},
   "outputs": [
    {
     "name": "stdout",
     "output_type": "stream",
     "text": [
      "['ATCGATCGATCGAT', 'TACGTAGCTAGCTA', 'TAGCTACGTAGCTA', 'ATGCATGCATCGAT', 'ATGCTACGATGCTA', 'TAGCATGCTACGAT', 'TACGATCGTACGAT', 'ATCGTAGCATGCTA', 'TACGATGCTAGCAT', 'ATCGTACGATCGTA', 'ATGCTAGCATCGTA', 'TAGCATCGTAGCAT', 'TAGCTAGCTACGTA', 'ATGCATCGATGCAT', 'ATCGATGCATGCAT', 'TACGTACGTACGTA']\n"
     ]
    }
   ],
   "source": [
    "# Dictionary\n",
    "dicno=4\n",
    "dictionaries =[['AAGCGC', 'ACGAGC', 'ATGGCG', 'AGCACG', 'CAGGTG', 'CCTACG', 'CTACGC', 'CGAACG', 'TAGGGC',\n",
    "                'TCGTGC', 'TTGCCG', 'TGCTCG', 'GACGAC', 'GCAGCA', 'GTAGGC', 'GGTCGA'],\n",
    "               \n",
    "               ['AAGCGC', 'ACGAGC', 'ATCCGC', 'ATGGCG', 'AGCACG', 'CATCCG', 'CAGGTG', 'CCTACG', 'CCTGGT',\n",
    "                'CCGTTG', 'CTACGC', 'CTGGAG', 'CGAACG', 'CGGAAC', 'TAGGGC', 'TCCGCA', 'TCGTGC', 'TCGGGA',\n",
    "                'TTCGGC', 'TTGCCG', 'TGCTCG', 'GACGAC', 'GATGCG', 'GCAGCA', 'GCCTAC', 'GTAGGC', 'GGACGT',\n",
    "                'GGCTAG', 'GGCTTC', 'GGTAGC', 'GGTCCT', 'GGTCGA' ],\n",
    "               \n",
    "               ['ACTACGACA', 'ACTGACACA', 'ACGACTACA', 'ATCAGCACA', 'AGCATCACA', 'CATCAGACA', 'CAGCATACA', \n",
    "                'TACGACACA', 'GACTACACA', 'ACTACTGAG', 'ACTACGATG', 'ACTACGTAG', 'ACTACGTGA', 'ACTGACATG',\n",
    "                'ACTGACTAG', 'ACTGACTGA', 'ACTGACGAT', 'ACTGACGTA', 'ACTGATACG', 'ACTGATAGC', 'ACTGATCGA', \n",
    "                'ACTGATGAC', 'ACTGATGCA', 'ACTGCTAGA', 'ACGACTATG', 'ACGACTAGT', 'ACGACTGAT', 'ACGACTGTA', 'ACGATGACT', \n",
    "                'ACGATGATC', 'ACGATGCTA', 'ACGATGTAC', 'ACGATGTCA', 'ATCATCGAG', 'ATCAGCATG', 'ATCAGCAGT', 'ATCAGCTGA', \n",
    "                'ATCAGCGTA', 'ATCAGTACG', 'ATCAGTAGC', 'ATCAGTCAG', 'ATCAGTCGA', 'ATCAGTGCA', 'ATCGTACAG', 'ATCGTACGA', \n",
    "                'ATCGTAGAC', 'ATCGTAGCA', 'ATCGTCAGA', 'ATGACTACG', 'ATGACTAGC', 'ATGACTCGA', 'ATGACTGAC', 'ATGACTGCA', \n",
    "                'ATGACGACT', 'ATGACGATC', 'ATGACGCTA', 'ATGACGTCA', 'ATGATGCAC', 'ATGCTACAG', 'ATGCTACGA', 'ATGCTAGAC', \n",
    "                'ATGCTAGCA', 'ATGCTGACA', 'AGCATCATG', 'AGCATCAGT', 'AGCATCTAG', 'AGCATCTGA', 'AGCATCGTA', 'AGCAGTACT', \n",
    "                'AGCAGTATC', 'AGCAGTCAT', 'AGCAGTCTA', 'AGTAGCATC', 'AGTAGCTAC', 'AGTAGCTCA', 'AGTAGTCAC', 'AGTCATACG', \n",
    "                'AGTCATAGC', 'AGTCATCAG', 'AGTCATCGA', 'AGTCATGCA', 'AGTCAGATC', 'AGTCAGCAT', 'AGTCAGCTA', 'AGTCAGTAC', \n",
    "                'AGTCAGTCA', 'AGTCGTACA', 'CATCAGAGT', 'CATCAGTAG', 'CATCAGTGA', 'CATCGTAGA', 'CAGCATATG', 'CAGCATAGT', \n",
    "                'CAGCATGAT', 'CAGCATGTA', 'CAGCAGTAT', 'CAGTAGATC', 'CAGTAGCAT', 'CAGTAGCTA', 'CAGTAGTAC', 'CAGTAGTCA', \n",
    "                'CAGTCATAG', 'CAGTCATGA', 'CAGTCAGAT', 'CAGTCAGTA', 'CAGTCGATA', 'CTACTGAGA', 'CTACGATGA', 'CTACGAGAT', \n",
    "                'CTACGAGTA', 'CTGACTAGA', 'CTGACGATA', 'CTGATGACA', 'CGACTATAG', 'CGACTATGA', 'CGACTAGAT', 'CGACTAGTA',\n",
    "                'CGACTGATA', 'CGACGATAT', 'CGATGACTA', 'CGATGATAC', 'CGATGCATA', 'CGTAGCATA', 'CGTCATAGA', 'CGTCAGATA', \n",
    "                'TACTACGAG', 'TACTGACAG', 'TACTGACGA', 'TACTGAGAC', 'TACTGAGCA', 'TACTGCAGA', 'TACGACAGT', 'TACGACTAG',\n",
    "                'TACGACTGA', 'TACGACGAT', 'TACGATACG', 'TACGATAGC', 'TACGATCAG', 'TACGATCGA', 'TACGATGAC', 'TACGATGCA', \n",
    "                'TAGCATACG', 'TAGCATAGC', 'TAGCATCAG', 'TAGCATCGA', 'TAGCATGAC', 'TAGCATGCA', 'TAGCAGACT', 'TAGCAGCAT', \n",
    "                'TAGCAGTAC', 'TAGCAGTCA', 'TAGTAGCAC', 'TAGTCACAG', 'TAGTCACGA', 'TAGTCAGAC', 'TAGTCAGCA', 'TAGTCGACA', \n",
    "                'TCATCAGAG', 'TCATCGAGA', 'TCAGCATAG', 'TCAGCAGAT', 'TCAGCAGTA', 'TCAGTACAG', 'TCAGTACGA', 'TCAGTAGAC',\n",
    "                'TCAGTAGCA', 'TCAGTCAGA', 'TCGTAGACA', 'TGACTACAG', 'TGACTACGA', 'TGACTAGAC', 'TGACTAGCA', 'TGACTGACA', \n",
    "                'TGACGACAT', 'TGACGACTA', 'TGACGATAC', 'TGATGACAC', 'TGATGCACA', 'TGCTACAGA', 'GACTACATG', 'GACTACTAG', \n",
    "                'GACTACTGA', 'GACTACGAT', 'GACTACGTA', 'GACTGACAT', 'GACTGACTA', 'GACTGATAC', 'GACTGATCA', 'GACTGCATA', \n",
    "                'GACGACTAT', 'GACGATACT', 'GACGATATC', 'GACGATCAT', 'GACGATCTA', 'GATGACACT', 'GATGACTAC', 'GATGACTCA', \n",
    "                'GATGCTACA', 'GCATCATAG', 'GCATCAGAT', 'GCATCAGTA', 'GCATCGATA', 'GCAGCATAT', 'GCAGTACAT', 'GCAGTACTA', \n",
    "                'GCAGTATAC', 'GCAGTATCA', 'GCAGTCATA', 'GCTACGATA', 'GCTGACATA', 'GCTGATACA', 'GTAGCACAT', 'GTAGCACTA', \n",
    "                'GTAGCATCA', 'GTAGTCACA', 'GTCATCAGA', 'GTCAGCATA', 'GTCAGTACA', 'ACTGATGTG', 'ACGATGTGT', 'ATCAGTGTG', \n",
    "                'ATCGTAGTG', 'ATGACTGTG', 'ATGACGTGT', 'ATGATGCTG', 'ATGATGCGT', 'ATGATGTCG', 'ATGATGTGC', 'ATGCTAGTG', \n",
    "                'ATGCTGATG', 'ATGCTGAGT', 'ATGCTGTGA', 'AGTAGCTGT', 'AGTAGTCTG', 'AGTAGTCGT', 'AGTAGTGCT', 'AGTAGTGTC', \n",
    "                'AGTCATGTG', 'AGTCAGTGT', 'AGTCGTATG', 'AGTCGTAGT', 'AGTCGTGTA', 'CAGTAGTGT', 'CTGATGATG', 'CTGATGAGT', \n",
    "                'CTGATGTAG', 'CTGATGTGA', 'CGATGATGT', 'CGTAGTATG', 'CGTAGTAGT', 'CGTAGTGAT', 'CGTAGTGTA', 'TACGATGTG', \n",
    "                'TAGCATGTG', 'TAGCAGTGT'],\n",
    "               \n",
    "               ['ACGTAGCAGA', 'ACTACAGACG', 'AGACGATGCA', 'AGCGACTATC', 'ATAGCTCGTG', 'CACGAGCTAT','CGTCTGTAGT',\n",
    "                'CTATCAGCGA', 'GATAGTCGCT', 'GCAGACATCA', 'GTGCTCGATA', 'TATCGAGCAC', 'TCGCTGATAG', 'TCTGCTACGT',\n",
    "                'TGATGTCTGC', 'TGCATCGTCT'],\n",
    "               \n",
    "               ['ATCGATCGATCGAT','TACGTAGCTAGCTA', 'TAGCTACGTAGCTA', 'ATGCATGCATCGAT', 'ATGCTACGATGCTA', \n",
    "                'TAGCATGCTACGAT', 'TACGATCGTACGAT', 'ATCGTAGCATGCTA', 'TACGATGCTAGCAT', 'ATCGTACGATCGTA', \n",
    "                'ATGCTAGCATCGTA', 'TAGCATCGTAGCAT', 'TAGCTAGCTACGTA', 'ATGCATCGATGCAT', 'ATCGATGCATGCAT', \n",
    "                'TACGTACGTACGTA'],\n",
    "              \n",
    "               ['ATCGATCG', 'ATCGATGC', 'ATCGTAGC', 'ATCGTACG', 'ATGCTAGC', 'ATGCTACG', 'ATGCATCG', 'ATGCATGC',\n",
    "                'TAGCTAGC', 'TAGCTACG', 'TAGCATCG', 'TAGCATGC', 'TACGATCG', 'TACGATGC', 'TACGTAGC', 'TACGTACG']\n",
    "              \n",
    "               ]\n",
    "dicts=dictionaries[dicno]\n",
    "print(dicts)"
   ]
  },
  {
   "cell_type": "code",
   "execution_count": 3,
   "id": "8751ef87",
   "metadata": {},
   "outputs": [],
   "source": [
    "batch_size=2000\n",
    "device = 'cuda' if torch.cuda.is_available() else 'cpu'\n",
    "lr=0.001\n",
    "num_epochs=500\n",
    "final_num_epochs=200\n",
    "patience=400\n",
    "train_num_samples=30000\n",
    "test_num_samples=10000\n",
    "final_train_num_samples=500000\n",
    "final_test_num_samples=10000\n",
    "num_errors=4\n",
    "K=len(dicts[0])\n",
    "hidden_size=32"
   ]
  },
  {
   "cell_type": "code",
   "execution_count": 4,
   "id": "c8e3d5d0",
   "metadata": {},
   "outputs": [
    {
     "data": {
      "text/plain": [
       "'finalmodels/BiLSTM/Dictionary_4/batch_size_2000/num_errors_4/initial_lr_0.001/epochs200_p400_tr500000ts10000K14hs32/'"
      ]
     },
     "execution_count": 4,
     "metadata": {},
     "output_type": "execute_result"
    }
   ],
   "source": [
    "path_directory=f\"finalmodels/BiLSTM/Dictionary_{dicno}/batch_size_{batch_size}/num_errors_{num_errors}/initial_lr_{lr}/epochs{final_num_epochs}_p{patience}_tr{final_train_num_samples}ts{final_test_num_samples}K{K}hs{hidden_size}/\"\n",
    "path_directory"
   ]
  },
  {
   "cell_type": "code",
   "execution_count": 5,
   "id": "9689e71a",
   "metadata": {},
   "outputs": [],
   "source": [
    "# Check if \"models\" folder exists, create it if it doesn't\n",
    "if not os.path.exists(path_directory):\n",
    "    os.makedirs(path_directory)"
   ]
  },
  {
   "cell_type": "code",
   "execution_count": 6,
   "id": "e0ed2ba0",
   "metadata": {},
   "outputs": [],
   "source": [
    "class BiLSTMDeletionModel(nn.Module):\n",
    "\n",
    "    def __init__(self, hidden_size, dropout):\n",
    "        super().__init__()\n",
    "        \n",
    "        self.lstm1 = nn.LSTM(\n",
    "            input_size=5, \n",
    "            hidden_size=hidden_size,\n",
    "            num_layers=2,\n",
    "            batch_first=True,\n",
    "            bidirectional=True,\n",
    "            dropout=dropout\n",
    "        )\n",
    "        self.fc = nn.Linear(2*hidden_size, 4)\n",
    "        self.softmax = nn.Softmax(dim=2)\n",
    "    def forward(self, x):\n",
    "\n",
    "        # BiLSTM 1\n",
    "        out, _ = self.lstm1(x)\n",
    "        out = self.softmax(self.fc(out))\n",
    "        return out"
   ]
  },
  {
   "cell_type": "code",
   "execution_count": 7,
   "id": "fe39060e",
   "metadata": {},
   "outputs": [],
   "source": [
    "deletion_model = BiLSTMDeletionModel(hidden_size,0.1)"
   ]
  },
  {
   "cell_type": "code",
   "execution_count": 8,
   "id": "687c5cba",
   "metadata": {},
   "outputs": [
    {
     "data": {
      "text/plain": [
       "'deletionmodels/BiLSTM/Dictionary_4/batch_size_2000/num_errors_4/initial_lr_0.001/epochs500_p400_tr30000ts10000K14hs32/'"
      ]
     },
     "execution_count": 8,
     "metadata": {},
     "output_type": "execute_result"
    }
   ],
   "source": [
    "deletion_path_directory=f\"deletionmodels/BiLSTM/Dictionary_{dicno}/batch_size_{batch_size}/num_errors_{num_errors}/initial_lr_{lr}/epochs{num_epochs}_p{patience}_tr{train_num_samples}ts{test_num_samples}K{K}hs{hidden_size}/\"\n",
    "deletion_path_directory"
   ]
  },
  {
   "cell_type": "code",
   "execution_count": 9,
   "id": "7c4b4c52",
   "metadata": {},
   "outputs": [
    {
     "data": {
      "text/plain": [
       "_IncompatibleKeys(missing_keys=[], unexpected_keys=['total_ops', 'total_params'])"
      ]
     },
     "execution_count": 9,
     "metadata": {},
     "output_type": "execute_result"
    }
   ],
   "source": [
    "deletion_model.load_state_dict(torch.load(deletion_path_directory+\"model.pth\"), strict=False)"
   ]
  },
  {
   "cell_type": "code",
   "execution_count": 10,
   "id": "be948844",
   "metadata": {},
   "outputs": [],
   "source": [
    "class BiLSTMsubstitutionModel(nn.Module):\n",
    "\n",
    "    def __init__(self, hidden_size, dropout):\n",
    "        super().__init__()\n",
    "        \n",
    "        self.lstm1 = nn.LSTM(\n",
    "            input_size=4, \n",
    "            hidden_size=hidden_size,\n",
    "            num_layers=2,\n",
    "            batch_first=True,\n",
    "            bidirectional=True,\n",
    "            dropout=dropout\n",
    "        )\n",
    "        self.fc = nn.Linear(2*hidden_size, 4)\n",
    "        self.softmax = nn.Softmax(dim=2)\n",
    "    def forward(self, x):\n",
    "\n",
    "        # BiLSTM 1\n",
    "        out, _ = self.lstm1(x)\n",
    "        out = self.softmax(self.fc(out))\n",
    "        return out"
   ]
  },
  {
   "cell_type": "code",
   "execution_count": 11,
   "id": "066e764a",
   "metadata": {},
   "outputs": [],
   "source": [
    "substitution_model = BiLSTMsubstitutionModel(hidden_size,0.1)"
   ]
  },
  {
   "cell_type": "code",
   "execution_count": 12,
   "id": "70bcdf1b",
   "metadata": {},
   "outputs": [
    {
     "data": {
      "text/plain": [
       "'substitutionmodels/BiLSTM/Dictionary_4/batch_size_2000/num_errors_4/initial_lr_0.001/epochs500_p400_tr30000ts10000K14hs32/'"
      ]
     },
     "execution_count": 12,
     "metadata": {},
     "output_type": "execute_result"
    }
   ],
   "source": [
    "substitution_path_directory=f\"substitutionmodels/BiLSTM/Dictionary_{dicno}/batch_size_{batch_size}/num_errors_{num_errors}/initial_lr_{lr}/epochs{num_epochs}_p{patience}_tr{train_num_samples}ts{test_num_samples}K{K}hs{hidden_size}/\"\n",
    "substitution_path_directory"
   ]
  },
  {
   "cell_type": "code",
   "execution_count": 13,
   "id": "fd4d87ce",
   "metadata": {},
   "outputs": [
    {
     "data": {
      "text/plain": [
       "_IncompatibleKeys(missing_keys=[], unexpected_keys=['total_ops', 'total_params'])"
      ]
     },
     "execution_count": 13,
     "metadata": {},
     "output_type": "execute_result"
    }
   ],
   "source": [
    "substitution_model.load_state_dict(torch.load(substitution_path_directory+\"model.pth\"), strict=False)"
   ]
  },
  {
   "cell_type": "code",
   "execution_count": 14,
   "id": "aae1fe9c",
   "metadata": {},
   "outputs": [],
   "source": [
    "class BiLSTMinsertionModel(nn.Module):\n",
    "\n",
    "    def __init__(self, hidden_size, dropout):\n",
    "        super().__init__()\n",
    "        \n",
    "        self.lstm1 = nn.LSTM(\n",
    "            input_size=5, \n",
    "            hidden_size=hidden_size,\n",
    "            num_layers=2,\n",
    "            batch_first=True,\n",
    "            bidirectional=True,\n",
    "            dropout=dropout\n",
    "        )\n",
    "        self.fc = nn.Linear(2*hidden_size, 5)\n",
    "        self.softmax = nn.Softmax(dim=2)\n",
    "    def forward(self, x):\n",
    "\n",
    "        # BiLSTM 1\n",
    "        out, _ = self.lstm1(x)\n",
    "        out = self.softmax(self.fc(out))\n",
    "        return out"
   ]
  },
  {
   "cell_type": "code",
   "execution_count": 15,
   "id": "0a49b7fd",
   "metadata": {},
   "outputs": [],
   "source": [
    "insertion_model = BiLSTMinsertionModel(hidden_size,0.1)"
   ]
  },
  {
   "cell_type": "code",
   "execution_count": 16,
   "id": "58840053",
   "metadata": {},
   "outputs": [
    {
     "data": {
      "text/plain": [
       "'insertionmodels/BiLSTM/Dictionary_4/batch_size_2000/num_errors_4/initial_lr_0.001/epochs500_p400_tr30000ts10000K14hs32/'"
      ]
     },
     "execution_count": 16,
     "metadata": {},
     "output_type": "execute_result"
    }
   ],
   "source": [
    "insertion_path_directory=f\"insertionmodels/BiLSTM/Dictionary_{dicno}/batch_size_{batch_size}/num_errors_{num_errors}/initial_lr_{lr}/epochs{num_epochs}_p{patience}_tr{train_num_samples}ts{test_num_samples}K{K}hs{hidden_size}/\"\n",
    "insertion_path_directory"
   ]
  },
  {
   "cell_type": "code",
   "execution_count": 17,
   "id": "a9520aed",
   "metadata": {},
   "outputs": [
    {
     "data": {
      "text/plain": [
       "_IncompatibleKeys(missing_keys=[], unexpected_keys=['total_ops', 'total_params'])"
      ]
     },
     "execution_count": 17,
     "metadata": {},
     "output_type": "execute_result"
    }
   ],
   "source": [
    "insertion_model.load_state_dict(torch.load(insertion_path_directory+\"model.pth\"), strict=False)"
   ]
  },
  {
   "cell_type": "code",
   "execution_count": 18,
   "id": "b7f6d6ab",
   "metadata": {},
   "outputs": [
    {
     "data": {
      "text/plain": [
       "BiLSTMDeletionModel(\n",
       "  (lstm1): LSTM(5, 32, num_layers=2, batch_first=True, dropout=0.1, bidirectional=True)\n",
       "  (fc): Linear(in_features=64, out_features=4, bias=True)\n",
       "  (softmax): Softmax(dim=2)\n",
       ")"
      ]
     },
     "execution_count": 18,
     "metadata": {},
     "output_type": "execute_result"
    }
   ],
   "source": [
    "insertion_model.to(device)\n",
    "substitution_model.to(device)\n",
    "deletion_model.to(device)"
   ]
  },
  {
   "cell_type": "code",
   "execution_count": 19,
   "id": "f532a47a",
   "metadata": {},
   "outputs": [],
   "source": [
    "class BiLSTMcombinerModel(nn.Module):\n",
    "\n",
    "    def __init__(self, hidden_size, dropout):\n",
    "        super().__init__()\n",
    "        self.lstm1 = nn.LSTM(\n",
    "            input_size=4, \n",
    "            hidden_size=5*hidden_size,\n",
    "            num_layers=2,\n",
    "            batch_first=True,\n",
    "            bidirectional=True,\n",
    "            dropout=dropout\n",
    "        )\n",
    "        self.fc = nn.Linear(10*hidden_size, 5)\n",
    "        self.softmax = nn.Softmax(dim=2)\n",
    "    def forward(self, x):\n",
    "        # BiLSTM 1\n",
    "        out, _ = self.lstm1(x)\n",
    "        out = self.softmax(self.fc(out))\n",
    "        return out"
   ]
  },
  {
   "cell_type": "code",
   "execution_count": 20,
   "id": "42d5258d",
   "metadata": {},
   "outputs": [],
   "source": [
    "combiner_model=BiLSTMcombinerModel(hidden_size,0.1)"
   ]
  },
  {
   "cell_type": "code",
   "execution_count": 21,
   "id": "6eaf70ed",
   "metadata": {},
   "outputs": [],
   "source": [
    "class ParallelEnsemble(nn.Module):\n",
    "    def __init__(self, insertion_model, deletion_model, substitution_model, combiner_model):\n",
    "        super().__init__()\n",
    "        self.insert_model = insertion_model \n",
    "        self.delete_model = deletion_model\n",
    "        self.subst_model = substitution_model\n",
    "        self.combiner_model = combiner_model\n",
    "        \n",
    "        # Freeze insertion, deletion, substitution models\n",
    "        for param in self.insert_model.parameters():\n",
    "            param.requires_grad = False\n",
    "\n",
    "        for param in self.delete_model.parameters():\n",
    "            param.requires_grad = False\n",
    "\n",
    "        for param in self.subst_model.parameters():\n",
    "            param.requires_grad = False\n",
    "\n",
    "        # Ensure combiner model is trainable\n",
    "        for param in self.combiner_model.parameters():\n",
    "            param.requires_grad = True\n",
    "\n",
    "    def forward(self, x):\n",
    "        # Get predictions in parallel \n",
    "        insert_in = one_hot_encode(x.to(device), 5)\n",
    "        insert_out = self.insert_model(insert_in)  \n",
    "        delete_in = one_hot_encode(x[:,:K].to(device), 5)\n",
    "        delete_out = self.delete_model(delete_in)\n",
    "        subst_in = one_hot_encode(x[:,:K].to(device), 5)\n",
    "        subst_out = self.subst_model(subst_in[:,:,:4])\n",
    "        # Combine parallel outputs  \n",
    "        combined_out = torch.cat([insert_out[:,:K,:4], delete_out[:,:K,:4], subst_out[:,:K,:4]], dim=1)\n",
    "        # Final correction  \n",
    "        y = self.combiner_model(combined_out)\n",
    "        return y\n",
    "\n",
    "ensemble = ParallelEnsemble(insertion_model, deletion_model, substitution_model, combiner_model).to(device)"
   ]
  },
  {
   "cell_type": "code",
   "execution_count": 22,
   "id": "bb5db291",
   "metadata": {},
   "outputs": [],
   "source": [
    "def one_hot_encode(sequences, n_unique):\n",
    "\n",
    "    # Get size of batch and max sequence length\n",
    "    batch_size,seq_len=sequences.shape\n",
    "    #len(sequences)\n",
    "    #seq_len=len(sequences[0])\n",
    "    \n",
    "    # Initialize encoded tensor\n",
    "    oneencoding = torch.zeros(batch_size, seq_len, n_unique, device = device)\n",
    "    # Set 1 at index of each character\n",
    "    for i in range(batch_size):\n",
    "        for j in range(seq_len):\n",
    "            index = sequences[i][j]\n",
    "            oneencoding[i, j, index] = 1          \n",
    "    return oneencoding"
   ]
  },
  {
   "cell_type": "code",
   "execution_count": 23,
   "id": "392d5923",
   "metadata": {},
   "outputs": [],
   "source": [
    "def one_hot_decode(encoded_seq):\n",
    "    \"\"\"Converts a batch of one-hot encoded sequences to indices\"\"\"\n",
    "    \n",
    "    # Dimensions will be (batch_size, seq_len, num_classes)\n",
    "    batch_size, seq_len, num_classes = encoded_seq.shape\n",
    "    \n",
    "    # Flatten to treat as a list of one-hot vectors\n",
    "    encoded_seq = encoded_seq.reshape(-1, num_classes)\n",
    "    \n",
    "    # Argmax over classes to get class index\n",
    "    indices = encoded_seq.argmax(dim=1).to(device)\n",
    "    \n",
    "    # Reshape back to original dimensions\n",
    "    indices = indices.reshape(batch_size, seq_len)\n",
    "    \n",
    "    return indices"
   ]
  },
  {
   "cell_type": "code",
   "execution_count": 24,
   "id": "6aac4a8f",
   "metadata": {},
   "outputs": [],
   "source": [
    "class LanguageDataset1(Dataset):\n",
    "\n",
    "    def __init__(self, dictionary, num_samples, num_errors):\n",
    "        self.dictionary = dictionary\n",
    "        self.num_samples = num_samples \n",
    "        self.num_errors = num_errors\n",
    "\n",
    "    def __len__(self):\n",
    "        return self.num_samples\n",
    "\n",
    "    def __getitem__(self, idx):\n",
    "        source_idx = idx % len(self.dictionary)\n",
    "        sequence = self.dictionary[source_idx]\n",
    "        choice = torch.rand(1).item()\n",
    "        if self.num_errors > 0:\n",
    "            if choice >= 0 and choice< 0.10646:\n",
    "                sequence = self.introduce_substitution_errors(sequence, self.num_errors)\n",
    "                for _ in range(self.num_errors):\n",
    "                    sequence.append('N')  \n",
    "                sequence=''.join(sequence)\n",
    "                #sequence= torch.cat([sequence, 'NNNN'], dim=1)\n",
    "            elif choice >=0.10646 and choice < 0.14218:\n",
    "                sequence = self.introduce_deletion_errors(sequence, self.num_errors)\n",
    "                for _ in range(self.num_errors):\n",
    "                    sequence.append('N') \n",
    "                sequence=''.join(sequence)\n",
    "                #sequence= torch.cat([sequence, 'NNNN'], dim=1)\n",
    "            elif choice >=0.14218 and choice < 0.15163:\n",
    "                sequence = self.introduce_insertion_errors(sequence, self.num_errors)\n",
    "                sequence=''.join(sequence)\n",
    "            elif choice >=0.15163 and choice < 0.156:\n",
    "                sequence = self.introduce_substitution_errors(sequence, self.num_errors)\n",
    "                sequence=''.join(sequence)\n",
    "                sequence = self.introduce_deletion_errors(sequence, self.num_errors)\n",
    "                for _ in range(self.num_errors):\n",
    "                    sequence.append('N') \n",
    "                sequence=''.join(sequence)\n",
    "                #sequence= torch.cat([sequence, 'NNNN'], dim=1)\n",
    "            elif choice >=0.156 and choice < 0.15701:\n",
    "                sequence = self.introduce_substitution_errors(sequence, self.num_errors)\n",
    "                sequence=''.join(sequence)\n",
    "                sequence = self.introduce_insertion_errors(sequence, self.num_errors)\n",
    "                sequence=''.join(sequence)\n",
    "                \n",
    "            elif choice >=0.15701 and choice < 0.1574:\n",
    "                sequence = self.introduce_deletion_errors(sequence, self.num_errors)\n",
    "                sequence=''.join(sequence)\n",
    "                sequence = self.introduce_insertion_errors(sequence, self.num_errors)\n",
    "                sequence=''.join(sequence)\n",
    "            elif choice >=0.1574 and choice < 0.15747:\n",
    "                sequence = self.introduce_substitution_errors(sequence, self.num_errors)\n",
    "                sequence=''.join(sequence)\n",
    "                sequence = self.introduce_deletion_errors(sequence, self.num_errors)\n",
    "                sequence=''.join(sequence)\n",
    "                sequence = self.introduce_insertion_errors(sequence, self.num_errors)\n",
    "                sequence=''.join(sequence)  \n",
    "            else:\n",
    "                sequence = list(sequence)\n",
    "                for _ in range(self.num_errors):\n",
    "                    sequence.append('N') \n",
    "                sequence=''.join(sequence) \n",
    "            \n",
    "        x = torch.tensor([self.char_to_idx(c) for c in sequence], dtype=torch.long)\n",
    "        y = torch.tensor([self.char_to_idx(c) for c in self.dictionary[source_idx]], dtype=torch.long)\n",
    "        return x.to(device), y.to(device)\n",
    "\n",
    "    def introduce_deletion_errors(self, sequence, num_errors):\n",
    "        ne = random.randint(1, num_errors)\n",
    "        sequence = list(sequence)\n",
    "        \n",
    "        for _ in range(ne):\n",
    "            i = random.randint(0, len(sequence)-1)\n",
    "            del sequence[i]\n",
    "            sequence.append('N') \n",
    "        \n",
    "        return sequence\n",
    "    \n",
    "    def introduce_substitution_errors(self, sequence, num_errors):\n",
    "        ne = random.randint(1, num_errors)\n",
    "        sequence = list(sequence)\n",
    "        for _ in range(ne):\n",
    "            i = random.randint(0, len(sequence)-1)\n",
    "            if sequence[i] == 'A':\n",
    "                sequence[i] = random.choice(['T', 'G', 'C'])\n",
    "            elif sequence[i] == 'T':\n",
    "                sequence[i] = random.choice(['A', 'G', 'C'])\n",
    "            elif sequence[i] == 'G':\n",
    "                sequence[i] = random.choice(['A', 'T', 'C'])\n",
    "            elif sequence[i] == 'C':\n",
    "                sequence[i] = random.choice(['A', 'T', 'G'])\n",
    "        \n",
    "        return sequence\n",
    "    \n",
    "    def introduce_insertion_errors(self, sequence, num_errors):\n",
    "        ne = random.randint(1, num_errors)\n",
    "        sequence = list(sequence)\n",
    "        for _ in range(num_errors-ne):\n",
    "            sequence.append('N')\n",
    "        for _ in range(ne):\n",
    "            i = random.randint(0, len(sequence))\n",
    "            random_char = random.choice(['A','C','T','G']) \n",
    "            sequence.insert(i, random_char)\n",
    "        return sequence\n",
    "\n",
    "    def char_to_idx(self, char):\n",
    "        return {'A': 0, 'C': 1, 'T': 2, 'G': 3, 'N': 4}[char]"
   ]
  },
  {
   "cell_type": "code",
   "execution_count": 25,
   "id": "8b0352f4",
   "metadata": {},
   "outputs": [],
   "source": [
    "train_data = LanguageDataset1(dicts, num_samples=final_train_num_samples, num_errors=num_errors)\n",
    "test_data = LanguageDataset1(dicts, num_samples=final_test_num_samples, num_errors=num_errors)\n",
    "\n",
    "train_loader = DataLoader(train_data, batch_size=batch_size, shuffle=True)\n",
    "test_loader = DataLoader(test_data, batch_size=batch_size)"
   ]
  },
  {
   "cell_type": "code",
   "execution_count": 26,
   "id": "f720cb12",
   "metadata": {},
   "outputs": [],
   "source": [
    "criterion= nn.MSELoss().to(device)\n",
    "optimizer = torch.optim.Adam(ensemble.parameters(), lr=lr, betas=(0.9, 0.98), eps=1e-9)"
   ]
  },
  {
   "cell_type": "code",
   "execution_count": 27,
   "id": "cbe2519c",
   "metadata": {},
   "outputs": [],
   "source": [
    "class WarmUpCosineAnnealingLR(_LRScheduler):\n",
    "    def __init__(self, optimizer, T_max, T_warmup, eta_min=0, last_epoch=-1):\n",
    "        self.T_max = T_max\n",
    "        self.T_warmup = T_warmup\n",
    "        self.eta_min = eta_min\n",
    "        super(WarmUpCosineAnnealingLR, self).__init__(optimizer, last_epoch)\n",
    "\n",
    "    def get_lr(self):\n",
    "        if self.last_epoch < self.T_warmup:\n",
    "            return [base_lr * self.last_epoch / self.T_warmup for base_lr in self.base_lrs]\n",
    "        else:\n",
    "            k = 1 + math.cos(math.pi * (self.last_epoch - self.T_warmup) / (self.T_max - self.T_warmup))\n",
    "            return [self.eta_min + (base_lr - self.eta_min) * k / 2 for base_lr in self.base_lrs]"
   ]
  },
  {
   "cell_type": "code",
   "execution_count": 28,
   "id": "b6017282",
   "metadata": {},
   "outputs": [],
   "source": [
    "scheduler = WarmUpCosineAnnealingLR(optimizer=optimizer,\n",
    "                                            T_max=final_num_epochs * len(train_loader),\n",
    "                                            T_warmup=50 * len(train_loader),\n",
    "                                            eta_min=1e-6)"
   ]
  },
  {
   "cell_type": "code",
   "execution_count": 29,
   "id": "5b353dc4",
   "metadata": {},
   "outputs": [
    {
     "name": "stdout",
     "output_type": "stream",
     "text": [
      "epoch:1/200 average TL:0.15571301 average VL:0.14213748 epoch time:1568 seconds, lr:2.00e-05\n",
      "epoch:2/200 average TL:0.09038997 average VL:0.05957448 epoch time:1567 seconds, lr:4.00e-05\n",
      "epoch:3/200 average TL:0.05159331 average VL:0.04749041 epoch time:1563 seconds, lr:6.00e-05\n",
      "epoch:4/200 average TL:0.04378421 average VL:0.03577872 epoch time:1565 seconds, lr:8.00e-05\n",
      "epoch:5/200 average TL:0.01630315 average VL:0.00304481 epoch time:1562 seconds, lr:1.00e-04\n",
      "epoch:6/200 average TL:0.00265089 average VL:0.00240604 epoch time:1564 seconds, lr:1.20e-04\n",
      "epoch:7/200 average TL:0.00255339 average VL:0.00230109 epoch time:1566 seconds, lr:1.40e-04\n",
      "epoch:8/200 average TL:0.00243466 average VL:0.00226344 epoch time:1562 seconds, lr:1.60e-04\n",
      "epoch:9/200 average TL:0.00208864 average VL:0.00162911 epoch time:1565 seconds, lr:1.80e-04\n",
      "epoch:10/200 average TL:0.00148836 average VL:0.00130597 epoch time:1565 seconds, lr:2.00e-04\n",
      "epoch:11/200 average TL:0.00124649 average VL:0.00112372 epoch time:1566 seconds, lr:2.20e-04\n",
      "epoch:12/200 average TL:0.00113968 average VL:0.00104400 epoch time:1565 seconds, lr:2.40e-04\n",
      "epoch:13/200 average TL:0.00106476 average VL:0.00103396 epoch time:1564 seconds, lr:2.60e-04\n",
      "epoch:14/200 average TL:0.00100693 average VL:0.00093006 epoch time:1562 seconds, lr:2.80e-04\n",
      "epoch:15/200 average TL:0.00096404 average VL:0.00085433 epoch time:1564 seconds, lr:3.00e-04\n",
      "epoch:16/200 average TL:0.00093183 average VL:0.00080071 epoch time:1565 seconds, lr:3.20e-04\n",
      "epoch:17/200 average TL:0.00087388 average VL:0.00081442 epoch time:1563 seconds, lr:3.40e-04\n",
      "epoch:18/200 average TL:0.00084405 average VL:0.00081972 epoch time:1564 seconds, lr:3.60e-04\n",
      "epoch:19/200 average TL:0.00081150 average VL:0.00080212 epoch time:1565 seconds, lr:3.80e-04\n",
      "epoch:20/200 average TL:0.00078341 average VL:0.00074456 epoch time:1564 seconds, lr:4.00e-04\n",
      "epoch:21/200 average TL:0.00078093 average VL:0.00084043 epoch time:1565 seconds, lr:4.20e-04\n",
      "epoch:22/200 average TL:0.00086319 average VL:0.00060000 epoch time:1565 seconds, lr:4.40e-04\n",
      "epoch:23/200 average TL:0.00075383 average VL:0.00076714 epoch time:1563 seconds, lr:4.60e-04\n",
      "epoch:24/200 average TL:0.00075064 average VL:0.00068281 epoch time:1564 seconds, lr:4.80e-04\n",
      "epoch:25/200 average TL:0.00074095 average VL:0.00076642 epoch time:1564 seconds, lr:5.00e-04\n",
      "epoch:26/200 average TL:0.00071798 average VL:0.00070260 epoch time:1563 seconds, lr:5.20e-04\n",
      "epoch:27/200 average TL:0.00073394 average VL:0.00060721 epoch time:1562 seconds, lr:5.40e-04\n",
      "epoch:28/200 average TL:0.00072218 average VL:0.00069607 epoch time:1564 seconds, lr:5.60e-04\n",
      "epoch:29/200 average TL:0.00071645 average VL:0.00079968 epoch time:1565 seconds, lr:5.80e-04\n",
      "epoch:30/200 average TL:0.00070652 average VL:0.00083918 epoch time:1564 seconds, lr:6.00e-04\n",
      "epoch:31/200 average TL:0.00068106 average VL:0.00076702 epoch time:1566 seconds, lr:6.20e-04\n",
      "epoch:32/200 average TL:0.00069021 average VL:0.00071477 epoch time:1565 seconds, lr:6.40e-04\n",
      "epoch:33/200 average TL:0.00068873 average VL:0.00076533 epoch time:1566 seconds, lr:6.60e-04\n",
      "epoch:34/200 average TL:0.00067949 average VL:0.00064890 epoch time:1565 seconds, lr:6.80e-04\n",
      "epoch:35/200 average TL:0.00066901 average VL:0.00060315 epoch time:1567 seconds, lr:7.00e-04\n",
      "epoch:36/200 average TL:0.00067280 average VL:0.00057458 epoch time:1567 seconds, lr:7.20e-04\n",
      "epoch:37/200 average TL:0.00064756 average VL:0.00059652 epoch time:1562 seconds, lr:7.40e-04\n",
      "epoch:38/200 average TL:0.00063839 average VL:0.00068697 epoch time:1565 seconds, lr:7.60e-04\n",
      "epoch:39/200 average TL:0.00062047 average VL:0.00060760 epoch time:1567 seconds, lr:7.80e-04\n",
      "epoch:40/200 average TL:0.00061886 average VL:0.00058601 epoch time:1565 seconds, lr:8.00e-04\n",
      "epoch:41/200 average TL:0.00059656 average VL:0.00056367 epoch time:1565 seconds, lr:8.20e-04\n",
      "epoch:42/200 average TL:0.00060322 average VL:0.00056444 epoch time:1563 seconds, lr:8.40e-04\n",
      "epoch:43/200 average TL:0.00059495 average VL:0.00052515 epoch time:1563 seconds, lr:8.60e-04\n",
      "epoch:44/200 average TL:0.00059938 average VL:0.00062252 epoch time:1564 seconds, lr:8.80e-04\n",
      "epoch:45/200 average TL:0.00059317 average VL:0.00056478 epoch time:1564 seconds, lr:9.00e-04\n",
      "epoch:46/200 average TL:0.00057732 average VL:0.00055442 epoch time:1564 seconds, lr:9.20e-04\n",
      "epoch:47/200 average TL:0.00057635 average VL:0.00056999 epoch time:1564 seconds, lr:9.40e-04\n",
      "epoch:48/200 average TL:0.00056333 average VL:0.00058558 epoch time:1564 seconds, lr:9.60e-04\n",
      "epoch:49/200 average TL:0.00056065 average VL:0.00053466 epoch time:1565 seconds, lr:9.80e-04\n",
      "epoch:50/200 average TL:0.00054994 average VL:0.00054829 epoch time:1564 seconds, lr:1.00e-03\n",
      "epoch:51/200 average TL:0.00055184 average VL:0.00051179 epoch time:1568 seconds, lr:1.00e-03\n",
      "epoch:52/200 average TL:0.00055546 average VL:0.00049691 epoch time:1572 seconds, lr:1.00e-03\n",
      "epoch:53/200 average TL:0.00054695 average VL:0.00046485 epoch time:1575 seconds, lr:9.99e-04\n",
      "epoch:54/200 average TL:0.00054835 average VL:0.00051695 epoch time:1569 seconds, lr:9.98e-04\n",
      "epoch:55/200 average TL:0.00053171 average VL:0.00058357 epoch time:1567 seconds, lr:9.97e-04\n",
      "epoch:56/200 average TL:0.00053621 average VL:0.00044092 epoch time:1568 seconds, lr:9.96e-04\n",
      "epoch:57/200 average TL:0.00052144 average VL:0.00056533 epoch time:1578 seconds, lr:9.95e-04\n",
      "epoch:58/200 average TL:0.00051130 average VL:0.00048871 epoch time:1568 seconds, lr:9.93e-04\n",
      "epoch:59/200 average TL:0.00052526 average VL:0.00049482 epoch time:1568 seconds, lr:9.91e-04\n",
      "epoch:60/200 average TL:0.00051401 average VL:0.00059333 epoch time:1564 seconds, lr:9.89e-04\n",
      "epoch:61/200 average TL:0.00050602 average VL:0.00050881 epoch time:1564 seconds, lr:9.87e-04\n",
      "epoch:62/200 average TL:0.00051781 average VL:0.00047061 epoch time:1566 seconds, lr:9.84e-04\n",
      "epoch:63/200 average TL:0.00050845 average VL:0.00045888 epoch time:1566 seconds, lr:9.82e-04\n",
      "epoch:64/200 average TL:0.00049228 average VL:0.00047299 epoch time:1564 seconds, lr:9.79e-04\n",
      "epoch:65/200 average TL:0.00050193 average VL:0.00048552 epoch time:1563 seconds, lr:9.76e-04\n",
      "epoch:66/200 average TL:0.00049618 average VL:0.00057305 epoch time:1566 seconds, lr:9.72e-04\n",
      "epoch:67/200 average TL:0.00049757 average VL:0.00048154 epoch time:1566 seconds, lr:9.69e-04\n",
      "epoch:68/200 average TL:0.00048097 average VL:0.00044216 epoch time:1566 seconds, lr:9.65e-04\n",
      "epoch:69/200 average TL:0.00048069 average VL:0.00048477 epoch time:1563 seconds, lr:9.61e-04\n",
      "epoch:70/200 average TL:0.00048110 average VL:0.00053124 epoch time:1565 seconds, lr:9.57e-04\n",
      "epoch:71/200 average TL:0.00048473 average VL:0.00046389 epoch time:1566 seconds, lr:9.52e-04\n",
      "epoch:72/200 average TL:0.00048245 average VL:0.00046759 epoch time:1565 seconds, lr:9.48e-04\n",
      "epoch:73/200 average TL:0.00047660 average VL:0.00041160 epoch time:1564 seconds, lr:9.43e-04\n",
      "epoch:74/200 average TL:0.00046529 average VL:0.00047878 epoch time:1565 seconds, lr:9.38e-04\n",
      "epoch:75/200 average TL:0.00047154 average VL:0.00037487 epoch time:1566 seconds, lr:9.33e-04\n",
      "epoch:76/200 average TL:0.00046474 average VL:0.00043870 epoch time:1564 seconds, lr:9.28e-04\n",
      "epoch:77/200 average TL:0.00046874 average VL:0.00048949 epoch time:1565 seconds, lr:9.22e-04\n",
      "epoch:78/200 average TL:0.00045562 average VL:0.00043563 epoch time:1566 seconds, lr:9.17e-04\n",
      "epoch:79/200 average TL:0.00046287 average VL:0.00044444 epoch time:1566 seconds, lr:9.11e-04\n",
      "epoch:80/200 average TL:0.00045761 average VL:0.00044320 epoch time:1567 seconds, lr:9.05e-04\n",
      "epoch:81/200 average TL:0.00045273 average VL:0.00040066 epoch time:1564 seconds, lr:8.98e-04\n",
      "epoch:82/200 average TL:0.00045136 average VL:0.00042564 epoch time:1565 seconds, lr:8.92e-04\n",
      "epoch:83/200 average TL:0.00044598 average VL:0.00042474 epoch time:1565 seconds, lr:8.85e-04\n",
      "epoch:84/200 average TL:0.00045714 average VL:0.00038246 epoch time:1565 seconds, lr:8.79e-04\n",
      "epoch:85/200 average TL:0.00043867 average VL:0.00040434 epoch time:1564 seconds, lr:8.72e-04\n",
      "epoch:86/200 average TL:0.00045298 average VL:0.00050151 epoch time:1565 seconds, lr:8.65e-04\n",
      "epoch:87/200 average TL:0.00044454 average VL:0.00039456 epoch time:1565 seconds, lr:8.57e-04\n",
      "epoch:88/200 average TL:0.00044247 average VL:0.00042951 epoch time:1565 seconds, lr:8.50e-04\n"
     ]
    },
    {
     "name": "stdout",
     "output_type": "stream",
     "text": [
      "epoch:89/200 average TL:0.00044183 average VL:0.00039944 epoch time:1562 seconds, lr:8.42e-04\n",
      "epoch:90/200 average TL:0.00043740 average VL:0.00042936 epoch time:1564 seconds, lr:8.35e-04\n",
      "epoch:91/200 average TL:0.00043547 average VL:0.00039472 epoch time:1566 seconds, lr:8.27e-04\n",
      "epoch:92/200 average TL:0.00043441 average VL:0.00042944 epoch time:1566 seconds, lr:8.19e-04\n",
      "epoch:93/200 average TL:0.00043820 average VL:0.00047516 epoch time:1566 seconds, lr:8.11e-04\n",
      "epoch:94/200 average TL:0.00043289 average VL:0.00046031 epoch time:1569 seconds, lr:8.02e-04\n",
      "epoch:95/200 average TL:0.00042937 average VL:0.00042940 epoch time:1573 seconds, lr:7.94e-04\n",
      "epoch:96/200 average TL:0.00043192 average VL:0.00039875 epoch time:1579 seconds, lr:7.86e-04\n",
      "epoch:97/200 average TL:0.00043475 average VL:0.00047519 epoch time:1579 seconds, lr:7.77e-04\n",
      "epoch:98/200 average TL:0.00042691 average VL:0.00048623 epoch time:1601 seconds, lr:7.68e-04\n",
      "epoch:99/200 average TL:0.00042428 average VL:0.00040727 epoch time:1592 seconds, lr:7.59e-04\n",
      "epoch:100/200 average TL:0.00042118 average VL:0.00039498 epoch time:1602 seconds, lr:7.50e-04\n",
      "epoch:101/200 average TL:0.00042972 average VL:0.00046721 epoch time:1590 seconds, lr:7.41e-04\n",
      "epoch:102/200 average TL:0.00042093 average VL:0.00033853 epoch time:1594 seconds, lr:7.32e-04\n",
      "epoch:103/200 average TL:0.00041835 average VL:0.00045635 epoch time:1585 seconds, lr:7.23e-04\n",
      "epoch:104/200 average TL:0.00042828 average VL:0.00039138 epoch time:1583 seconds, lr:7.13e-04\n",
      "epoch:105/200 average TL:0.00041335 average VL:0.00041694 epoch time:1573 seconds, lr:7.04e-04\n",
      "epoch:106/200 average TL:0.00041646 average VL:0.00040797 epoch time:1570 seconds, lr:6.94e-04\n",
      "epoch:107/200 average TL:0.00041373 average VL:0.00035806 epoch time:1570 seconds, lr:6.84e-04\n",
      "epoch:108/200 average TL:0.00041254 average VL:0.00036950 epoch time:1571 seconds, lr:6.75e-04\n",
      "epoch:109/200 average TL:0.00041124 average VL:0.00039122 epoch time:1566 seconds, lr:6.65e-04\n",
      "epoch:110/200 average TL:0.00042275 average VL:0.00040125 epoch time:1571 seconds, lr:6.55e-04\n",
      "epoch:111/200 average TL:0.00041474 average VL:0.00048287 epoch time:1568 seconds, lr:6.45e-04\n",
      "epoch:112/200 average TL:0.00041429 average VL:0.00035919 epoch time:1565 seconds, lr:6.35e-04\n",
      "epoch:113/200 average TL:0.00041368 average VL:0.00039809 epoch time:1567 seconds, lr:6.25e-04\n",
      "epoch:114/200 average TL:0.00040987 average VL:0.00038655 epoch time:1566 seconds, lr:6.15e-04\n",
      "epoch:115/200 average TL:0.00041449 average VL:0.00033508 epoch time:1562 seconds, lr:6.04e-04\n",
      "epoch:116/200 average TL:0.00040998 average VL:0.00038548 epoch time:1558 seconds, lr:5.94e-04\n",
      "epoch:117/200 average TL:0.00040731 average VL:0.00040124 epoch time:1554 seconds, lr:5.84e-04\n",
      "epoch:118/200 average TL:0.00040731 average VL:0.00040681 epoch time:1553 seconds, lr:5.73e-04\n",
      "epoch:119/200 average TL:0.00041143 average VL:0.00040495 epoch time:1552 seconds, lr:5.63e-04\n",
      "epoch:120/200 average TL:0.00040799 average VL:0.00042061 epoch time:1552 seconds, lr:5.53e-04\n",
      "epoch:121/200 average TL:0.00039561 average VL:0.00039602 epoch time:1557 seconds, lr:5.42e-04\n",
      "epoch:122/200 average TL:0.00040408 average VL:0.00041272 epoch time:1551 seconds, lr:5.32e-04\n",
      "epoch:123/200 average TL:0.00039939 average VL:0.00039279 epoch time:1570 seconds, lr:5.21e-04\n",
      "epoch:124/200 average TL:0.00040338 average VL:0.00036403 epoch time:1558 seconds, lr:5.11e-04\n",
      "epoch:125/200 average TL:0.00039526 average VL:0.00037619 epoch time:1567 seconds, lr:5.01e-04\n",
      "epoch:126/200 average TL:0.00040470 average VL:0.00036483 epoch time:1566 seconds, lr:4.90e-04\n",
      "epoch:127/200 average TL:0.00039116 average VL:0.00034859 epoch time:1566 seconds, lr:4.80e-04\n",
      "epoch:128/200 average TL:0.00040201 average VL:0.00035781 epoch time:1565 seconds, lr:4.69e-04\n",
      "epoch:129/200 average TL:0.00039465 average VL:0.00035458 epoch time:1566 seconds, lr:4.59e-04\n",
      "epoch:130/200 average TL:0.00039881 average VL:0.00033468 epoch time:1566 seconds, lr:4.48e-04\n",
      "epoch:131/200 average TL:0.00039303 average VL:0.00032765 epoch time:1564 seconds, lr:4.38e-04\n",
      "epoch:132/200 average TL:0.00039110 average VL:0.00037056 epoch time:1567 seconds, lr:4.28e-04\n",
      "epoch:133/200 average TL:0.00039856 average VL:0.00041455 epoch time:1565 seconds, lr:4.17e-04\n",
      "epoch:134/200 average TL:0.00039436 average VL:0.00031470 epoch time:1567 seconds, lr:4.07e-04\n",
      "epoch:135/200 average TL:0.00039522 average VL:0.00037158 epoch time:1567 seconds, lr:3.97e-04\n",
      "epoch:136/200 average TL:0.00039100 average VL:0.00035962 epoch time:1565 seconds, lr:3.86e-04\n",
      "epoch:137/200 average TL:0.00039188 average VL:0.00039602 epoch time:1564 seconds, lr:3.76e-04\n",
      "epoch:138/200 average TL:0.00038790 average VL:0.00042403 epoch time:1565 seconds, lr:3.66e-04\n",
      "epoch:139/200 average TL:0.00039179 average VL:0.00040005 epoch time:1566 seconds, lr:3.56e-04\n",
      "epoch:140/200 average TL:0.00038927 average VL:0.00036494 epoch time:1565 seconds, lr:3.46e-04\n",
      "epoch:141/200 average TL:0.00037974 average VL:0.00036044 epoch time:1563 seconds, lr:3.36e-04\n",
      "epoch:142/200 average TL:0.00038836 average VL:0.00035589 epoch time:1567 seconds, lr:3.26e-04\n",
      "epoch:143/200 average TL:0.00038437 average VL:0.00037595 epoch time:1566 seconds, lr:3.17e-04\n",
      "epoch:144/200 average TL:0.00038816 average VL:0.00043051 epoch time:1566 seconds, lr:3.07e-04\n",
      "epoch:145/200 average TL:0.00039019 average VL:0.00036714 epoch time:1565 seconds, lr:2.97e-04\n",
      "epoch:146/200 average TL:0.00039055 average VL:0.00031692 epoch time:1551 seconds, lr:2.88e-04\n",
      "epoch:147/200 average TL:0.00038571 average VL:0.00036362 epoch time:1545 seconds, lr:2.78e-04\n",
      "epoch:148/200 average TL:0.00038601 average VL:0.00040800 epoch time:1538 seconds, lr:2.69e-04\n",
      "epoch:149/200 average TL:0.00038052 average VL:0.00041050 epoch time:1540 seconds, lr:2.60e-04\n",
      "epoch:150/200 average TL:0.00038221 average VL:0.00038222 epoch time:1542 seconds, lr:2.51e-04\n",
      "epoch:151/200 average TL:0.00037946 average VL:0.00035281 epoch time:1546 seconds, lr:2.42e-04\n",
      "epoch:152/200 average TL:0.00037914 average VL:0.00039182 epoch time:1546 seconds, lr:2.33e-04\n",
      "epoch:153/200 average TL:0.00038455 average VL:0.00041400 epoch time:1542 seconds, lr:2.24e-04\n",
      "epoch:154/200 average TL:0.00037806 average VL:0.00035450 epoch time:1555 seconds, lr:2.15e-04\n",
      "epoch:155/200 average TL:0.00038404 average VL:0.00040313 epoch time:1551 seconds, lr:2.07e-04\n",
      "epoch:156/200 average TL:0.00038113 average VL:0.00040420 epoch time:1535 seconds, lr:1.99e-04\n",
      "epoch:157/200 average TL:0.00037878 average VL:0.00041008 epoch time:1556 seconds, lr:1.90e-04\n",
      "epoch:158/200 average TL:0.00037126 average VL:0.00034372 epoch time:1535 seconds, lr:1.82e-04\n",
      "epoch:159/200 average TL:0.00037768 average VL:0.00036295 epoch time:1544 seconds, lr:1.74e-04\n",
      "epoch:160/200 average TL:0.00038604 average VL:0.00036851 epoch time:1560 seconds, lr:1.66e-04\n",
      "epoch:161/200 average TL:0.00037343 average VL:0.00040069 epoch time:1553 seconds, lr:1.59e-04\n",
      "epoch:162/200 average TL:0.00037710 average VL:0.00038305 epoch time:1549 seconds, lr:1.51e-04\n",
      "epoch:163/200 average TL:0.00037037 average VL:0.00034197 epoch time:1535 seconds, lr:1.44e-04\n",
      "epoch:164/200 average TL:0.00037374 average VL:0.00037350 epoch time:1540 seconds, lr:1.36e-04\n",
      "epoch:165/200 average TL:0.00037555 average VL:0.00041442 epoch time:1543 seconds, lr:1.29e-04\n",
      "epoch:166/200 average TL:0.00037295 average VL:0.00032592 epoch time:1558 seconds, lr:1.22e-04\n",
      "epoch:167/200 average TL:0.00036803 average VL:0.00041590 epoch time:1536 seconds, lr:1.16e-04\n",
      "epoch:168/200 average TL:0.00037499 average VL:0.00040791 epoch time:1534 seconds, lr:1.09e-04\n",
      "epoch:169/200 average TL:0.00037287 average VL:0.00038799 epoch time:1533 seconds, lr:1.03e-04\n",
      "epoch:170/200 average TL:0.00037695 average VL:0.00034801 epoch time:1534 seconds, lr:9.64e-05\n",
      "epoch:171/200 average TL:0.00036950 average VL:0.00034683 epoch time:1536 seconds, lr:9.03e-05\n",
      "epoch:172/200 average TL:0.00036303 average VL:0.00029016 epoch time:1536 seconds, lr:8.45e-05\n",
      "epoch:173/200 average TL:0.00036451 average VL:0.00035074 epoch time:1541 seconds, lr:7.88e-05\n",
      "epoch:174/200 average TL:0.00037545 average VL:0.00035492 epoch time:1742 seconds, lr:7.32e-05\n",
      "epoch:175/200 average TL:0.00037174 average VL:0.00038881 epoch time:1557 seconds, lr:6.79e-05\n"
     ]
    },
    {
     "name": "stdout",
     "output_type": "stream",
     "text": [
      "epoch:176/200 average TL:0.00037078 average VL:0.00034678 epoch time:1544 seconds, lr:6.28e-05\n",
      "epoch:177/200 average TL:0.00037936 average VL:0.00034020 epoch time:1536 seconds, lr:5.78e-05\n",
      "epoch:178/200 average TL:0.00037099 average VL:0.00039227 epoch time:1536 seconds, lr:5.31e-05\n",
      "epoch:179/200 average TL:0.00036307 average VL:0.00037800 epoch time:1542 seconds, lr:4.85e-05\n",
      "epoch:180/200 average TL:0.00036843 average VL:0.00036316 epoch time:1749 seconds, lr:4.42e-05\n",
      "epoch:181/200 average TL:0.00036215 average VL:0.00038435 epoch time:1563 seconds, lr:4.00e-05\n",
      "epoch:182/200 average TL:0.00036802 average VL:0.00035933 epoch time:1547 seconds, lr:3.61e-05\n",
      "epoch:183/200 average TL:0.00036620 average VL:0.00040208 epoch time:1539 seconds, lr:3.23e-05\n",
      "epoch:184/200 average TL:0.00036880 average VL:0.00033900 epoch time:1537 seconds, lr:2.88e-05\n",
      "epoch:185/200 average TL:0.00037360 average VL:0.00033954 epoch time:1536 seconds, lr:2.54e-05\n",
      "epoch:186/200 average TL:0.00037069 average VL:0.00043054 epoch time:1534 seconds, lr:2.23e-05\n",
      "epoch:187/200 average TL:0.00037312 average VL:0.00038060 epoch time:1532 seconds, lr:1.94e-05\n",
      "epoch:188/200 average TL:0.00036824 average VL:0.00041851 epoch time:1534 seconds, lr:1.67e-05\n",
      "epoch:189/200 average TL:0.00036924 average VL:0.00037386 epoch time:1533 seconds, lr:1.42e-05\n",
      "epoch:190/200 average TL:0.00036688 average VL:0.00036243 epoch time:1530 seconds, lr:1.19e-05\n",
      "epoch:191/200 average TL:0.00037331 average VL:0.00033935 epoch time:1535 seconds, lr:9.85e-06\n",
      "epoch:192/200 average TL:0.00037317 average VL:0.00033528 epoch time:1532 seconds, lr:7.99e-06\n",
      "epoch:193/200 average TL:0.00036891 average VL:0.00039956 epoch time:1532 seconds, lr:6.36e-06\n",
      "epoch:194/200 average TL:0.00036770 average VL:0.00039966 epoch time:1534 seconds, lr:4.94e-06\n",
      "epoch:195/200 average TL:0.00036688 average VL:0.00036873 epoch time:1533 seconds, lr:3.74e-06\n",
      "epoch:196/200 average TL:0.00036603 average VL:0.00039538 epoch time:1526 seconds, lr:2.75e-06\n",
      "epoch:197/200 average TL:0.00037543 average VL:0.00036681 epoch time:1528 seconds, lr:1.99e-06\n",
      "epoch:198/200 average TL:0.00037229 average VL:0.00042180 epoch time:1530 seconds, lr:1.44e-06\n",
      "epoch:199/200 average TL:0.00037090 average VL:0.00036234 epoch time:1528 seconds, lr:1.11e-06\n",
      "epoch:200/200 average TL:0.00036560 average VL:0.00031856 epoch time:1528 seconds, lr:1.00e-06\n",
      "\n",
      "Duration: 312249 seconds\n"
     ]
    }
   ],
   "source": [
    "start_time = time.time()\n",
    "num_train_batches=len(train_loader)\n",
    "num_test_batches=len(test_loader)\n",
    "train_losses = []\n",
    "val_losses = []\n",
    "patience_counter = 0\n",
    "best_val_loss = float('inf')\n",
    "\n",
    "for i in range(final_num_epochs):\n",
    "    loss1 = 0\n",
    "    epoch_time = time.time()\n",
    "    ensemble.train()\n",
    "    # Run the training batches\n",
    "    for b, (X_train, y_train) in enumerate(train_loader):  \n",
    "        optimizer.zero_grad()\n",
    "        # Apply the model\n",
    "        #xt=one_hot_encode(X_train.to(device), 5)\n",
    "        y_pred=ensemble(X_train)\n",
    "        #print(y_pred.shape)\n",
    "        y_train = torch.cat([y_train, 4*torch.ones(batch_size, 2*K, dtype=torch.int).to(device)], dim=1)\n",
    "        yt=one_hot_encode(y_train, 5).to(device)\n",
    "        loss = criterion(y_pred, yt) \n",
    "        # Update parameters\n",
    "        loss.backward()\n",
    "        optimizer.step()\n",
    "        scheduler.step()\n",
    "        loss1=loss1+loss\n",
    "        #if (b+1)%50==1:\n",
    "        #    print(f'epoch: {i+1}/{num_epochs} batch:{b+1}/{num_train_batches} loss: {loss.item():10.8f}')      \n",
    "    train_loss=loss1/num_train_batches  \n",
    "    train_losses.append(train_loss.item())\n",
    "    # Run the testing batches\n",
    "    ensemble.eval()\n",
    "    with torch.no_grad():\n",
    "        loss1=0\n",
    "        for b, (X_test, y_test) in enumerate(test_loader):\n",
    "            \n",
    "            # Apply the model\n",
    "            #xt=one_hot_encode(X_test.to(device), 5)\n",
    "            y_pred=ensemble(X_test)\n",
    "            y_test = torch.cat([y_test, 4*torch.ones(batch_size, 2*K, dtype=torch.int).to(device)], dim=1)\n",
    "            yt=one_hot_encode(y_test, 5).to(device)\n",
    "            loss = criterion(y_pred, yt) \n",
    "            loss1=loss1+loss         \n",
    "        val_loss=loss1/num_test_batches  \n",
    "        val_losses.append(val_loss.item())\n",
    "    \n",
    "    print(f'epoch:{i+1}/{final_num_epochs} average TL:{train_loss.item():10.8f} average VL:{val_loss.item():10.8f} epoch time:{time.time() - epoch_time:.0f} seconds, lr:{optimizer.param_groups[0][\"lr\"]:.2e}')               \n",
    "     # Early stopping\n",
    "    if val_loss < best_val_loss:\n",
    "        best_val_loss = val_loss\n",
    "        torch.save(ensemble.state_dict(), path_directory+\"model.pth\")\n",
    "        \n",
    "print(f'\\nDuration: {time.time() - start_time:.0f} seconds') # print the time elapsed            "
   ]
  },
  {
   "cell_type": "code",
   "execution_count": 30,
   "id": "8fb0da02",
   "metadata": {},
   "outputs": [
    {
     "name": "stdout",
     "output_type": "stream",
     "text": [
      "Model Flops: 73579256000.0\n",
      "Model Params Num: 936850.0\n",
      "\n"
     ]
    }
   ],
   "source": [
    "t1=iter(train_loader)\n",
    "X,y=next(t1)\n",
    "flops, params = thop.profile(ensemble, inputs=(X,), verbose=False)\n",
    "print(f'Model Flops: {flops}')\n",
    "print(f'Model Params Num: {params}\\n')"
   ]
  },
  {
   "cell_type": "code",
   "execution_count": 31,
   "id": "0b3a903e",
   "metadata": {},
   "outputs": [],
   "source": [
    "dict={'train_losses':train_losses, 'val_losses':val_losses, 'flops':flops, 'parameters':params }\n",
    "savemat(path_directory+'losses.mat', dict)\n",
    "with open(path_directory+'losses.pkl', 'wb') as file:\n",
    "    \n",
    "    # A new file will be created\n",
    "    pickle.dump(dict, file)"
   ]
  },
  {
   "cell_type": "code",
   "execution_count": 32,
   "id": "51fd549e",
   "metadata": {},
   "outputs": [
    {
     "data": {
      "image/png": "[encoded data removed]",
      "text/plain": [
       "<Figure size 640x480 with 1 Axes>"
      ]
     },
     "metadata": {},
     "output_type": "display_data"
    }
   ],
   "source": [
    "# Plotting\n",
    "plt.plot(train_losses, label='Train Loss')\n",
    "plt.plot(val_losses, label='Validation Loss')\n",
    "plt.xlabel('Epoch')\n",
    "plt.ylabel('Loss')\n",
    "plt.legend()\n",
    "plt.grid()\n",
    "plt.show()"
   ]
  },
  {
   "cell_type": "code",
   "execution_count": null,
   "id": "7401de54",
   "metadata": {},
   "outputs": [],
   "source": []
  },
  {
   "cell_type": "code",
   "execution_count": 33,
   "id": "b3bc825d",
   "metadata": {},
   "outputs": [],
   "source": [
    "class LanguageDataset(Dataset):\n",
    "\n",
    "    def __init__(self, dictionary, num_samples, num_errors):\n",
    "        self.dictionary = dictionary\n",
    "        self.num_samples = num_samples \n",
    "        self.num_errors = num_errors\n",
    "\n",
    "    def __len__(self):\n",
    "        return self.num_samples\n",
    "\n",
    "    def __getitem__(self, idx):\n",
    "        source_idx = idx % len(self.dictionary)\n",
    "        sequence = self.dictionary[source_idx]\n",
    "        choice = torch.rand(1).item()\n",
    "        if self.num_errors > 0:\n",
    "            if choice >= 0 and choice< 0.10646:\n",
    "                sequence = self.introduce_substitution_errors(sequence, self.num_errors)\n",
    "                for _ in range(self.num_errors):\n",
    "                    sequence.append('N')  \n",
    "                sequence=''.join(sequence)\n",
    "                #sequence= torch.cat([sequence, 'NNNN'], dim=1)\n",
    "            elif choice >=0.10646 and choice < 0.14218:\n",
    "                sequence = self.introduce_deletion_errors(sequence, self.num_errors)\n",
    "                for _ in range(self.num_errors):\n",
    "                    sequence.append('N') \n",
    "                sequence=''.join(sequence)\n",
    "                #sequence= torch.cat([sequence, 'NNNN'], dim=1)\n",
    "            elif choice >=0.14218 and choice < 0.15163:\n",
    "                sequence = self.introduce_insertion_errors(sequence, self.num_errors)\n",
    "                sequence=''.join(sequence)\n",
    "            elif choice >=0.15163 and choice < 0.156:\n",
    "                sequence = self.introduce_substitution_errors(sequence, self.num_errors)\n",
    "                sequence=''.join(sequence)\n",
    "                sequence = self.introduce_deletion_errors(sequence, self.num_errors)\n",
    "                for _ in range(self.num_errors):\n",
    "                    sequence.append('N') \n",
    "                sequence=''.join(sequence)\n",
    "                #sequence= torch.cat([sequence, 'NNNN'], dim=1)\n",
    "            elif choice >=0.156 and choice < 0.15701:\n",
    "                sequence = self.introduce_substitution_errors(sequence, self.num_errors)\n",
    "                sequence=''.join(sequence)\n",
    "                sequence = self.introduce_insertion_errors(sequence, self.num_errors)\n",
    "                sequence=''.join(sequence)\n",
    "                \n",
    "            elif choice >=0.15701 and choice < 0.1574:\n",
    "                sequence = self.introduce_deletion_errors(sequence, self.num_errors)\n",
    "                sequence=''.join(sequence)\n",
    "                sequence = self.introduce_insertion_errors(sequence, self.num_errors)\n",
    "                sequence=''.join(sequence)\n",
    "            elif choice >=0.1574 and choice < 0.15747:\n",
    "                sequence = self.introduce_substitution_errors(sequence, self.num_errors)\n",
    "                sequence=''.join(sequence)\n",
    "                sequence = self.introduce_deletion_errors(sequence, self.num_errors)\n",
    "                sequence=''.join(sequence)\n",
    "                sequence = self.introduce_insertion_errors(sequence, self.num_errors)\n",
    "                sequence=''.join(sequence)  \n",
    "            else:\n",
    "                sequence = list(sequence)\n",
    "                for _ in range(self.num_errors):\n",
    "                    sequence.append('N') \n",
    "                sequence=''.join(sequence)   \n",
    "            \n",
    "        x = torch.tensor([self.char_to_idx(c) for c in sequence], dtype=torch.long)\n",
    "        y = torch.tensor([self.char_to_idx(c) for c in self.dictionary[source_idx]], dtype=torch.long)\n",
    "        return x.to(device), y.to(device)\n",
    "\n",
    "    def introduce_deletion_errors(self, sequence, num_errors):\n",
    "        #ne = random.randint(1, num_errors)\n",
    "        sequence = list(sequence)\n",
    "        \n",
    "        for _ in range(num_errors):\n",
    "            i = random.randint(0, len(sequence)-1)\n",
    "            del sequence[i]\n",
    "            sequence.append('N') \n",
    "        \n",
    "        return sequence\n",
    "    \n",
    "    def introduce_substitution_errors(self, sequence, num_errors):\n",
    "        #ne = random.randint(1, num_errors)\n",
    "        sequence = list(sequence)\n",
    "        for _ in range(num_errors):\n",
    "            i = random.randint(0, len(sequence)-1)\n",
    "            if sequence[i] == 'A':\n",
    "                sequence[i] = random.choice(['T', 'G', 'C'])\n",
    "            elif sequence[i] == 'T':\n",
    "                sequence[i] = random.choice(['A', 'G', 'C'])\n",
    "            elif sequence[i] == 'G':\n",
    "                sequence[i] = random.choice(['A', 'T', 'C'])\n",
    "            elif sequence[i] == 'C':\n",
    "                sequence[i] = random.choice(['A', 'T', 'G'])\n",
    "        \n",
    "        return sequence\n",
    "    \n",
    "    def introduce_insertion_errors(self, sequence, num_errors):\n",
    "        #ne = random.randint(1, num_errors)\n",
    "        sequence = list(sequence)\n",
    "        #for _ in range(num_errors-ne):\n",
    "        #    sequence.append('N')\n",
    "        for _ in range(num_errors):\n",
    "            i = random.randint(0, len(sequence))\n",
    "            random_char = random.choice(['A','C','T','G']) \n",
    "            sequence.insert(i, random_char)\n",
    "        return sequence\n",
    "\n",
    "    def char_to_idx(self, char):\n",
    "        return {'A': 0, 'C': 1, 'T': 2, 'G': 3, 'N': 4}[char]"
   ]
  },
  {
   "cell_type": "code",
   "execution_count": 34,
   "id": "47e6dab4",
   "metadata": {},
   "outputs": [],
   "source": [
    "start_test=1\n",
    "stop_test=4\n",
    "num_test=200000\n",
    "test_error_points=torch.arange(start_test, stop_test+1)\n",
    "#nucleotide error rate\n",
    "ner=torch.zeros((stop_test-start_test+1)).to(device)\n",
    "#sequence error rate\n",
    "ser=torch.zeros((stop_test-start_test+1)).to(device)\n",
    "time_tensor =torch.zeros((stop_test-start_test+1)).to(device)"
   ]
  },
  {
   "cell_type": "code",
   "execution_count": 35,
   "id": "973c5d20",
   "metadata": {},
   "outputs": [],
   "source": [
    "def count_different_rows(matrix1, matrix2):\n",
    "    \"\"\"\n",
    "    Calculates the number of rows that are not equal between two 2D PyTorch matrices.\n",
    "\n",
    "    Args:\n",
    "        matrix1 (torch.Tensor): A 2D PyTorch tensor of shape (m, n).\n",
    "        matrix2 (torch.Tensor): A 2D PyTorch tensor of shape (m, n).\n",
    "\n",
    "    Returns:\n",
    "        int: The number of rows that are not equal between the two matrices.\n",
    "    \"\"\"\n",
    "    assert matrix1.shape == matrix2.shape, \"The input matrices must have the same shape.\"\n",
    "    equal_rows = torch.all(matrix1 == matrix2, dim=1)\n",
    "    return matrix1.shape[0] - torch.sum(equal_rows).item()"
   ]
  },
  {
   "cell_type": "code",
   "execution_count": 36,
   "id": "c53a8c64",
   "metadata": {},
   "outputs": [],
   "source": [
    "i1=0\n",
    "for i in range(start_test, stop_test+1):\n",
    "    test_data1 = LanguageDataset(dicts, num_samples=num_test, num_errors=i)\n",
    "    test_loader1 = DataLoader(test_data1, batch_size=batch_size, shuffle=True)\n",
    "    n_tbatch=len(test_loader1)\n",
    "    ne=0.0\n",
    "    count=0.0\n",
    "    decoding_time =0\n",
    "    # Run the testing batches\n",
    "    ensemble.eval()\n",
    "    with torch.no_grad():\n",
    "        for b, (X_test, y_test) in enumerate(test_loader1):\n",
    "            # Apply the model\n",
    "            start_time = time.time()\n",
    "            y_pred=ensemble(X_test)\n",
    "            decoding_time = decoding_time + time.time()-start_time\n",
    "            y_pred_d=one_hot_decode(y_pred)\n",
    "            \n",
    "            y_pred_dk = y_pred_d[:,:K]\n",
    "            ne=ne+torch.sum(y_pred_dk!=y_test).item()\n",
    "            count=count+count_different_rows(y_test,y_pred_dk)\n",
    "        time_tensor[i1] = decoding_time/(n_tbatch*batch_size)\n",
    "        ner[i1]=ne/(n_tbatch*batch_size*K)\n",
    "        ser[i1]=count/(n_tbatch*batch_size)\n",
    "    i1=i1+1"
   ]
  },
  {
   "cell_type": "code",
   "execution_count": 37,
   "id": "e6f272cc",
   "metadata": {},
   "outputs": [
    {
     "data": {
      "text/plain": [
       "tensor([0.0014, 0.0014, 0.0014, 0.0015], device='cuda:0')"
      ]
     },
     "execution_count": 37,
     "metadata": {},
     "output_type": "execute_result"
    }
   ],
   "source": [
    "time_tensor"
   ]
  },
  {
   "cell_type": "code",
   "execution_count": 38,
   "id": "a0c8cf5b",
   "metadata": {},
   "outputs": [
    {
     "data": {
      "text/plain": [
       "tensor([0.0012, 0.0031, 0.0065, 0.0097], device='cuda:0')"
      ]
     },
     "execution_count": 38,
     "metadata": {},
     "output_type": "execute_result"
    }
   ],
   "source": [
    "ner"
   ]
  },
  {
   "cell_type": "code",
   "execution_count": 39,
   "id": "5cc695a1",
   "metadata": {},
   "outputs": [
    {
     "data": {
      "text/plain": [
       "tensor([0.0074, 0.0152, 0.0315, 0.0451], device='cuda:0')"
      ]
     },
     "execution_count": 39,
     "metadata": {},
     "output_type": "execute_result"
    }
   ],
   "source": [
    "ser"
   ]
  },
  {
   "cell_type": "code",
   "execution_count": 40,
   "id": "f5da72f3",
   "metadata": {},
   "outputs": [
    {
     "data": {
      "image/png": "[encoded data removed]",
      "text/plain": [
       "<Figure size 640x480 with 1 Axes>"
      ]
     },
     "metadata": {},
     "output_type": "display_data"
    }
   ],
   "source": [
    "plt.plot(torch.Tensor.cpu(test_error_points).numpy(),torch.Tensor.cpu(ner).numpy())\n",
    "plt.yscale('log')\n",
    "plt.xlabel('Number of errors')\n",
    "plt.ylabel('NER')    \n",
    "plt.grid(True)\n",
    "plt.show()"
   ]
  },
  {
   "cell_type": "code",
   "execution_count": 41,
   "id": "aa18ab62",
   "metadata": {},
   "outputs": [],
   "source": [
    "dict1={'ner':torch.Tensor.cpu(ner).numpy(), 'ser':torch.Tensor.cpu(ser).numpy()}\n",
    "savemat(path_directory+'metric.mat', dict1)\n",
    "with open(path_directory+'metric.pkl', 'wb') as file:\n",
    "    \n",
    "    # A new file will be created\n",
    "    pickle.dump(dict1, file)"
   ]
  },
  {
   "cell_type": "code",
   "execution_count": 42,
   "id": "9dc7e09e",
   "metadata": {},
   "outputs": [
    {
     "data": {
      "image/png": "[encoded data removed]",
      "text/plain": [
       "<Figure size 640x480 with 1 Axes>"
      ]
     },
     "metadata": {},
     "output_type": "display_data"
    }
   ],
   "source": [
    "plt.plot(torch.Tensor.cpu(test_error_points).numpy(),torch.Tensor.cpu(ser).numpy())\n",
    "plt.yscale('log')\n",
    "plt.xlabel('Number of errors')\n",
    "plt.ylabel('SER')    \n",
    "plt.grid(True)\n",
    "plt.show()"
   ]
  },
  {
   "cell_type": "code",
   "execution_count": null,
   "id": "6e546b61",
   "metadata": {},
   "outputs": [],
   "source": []
  },
  {
   "cell_type": "code",
   "execution_count": null,
   "id": "39846d7e",
   "metadata": {},
   "outputs": [],
   "source": []
  }
 ],
 "metadata": {
  "kernelspec": {
   "display_name": "Python 3 (ipykernel)",
   "language": "python",
   "name": "python3"
  },
  "language_info": {
   "codemirror_mode": {
    "name": "ipython",
    "version": 3
   },
   "file_extension": ".py",
   "mimetype": "text/x-python",
   "name": "python",
   "nbconvert_exporter": "python",
   "pygments_lexer": "ipython3",
   "version": "3.10.9"
  }
 },
 "nbformat": 4,
 "nbformat_minor": 5
}

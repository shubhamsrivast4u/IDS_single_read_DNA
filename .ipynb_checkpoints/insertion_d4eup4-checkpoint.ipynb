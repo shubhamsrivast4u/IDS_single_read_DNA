{
 "cells": [
  {
   "cell_type": "code",
   "execution_count": 1,
   "id": "54bdf718",
   "metadata": {},
   "outputs": [],
   "source": [
    "import torch\n",
    "import torch.nn as nn\n",
    "import torch.nn.functional as F\n",
    "import random\n",
    "from torch.utils.data import Dataset, DataLoader\n",
    "import os\n",
    "os.environ[\"CUDA_VISIBLE_DEVICES\"] = \"2\"  # Select the GPU index\n",
    "import nltk\n",
    "from torch.optim.lr_scheduler import _LRScheduler\n",
    "import time\n",
    "import math\n",
    "import matplotlib.pyplot as plt\n",
    "import spacy\n",
    "from scipy.io import savemat\n",
    "import dill as pickle\n",
    "import thop"
   ]
  },
  {
   "cell_type": "code",
   "execution_count": 2,
   "id": "a700507b",
   "metadata": {},
   "outputs": [
    {
     "name": "stdout",
     "output_type": "stream",
     "text": [
      "['ATCGATCGATCGAT', 'TACGTAGCTAGCTA', 'TAGCTACGTAGCTA', 'ATGCATGCATCGAT', 'ATGCTACGATGCTA', 'TAGCATGCTACGAT', 'TACGATCGTACGAT', 'ATCGTAGCATGCTA', 'TACGATGCTAGCAT', 'ATCGTACGATCGTA', 'ATGCTAGCATCGTA', 'TAGCATCGTAGCAT', 'TAGCTAGCTACGTA', 'ATGCATCGATGCAT', 'ATCGATGCATGCAT', 'TACGTACGTACGTA']\n"
     ]
    }
   ],
   "source": [
    "# Dictionary\n",
    "dicno=4\n",
    "dictionaries =[[],\n",
    "               \n",
    "               [],\n",
    "               \n",
    "               [],\n",
    "               \n",
    "               ['ACGTAGCAGA', 'ACTACAGACG', 'AGACGATGCA', 'AGCGACTATC', 'ATAGCTCGTG', 'CACGAGCTAT','CGTCTGTAGT',\n",
    "                'CTATCAGCGA', 'GATAGTCGCT', 'GCAGACATCA', 'GTGCTCGATA', 'TATCGAGCAC', 'TCGCTGATAG', 'TCTGCTACGT',\n",
    "                'TGATGTCTGC', 'TGCATCGTCT'],\n",
    "               \n",
    "               ['ATCGATCGATCGAT','TACGTAGCTAGCTA', 'TAGCTACGTAGCTA', 'ATGCATGCATCGAT', 'ATGCTACGATGCTA', \n",
    "                'TAGCATGCTACGAT', 'TACGATCGTACGAT', 'ATCGTAGCATGCTA', 'TACGATGCTAGCAT', 'ATCGTACGATCGTA', \n",
    "                'ATGCTAGCATCGTA', 'TAGCATCGTAGCAT', 'TAGCTAGCTACGTA', 'ATGCATCGATGCAT', 'ATCGATGCATGCAT', \n",
    "                'TACGTACGTACGTA'],\n",
    "              \n",
    "               []\n",
    "              \n",
    "               ]\n",
    "dicts=dictionaries[dicno]\n",
    "print(dicts)"
   ]
  },
  {
   "cell_type": "code",
   "execution_count": 3,
   "id": "dbcadf01",
   "metadata": {},
   "outputs": [],
   "source": [
    "batch_size=2000\n",
    "device = 'cuda' if torch.cuda.is_available() else 'cpu'\n",
    "lr=0.001\n",
    "num_epochs=500\n",
    "patience=400\n",
    "train_num_samples=30000\n",
    "test_num_samples=10000\n",
    "num_errors=4\n",
    "K=len(dicts[0])\n",
    "hidden_size=32"
   ]
  },
  {
   "cell_type": "code",
   "execution_count": 4,
   "id": "cd70d5fb",
   "metadata": {},
   "outputs": [
    {
     "data": {
      "text/plain": [
       "'insertionmodels/BiLSTM/Dictionary_4/batch_size_2000/num_errors_4/initial_lr_0.001/epochs500_p400_tr30000ts10000K14hs32/'"
      ]
     },
     "execution_count": 4,
     "metadata": {},
     "output_type": "execute_result"
    }
   ],
   "source": [
    "path_directory=f\"insertionmodels/BiLSTM/Dictionary_{dicno}/batch_size_{batch_size}/num_errors_{num_errors}/initial_lr_{lr}/epochs{num_epochs}_p{patience}_tr{train_num_samples}ts{test_num_samples}K{K}hs{hidden_size}/\"\n",
    "path_directory"
   ]
  },
  {
   "cell_type": "code",
   "execution_count": 5,
   "id": "62b8193e",
   "metadata": {},
   "outputs": [],
   "source": [
    "# Check if \"models\" folder exists, create it if it doesn't\n",
    "if not os.path.exists(path_directory):\n",
    "    os.makedirs(path_directory)\n"
   ]
  },
  {
   "cell_type": "code",
   "execution_count": 6,
   "id": "d805d412",
   "metadata": {},
   "outputs": [],
   "source": [
    "class LanguageDataset(Dataset):\n",
    "\n",
    "    def __init__(self, dictionary, num_samples, num_errors):\n",
    "        self.dictionary = dictionary\n",
    "        self.num_samples = num_samples \n",
    "        self.num_errors = num_errors\n",
    "\n",
    "    def __len__(self):\n",
    "        return self.num_samples\n",
    "\n",
    "    def __getitem__(self, idx):\n",
    "        source_idx = idx % len(self.dictionary)  \n",
    "        sequence = self.dictionary[source_idx]\n",
    "        if self.num_errors > 0:\n",
    "            sequence = self.introduce_errors(sequence, self.num_errors)\n",
    "        x = torch.tensor([self.char_to_idx(c) for c in sequence], dtype=torch.long)\n",
    "        y = torch.tensor([self.char_to_idx(c) for c in self.dictionary[source_idx]], dtype=torch.long)\n",
    "        return x.to(device), y.to(device)\n",
    "        \n",
    "    def introduce_errors(self, sequence, ne):\n",
    "        sequence = list(sequence)\n",
    "        for _ in range(num_errors-ne):\n",
    "            sequence.append('N')\n",
    "        for _ in range(ne):\n",
    "            i = random.randint(0, len(sequence))\n",
    "            random_char = random.choice(['A','C','T','G']) \n",
    "            sequence.insert(i, random_char)\n",
    "        return ''.join(sequence)\n",
    "\n",
    "    def char_to_idx(self, char):\n",
    "        return {'A': 0, 'C': 1, 'T': 2, 'G': 3, 'N': 4}[char]"
   ]
  },
  {
   "cell_type": "code",
   "execution_count": 7,
   "id": "a9c0ed7b",
   "metadata": {},
   "outputs": [
    {
     "data": {
      "text/plain": [
       "1"
      ]
     },
     "execution_count": 7,
     "metadata": {},
     "output_type": "execute_result"
    }
   ],
   "source": [
    "random.randint(1, 2)"
   ]
  },
  {
   "cell_type": "code",
   "execution_count": 8,
   "id": "7d7bfb16",
   "metadata": {},
   "outputs": [],
   "source": [
    "class LanguageDataset1(Dataset):\n",
    "\n",
    "    def __init__(self, dictionary, num_samples, num_errors):\n",
    "        self.dictionary = dictionary\n",
    "        self.num_samples = num_samples \n",
    "        self.num_errors = num_errors\n",
    "\n",
    "    def __len__(self):\n",
    "        return self.num_samples\n",
    "\n",
    "    def __getitem__(self, idx):\n",
    "        source_idx = idx % len(self.dictionary)\n",
    "        sequence = self.dictionary[source_idx]\n",
    "        if self.num_errors > 0:\n",
    "            sequence = self.introduce_errors(sequence, self.num_errors)\n",
    "        x = torch.tensor([self.char_to_idx(c) for c in sequence], dtype=torch.long)\n",
    "        y = torch.tensor([self.char_to_idx(c) for c in self.dictionary[source_idx]], dtype=torch.long)\n",
    "        return x.to(device), y.to(device)\n",
    "\n",
    "    def introduce_errors(self, sequence, num_errors):\n",
    "        ne = random.randint(1, num_errors)\n",
    "        sequence = list(sequence)\n",
    "        for _ in range(num_errors-ne):\n",
    "            sequence.append('N')\n",
    "        for _ in range(ne):\n",
    "            i = random.randint(0, len(sequence))\n",
    "            random_char = random.choice(['A','C','T','G']) \n",
    "            sequence.insert(i, random_char)\n",
    "        return ''.join(sequence)\n",
    "\n",
    "    def char_to_idx(self, char):\n",
    "        return {'A': 0, 'C': 1, 'T': 2, 'G': 3, 'N': 4}[char]"
   ]
  },
  {
   "cell_type": "code",
   "execution_count": 9,
   "id": "e6c5ca76",
   "metadata": {},
   "outputs": [],
   "source": [
    "train_data = LanguageDataset1(dicts, num_samples=train_num_samples, num_errors=num_errors)\n",
    "test_data = LanguageDataset1(dicts, num_samples=test_num_samples, num_errors=num_errors)\n",
    "\n",
    "train_loader = DataLoader(train_data, batch_size=batch_size, shuffle=True)\n",
    "test_loader = DataLoader(test_data, batch_size=batch_size)"
   ]
  },
  {
   "cell_type": "code",
   "execution_count": 10,
   "id": "87577e33",
   "metadata": {},
   "outputs": [],
   "source": [
    "t1=iter(train_loader)\n",
    "X,y=next(t1)"
   ]
  },
  {
   "cell_type": "code",
   "execution_count": 11,
   "id": "fc455f7a",
   "metadata": {},
   "outputs": [
    {
     "data": {
      "text/plain": [
       "torch.Size([2000, 18])"
      ]
     },
     "execution_count": 11,
     "metadata": {},
     "output_type": "execute_result"
    }
   ],
   "source": [
    "X.shape"
   ]
  },
  {
   "cell_type": "code",
   "execution_count": 12,
   "id": "83b83995",
   "metadata": {},
   "outputs": [
    {
     "data": {
      "text/plain": [
       "tensor([[0, 2, 3,  ..., 3, 0, 2],\n",
       "        [0, 2, 1,  ..., 3, 0, 2],\n",
       "        [0, 2, 1,  ..., 1, 0, 2],\n",
       "        ...,\n",
       "        [2, 0, 1,  ..., 1, 0, 2],\n",
       "        [0, 2, 3,  ..., 3, 0, 2],\n",
       "        [2, 0, 1,  ..., 3, 0, 2]], device='cuda:0')"
      ]
     },
     "execution_count": 12,
     "metadata": {},
     "output_type": "execute_result"
    }
   ],
   "source": [
    "y"
   ]
  },
  {
   "cell_type": "code",
   "execution_count": 13,
   "id": "640f9af6",
   "metadata": {},
   "outputs": [],
   "source": [
    "def one_hot_encode(sequences, n_unique):\n",
    "\n",
    "    # Get size of batch and max sequence length\n",
    "    batch_size,seq_len=sequences.shape\n",
    "    #len(sequences)\n",
    "    #seq_len=len(sequences[0])\n",
    "    \n",
    "    # Initialize encoded tensor\n",
    "    oneencoding = torch.zeros(batch_size, seq_len, n_unique, device = device)\n",
    "    # Set 1 at index of each character\n",
    "    for i in range(batch_size):\n",
    "        for j in range(seq_len):\n",
    "            index = sequences[i][j]\n",
    "            oneencoding[i, j, index] = 1          \n",
    "    return oneencoding"
   ]
  },
  {
   "cell_type": "code",
   "execution_count": 14,
   "id": "ee758123",
   "metadata": {},
   "outputs": [
    {
     "data": {
      "text/plain": [
       "torch.Size([2000, 18])"
      ]
     },
     "execution_count": 14,
     "metadata": {},
     "output_type": "execute_result"
    }
   ],
   "source": [
    "X.shape"
   ]
  },
  {
   "cell_type": "code",
   "execution_count": 15,
   "id": "6d4e7322",
   "metadata": {},
   "outputs": [],
   "source": [
    "def one_hot_decode(encoded_seq):\n",
    "    \"\"\"Converts a batch of one-hot encoded sequences to indices\"\"\"\n",
    "    \n",
    "    # Dimensions will be (batch_size, seq_len, num_classes)\n",
    "    batch_size, seq_len, num_classes = encoded_seq.shape\n",
    "    \n",
    "    # Flatten to treat as a list of one-hot vectors\n",
    "    encoded_seq = encoded_seq.reshape(-1, num_classes)\n",
    "    \n",
    "    # Argmax over classes to get class index\n",
    "    indices = encoded_seq.argmax(dim=1).to(device)\n",
    "    \n",
    "    # Reshape back to original dimensions\n",
    "    indices = indices.reshape(batch_size, seq_len)\n",
    "    \n",
    "    return indices"
   ]
  },
  {
   "cell_type": "code",
   "execution_count": 16,
   "id": "d3d48c1c",
   "metadata": {},
   "outputs": [],
   "source": [
    "class BiLSTMModel(nn.Module):\n",
    "\n",
    "    def __init__(self, hidden_size, dropout):\n",
    "        super().__init__()\n",
    "        \n",
    "        self.lstm1 = nn.LSTM(\n",
    "            input_size=5, \n",
    "            hidden_size=hidden_size,\n",
    "            num_layers=2,\n",
    "            batch_first=True,\n",
    "            bidirectional=True,\n",
    "            dropout=dropout\n",
    "        )\n",
    "        self.fc = nn.Linear(2*hidden_size, 5)\n",
    "        self.softmax = nn.Softmax(dim=2)\n",
    "    def forward(self, x):\n",
    "\n",
    "        # BiLSTM 1\n",
    "        out, _ = self.lstm1(x)\n",
    "        out = self.softmax(self.fc(out))\n",
    "        return out"
   ]
  },
  {
   "cell_type": "code",
   "execution_count": 17,
   "id": "c8bbfd99",
   "metadata": {},
   "outputs": [],
   "source": [
    "model=BiLSTMModel(hidden_size,0.1)"
   ]
  },
  {
   "cell_type": "code",
   "execution_count": 18,
   "id": "fdca5add",
   "metadata": {},
   "outputs": [],
   "source": [
    "def cal_model_parameters(model):\n",
    "    total_param  = []\n",
    "    for p1 in model.parameters():\n",
    "        total_param.append(int(p1.numel()))\n",
    "    return sum(total_param)"
   ]
  },
  {
   "cell_type": "code",
   "execution_count": 19,
   "id": "b4388fcc",
   "metadata": {},
   "outputs": [
    {
     "data": {
      "text/plain": [
       "35397"
      ]
     },
     "execution_count": 19,
     "metadata": {},
     "output_type": "execute_result"
    }
   ],
   "source": [
    "cal_model_parameters(model)"
   ]
  },
  {
   "cell_type": "code",
   "execution_count": 20,
   "id": "68ad73ac",
   "metadata": {},
   "outputs": [],
   "source": [
    "model=model.to(device)"
   ]
  },
  {
   "cell_type": "code",
   "execution_count": 21,
   "id": "d4268683",
   "metadata": {},
   "outputs": [],
   "source": [
    "train_next=iter(train_data)\n",
    "Xp, Yp=next(train_next)\n",
    "#Xp = torch.cat([Xp.view(1,-1), 4*torch.ones(1, num_errors, dtype=torch.int).to(device)], dim=1)\n",
    "xp=one_hot_encode(Xp.view(1,-1).to(device), 5).to(device)"
   ]
  },
  {
   "cell_type": "code",
   "execution_count": 22,
   "id": "e3e06394",
   "metadata": {},
   "outputs": [],
   "source": [
    "flops, params = thop.profile(model, inputs=(xp,), verbose=False)"
   ]
  },
  {
   "cell_type": "code",
   "execution_count": 23,
   "id": "d017e558",
   "metadata": {},
   "outputs": [
    {
     "name": "stdout",
     "output_type": "stream",
     "text": [
      "Model Flops: 655740.0\n",
      "Model Params Num: 35397.0\n",
      "\n"
     ]
    }
   ],
   "source": [
    "print(f'Model Flops: {flops}')\n",
    "print(f'Model Params Num: {params}\\n')"
   ]
  },
  {
   "cell_type": "code",
   "execution_count": 24,
   "id": "248e48b2",
   "metadata": {},
   "outputs": [],
   "source": [
    "\n",
    "criterion= nn.MSELoss().to(device)"
   ]
  },
  {
   "cell_type": "code",
   "execution_count": 25,
   "id": "ad91e622",
   "metadata": {},
   "outputs": [],
   "source": [
    "optimizer = torch.optim.Adam(model.parameters(), lr=2*lr, betas=(0.9, 0.98), eps=1e-9)"
   ]
  },
  {
   "cell_type": "code",
   "execution_count": 26,
   "id": "e5c7217e",
   "metadata": {},
   "outputs": [],
   "source": [
    "class WarmUpCosineAnnealingLR(_LRScheduler):\n",
    "    def __init__(self, optimizer, T_max, T_warmup, eta_min=0, last_epoch=-1):\n",
    "        self.T_max = T_max\n",
    "        self.T_warmup = T_warmup\n",
    "        self.eta_min = eta_min\n",
    "        super(WarmUpCosineAnnealingLR, self).__init__(optimizer, last_epoch)\n",
    "\n",
    "    def get_lr(self):\n",
    "        if self.last_epoch < self.T_warmup:\n",
    "            return [base_lr * self.last_epoch / self.T_warmup for base_lr in self.base_lrs]\n",
    "        else:\n",
    "            k = 1 + math.cos(math.pi * (self.last_epoch - self.T_warmup) / (self.T_max - self.T_warmup))\n",
    "            return [self.eta_min + (base_lr - self.eta_min) * k / 2 for base_lr in self.base_lrs]"
   ]
  },
  {
   "cell_type": "code",
   "execution_count": 27,
   "id": "23b7a66e",
   "metadata": {},
   "outputs": [],
   "source": [
    "scheduler = WarmUpCosineAnnealingLR(optimizer=optimizer,\n",
    "                                            T_max=num_epochs * len(train_loader),\n",
    "                                            T_warmup=30 * len(train_loader),\n",
    "                                            eta_min=1e-7)"
   ]
  },
  {
   "cell_type": "code",
   "execution_count": 28,
   "id": "da868db6",
   "metadata": {},
   "outputs": [
    {
     "name": "stdout",
     "output_type": "stream",
     "text": [
      "epoch:1/500 average TL:0.16020906 average VL:0.16014896 epoch time:48 seconds, lr:6.67e-05\n",
      "epoch:2/500 average TL:0.16004522 average VL:0.15989898 epoch time:48 seconds, lr:1.33e-04\n",
      "epoch:3/500 average TL:0.15972516 average VL:0.15949659 epoch time:48 seconds, lr:2.00e-04\n",
      "epoch:4/500 average TL:0.15923159 average VL:0.15886591 epoch time:48 seconds, lr:2.67e-04\n",
      "epoch:5/500 average TL:0.15836595 average VL:0.15759513 epoch time:48 seconds, lr:3.33e-04\n",
      "epoch:6/500 average TL:0.15625878 average VL:0.15393719 epoch time:48 seconds, lr:4.00e-04\n",
      "epoch:7/500 average TL:0.14925565 average VL:0.14184795 epoch time:48 seconds, lr:4.67e-04\n",
      "epoch:8/500 average TL:0.13415349 average VL:0.12619834 epoch time:48 seconds, lr:5.33e-04\n",
      "epoch:9/500 average TL:0.12227916 average VL:0.11872180 epoch time:48 seconds, lr:6.00e-04\n",
      "epoch:10/500 average TL:0.11751454 average VL:0.11557972 epoch time:49 seconds, lr:6.67e-04\n",
      "epoch:11/500 average TL:0.11484390 average VL:0.11320362 epoch time:48 seconds, lr:7.33e-04\n",
      "epoch:12/500 average TL:0.11281229 average VL:0.11140704 epoch time:48 seconds, lr:8.00e-04\n",
      "epoch:13/500 average TL:0.11112528 average VL:0.10987224 epoch time:48 seconds, lr:8.67e-04\n",
      "epoch:14/500 average TL:0.10962031 average VL:0.10846794 epoch time:48 seconds, lr:9.33e-04\n",
      "epoch:15/500 average TL:0.10819311 average VL:0.10704978 epoch time:49 seconds, lr:1.00e-03\n",
      "epoch:16/500 average TL:0.10666371 average VL:0.10543597 epoch time:48 seconds, lr:1.07e-03\n",
      "epoch:17/500 average TL:0.10487588 average VL:0.10327548 epoch time:48 seconds, lr:1.13e-03\n",
      "epoch:18/500 average TL:0.10240023 average VL:0.10017254 epoch time:48 seconds, lr:1.20e-03\n",
      "epoch:19/500 average TL:0.09897361 average VL:0.09612180 epoch time:48 seconds, lr:1.27e-03\n",
      "epoch:20/500 average TL:0.09466782 average VL:0.09150698 epoch time:48 seconds, lr:1.33e-03\n",
      "epoch:21/500 average TL:0.08964579 average VL:0.08579844 epoch time:48 seconds, lr:1.40e-03\n",
      "epoch:22/500 average TL:0.08279559 average VL:0.07564973 epoch time:48 seconds, lr:1.47e-03\n",
      "epoch:23/500 average TL:0.07188228 average VL:0.06597118 epoch time:48 seconds, lr:1.53e-03\n",
      "epoch:24/500 average TL:0.06507161 average VL:0.06195366 epoch time:49 seconds, lr:1.60e-03\n",
      "epoch:25/500 average TL:0.06102192 average VL:0.05732693 epoch time:48 seconds, lr:1.67e-03\n",
      "epoch:26/500 average TL:0.05701915 average VL:0.05328802 epoch time:49 seconds, lr:1.73e-03\n",
      "epoch:27/500 average TL:0.05270942 average VL:0.04915337 epoch time:49 seconds, lr:1.80e-03\n",
      "epoch:28/500 average TL:0.04875495 average VL:0.04566226 epoch time:48 seconds, lr:1.87e-03\n",
      "epoch:29/500 average TL:0.04535336 average VL:0.04255990 epoch time:48 seconds, lr:1.93e-03\n",
      "epoch:30/500 average TL:0.04237888 average VL:0.04005139 epoch time:48 seconds, lr:2.00e-03\n",
      "epoch:31/500 average TL:0.03981750 average VL:0.03776943 epoch time:48 seconds, lr:2.00e-03\n",
      "epoch:32/500 average TL:0.03728452 average VL:0.03482023 epoch time:48 seconds, lr:2.00e-03\n",
      "epoch:33/500 average TL:0.03454164 average VL:0.03229768 epoch time:48 seconds, lr:2.00e-03\n",
      "epoch:34/500 average TL:0.03201253 average VL:0.02928265 epoch time:48 seconds, lr:2.00e-03\n",
      "epoch:35/500 average TL:0.02909432 average VL:0.02614748 epoch time:48 seconds, lr:2.00e-03\n",
      "epoch:36/500 average TL:0.02644433 average VL:0.02318785 epoch time:48 seconds, lr:2.00e-03\n",
      "epoch:37/500 average TL:0.02353088 average VL:0.02075709 epoch time:48 seconds, lr:2.00e-03\n",
      "epoch:38/500 average TL:0.02139253 average VL:0.01897076 epoch time:48 seconds, lr:2.00e-03\n",
      "epoch:39/500 average TL:0.01923771 average VL:0.01667553 epoch time:48 seconds, lr:2.00e-03\n",
      "epoch:40/500 average TL:0.01748561 average VL:0.01571248 epoch time:48 seconds, lr:2.00e-03\n",
      "epoch:41/500 average TL:0.01589469 average VL:0.01381383 epoch time:48 seconds, lr:2.00e-03\n",
      "epoch:42/500 average TL:0.01478767 average VL:0.01290130 epoch time:48 seconds, lr:2.00e-03\n",
      "epoch:43/500 average TL:0.01367931 average VL:0.01190378 epoch time:48 seconds, lr:2.00e-03\n",
      "epoch:44/500 average TL:0.01242483 average VL:0.01092188 epoch time:49 seconds, lr:2.00e-03\n",
      "epoch:45/500 average TL:0.01141619 average VL:0.01035549 epoch time:48 seconds, lr:1.99e-03\n",
      "epoch:46/500 average TL:0.01060183 average VL:0.00938000 epoch time:48 seconds, lr:1.99e-03\n",
      "epoch:47/500 average TL:0.01002394 average VL:0.00850122 epoch time:48 seconds, lr:1.99e-03\n",
      "epoch:48/500 average TL:0.00923961 average VL:0.00845057 epoch time:48 seconds, lr:1.99e-03\n",
      "epoch:49/500 average TL:0.00879931 average VL:0.00770150 epoch time:49 seconds, lr:1.99e-03\n",
      "epoch:50/500 average TL:0.00793232 average VL:0.00701016 epoch time:48 seconds, lr:1.99e-03\n",
      "epoch:51/500 average TL:0.00781987 average VL:0.00694226 epoch time:48 seconds, lr:1.99e-03\n",
      "epoch:52/500 average TL:0.00740222 average VL:0.00621306 epoch time:49 seconds, lr:1.99e-03\n",
      "epoch:53/500 average TL:0.00686121 average VL:0.00609215 epoch time:48 seconds, lr:1.99e-03\n",
      "epoch:54/500 average TL:0.00671632 average VL:0.00611054 epoch time:48 seconds, lr:1.99e-03\n",
      "epoch:55/500 average TL:0.00645480 average VL:0.00563129 epoch time:48 seconds, lr:1.99e-03\n",
      "epoch:56/500 average TL:0.00608912 average VL:0.00534321 epoch time:48 seconds, lr:1.98e-03\n",
      "epoch:57/500 average TL:0.00594971 average VL:0.00524588 epoch time:49 seconds, lr:1.98e-03\n",
      "epoch:58/500 average TL:0.00594708 average VL:0.00511020 epoch time:48 seconds, lr:1.98e-03\n",
      "epoch:59/500 average TL:0.00559237 average VL:0.00517231 epoch time:48 seconds, lr:1.98e-03\n",
      "epoch:60/500 average TL:0.00550561 average VL:0.00487568 epoch time:48 seconds, lr:1.98e-03\n",
      "epoch:61/500 average TL:0.00520407 average VL:0.00469777 epoch time:48 seconds, lr:1.98e-03\n",
      "epoch:62/500 average TL:0.00520496 average VL:0.00498632 epoch time:48 seconds, lr:1.98e-03\n",
      "epoch:63/500 average TL:0.00509504 average VL:0.00462679 epoch time:48 seconds, lr:1.98e-03\n",
      "epoch:64/500 average TL:0.00506120 average VL:0.00451008 epoch time:48 seconds, lr:1.97e-03\n",
      "epoch:65/500 average TL:0.00491221 average VL:0.00411434 epoch time:48 seconds, lr:1.97e-03\n",
      "epoch:66/500 average TL:0.00467951 average VL:0.00436849 epoch time:48 seconds, lr:1.97e-03\n",
      "epoch:67/500 average TL:0.00457899 average VL:0.00412512 epoch time:48 seconds, lr:1.97e-03\n",
      "epoch:68/500 average TL:0.00451576 average VL:0.00398664 epoch time:48 seconds, lr:1.97e-03\n",
      "epoch:69/500 average TL:0.00432992 average VL:0.00369180 epoch time:48 seconds, lr:1.97e-03\n",
      "epoch:70/500 average TL:0.00425965 average VL:0.00365321 epoch time:48 seconds, lr:1.96e-03\n",
      "epoch:71/500 average TL:0.00407804 average VL:0.00356173 epoch time:48 seconds, lr:1.96e-03\n",
      "epoch:72/500 average TL:0.00397417 average VL:0.00365982 epoch time:48 seconds, lr:1.96e-03\n",
      "epoch:73/500 average TL:0.00364095 average VL:0.00306707 epoch time:48 seconds, lr:1.96e-03\n",
      "epoch:74/500 average TL:0.00331058 average VL:0.00290070 epoch time:48 seconds, lr:1.96e-03\n",
      "epoch:75/500 average TL:0.00309511 average VL:0.00251750 epoch time:48 seconds, lr:1.96e-03\n",
      "epoch:76/500 average TL:0.00297846 average VL:0.00243298 epoch time:49 seconds, lr:1.95e-03\n",
      "epoch:77/500 average TL:0.00307546 average VL:0.00268991 epoch time:49 seconds, lr:1.95e-03\n",
      "epoch:78/500 average TL:0.00276646 average VL:0.00221207 epoch time:48 seconds, lr:1.95e-03\n",
      "epoch:79/500 average TL:0.00266129 average VL:0.00225478 epoch time:48 seconds, lr:1.95e-03\n",
      "epoch:80/500 average TL:0.00242532 average VL:0.00222715 epoch time:49 seconds, lr:1.94e-03\n",
      "epoch:81/500 average TL:0.00245109 average VL:0.00226898 epoch time:48 seconds, lr:1.94e-03\n",
      "epoch:82/500 average TL:0.00236333 average VL:0.00195356 epoch time:48 seconds, lr:1.94e-03\n",
      "epoch:83/500 average TL:0.00228112 average VL:0.00178810 epoch time:48 seconds, lr:1.94e-03\n",
      "epoch:84/500 average TL:0.00227790 average VL:0.00216517 epoch time:48 seconds, lr:1.94e-03\n",
      "epoch:85/500 average TL:0.00230718 average VL:0.00181695 epoch time:48 seconds, lr:1.93e-03\n",
      "epoch:86/500 average TL:0.00223767 average VL:0.00162158 epoch time:48 seconds, lr:1.93e-03\n",
      "epoch:87/500 average TL:0.00208914 average VL:0.00190224 epoch time:48 seconds, lr:1.93e-03\n",
      "epoch:88/500 average TL:0.00224272 average VL:0.00212905 epoch time:48 seconds, lr:1.93e-03\n",
      "epoch:89/500 average TL:0.00204655 average VL:0.00179801 epoch time:48 seconds, lr:1.92e-03\n",
      "epoch:90/500 average TL:0.00195893 average VL:0.00178745 epoch time:48 seconds, lr:1.92e-03\n"
     ]
    },
    {
     "name": "stdout",
     "output_type": "stream",
     "text": [
      "epoch:91/500 average TL:0.00204295 average VL:0.00172778 epoch time:48 seconds, lr:1.92e-03\n",
      "epoch:92/500 average TL:0.00188889 average VL:0.00163562 epoch time:48 seconds, lr:1.92e-03\n",
      "epoch:93/500 average TL:0.00191596 average VL:0.00138964 epoch time:48 seconds, lr:1.91e-03\n",
      "epoch:94/500 average TL:0.00180387 average VL:0.00180978 epoch time:48 seconds, lr:1.91e-03\n",
      "epoch:95/500 average TL:0.00189667 average VL:0.00145008 epoch time:48 seconds, lr:1.91e-03\n",
      "epoch:96/500 average TL:0.00172562 average VL:0.00164496 epoch time:48 seconds, lr:1.90e-03\n",
      "epoch:97/500 average TL:0.00179335 average VL:0.00145028 epoch time:48 seconds, lr:1.90e-03\n",
      "epoch:98/500 average TL:0.00179326 average VL:0.00157890 epoch time:48 seconds, lr:1.90e-03\n",
      "epoch:99/500 average TL:0.00175620 average VL:0.00152408 epoch time:49 seconds, lr:1.90e-03\n",
      "epoch:100/500 average TL:0.00168790 average VL:0.00159483 epoch time:49 seconds, lr:1.89e-03\n",
      "epoch:101/500 average TL:0.00152340 average VL:0.00146880 epoch time:48 seconds, lr:1.89e-03\n",
      "epoch:102/500 average TL:0.00169118 average VL:0.00146545 epoch time:48 seconds, lr:1.89e-03\n",
      "epoch:103/500 average TL:0.00168830 average VL:0.00145606 epoch time:49 seconds, lr:1.88e-03\n",
      "epoch:104/500 average TL:0.00170443 average VL:0.00143175 epoch time:49 seconds, lr:1.88e-03\n",
      "epoch:105/500 average TL:0.00164650 average VL:0.00147504 epoch time:48 seconds, lr:1.88e-03\n",
      "epoch:106/500 average TL:0.00150952 average VL:0.00119444 epoch time:48 seconds, lr:1.87e-03\n",
      "epoch:107/500 average TL:0.00149277 average VL:0.00118259 epoch time:48 seconds, lr:1.87e-03\n",
      "epoch:108/500 average TL:0.00159026 average VL:0.00134962 epoch time:48 seconds, lr:1.87e-03\n",
      "epoch:109/500 average TL:0.00145897 average VL:0.00157326 epoch time:49 seconds, lr:1.86e-03\n",
      "epoch:110/500 average TL:0.00169220 average VL:0.00146880 epoch time:48 seconds, lr:1.86e-03\n",
      "epoch:111/500 average TL:0.00156058 average VL:0.00139912 epoch time:48 seconds, lr:1.86e-03\n",
      "epoch:112/500 average TL:0.00142966 average VL:0.00108658 epoch time:49 seconds, lr:1.85e-03\n",
      "epoch:113/500 average TL:0.00143446 average VL:0.00137169 epoch time:48 seconds, lr:1.85e-03\n",
      "epoch:114/500 average TL:0.00147758 average VL:0.00116300 epoch time:48 seconds, lr:1.85e-03\n",
      "epoch:115/500 average TL:0.00140163 average VL:0.00121394 epoch time:48 seconds, lr:1.84e-03\n",
      "epoch:116/500 average TL:0.00142923 average VL:0.00115951 epoch time:49 seconds, lr:1.84e-03\n",
      "epoch:117/500 average TL:0.00135441 average VL:0.00114542 epoch time:48 seconds, lr:1.84e-03\n",
      "epoch:118/500 average TL:0.00133345 average VL:0.00114358 epoch time:48 seconds, lr:1.83e-03\n",
      "epoch:119/500 average TL:0.00134638 average VL:0.00114677 epoch time:48 seconds, lr:1.83e-03\n",
      "epoch:120/500 average TL:0.00130374 average VL:0.00116613 epoch time:48 seconds, lr:1.82e-03\n",
      "epoch:121/500 average TL:0.00126140 average VL:0.00109493 epoch time:48 seconds, lr:1.82e-03\n",
      "epoch:122/500 average TL:0.00132922 average VL:0.00104657 epoch time:49 seconds, lr:1.82e-03\n",
      "epoch:123/500 average TL:0.00131276 average VL:0.00113930 epoch time:48 seconds, lr:1.81e-03\n",
      "epoch:124/500 average TL:0.00137558 average VL:0.00138327 epoch time:49 seconds, lr:1.81e-03\n",
      "epoch:125/500 average TL:0.00130827 average VL:0.00118102 epoch time:48 seconds, lr:1.81e-03\n",
      "epoch:126/500 average TL:0.00129346 average VL:0.00108433 epoch time:48 seconds, lr:1.80e-03\n",
      "epoch:127/500 average TL:0.00133950 average VL:0.00122654 epoch time:48 seconds, lr:1.80e-03\n",
      "epoch:128/500 average TL:0.00121906 average VL:0.00111405 epoch time:49 seconds, lr:1.79e-03\n",
      "epoch:129/500 average TL:0.00121478 average VL:0.00097482 epoch time:48 seconds, lr:1.79e-03\n",
      "epoch:130/500 average TL:0.00120859 average VL:0.00115050 epoch time:48 seconds, lr:1.78e-03\n",
      "epoch:131/500 average TL:0.00119779 average VL:0.00108126 epoch time:48 seconds, lr:1.78e-03\n",
      "epoch:132/500 average TL:0.00123896 average VL:0.00100842 epoch time:48 seconds, lr:1.78e-03\n",
      "epoch:133/500 average TL:0.00121866 average VL:0.00095930 epoch time:48 seconds, lr:1.77e-03\n",
      "epoch:134/500 average TL:0.00113589 average VL:0.00114364 epoch time:48 seconds, lr:1.77e-03\n",
      "epoch:135/500 average TL:0.00115899 average VL:0.00126019 epoch time:48 seconds, lr:1.76e-03\n",
      "epoch:136/500 average TL:0.00125295 average VL:0.00111314 epoch time:48 seconds, lr:1.76e-03\n",
      "epoch:137/500 average TL:0.00127952 average VL:0.00097984 epoch time:48 seconds, lr:1.75e-03\n",
      "epoch:138/500 average TL:0.00102224 average VL:0.00091324 epoch time:48 seconds, lr:1.75e-03\n",
      "epoch:139/500 average TL:0.00109543 average VL:0.00106290 epoch time:48 seconds, lr:1.75e-03\n",
      "epoch:140/500 average TL:0.00115755 average VL:0.00096439 epoch time:48 seconds, lr:1.74e-03\n",
      "epoch:141/500 average TL:0.00112098 average VL:0.00097684 epoch time:48 seconds, lr:1.74e-03\n",
      "epoch:142/500 average TL:0.00121616 average VL:0.00106400 epoch time:48 seconds, lr:1.73e-03\n",
      "epoch:143/500 average TL:0.00110529 average VL:0.00107487 epoch time:48 seconds, lr:1.73e-03\n",
      "epoch:144/500 average TL:0.00113732 average VL:0.00095603 epoch time:48 seconds, lr:1.72e-03\n",
      "epoch:145/500 average TL:0.00106610 average VL:0.00095006 epoch time:49 seconds, lr:1.72e-03\n",
      "epoch:146/500 average TL:0.00112586 average VL:0.00102804 epoch time:48 seconds, lr:1.71e-03\n",
      "epoch:147/500 average TL:0.00106717 average VL:0.00092935 epoch time:48 seconds, lr:1.71e-03\n",
      "epoch:148/500 average TL:0.00107256 average VL:0.00102812 epoch time:48 seconds, lr:1.70e-03\n",
      "epoch:149/500 average TL:0.00112720 average VL:0.00093738 epoch time:48 seconds, lr:1.70e-03\n",
      "epoch:150/500 average TL:0.00108023 average VL:0.00094782 epoch time:48 seconds, lr:1.70e-03\n",
      "epoch:151/500 average TL:0.00105513 average VL:0.00094087 epoch time:50 seconds, lr:1.69e-03\n",
      "epoch:152/500 average TL:0.00097710 average VL:0.00095328 epoch time:48 seconds, lr:1.69e-03\n",
      "epoch:153/500 average TL:0.00106958 average VL:0.00110847 epoch time:50 seconds, lr:1.68e-03\n",
      "epoch:154/500 average TL:0.00114669 average VL:0.00097368 epoch time:48 seconds, lr:1.68e-03\n",
      "epoch:155/500 average TL:0.00096924 average VL:0.00086654 epoch time:48 seconds, lr:1.67e-03\n",
      "epoch:156/500 average TL:0.00097719 average VL:0.00089171 epoch time:48 seconds, lr:1.67e-03\n",
      "epoch:157/500 average TL:0.00103254 average VL:0.00081428 epoch time:47 seconds, lr:1.66e-03\n",
      "epoch:158/500 average TL:0.00101858 average VL:0.00079185 epoch time:49 seconds, lr:1.66e-03\n",
      "epoch:159/500 average TL:0.00098155 average VL:0.00099740 epoch time:48 seconds, lr:1.65e-03\n",
      "epoch:160/500 average TL:0.00102641 average VL:0.00099377 epoch time:48 seconds, lr:1.65e-03\n",
      "epoch:161/500 average TL:0.00096987 average VL:0.00103616 epoch time:48 seconds, lr:1.64e-03\n",
      "epoch:162/500 average TL:0.00101699 average VL:0.00101600 epoch time:48 seconds, lr:1.64e-03\n",
      "epoch:163/500 average TL:0.00099598 average VL:0.00088416 epoch time:48 seconds, lr:1.63e-03\n",
      "epoch:164/500 average TL:0.00101024 average VL:0.00085541 epoch time:49 seconds, lr:1.63e-03\n",
      "epoch:165/500 average TL:0.00103251 average VL:0.00085755 epoch time:48 seconds, lr:1.62e-03\n",
      "epoch:166/500 average TL:0.00097140 average VL:0.00086240 epoch time:49 seconds, lr:1.61e-03\n",
      "epoch:167/500 average TL:0.00103930 average VL:0.00085231 epoch time:48 seconds, lr:1.61e-03\n",
      "epoch:168/500 average TL:0.00101639 average VL:0.00082894 epoch time:49 seconds, lr:1.60e-03\n",
      "epoch:169/500 average TL:0.00096323 average VL:0.00097456 epoch time:48 seconds, lr:1.60e-03\n",
      "epoch:170/500 average TL:0.00091270 average VL:0.00095921 epoch time:48 seconds, lr:1.59e-03\n",
      "epoch:171/500 average TL:0.00091684 average VL:0.00089150 epoch time:48 seconds, lr:1.59e-03\n",
      "epoch:172/500 average TL:0.00088421 average VL:0.00084107 epoch time:48 seconds, lr:1.58e-03\n",
      "epoch:173/500 average TL:0.00094290 average VL:0.00087613 epoch time:48 seconds, lr:1.58e-03\n",
      "epoch:174/500 average TL:0.00102222 average VL:0.00085434 epoch time:48 seconds, lr:1.57e-03\n",
      "epoch:175/500 average TL:0.00103125 average VL:0.00086832 epoch time:48 seconds, lr:1.57e-03\n",
      "epoch:176/500 average TL:0.00106527 average VL:0.00086039 epoch time:48 seconds, lr:1.56e-03\n",
      "epoch:177/500 average TL:0.00099773 average VL:0.00083894 epoch time:49 seconds, lr:1.55e-03\n",
      "epoch:178/500 average TL:0.00087424 average VL:0.00087326 epoch time:48 seconds, lr:1.55e-03\n",
      "epoch:179/500 average TL:0.00088325 average VL:0.00081360 epoch time:49 seconds, lr:1.54e-03\n"
     ]
    },
    {
     "name": "stdout",
     "output_type": "stream",
     "text": [
      "epoch:180/500 average TL:0.00092028 average VL:0.00085132 epoch time:48 seconds, lr:1.54e-03\n",
      "epoch:181/500 average TL:0.00101566 average VL:0.00080327 epoch time:48 seconds, lr:1.53e-03\n",
      "epoch:182/500 average TL:0.00092321 average VL:0.00070137 epoch time:48 seconds, lr:1.53e-03\n",
      "epoch:183/500 average TL:0.00095358 average VL:0.00078342 epoch time:48 seconds, lr:1.52e-03\n",
      "epoch:184/500 average TL:0.00082625 average VL:0.00077167 epoch time:48 seconds, lr:1.52e-03\n",
      "epoch:185/500 average TL:0.00089397 average VL:0.00077611 epoch time:49 seconds, lr:1.51e-03\n",
      "epoch:186/500 average TL:0.00091997 average VL:0.00079342 epoch time:48 seconds, lr:1.50e-03\n",
      "epoch:187/500 average TL:0.00095050 average VL:0.00091365 epoch time:48 seconds, lr:1.50e-03\n",
      "epoch:188/500 average TL:0.00091462 average VL:0.00085554 epoch time:48 seconds, lr:1.49e-03\n",
      "epoch:189/500 average TL:0.00089416 average VL:0.00080888 epoch time:48 seconds, lr:1.49e-03\n",
      "epoch:190/500 average TL:0.00088540 average VL:0.00095037 epoch time:48 seconds, lr:1.48e-03\n",
      "epoch:191/500 average TL:0.00100714 average VL:0.00077350 epoch time:48 seconds, lr:1.47e-03\n",
      "epoch:192/500 average TL:0.00088534 average VL:0.00088891 epoch time:48 seconds, lr:1.47e-03\n",
      "epoch:193/500 average TL:0.00096404 average VL:0.00085173 epoch time:48 seconds, lr:1.46e-03\n",
      "epoch:194/500 average TL:0.00086627 average VL:0.00082015 epoch time:48 seconds, lr:1.46e-03\n",
      "epoch:195/500 average TL:0.00081402 average VL:0.00090285 epoch time:48 seconds, lr:1.45e-03\n",
      "epoch:196/500 average TL:0.00085722 average VL:0.00076057 epoch time:48 seconds, lr:1.45e-03\n",
      "epoch:197/500 average TL:0.00082706 average VL:0.00072816 epoch time:48 seconds, lr:1.44e-03\n",
      "epoch:198/500 average TL:0.00086166 average VL:0.00065104 epoch time:49 seconds, lr:1.43e-03\n",
      "epoch:199/500 average TL:0.00078136 average VL:0.00076095 epoch time:48 seconds, lr:1.43e-03\n",
      "epoch:200/500 average TL:0.00082119 average VL:0.00082228 epoch time:48 seconds, lr:1.42e-03\n",
      "epoch:201/500 average TL:0.00092508 average VL:0.00076356 epoch time:48 seconds, lr:1.41e-03\n",
      "epoch:202/500 average TL:0.00083849 average VL:0.00076030 epoch time:48 seconds, lr:1.41e-03\n",
      "epoch:203/500 average TL:0.00092699 average VL:0.00089495 epoch time:48 seconds, lr:1.40e-03\n",
      "epoch:204/500 average TL:0.00086021 average VL:0.00079304 epoch time:48 seconds, lr:1.40e-03\n",
      "epoch:205/500 average TL:0.00082484 average VL:0.00089217 epoch time:48 seconds, lr:1.39e-03\n",
      "epoch:206/500 average TL:0.00086797 average VL:0.00077456 epoch time:48 seconds, lr:1.38e-03\n",
      "epoch:207/500 average TL:0.00088837 average VL:0.00082148 epoch time:48 seconds, lr:1.38e-03\n",
      "epoch:208/500 average TL:0.00089789 average VL:0.00074076 epoch time:49 seconds, lr:1.37e-03\n",
      "epoch:209/500 average TL:0.00090393 average VL:0.00098385 epoch time:49 seconds, lr:1.37e-03\n",
      "epoch:210/500 average TL:0.00083377 average VL:0.00085077 epoch time:48 seconds, lr:1.36e-03\n",
      "epoch:211/500 average TL:0.00083530 average VL:0.00080331 epoch time:48 seconds, lr:1.35e-03\n",
      "epoch:212/500 average TL:0.00081349 average VL:0.00082337 epoch time:48 seconds, lr:1.35e-03\n",
      "epoch:213/500 average TL:0.00081025 average VL:0.00069124 epoch time:48 seconds, lr:1.34e-03\n",
      "epoch:214/500 average TL:0.00075329 average VL:0.00078472 epoch time:48 seconds, lr:1.33e-03\n",
      "epoch:215/500 average TL:0.00078305 average VL:0.00072794 epoch time:48 seconds, lr:1.33e-03\n",
      "epoch:216/500 average TL:0.00081883 average VL:0.00063415 epoch time:49 seconds, lr:1.32e-03\n",
      "epoch:217/500 average TL:0.00082658 average VL:0.00069702 epoch time:49 seconds, lr:1.32e-03\n",
      "epoch:218/500 average TL:0.00081820 average VL:0.00077301 epoch time:48 seconds, lr:1.31e-03\n",
      "epoch:219/500 average TL:0.00077133 average VL:0.00073561 epoch time:49 seconds, lr:1.30e-03\n",
      "epoch:220/500 average TL:0.00085527 average VL:0.00077794 epoch time:48 seconds, lr:1.30e-03\n",
      "epoch:221/500 average TL:0.00090422 average VL:0.00074349 epoch time:48 seconds, lr:1.29e-03\n",
      "epoch:222/500 average TL:0.00076768 average VL:0.00087424 epoch time:49 seconds, lr:1.28e-03\n",
      "epoch:223/500 average TL:0.00084212 average VL:0.00071363 epoch time:48 seconds, lr:1.28e-03\n",
      "epoch:224/500 average TL:0.00077683 average VL:0.00088667 epoch time:48 seconds, lr:1.27e-03\n",
      "epoch:225/500 average TL:0.00086325 average VL:0.00076741 epoch time:48 seconds, lr:1.26e-03\n",
      "epoch:226/500 average TL:0.00073818 average VL:0.00062371 epoch time:48 seconds, lr:1.26e-03\n",
      "epoch:227/500 average TL:0.00074253 average VL:0.00065780 epoch time:48 seconds, lr:1.25e-03\n",
      "epoch:228/500 average TL:0.00078144 average VL:0.00070032 epoch time:48 seconds, lr:1.24e-03\n",
      "epoch:229/500 average TL:0.00077698 average VL:0.00072786 epoch time:48 seconds, lr:1.24e-03\n",
      "epoch:230/500 average TL:0.00083032 average VL:0.00075058 epoch time:50 seconds, lr:1.23e-03\n",
      "epoch:231/500 average TL:0.00087510 average VL:0.00087628 epoch time:48 seconds, lr:1.23e-03\n",
      "epoch:232/500 average TL:0.00081740 average VL:0.00084279 epoch time:49 seconds, lr:1.22e-03\n",
      "epoch:233/500 average TL:0.00085302 average VL:0.00075735 epoch time:48 seconds, lr:1.21e-03\n",
      "epoch:234/500 average TL:0.00081991 average VL:0.00066115 epoch time:48 seconds, lr:1.21e-03\n",
      "epoch:235/500 average TL:0.00088920 average VL:0.00072515 epoch time:48 seconds, lr:1.20e-03\n",
      "epoch:236/500 average TL:0.00081191 average VL:0.00061185 epoch time:48 seconds, lr:1.19e-03\n",
      "epoch:237/500 average TL:0.00080646 average VL:0.00067415 epoch time:48 seconds, lr:1.19e-03\n",
      "epoch:238/500 average TL:0.00076170 average VL:0.00067361 epoch time:48 seconds, lr:1.18e-03\n",
      "epoch:239/500 average TL:0.00072753 average VL:0.00070493 epoch time:48 seconds, lr:1.17e-03\n",
      "epoch:240/500 average TL:0.00076906 average VL:0.00070001 epoch time:48 seconds, lr:1.17e-03\n",
      "epoch:241/500 average TL:0.00084194 average VL:0.00074538 epoch time:47 seconds, lr:1.16e-03\n",
      "epoch:242/500 average TL:0.00071824 average VL:0.00083433 epoch time:48 seconds, lr:1.15e-03\n",
      "epoch:243/500 average TL:0.00079163 average VL:0.00071885 epoch time:48 seconds, lr:1.15e-03\n",
      "epoch:244/500 average TL:0.00081708 average VL:0.00077077 epoch time:48 seconds, lr:1.14e-03\n",
      "epoch:245/500 average TL:0.00082476 average VL:0.00079196 epoch time:48 seconds, lr:1.13e-03\n",
      "epoch:246/500 average TL:0.00076552 average VL:0.00062583 epoch time:48 seconds, lr:1.13e-03\n",
      "epoch:247/500 average TL:0.00074074 average VL:0.00075342 epoch time:48 seconds, lr:1.12e-03\n",
      "epoch:248/500 average TL:0.00077979 average VL:0.00079648 epoch time:48 seconds, lr:1.11e-03\n",
      "epoch:249/500 average TL:0.00086050 average VL:0.00080598 epoch time:48 seconds, lr:1.11e-03\n",
      "epoch:250/500 average TL:0.00082745 average VL:0.00072175 epoch time:48 seconds, lr:1.10e-03\n",
      "epoch:251/500 average TL:0.00082206 average VL:0.00072994 epoch time:48 seconds, lr:1.09e-03\n",
      "epoch:252/500 average TL:0.00071506 average VL:0.00066722 epoch time:48 seconds, lr:1.09e-03\n",
      "epoch:253/500 average TL:0.00074999 average VL:0.00064154 epoch time:48 seconds, lr:1.08e-03\n",
      "epoch:254/500 average TL:0.00076809 average VL:0.00068662 epoch time:48 seconds, lr:1.07e-03\n",
      "epoch:255/500 average TL:0.00077758 average VL:0.00072178 epoch time:48 seconds, lr:1.07e-03\n",
      "epoch:256/500 average TL:0.00078442 average VL:0.00071925 epoch time:48 seconds, lr:1.06e-03\n",
      "epoch:257/500 average TL:0.00075969 average VL:0.00073662 epoch time:48 seconds, lr:1.05e-03\n",
      "epoch:258/500 average TL:0.00085856 average VL:0.00068482 epoch time:49 seconds, lr:1.05e-03\n",
      "epoch:259/500 average TL:0.00078436 average VL:0.00055734 epoch time:48 seconds, lr:1.04e-03\n",
      "epoch:260/500 average TL:0.00072608 average VL:0.00070661 epoch time:48 seconds, lr:1.03e-03\n",
      "epoch:261/500 average TL:0.00072781 average VL:0.00075723 epoch time:48 seconds, lr:1.03e-03\n",
      "epoch:262/500 average TL:0.00079589 average VL:0.00074025 epoch time:48 seconds, lr:1.02e-03\n",
      "epoch:263/500 average TL:0.00073485 average VL:0.00073948 epoch time:48 seconds, lr:1.01e-03\n",
      "epoch:264/500 average TL:0.00080841 average VL:0.00086540 epoch time:48 seconds, lr:1.01e-03\n",
      "epoch:265/500 average TL:0.00084579 average VL:0.00074094 epoch time:48 seconds, lr:1.00e-03\n",
      "epoch:266/500 average TL:0.00081513 average VL:0.00062461 epoch time:48 seconds, lr:9.93e-04\n",
      "epoch:267/500 average TL:0.00074806 average VL:0.00064406 epoch time:48 seconds, lr:9.87e-04\n",
      "epoch:268/500 average TL:0.00072874 average VL:0.00065391 epoch time:48 seconds, lr:9.80e-04\n"
     ]
    },
    {
     "name": "stdout",
     "output_type": "stream",
     "text": [
      "epoch:269/500 average TL:0.00067851 average VL:0.00064907 epoch time:48 seconds, lr:9.73e-04\n",
      "epoch:270/500 average TL:0.00078152 average VL:0.00073925 epoch time:48 seconds, lr:9.67e-04\n",
      "epoch:271/500 average TL:0.00070238 average VL:0.00063878 epoch time:48 seconds, lr:9.60e-04\n",
      "epoch:272/500 average TL:0.00071538 average VL:0.00063104 epoch time:48 seconds, lr:9.53e-04\n",
      "epoch:273/500 average TL:0.00074166 average VL:0.00067355 epoch time:48 seconds, lr:9.47e-04\n",
      "epoch:274/500 average TL:0.00075627 average VL:0.00067286 epoch time:48 seconds, lr:9.40e-04\n",
      "epoch:275/500 average TL:0.00074622 average VL:0.00065938 epoch time:48 seconds, lr:9.33e-04\n",
      "epoch:276/500 average TL:0.00073967 average VL:0.00074145 epoch time:48 seconds, lr:9.27e-04\n",
      "epoch:277/500 average TL:0.00074765 average VL:0.00071920 epoch time:48 seconds, lr:9.20e-04\n",
      "epoch:278/500 average TL:0.00075346 average VL:0.00063052 epoch time:49 seconds, lr:9.13e-04\n",
      "epoch:279/500 average TL:0.00073958 average VL:0.00074304 epoch time:48 seconds, lr:9.07e-04\n",
      "epoch:280/500 average TL:0.00076256 average VL:0.00064823 epoch time:48 seconds, lr:9.00e-04\n",
      "epoch:281/500 average TL:0.00077177 average VL:0.00070039 epoch time:48 seconds, lr:8.93e-04\n",
      "epoch:282/500 average TL:0.00075424 average VL:0.00072734 epoch time:48 seconds, lr:8.87e-04\n",
      "epoch:283/500 average TL:0.00072930 average VL:0.00071589 epoch time:48 seconds, lr:8.80e-04\n",
      "epoch:284/500 average TL:0.00072961 average VL:0.00072731 epoch time:48 seconds, lr:8.73e-04\n",
      "epoch:285/500 average TL:0.00078177 average VL:0.00073583 epoch time:48 seconds, lr:8.67e-04\n",
      "epoch:286/500 average TL:0.00073089 average VL:0.00064680 epoch time:48 seconds, lr:8.60e-04\n",
      "epoch:287/500 average TL:0.00075098 average VL:0.00066555 epoch time:48 seconds, lr:8.54e-04\n",
      "epoch:288/500 average TL:0.00073662 average VL:0.00071518 epoch time:48 seconds, lr:8.47e-04\n",
      "epoch:289/500 average TL:0.00070908 average VL:0.00067555 epoch time:48 seconds, lr:8.40e-04\n",
      "epoch:290/500 average TL:0.00073801 average VL:0.00068227 epoch time:49 seconds, lr:8.34e-04\n",
      "epoch:291/500 average TL:0.00071414 average VL:0.00066261 epoch time:48 seconds, lr:8.27e-04\n",
      "epoch:292/500 average TL:0.00074194 average VL:0.00070709 epoch time:48 seconds, lr:8.21e-04\n",
      "epoch:293/500 average TL:0.00069446 average VL:0.00068395 epoch time:48 seconds, lr:8.14e-04\n",
      "epoch:294/500 average TL:0.00079955 average VL:0.00056715 epoch time:48 seconds, lr:8.07e-04\n",
      "epoch:295/500 average TL:0.00076051 average VL:0.00076333 epoch time:48 seconds, lr:8.01e-04\n",
      "epoch:296/500 average TL:0.00072508 average VL:0.00070428 epoch time:48 seconds, lr:7.94e-04\n",
      "epoch:297/500 average TL:0.00079462 average VL:0.00070153 epoch time:48 seconds, lr:7.88e-04\n",
      "epoch:298/500 average TL:0.00073433 average VL:0.00070091 epoch time:48 seconds, lr:7.81e-04\n",
      "epoch:299/500 average TL:0.00075452 average VL:0.00060387 epoch time:48 seconds, lr:7.75e-04\n",
      "epoch:300/500 average TL:0.00071827 average VL:0.00063589 epoch time:48 seconds, lr:7.68e-04\n",
      "epoch:301/500 average TL:0.00073137 average VL:0.00070755 epoch time:49 seconds, lr:7.62e-04\n",
      "epoch:302/500 average TL:0.00073401 average VL:0.00068943 epoch time:49 seconds, lr:7.55e-04\n",
      "epoch:303/500 average TL:0.00072384 average VL:0.00065277 epoch time:48 seconds, lr:7.49e-04\n",
      "epoch:304/500 average TL:0.00079419 average VL:0.00068980 epoch time:48 seconds, lr:7.42e-04\n",
      "epoch:305/500 average TL:0.00077165 average VL:0.00061519 epoch time:48 seconds, lr:7.36e-04\n",
      "epoch:306/500 average TL:0.00071345 average VL:0.00058346 epoch time:48 seconds, lr:7.29e-04\n",
      "epoch:307/500 average TL:0.00070527 average VL:0.00070487 epoch time:48 seconds, lr:7.23e-04\n",
      "epoch:308/500 average TL:0.00069350 average VL:0.00065467 epoch time:48 seconds, lr:7.17e-04\n",
      "epoch:309/500 average TL:0.00070708 average VL:0.00054517 epoch time:48 seconds, lr:7.10e-04\n",
      "epoch:310/500 average TL:0.00076310 average VL:0.00059098 epoch time:48 seconds, lr:7.04e-04\n",
      "epoch:311/500 average TL:0.00068599 average VL:0.00066402 epoch time:48 seconds, lr:6.97e-04\n",
      "epoch:312/500 average TL:0.00071657 average VL:0.00071861 epoch time:48 seconds, lr:6.91e-04\n",
      "epoch:313/500 average TL:0.00071772 average VL:0.00065382 epoch time:48 seconds, lr:6.85e-04\n",
      "epoch:314/500 average TL:0.00067924 average VL:0.00064700 epoch time:48 seconds, lr:6.78e-04\n",
      "epoch:315/500 average TL:0.00068740 average VL:0.00066599 epoch time:48 seconds, lr:6.72e-04\n",
      "epoch:316/500 average TL:0.00076601 average VL:0.00069573 epoch time:48 seconds, lr:6.66e-04\n",
      "epoch:317/500 average TL:0.00075355 average VL:0.00076240 epoch time:48 seconds, lr:6.59e-04\n",
      "epoch:318/500 average TL:0.00072807 average VL:0.00062475 epoch time:48 seconds, lr:6.53e-04\n",
      "epoch:319/500 average TL:0.00075428 average VL:0.00068886 epoch time:48 seconds, lr:6.47e-04\n",
      "epoch:320/500 average TL:0.00068170 average VL:0.00063420 epoch time:48 seconds, lr:6.41e-04\n",
      "epoch:321/500 average TL:0.00066295 average VL:0.00073777 epoch time:48 seconds, lr:6.34e-04\n",
      "epoch:322/500 average TL:0.00068626 average VL:0.00076387 epoch time:48 seconds, lr:6.28e-04\n",
      "epoch:323/500 average TL:0.00076922 average VL:0.00069584 epoch time:48 seconds, lr:6.22e-04\n",
      "epoch:324/500 average TL:0.00072714 average VL:0.00065719 epoch time:48 seconds, lr:6.16e-04\n",
      "epoch:325/500 average TL:0.00064783 average VL:0.00064291 epoch time:48 seconds, lr:6.10e-04\n",
      "epoch:326/500 average TL:0.00067225 average VL:0.00065398 epoch time:48 seconds, lr:6.04e-04\n",
      "epoch:327/500 average TL:0.00074015 average VL:0.00069829 epoch time:48 seconds, lr:5.97e-04\n",
      "epoch:328/500 average TL:0.00060233 average VL:0.00071347 epoch time:48 seconds, lr:5.91e-04\n",
      "epoch:329/500 average TL:0.00066748 average VL:0.00066510 epoch time:51 seconds, lr:5.85e-04\n",
      "epoch:330/500 average TL:0.00069169 average VL:0.00063245 epoch time:48 seconds, lr:5.79e-04\n",
      "epoch:331/500 average TL:0.00071562 average VL:0.00071421 epoch time:48 seconds, lr:5.73e-04\n",
      "epoch:332/500 average TL:0.00067985 average VL:0.00065584 epoch time:48 seconds, lr:5.67e-04\n",
      "epoch:333/500 average TL:0.00070976 average VL:0.00065827 epoch time:48 seconds, lr:5.61e-04\n",
      "epoch:334/500 average TL:0.00065540 average VL:0.00062604 epoch time:48 seconds, lr:5.55e-04\n",
      "epoch:335/500 average TL:0.00074566 average VL:0.00073182 epoch time:49 seconds, lr:5.49e-04\n",
      "epoch:336/500 average TL:0.00068364 average VL:0.00062530 epoch time:48 seconds, lr:5.43e-04\n",
      "epoch:337/500 average TL:0.00072353 average VL:0.00060158 epoch time:48 seconds, lr:5.37e-04\n",
      "epoch:338/500 average TL:0.00072629 average VL:0.00069813 epoch time:48 seconds, lr:5.31e-04\n",
      "epoch:339/500 average TL:0.00070753 average VL:0.00071561 epoch time:48 seconds, lr:5.25e-04\n",
      "epoch:340/500 average TL:0.00068678 average VL:0.00069485 epoch time:48 seconds, lr:5.19e-04\n",
      "epoch:341/500 average TL:0.00073128 average VL:0.00068754 epoch time:48 seconds, lr:5.14e-04\n",
      "epoch:342/500 average TL:0.00068113 average VL:0.00066281 epoch time:48 seconds, lr:5.08e-04\n",
      "epoch:343/500 average TL:0.00070393 average VL:0.00058061 epoch time:48 seconds, lr:5.02e-04\n",
      "epoch:344/500 average TL:0.00069838 average VL:0.00077665 epoch time:48 seconds, lr:4.96e-04\n",
      "epoch:345/500 average TL:0.00066569 average VL:0.00064012 epoch time:48 seconds, lr:4.90e-04\n",
      "epoch:346/500 average TL:0.00073330 average VL:0.00072711 epoch time:50 seconds, lr:4.85e-04\n",
      "epoch:347/500 average TL:0.00065486 average VL:0.00074151 epoch time:49 seconds, lr:4.79e-04\n",
      "epoch:348/500 average TL:0.00074296 average VL:0.00059041 epoch time:48 seconds, lr:4.73e-04\n",
      "epoch:349/500 average TL:0.00073727 average VL:0.00068863 epoch time:48 seconds, lr:4.68e-04\n",
      "epoch:350/500 average TL:0.00069512 average VL:0.00065169 epoch time:48 seconds, lr:4.62e-04\n",
      "epoch:351/500 average TL:0.00071392 average VL:0.00064448 epoch time:48 seconds, lr:4.56e-04\n",
      "epoch:352/500 average TL:0.00065475 average VL:0.00070839 epoch time:48 seconds, lr:4.51e-04\n",
      "epoch:353/500 average TL:0.00065720 average VL:0.00067587 epoch time:49 seconds, lr:4.45e-04\n",
      "epoch:354/500 average TL:0.00068914 average VL:0.00077916 epoch time:48 seconds, lr:4.40e-04\n",
      "epoch:355/500 average TL:0.00066667 average VL:0.00060355 epoch time:48 seconds, lr:4.34e-04\n",
      "epoch:356/500 average TL:0.00070205 average VL:0.00068231 epoch time:48 seconds, lr:4.29e-04\n",
      "epoch:357/500 average TL:0.00069260 average VL:0.00070214 epoch time:48 seconds, lr:4.23e-04\n"
     ]
    },
    {
     "name": "stdout",
     "output_type": "stream",
     "text": [
      "epoch:358/500 average TL:0.00061211 average VL:0.00057976 epoch time:48 seconds, lr:4.18e-04\n",
      "epoch:359/500 average TL:0.00066715 average VL:0.00065732 epoch time:48 seconds, lr:4.12e-04\n",
      "epoch:360/500 average TL:0.00070850 average VL:0.00079851 epoch time:48 seconds, lr:4.07e-04\n",
      "epoch:361/500 average TL:0.00068965 average VL:0.00056822 epoch time:48 seconds, lr:4.02e-04\n",
      "epoch:362/500 average TL:0.00068508 average VL:0.00068491 epoch time:48 seconds, lr:3.96e-04\n",
      "epoch:363/500 average TL:0.00065029 average VL:0.00061913 epoch time:48 seconds, lr:3.91e-04\n",
      "epoch:364/500 average TL:0.00068276 average VL:0.00068394 epoch time:49 seconds, lr:3.86e-04\n",
      "epoch:365/500 average TL:0.00073500 average VL:0.00061189 epoch time:48 seconds, lr:3.80e-04\n",
      "epoch:366/500 average TL:0.00076266 average VL:0.00061013 epoch time:49 seconds, lr:3.75e-04\n",
      "epoch:367/500 average TL:0.00068313 average VL:0.00063825 epoch time:48 seconds, lr:3.70e-04\n",
      "epoch:368/500 average TL:0.00066703 average VL:0.00067356 epoch time:48 seconds, lr:3.65e-04\n",
      "epoch:369/500 average TL:0.00066557 average VL:0.00063860 epoch time:48 seconds, lr:3.60e-04\n",
      "epoch:370/500 average TL:0.00069028 average VL:0.00064988 epoch time:48 seconds, lr:3.54e-04\n",
      "epoch:371/500 average TL:0.00068123 average VL:0.00070077 epoch time:48 seconds, lr:3.49e-04\n",
      "epoch:372/500 average TL:0.00060424 average VL:0.00064908 epoch time:48 seconds, lr:3.44e-04\n",
      "epoch:373/500 average TL:0.00065143 average VL:0.00057383 epoch time:48 seconds, lr:3.39e-04\n",
      "epoch:374/500 average TL:0.00067270 average VL:0.00064106 epoch time:48 seconds, lr:3.34e-04\n",
      "epoch:375/500 average TL:0.00073142 average VL:0.00073446 epoch time:48 seconds, lr:3.29e-04\n",
      "epoch:376/500 average TL:0.00067153 average VL:0.00061817 epoch time:48 seconds, lr:3.24e-04\n",
      "epoch:377/500 average TL:0.00065617 average VL:0.00064960 epoch time:48 seconds, lr:3.19e-04\n",
      "epoch:378/500 average TL:0.00067949 average VL:0.00066390 epoch time:49 seconds, lr:3.15e-04\n",
      "epoch:379/500 average TL:0.00068652 average VL:0.00053343 epoch time:48 seconds, lr:3.10e-04\n",
      "epoch:380/500 average TL:0.00069931 average VL:0.00061266 epoch time:49 seconds, lr:3.05e-04\n",
      "epoch:381/500 average TL:0.00065150 average VL:0.00065989 epoch time:48 seconds, lr:3.00e-04\n",
      "epoch:382/500 average TL:0.00070781 average VL:0.00068128 epoch time:48 seconds, lr:2.95e-04\n",
      "epoch:383/500 average TL:0.00065669 average VL:0.00060334 epoch time:48 seconds, lr:2.91e-04\n",
      "epoch:384/500 average TL:0.00063899 average VL:0.00066403 epoch time:48 seconds, lr:2.86e-04\n",
      "epoch:385/500 average TL:0.00066362 average VL:0.00062052 epoch time:48 seconds, lr:2.81e-04\n",
      "epoch:386/500 average TL:0.00063245 average VL:0.00065552 epoch time:49 seconds, lr:2.77e-04\n",
      "epoch:387/500 average TL:0.00066669 average VL:0.00057479 epoch time:49 seconds, lr:2.72e-04\n",
      "epoch:388/500 average TL:0.00066535 average VL:0.00068142 epoch time:48 seconds, lr:2.67e-04\n",
      "epoch:389/500 average TL:0.00069084 average VL:0.00068809 epoch time:49 seconds, lr:2.63e-04\n",
      "epoch:390/500 average TL:0.00069626 average VL:0.00061348 epoch time:48 seconds, lr:2.58e-04\n",
      "epoch:391/500 average TL:0.00065742 average VL:0.00062639 epoch time:48 seconds, lr:2.54e-04\n",
      "epoch:392/500 average TL:0.00066305 average VL:0.00063089 epoch time:48 seconds, lr:2.50e-04\n",
      "epoch:393/500 average TL:0.00066498 average VL:0.00070744 epoch time:48 seconds, lr:2.45e-04\n",
      "epoch:394/500 average TL:0.00061879 average VL:0.00059157 epoch time:48 seconds, lr:2.41e-04\n",
      "epoch:395/500 average TL:0.00067639 average VL:0.00067783 epoch time:48 seconds, lr:2.36e-04\n",
      "epoch:396/500 average TL:0.00072280 average VL:0.00065999 epoch time:48 seconds, lr:2.32e-04\n",
      "epoch:397/500 average TL:0.00069537 average VL:0.00069307 epoch time:48 seconds, lr:2.28e-04\n",
      "epoch:398/500 average TL:0.00067162 average VL:0.00068855 epoch time:48 seconds, lr:2.24e-04\n",
      "epoch:399/500 average TL:0.00071422 average VL:0.00060744 epoch time:48 seconds, lr:2.19e-04\n",
      "epoch:400/500 average TL:0.00067221 average VL:0.00061939 epoch time:49 seconds, lr:2.15e-04\n",
      "epoch:401/500 average TL:0.00062100 average VL:0.00054654 epoch time:48 seconds, lr:2.11e-04\n",
      "epoch:402/500 average TL:0.00068252 average VL:0.00066882 epoch time:48 seconds, lr:2.07e-04\n",
      "epoch:403/500 average TL:0.00070422 average VL:0.00068282 epoch time:48 seconds, lr:2.03e-04\n",
      "epoch:404/500 average TL:0.00065779 average VL:0.00064425 epoch time:48 seconds, lr:1.99e-04\n",
      "epoch:405/500 average TL:0.00070873 average VL:0.00068260 epoch time:50 seconds, lr:1.95e-04\n",
      "epoch:406/500 average TL:0.00069147 average VL:0.00067580 epoch time:48 seconds, lr:1.91e-04\n",
      "epoch:407/500 average TL:0.00068120 average VL:0.00065029 epoch time:48 seconds, lr:1.87e-04\n",
      "epoch:408/500 average TL:0.00070292 average VL:0.00065035 epoch time:48 seconds, lr:1.83e-04\n",
      "epoch:409/500 average TL:0.00066688 average VL:0.00058959 epoch time:48 seconds, lr:1.79e-04\n",
      "epoch:410/500 average TL:0.00066894 average VL:0.00061437 epoch time:48 seconds, lr:1.76e-04\n",
      "epoch:411/500 average TL:0.00070356 average VL:0.00070538 epoch time:48 seconds, lr:1.72e-04\n",
      "epoch:412/500 average TL:0.00069452 average VL:0.00069273 epoch time:48 seconds, lr:1.68e-04\n",
      "epoch:413/500 average TL:0.00065263 average VL:0.00056116 epoch time:48 seconds, lr:1.64e-04\n",
      "epoch:414/500 average TL:0.00063658 average VL:0.00059801 epoch time:49 seconds, lr:1.61e-04\n",
      "epoch:415/500 average TL:0.00069765 average VL:0.00068793 epoch time:48 seconds, lr:1.57e-04\n",
      "epoch:416/500 average TL:0.00066321 average VL:0.00058941 epoch time:48 seconds, lr:1.54e-04\n",
      "epoch:417/500 average TL:0.00067315 average VL:0.00063099 epoch time:48 seconds, lr:1.50e-04\n",
      "epoch:418/500 average TL:0.00064725 average VL:0.00066572 epoch time:48 seconds, lr:1.47e-04\n",
      "epoch:419/500 average TL:0.00070263 average VL:0.00059351 epoch time:48 seconds, lr:1.43e-04\n",
      "epoch:420/500 average TL:0.00064770 average VL:0.00064641 epoch time:48 seconds, lr:1.40e-04\n",
      "epoch:421/500 average TL:0.00066894 average VL:0.00060912 epoch time:49 seconds, lr:1.36e-04\n",
      "epoch:422/500 average TL:0.00068211 average VL:0.00051575 epoch time:48 seconds, lr:1.33e-04\n",
      "epoch:423/500 average TL:0.00067704 average VL:0.00075008 epoch time:48 seconds, lr:1.30e-04\n",
      "epoch:424/500 average TL:0.00070988 average VL:0.00060844 epoch time:49 seconds, lr:1.26e-04\n",
      "epoch:425/500 average TL:0.00068964 average VL:0.00055442 epoch time:48 seconds, lr:1.23e-04\n",
      "epoch:426/500 average TL:0.00066255 average VL:0.00071251 epoch time:48 seconds, lr:1.20e-04\n",
      "epoch:427/500 average TL:0.00070021 average VL:0.00073034 epoch time:48 seconds, lr:1.17e-04\n",
      "epoch:428/500 average TL:0.00066500 average VL:0.00069074 epoch time:48 seconds, lr:1.14e-04\n",
      "epoch:429/500 average TL:0.00063045 average VL:0.00060811 epoch time:49 seconds, lr:1.11e-04\n",
      "epoch:430/500 average TL:0.00068536 average VL:0.00061165 epoch time:49 seconds, lr:1.08e-04\n",
      "epoch:431/500 average TL:0.00068991 average VL:0.00055156 epoch time:48 seconds, lr:1.05e-04\n",
      "epoch:432/500 average TL:0.00065626 average VL:0.00058006 epoch time:48 seconds, lr:1.02e-04\n",
      "epoch:433/500 average TL:0.00067866 average VL:0.00060946 epoch time:48 seconds, lr:9.87e-05\n",
      "epoch:434/500 average TL:0.00065966 average VL:0.00055880 epoch time:48 seconds, lr:9.58e-05\n",
      "epoch:435/500 average TL:0.00064566 average VL:0.00072292 epoch time:48 seconds, lr:9.30e-05\n",
      "epoch:436/500 average TL:0.00064764 average VL:0.00069397 epoch time:49 seconds, lr:9.02e-05\n",
      "epoch:437/500 average TL:0.00062716 average VL:0.00053296 epoch time:48 seconds, lr:8.75e-05\n",
      "epoch:438/500 average TL:0.00070750 average VL:0.00064604 epoch time:48 seconds, lr:8.47e-05\n",
      "epoch:439/500 average TL:0.00063028 average VL:0.00057598 epoch time:48 seconds, lr:8.21e-05\n",
      "epoch:440/500 average TL:0.00065325 average VL:0.00061355 epoch time:48 seconds, lr:7.94e-05\n",
      "epoch:441/500 average TL:0.00065945 average VL:0.00065095 epoch time:48 seconds, lr:7.69e-05\n",
      "epoch:442/500 average TL:0.00068361 average VL:0.00067536 epoch time:48 seconds, lr:7.43e-05\n",
      "epoch:443/500 average TL:0.00068240 average VL:0.00059096 epoch time:48 seconds, lr:7.18e-05\n",
      "epoch:444/500 average TL:0.00058750 average VL:0.00058376 epoch time:49 seconds, lr:6.93e-05\n",
      "epoch:445/500 average TL:0.00066341 average VL:0.00062639 epoch time:48 seconds, lr:6.69e-05\n",
      "epoch:446/500 average TL:0.00069300 average VL:0.00071478 epoch time:48 seconds, lr:6.45e-05\n"
     ]
    },
    {
     "name": "stdout",
     "output_type": "stream",
     "text": [
      "epoch:447/500 average TL:0.00063141 average VL:0.00065669 epoch time:48 seconds, lr:6.22e-05\n",
      "epoch:448/500 average TL:0.00069071 average VL:0.00070785 epoch time:48 seconds, lr:5.99e-05\n",
      "epoch:449/500 average TL:0.00071218 average VL:0.00052852 epoch time:48 seconds, lr:5.76e-05\n",
      "epoch:450/500 average TL:0.00070451 average VL:0.00056013 epoch time:49 seconds, lr:5.54e-05\n",
      "epoch:451/500 average TL:0.00069104 average VL:0.00060340 epoch time:48 seconds, lr:5.33e-05\n",
      "epoch:452/500 average TL:0.00059052 average VL:0.00064626 epoch time:48 seconds, lr:5.11e-05\n",
      "epoch:453/500 average TL:0.00067522 average VL:0.00070225 epoch time:48 seconds, lr:4.90e-05\n",
      "epoch:454/500 average TL:0.00061812 average VL:0.00059185 epoch time:48 seconds, lr:4.70e-05\n",
      "epoch:455/500 average TL:0.00067098 average VL:0.00057081 epoch time:48 seconds, lr:4.50e-05\n",
      "epoch:456/500 average TL:0.00067179 average VL:0.00061869 epoch time:48 seconds, lr:4.30e-05\n",
      "epoch:457/500 average TL:0.00065142 average VL:0.00071305 epoch time:49 seconds, lr:4.11e-05\n",
      "epoch:458/500 average TL:0.00064740 average VL:0.00065681 epoch time:48 seconds, lr:3.92e-05\n",
      "epoch:459/500 average TL:0.00068856 average VL:0.00057299 epoch time:48 seconds, lr:3.74e-05\n",
      "epoch:460/500 average TL:0.00062380 average VL:0.00062472 epoch time:48 seconds, lr:3.56e-05\n",
      "epoch:461/500 average TL:0.00062157 average VL:0.00065850 epoch time:48 seconds, lr:3.39e-05\n",
      "epoch:462/500 average TL:0.00069211 average VL:0.00063493 epoch time:48 seconds, lr:3.22e-05\n",
      "epoch:463/500 average TL:0.00067841 average VL:0.00057040 epoch time:48 seconds, lr:3.05e-05\n",
      "epoch:464/500 average TL:0.00065436 average VL:0.00063915 epoch time:48 seconds, lr:2.89e-05\n",
      "epoch:465/500 average TL:0.00066385 average VL:0.00066065 epoch time:48 seconds, lr:2.73e-05\n",
      "epoch:466/500 average TL:0.00072654 average VL:0.00055604 epoch time:48 seconds, lr:2.58e-05\n",
      "epoch:467/500 average TL:0.00066578 average VL:0.00061389 epoch time:48 seconds, lr:2.43e-05\n",
      "epoch:468/500 average TL:0.00065105 average VL:0.00056088 epoch time:48 seconds, lr:2.29e-05\n",
      "epoch:469/500 average TL:0.00064686 average VL:0.00048729 epoch time:48 seconds, lr:2.15e-05\n",
      "epoch:470/500 average TL:0.00060241 average VL:0.00061100 epoch time:51 seconds, lr:2.01e-05\n",
      "epoch:471/500 average TL:0.00065867 average VL:0.00052804 epoch time:48 seconds, lr:1.88e-05\n",
      "epoch:472/500 average TL:0.00067121 average VL:0.00054235 epoch time:48 seconds, lr:1.76e-05\n",
      "epoch:473/500 average TL:0.00068865 average VL:0.00059708 epoch time:48 seconds, lr:1.63e-05\n",
      "epoch:474/500 average TL:0.00065906 average VL:0.00061063 epoch time:48 seconds, lr:1.52e-05\n",
      "epoch:475/500 average TL:0.00064290 average VL:0.00067479 epoch time:48 seconds, lr:1.40e-05\n",
      "epoch:476/500 average TL:0.00064505 average VL:0.00067092 epoch time:48 seconds, lr:1.29e-05\n",
      "epoch:477/500 average TL:0.00066213 average VL:0.00054085 epoch time:48 seconds, lr:1.19e-05\n",
      "epoch:478/500 average TL:0.00061680 average VL:0.00057158 epoch time:48 seconds, lr:1.09e-05\n",
      "epoch:479/500 average TL:0.00062581 average VL:0.00066663 epoch time:48 seconds, lr:9.94e-06\n",
      "epoch:480/500 average TL:0.00068458 average VL:0.00061822 epoch time:48 seconds, lr:9.02e-06\n",
      "epoch:481/500 average TL:0.00064011 average VL:0.00064859 epoch time:48 seconds, lr:8.15e-06\n",
      "epoch:482/500 average TL:0.00067834 average VL:0.00062008 epoch time:48 seconds, lr:7.33e-06\n",
      "epoch:483/500 average TL:0.00062375 average VL:0.00059127 epoch time:48 seconds, lr:6.55e-06\n",
      "epoch:484/500 average TL:0.00062392 average VL:0.00064096 epoch time:48 seconds, lr:5.81e-06\n",
      "epoch:485/500 average TL:0.00064773 average VL:0.00055505 epoch time:48 seconds, lr:5.12e-06\n",
      "epoch:486/500 average TL:0.00063499 average VL:0.00054130 epoch time:48 seconds, lr:4.48e-06\n",
      "epoch:487/500 average TL:0.00068878 average VL:0.00066535 epoch time:48 seconds, lr:3.87e-06\n",
      "epoch:488/500 average TL:0.00063960 average VL:0.00063802 epoch time:48 seconds, lr:3.32e-06\n",
      "epoch:489/500 average TL:0.00066125 average VL:0.00058570 epoch time:48 seconds, lr:2.80e-06\n",
      "epoch:490/500 average TL:0.00066850 average VL:0.00056506 epoch time:48 seconds, lr:2.33e-06\n",
      "epoch:491/500 average TL:0.00065299 average VL:0.00066588 epoch time:48 seconds, lr:1.91e-06\n",
      "epoch:492/500 average TL:0.00066332 average VL:0.00053020 epoch time:48 seconds, lr:1.53e-06\n",
      "epoch:493/500 average TL:0.00070272 average VL:0.00063022 epoch time:48 seconds, lr:1.19e-06\n",
      "epoch:494/500 average TL:0.00068148 average VL:0.00057522 epoch time:48 seconds, lr:9.04e-07\n",
      "epoch:495/500 average TL:0.00065984 average VL:0.00062723 epoch time:48 seconds, lr:6.58e-07\n",
      "epoch:496/500 average TL:0.00068298 average VL:0.00059495 epoch time:48 seconds, lr:4.57e-07\n",
      "epoch:497/500 average TL:0.00065272 average VL:0.00070006 epoch time:48 seconds, lr:3.01e-07\n",
      "epoch:498/500 average TL:0.00067833 average VL:0.00058077 epoch time:49 seconds, lr:1.89e-07\n",
      "epoch:499/500 average TL:0.00058573 average VL:0.00058000 epoch time:48 seconds, lr:1.22e-07\n",
      "epoch:500/500 average TL:0.00061217 average VL:0.00058669 epoch time:48 seconds, lr:1.00e-07\n",
      "\n",
      "Duration: 24077 seconds\n"
     ]
    }
   ],
   "source": [
    "start_time = time.time()\n",
    "num_train_batches=len(train_loader)\n",
    "num_test_batches=len(test_loader)\n",
    "train_losses = []\n",
    "val_losses = []\n",
    "patience_counter = 0\n",
    "best_val_loss = float('inf')\n",
    "\n",
    "for i in range(num_epochs):\n",
    "    loss1 = 0\n",
    "    epoch_time = time.time()\n",
    "    model.train()\n",
    "    # Run the training batches\n",
    "    for b, (X_train, y_train) in enumerate(train_loader):  \n",
    "        optimizer.zero_grad()\n",
    "        \n",
    "        # Apply the model\n",
    "        #X_train = torch.cat([X_train, 4*torch.ones(batch_size, num_errors, dtype=torch.int).to(device)], dim=1)\n",
    "        xt=one_hot_encode(X_train, 5)\n",
    "        y_pred=model(xt)\n",
    "        #print(y_pred.shape)\n",
    "        y_train = torch.cat([y_train, 4*torch.ones(batch_size, num_errors, dtype=torch.int).to(device)], dim=1)\n",
    "        yt=one_hot_encode(y_train, 5)\n",
    "        \n",
    "        loss = criterion(y_pred, yt) \n",
    "        # Update parameters\n",
    "        loss.backward()\n",
    "        optimizer.step()\n",
    "        scheduler.step()\n",
    "        loss1=loss1+loss\n",
    "        #if (b+1)%50==1:\n",
    "        #    print(f'epoch: {i+1}/{num_epochs} batch:{b+1}/{num_train_batches} loss: {loss.item():10.8f}')      \n",
    "    train_loss=loss1/num_train_batches  \n",
    "    train_losses.append(train_loss.item())\n",
    "    # Run the testing batches\n",
    "    model.eval()\n",
    "    with torch.no_grad():\n",
    "        loss1=0\n",
    "        for b, (X_test, y_test) in enumerate(test_loader):\n",
    "            y_test=y_test.to(device)\n",
    "            # Apply the model\n",
    "            #X_test = torch.cat([X_test, 4*torch.ones(batch_size, num_errors, dtype=torch.int).to(device)], dim=1)\n",
    "            xt=one_hot_encode(X_test, 5)\n",
    "            y_pred=model(xt)\n",
    "            y_test = torch.cat([y_test, 4*torch.ones(batch_size, num_errors, dtype=torch.int).to(device)], dim=1)\n",
    "            yt=one_hot_encode(y_test, 5)\n",
    "            loss = criterion(y_pred, yt) \n",
    "            loss1=loss1+loss         \n",
    "        val_loss=loss1/num_test_batches  \n",
    "        val_losses.append(val_loss.item())\n",
    "    \n",
    "    print(f'epoch:{i+1}/{num_epochs} average TL:{train_loss.item():10.8f} average VL:{val_loss.item():10.8f} epoch time:{time.time() - epoch_time:.0f} seconds, lr:{optimizer.param_groups[0][\"lr\"]:.2e}')               \n",
    "     # Early stopping\n",
    "    if val_loss < best_val_loss:\n",
    "        best_val_loss = val_loss\n",
    "        torch.save(model.state_dict(), path_directory+\"model.pth\")\n",
    "        patience_counter = 0\n",
    "    else:\n",
    "        patience_counter += 1\n",
    "\n",
    "    if patience_counter >= patience:\n",
    "        print(f'Validation loss did not decrease for {patience} epochs. Stopping training.')\n",
    "        break  \n",
    "        \n",
    "print(f'\\nDuration: {time.time() - start_time:.0f} seconds') # print the time elapsed            "
   ]
  },
  {
   "cell_type": "code",
   "execution_count": 29,
   "id": "d1b7ed3f",
   "metadata": {},
   "outputs": [
    {
     "data": {
      "image/png": "[encoded data removed]",
      "text/plain": [
       "<Figure size 640x480 with 1 Axes>"
      ]
     },
     "metadata": {},
     "output_type": "display_data"
    }
   ],
   "source": [
    "# Plotting\n",
    "plt.plot(train_losses, label='Train Loss')\n",
    "plt.plot(val_losses, label='Validation Loss')\n",
    "plt.xlabel('Epoch')\n",
    "plt.ylabel('Loss')\n",
    "plt.legend()\n",
    "plt.grid()\n",
    "plt.show()\n"
   ]
  },
  {
   "cell_type": "code",
   "execution_count": 30,
   "id": "730fe193",
   "metadata": {},
   "outputs": [],
   "source": [
    "dict={'train_losses':train_losses, 'val_losses':val_losses, 'flops':flops, 'parameters':params }"
   ]
  },
  {
   "cell_type": "code",
   "execution_count": 31,
   "id": "82c1c94c",
   "metadata": {},
   "outputs": [],
   "source": [
    "savemat(path_directory+'losses.mat', dict)\n",
    "with open(path_directory+'losses.pkl', 'wb') as file:\n",
    "    \n",
    "    # A new file will be created\n",
    "    pickle.dump(dict, file)"
   ]
  },
  {
   "cell_type": "markdown",
   "id": "486b1334",
   "metadata": {},
   "source": [
    "# Testing"
   ]
  },
  {
   "cell_type": "code",
   "execution_count": 32,
   "id": "0827e8c0",
   "metadata": {},
   "outputs": [
    {
     "data": {
      "text/plain": [
       "<All keys matched successfully>"
      ]
     },
     "execution_count": 32,
     "metadata": {},
     "output_type": "execute_result"
    }
   ],
   "source": [
    "model.load_state_dict(torch.load(path_directory+\"model.pth\"))"
   ]
  },
  {
   "cell_type": "code",
   "execution_count": 33,
   "id": "eefcadef",
   "metadata": {},
   "outputs": [],
   "source": [
    "start_test=1\n",
    "stop_test=4\n",
    "num_test=200000\n",
    "test_error_points=torch.arange(start_test, stop_test+1)\n",
    "#nucleotide error rate\n",
    "ner=torch.zeros((stop_test-start_test+1)).to(device)\n",
    "#sequence error rate\n",
    "ser=torch.zeros((stop_test-start_test+1)).to(device)"
   ]
  },
  {
   "cell_type": "code",
   "execution_count": 34,
   "id": "66257385",
   "metadata": {},
   "outputs": [],
   "source": [
    "def count_different_rows(matrix1, matrix2):\n",
    "    \"\"\"\n",
    "    Calculates the number of rows that are not equal between two 2D PyTorch matrices.\n",
    "\n",
    "    Args:\n",
    "        matrix1 (torch.Tensor): A 2D PyTorch tensor of shape (m, n).\n",
    "        matrix2 (torch.Tensor): A 2D PyTorch tensor of shape (m, n).\n",
    "\n",
    "    Returns:\n",
    "        int: The number of rows that are not equal between the two matrices.\n",
    "    \"\"\"\n",
    "    assert matrix1.shape == matrix2.shape, \"The input matrices must have the same shape.\"\n",
    "    equal_rows = torch.all(matrix1 == matrix2, dim=1)\n",
    "    return matrix1.shape[0] - torch.sum(equal_rows).item()"
   ]
  },
  {
   "cell_type": "code",
   "execution_count": 35,
   "id": "213866b5",
   "metadata": {},
   "outputs": [],
   "source": [
    "i1=0\n",
    "for i in range(start_test, stop_test+1):\n",
    "    test_data1 = LanguageDataset(dicts, num_samples=num_test, num_errors=i)\n",
    "    test_loader1 = DataLoader(test_data1, batch_size=batch_size, shuffle=True)\n",
    "    n_tbatch=len(test_loader1)\n",
    "    ne=0.0\n",
    "    count=0.0\n",
    "    # Run the testing batches\n",
    "    model.eval()\n",
    "    with torch.no_grad():\n",
    "        for b, (X_test, y_test) in enumerate(test_loader1):\n",
    "            #y_test=y_test\n",
    "            #X_test = torch.cat([X_test, 4*torch.ones(batch_size, i, dtype=torch.int).to(device)], dim=1)\n",
    "            # Apply the model\n",
    "            xt=one_hot_encode(X_test, 5)\n",
    "            y_pred=model(xt)\n",
    "            y_pred_d=one_hot_decode(y_pred)\n",
    "            y_test = torch.cat([y_test, 4*torch.ones(batch_size, num_errors, dtype=torch.int).to(device)], dim=1)\n",
    "            #yt=one_hot_encode(y_test, 5)\n",
    "            ne=ne+torch.sum(y_pred_d!=y_test).item()\n",
    "            count=count+count_different_rows(y_test,y_pred_d)\n",
    "        ner[i1]=ne/(n_tbatch*batch_size*K)\n",
    "        ser[i1]=count/(n_tbatch*batch_size)\n",
    "    i1=i1+1"
   ]
  },
  {
   "cell_type": "code",
   "execution_count": 36,
   "id": "613b089d",
   "metadata": {},
   "outputs": [],
   "source": [
    "dict1={'ner':torch.Tensor.cpu(ner).numpy(), 'ser':torch.Tensor.cpu(ser).numpy()}"
   ]
  },
  {
   "cell_type": "code",
   "execution_count": 37,
   "id": "87bb7c2e",
   "metadata": {},
   "outputs": [
    {
     "data": {
      "text/plain": [
       "tensor([0.0000, 0.0012, 0.0035, 0.0080], device='cuda:0')"
      ]
     },
     "execution_count": 37,
     "metadata": {},
     "output_type": "execute_result"
    }
   ],
   "source": [
    "ner"
   ]
  },
  {
   "cell_type": "code",
   "execution_count": 38,
   "id": "fb487284",
   "metadata": {},
   "outputs": [
    {
     "data": {
      "text/plain": [
       "tensor([0.0000, 0.0012, 0.0035, 0.0080], device='cuda:0')"
      ]
     },
     "execution_count": 38,
     "metadata": {},
     "output_type": "execute_result"
    }
   ],
   "source": [
    "ner"
   ]
  },
  {
   "cell_type": "code",
   "execution_count": 39,
   "id": "fbd05713",
   "metadata": {},
   "outputs": [
    {
     "data": {
      "text/plain": [
       "tensor([0.0000, 0.0069, 0.0176, 0.0380], device='cuda:0')"
      ]
     },
     "execution_count": 39,
     "metadata": {},
     "output_type": "execute_result"
    }
   ],
   "source": [
    "ser"
   ]
  },
  {
   "cell_type": "code",
   "execution_count": 40,
   "id": "e2bdc20c",
   "metadata": {},
   "outputs": [],
   "source": [
    "savemat(path_directory+'metric.mat', dict1)\n",
    "with open(path_directory+'metric.pkl', 'wb') as file:\n",
    "    \n",
    "    # A new file will be created\n",
    "    pickle.dump(dict1, file)"
   ]
  },
  {
   "cell_type": "code",
   "execution_count": 41,
   "id": "00193886",
   "metadata": {},
   "outputs": [
    {
     "data": {
      "image/png": "[encoded data removed]",
      "text/plain": [
       "<Figure size 640x480 with 1 Axes>"
      ]
     },
     "metadata": {},
     "output_type": "display_data"
    }
   ],
   "source": [
    "plt.plot(torch.Tensor.cpu(test_error_points).numpy(),torch.Tensor.cpu(ner).numpy())\n",
    "plt.yscale('log')\n",
    "plt.xlabel('Number of errors')\n",
    "plt.ylabel('NER')    \n",
    "plt.grid(True)\n",
    "plt.show()"
   ]
  },
  {
   "cell_type": "code",
   "execution_count": 42,
   "id": "e22b1f71",
   "metadata": {},
   "outputs": [
    {
     "data": {
      "image/png": "[encoded data removed]",
      "text/plain": [
       "<Figure size 640x480 with 1 Axes>"
      ]
     },
     "metadata": {},
     "output_type": "display_data"
    }
   ],
   "source": [
    "plt.plot(torch.Tensor.cpu(test_error_points).numpy(),torch.Tensor.cpu(ser).numpy())\n",
    "plt.yscale('log')\n",
    "plt.xlabel('Number of errors')\n",
    "plt.ylabel('SER')    \n",
    "plt.grid(True)\n",
    "plt.show()"
   ]
  },
  {
   "cell_type": "code",
   "execution_count": null,
   "id": "ff194c2d",
   "metadata": {},
   "outputs": [],
   "source": []
  },
  {
   "cell_type": "code",
   "execution_count": null,
   "id": "0ea980a5",
   "metadata": {},
   "outputs": [],
   "source": []
  }
 ],
 "metadata": {
  "kernelspec": {
   "display_name": "Python 3 (ipykernel)",
   "language": "python",
   "name": "python3"
  },
  "language_info": {
   "codemirror_mode": {
    "name": "ipython",
    "version": 3
   },
   "file_extension": ".py",
   "mimetype": "text/x-python",
   "name": "python",
   "nbconvert_exporter": "python",
   "pygments_lexer": "ipython3",
   "version": "3.10.9"
  }
 },
 "nbformat": 4,
 "nbformat_minor": 5
}

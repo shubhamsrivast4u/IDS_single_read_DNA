{
 "cells": [
  {
   "cell_type": "code",
   "execution_count": 1,
   "id": "54bdf718",
   "metadata": {},
   "outputs": [],
   "source": [
    "import torch\n",
    "import torch.nn as nn\n",
    "import torch.nn.functional as F\n",
    "import random\n",
    "from torch.utils.data import Dataset, DataLoader\n",
    "import os\n",
    "os.environ[\"CUDA_VISIBLE_DEVICES\"] = \"2\"  # Select the GPU index\n",
    "import nltk\n",
    "from torch.optim.lr_scheduler import _LRScheduler\n",
    "import time\n",
    "import math\n",
    "import matplotlib.pyplot as plt\n",
    "import spacy\n",
    "from scipy.io import savemat\n",
    "import dill as pickle\n",
    "import thop"
   ]
  },
  {
   "cell_type": "code",
   "execution_count": 2,
   "id": "a700507b",
   "metadata": {},
   "outputs": [
    {
     "name": "stdout",
     "output_type": "stream",
     "text": [
      "['ATCGATCGATCGAT', 'TACGTAGCTAGCTA', 'TAGCTACGTAGCTA', 'ATGCATGCATCGAT', 'ATGCTACGATGCTA', 'TAGCATGCTACGAT', 'TACGATCGTACGAT', 'ATCGTAGCATGCTA', 'TACGATGCTAGCAT', 'ATCGTACGATCGTA', 'ATGCTAGCATCGTA', 'TAGCATCGTAGCAT', 'TAGCTAGCTACGTA', 'ATGCATCGATGCAT', 'ATCGATGCATGCAT', 'TACGTACGTACGTA']\n"
     ]
    }
   ],
   "source": [
    "# Dictionary\n",
    "dicno=4\n",
    "dictionaries =[[],\n",
    "               \n",
    "               [],\n",
    "               \n",
    "               [],\n",
    "               \n",
    "               ['ACGTAGCAGA', 'ACTACAGACG', 'AGACGATGCA', 'AGCGACTATC', 'ATAGCTCGTG', 'CACGAGCTAT','CGTCTGTAGT',\n",
    "                'CTATCAGCGA', 'GATAGTCGCT', 'GCAGACATCA', 'GTGCTCGATA', 'TATCGAGCAC', 'TCGCTGATAG', 'TCTGCTACGT',\n",
    "                'TGATGTCTGC', 'TGCATCGTCT'],\n",
    "               \n",
    "               ['ATCGATCGATCGAT','TACGTAGCTAGCTA', 'TAGCTACGTAGCTA', 'ATGCATGCATCGAT', 'ATGCTACGATGCTA', \n",
    "                'TAGCATGCTACGAT', 'TACGATCGTACGAT', 'ATCGTAGCATGCTA', 'TACGATGCTAGCAT', 'ATCGTACGATCGTA', \n",
    "                'ATGCTAGCATCGTA', 'TAGCATCGTAGCAT', 'TAGCTAGCTACGTA', 'ATGCATCGATGCAT', 'ATCGATGCATGCAT', \n",
    "                'TACGTACGTACGTA'],\n",
    "              \n",
    "               []\n",
    "              \n",
    "               ]\n",
    "dicts=dictionaries[dicno]\n",
    "print(dicts)"
   ]
  },
  {
   "cell_type": "code",
   "execution_count": 3,
   "id": "dbcadf01",
   "metadata": {},
   "outputs": [],
   "source": [
    "batch_size=2000\n",
    "device = 'cuda' if torch.cuda.is_available() else 'cpu'\n",
    "lr=0.001\n",
    "num_epochs=500\n",
    "patience=400\n",
    "train_num_samples=30000\n",
    "test_num_samples=10000\n",
    "num_errors=4\n",
    "K=len(dicts[0])\n",
    "hidden_size=32"
   ]
  },
  {
   "cell_type": "code",
   "execution_count": 4,
   "id": "cd70d5fb",
   "metadata": {},
   "outputs": [
    {
     "data": {
      "text/plain": [
       "'deletionmodels/BiLSTM/Dictionary_4/batch_size_2000/num_errors_4/initial_lr_0.001/epochs500_p400_tr30000ts10000K14hs32/'"
      ]
     },
     "execution_count": 4,
     "metadata": {},
     "output_type": "execute_result"
    }
   ],
   "source": [
    "path_directory=f\"deletionmodels/BiLSTM/Dictionary_{dicno}/batch_size_{batch_size}/num_errors_{num_errors}/initial_lr_{lr}/epochs{num_epochs}_p{patience}_tr{train_num_samples}ts{test_num_samples}K{K}hs{hidden_size}/\"\n",
    "path_directory"
   ]
  },
  {
   "cell_type": "code",
   "execution_count": 5,
   "id": "62b8193e",
   "metadata": {},
   "outputs": [],
   "source": [
    "# Check if \"models\" folder exists, create it if it doesn't\n",
    "if not os.path.exists(path_directory):\n",
    "    os.makedirs(path_directory)\n"
   ]
  },
  {
   "cell_type": "code",
   "execution_count": 6,
   "id": "d805d412",
   "metadata": {},
   "outputs": [],
   "source": [
    "class LanguageDataset(Dataset):\n",
    "\n",
    "    def __init__(self, dictionary, num_samples, num_errors):\n",
    "        self.dictionary = dictionary\n",
    "        self.num_samples = num_samples \n",
    "        self.num_errors = num_errors\n",
    "\n",
    "    def __len__(self):\n",
    "        return self.num_samples\n",
    "\n",
    "    def __getitem__(self, idx):\n",
    "        source_idx = idx % len(self.dictionary)  \n",
    "        sequence = self.dictionary[source_idx]\n",
    "\n",
    "        if self.num_errors > 0:\n",
    "            sequence = self.introduce_errors(sequence, self.num_errors)\n",
    "\n",
    "        x = torch.tensor([self.char_to_idx(c) for c in sequence], dtype=torch.long)\n",
    "        y = torch.tensor([self.char_to_idx(c) for c in self.dictionary[source_idx]], dtype=torch.long)\n",
    "        return x.to(device), y.to(device)\n",
    "        \n",
    "    def introduce_errors(self, sequence, num_errors):\n",
    "        sequence = list(sequence)\n",
    "        for _ in range(num_errors):\n",
    "            i = random.randint(0, len(sequence)-1)\n",
    "            del sequence[i]\n",
    "\n",
    "        return ''.join(sequence)\n",
    "\n",
    "    def char_to_idx(self, char):\n",
    "        return {'A': 0, 'C': 1, 'T': 2, 'G': 3}[char]"
   ]
  },
  {
   "cell_type": "code",
   "execution_count": 7,
   "id": "a9c0ed7b",
   "metadata": {},
   "outputs": [
    {
     "data": {
      "text/plain": [
       "2"
      ]
     },
     "execution_count": 7,
     "metadata": {},
     "output_type": "execute_result"
    }
   ],
   "source": [
    "random.randint(1, 2)"
   ]
  },
  {
   "cell_type": "code",
   "execution_count": 8,
   "id": "7d7bfb16",
   "metadata": {},
   "outputs": [],
   "source": [
    "class LanguageDataset1(Dataset):\n",
    "\n",
    "    def __init__(self, dictionary, num_samples, num_errors):\n",
    "        self.dictionary = dictionary\n",
    "        self.num_samples = num_samples \n",
    "        self.num_errors = num_errors\n",
    "\n",
    "    def __len__(self):\n",
    "        return self.num_samples\n",
    "\n",
    "    def __getitem__(self, idx):\n",
    "        source_idx = idx % len(self.dictionary)\n",
    "        sequence = self.dictionary[source_idx]\n",
    "        \n",
    "        if self.num_errors > 0:\n",
    "            sequence = self.introduce_errors(sequence, self.num_errors)\n",
    "            \n",
    "        x = torch.tensor([self.char_to_idx(c) for c in sequence], dtype=torch.long)\n",
    "        y = torch.tensor([self.char_to_idx(c) for c in self.dictionary[source_idx]], dtype=torch.long)\n",
    "        return x.to(device), y.to(device)\n",
    "\n",
    "    def introduce_errors(self, sequence, num_errors):\n",
    "        ne = random.randint(1, num_errors)\n",
    "        sequence = list(sequence)\n",
    "        \n",
    "        for _ in range(ne):\n",
    "            i = random.randint(0, len(sequence)-1)\n",
    "            del sequence[i]\n",
    "            sequence.append('N') \n",
    "        return ''.join(sequence)\n",
    "\n",
    "    def char_to_idx(self, char):\n",
    "        return {'A': 0, 'C': 1, 'T': 2, 'G': 3, 'N': 4}[char]"
   ]
  },
  {
   "cell_type": "code",
   "execution_count": 9,
   "id": "e6c5ca76",
   "metadata": {},
   "outputs": [],
   "source": [
    "train_data = LanguageDataset1(dicts, num_samples=train_num_samples, num_errors=num_errors)\n",
    "test_data = LanguageDataset1(dicts, num_samples=test_num_samples, num_errors=num_errors)\n",
    "\n",
    "train_loader = DataLoader(train_data, batch_size=batch_size, shuffle=True)\n",
    "test_loader = DataLoader(test_data, batch_size=batch_size)"
   ]
  },
  {
   "cell_type": "code",
   "execution_count": 10,
   "id": "87577e33",
   "metadata": {},
   "outputs": [],
   "source": [
    "t1=iter(train_loader)\n",
    "X,y=next(t1)"
   ]
  },
  {
   "cell_type": "code",
   "execution_count": 11,
   "id": "fc455f7a",
   "metadata": {},
   "outputs": [
    {
     "data": {
      "text/plain": [
       "tensor([[0, 2, 1,  ..., 4, 4, 4],\n",
       "        [2, 0, 3,  ..., 2, 4, 4],\n",
       "        [2, 0, 3,  ..., 4, 4, 4],\n",
       "        ...,\n",
       "        [0, 2, 1,  ..., 4, 4, 4],\n",
       "        [2, 0, 3,  ..., 2, 4, 4],\n",
       "        [2, 3, 1,  ..., 4, 4, 4]], device='cuda:0')"
      ]
     },
     "execution_count": 11,
     "metadata": {},
     "output_type": "execute_result"
    }
   ],
   "source": [
    "X"
   ]
  },
  {
   "cell_type": "code",
   "execution_count": 12,
   "id": "83b83995",
   "metadata": {},
   "outputs": [
    {
     "data": {
      "text/plain": [
       "tensor([[0, 2, 3,  ..., 3, 2, 0],\n",
       "        [2, 0, 3,  ..., 1, 2, 0],\n",
       "        [2, 0, 1,  ..., 3, 2, 0],\n",
       "        ...,\n",
       "        [0, 2, 1,  ..., 1, 2, 0],\n",
       "        [2, 0, 1,  ..., 1, 0, 2],\n",
       "        [0, 2, 3,  ..., 3, 2, 0]], device='cuda:0')"
      ]
     },
     "execution_count": 12,
     "metadata": {},
     "output_type": "execute_result"
    }
   ],
   "source": [
    "y"
   ]
  },
  {
   "cell_type": "code",
   "execution_count": 13,
   "id": "640f9af6",
   "metadata": {},
   "outputs": [],
   "source": [
    "def one_hot_encode(sequences, n_unique):\n",
    "\n",
    "    # Get size of batch and max sequence length\n",
    "    batch_size,seq_len=sequences.shape\n",
    "    #len(sequences)\n",
    "    #seq_len=len(sequences[0])\n",
    "    \n",
    "    # Initialize encoded tensor\n",
    "    oneencoding = torch.zeros(batch_size, seq_len, n_unique, device = device)\n",
    "    # Set 1 at index of each character\n",
    "    for i in range(batch_size):\n",
    "        for j in range(seq_len):\n",
    "            index = sequences[i][j]\n",
    "            oneencoding[i, j, index] = 1          \n",
    "    return oneencoding"
   ]
  },
  {
   "cell_type": "code",
   "execution_count": 14,
   "id": "ee758123",
   "metadata": {},
   "outputs": [
    {
     "data": {
      "text/plain": [
       "torch.Size([2000, 14])"
      ]
     },
     "execution_count": 14,
     "metadata": {},
     "output_type": "execute_result"
    }
   ],
   "source": [
    "X.shape"
   ]
  },
  {
   "cell_type": "code",
   "execution_count": 15,
   "id": "6d4e7322",
   "metadata": {},
   "outputs": [],
   "source": [
    "def one_hot_decode(encoded_seq):\n",
    "    \"\"\"Converts a batch of one-hot encoded sequences to indices\"\"\"\n",
    "    \n",
    "    # Dimensions will be (batch_size, seq_len, num_classes)\n",
    "    batch_size, seq_len, num_classes = encoded_seq.shape\n",
    "    \n",
    "    # Flatten to treat as a list of one-hot vectors\n",
    "    encoded_seq = encoded_seq.reshape(-1, num_classes)\n",
    "    \n",
    "    # Argmax over classes to get class index\n",
    "    indices = encoded_seq.argmax(dim=1).to(device)\n",
    "    \n",
    "    # Reshape back to original dimensions\n",
    "    indices = indices.reshape(batch_size, seq_len)\n",
    "    \n",
    "    return indices"
   ]
  },
  {
   "cell_type": "code",
   "execution_count": 16,
   "id": "d3d48c1c",
   "metadata": {},
   "outputs": [],
   "source": [
    "class BiLSTMModel(nn.Module):\n",
    "\n",
    "    def __init__(self, hidden_size, dropout):\n",
    "        super().__init__()\n",
    "        \n",
    "        self.lstm1 = nn.LSTM(\n",
    "            input_size=5, \n",
    "            hidden_size=hidden_size,\n",
    "            num_layers=2,\n",
    "            batch_first=True,\n",
    "            bidirectional=True,\n",
    "            dropout=dropout\n",
    "        )\n",
    "        self.fc = nn.Linear(2*hidden_size, 4)\n",
    "        self.softmax = nn.Softmax(dim=2)\n",
    "    def forward(self, x):\n",
    "\n",
    "        # BiLSTM 1\n",
    "        out, _ = self.lstm1(x)\n",
    "        out = self.softmax(self.fc(out))\n",
    "        return out"
   ]
  },
  {
   "cell_type": "code",
   "execution_count": 17,
   "id": "c8bbfd99",
   "metadata": {},
   "outputs": [],
   "source": [
    "model=BiLSTMModel(hidden_size,0.1)"
   ]
  },
  {
   "cell_type": "code",
   "execution_count": 18,
   "id": "fdca5add",
   "metadata": {},
   "outputs": [],
   "source": [
    "def cal_model_parameters(model):\n",
    "    total_param  = []\n",
    "    for p1 in model.parameters():\n",
    "        total_param.append(int(p1.numel()))\n",
    "    return sum(total_param)"
   ]
  },
  {
   "cell_type": "code",
   "execution_count": 19,
   "id": "b4388fcc",
   "metadata": {},
   "outputs": [
    {
     "data": {
      "text/plain": [
       "35332"
      ]
     },
     "execution_count": 19,
     "metadata": {},
     "output_type": "execute_result"
    }
   ],
   "source": [
    "cal_model_parameters(model)"
   ]
  },
  {
   "cell_type": "code",
   "execution_count": 20,
   "id": "68ad73ac",
   "metadata": {},
   "outputs": [],
   "source": [
    "model=model.to(device)"
   ]
  },
  {
   "cell_type": "code",
   "execution_count": 21,
   "id": "d4268683",
   "metadata": {},
   "outputs": [],
   "source": [
    "train_next=iter(train_data)\n",
    "Xp, Yp=next(train_next)\n",
    "#Xp = torch.cat([Xp.view(1,-1), 4*torch.ones(1, num_errors, dtype=torch.int).to(device)], dim=1)\n",
    "xp=one_hot_encode(Xp.view(1,-1).to(device), 5).to(device)"
   ]
  },
  {
   "cell_type": "code",
   "execution_count": 22,
   "id": "e3e06394",
   "metadata": {},
   "outputs": [],
   "source": [
    "flops, params = thop.profile(model, inputs=(xp,), verbose=False)"
   ]
  },
  {
   "cell_type": "code",
   "execution_count": 23,
   "id": "d017e558",
   "metadata": {},
   "outputs": [
    {
     "name": "stdout",
     "output_type": "stream",
     "text": [
      "Model Flops: 509082.0\n",
      "Model Params Num: 35332.0\n",
      "\n"
     ]
    }
   ],
   "source": [
    "print(f'Model Flops: {flops}')\n",
    "print(f'Model Params Num: {params}\\n')"
   ]
  },
  {
   "cell_type": "code",
   "execution_count": 24,
   "id": "248e48b2",
   "metadata": {},
   "outputs": [],
   "source": [
    "\n",
    "criterion= nn.MSELoss().to(device)"
   ]
  },
  {
   "cell_type": "code",
   "execution_count": 25,
   "id": "ad91e622",
   "metadata": {},
   "outputs": [],
   "source": [
    "optimizer = torch.optim.Adam(model.parameters(), lr=lr, betas=(0.9, 0.98), eps=1e-9)"
   ]
  },
  {
   "cell_type": "code",
   "execution_count": 26,
   "id": "e5c7217e",
   "metadata": {},
   "outputs": [],
   "source": [
    "class WarmUpCosineAnnealingLR(_LRScheduler):\n",
    "    def __init__(self, optimizer, T_max, T_warmup, eta_min=0, last_epoch=-1):\n",
    "        self.T_max = T_max\n",
    "        self.T_warmup = T_warmup\n",
    "        self.eta_min = eta_min\n",
    "        super(WarmUpCosineAnnealingLR, self).__init__(optimizer, last_epoch)\n",
    "\n",
    "    def get_lr(self):\n",
    "        if self.last_epoch < self.T_warmup:\n",
    "            return [base_lr * self.last_epoch / self.T_warmup for base_lr in self.base_lrs]\n",
    "        else:\n",
    "            k = 1 + math.cos(math.pi * (self.last_epoch - self.T_warmup) / (self.T_max - self.T_warmup))\n",
    "            return [self.eta_min + (base_lr - self.eta_min) * k / 2 for base_lr in self.base_lrs]"
   ]
  },
  {
   "cell_type": "code",
   "execution_count": 27,
   "id": "23b7a66e",
   "metadata": {},
   "outputs": [],
   "source": [
    "scheduler = WarmUpCosineAnnealingLR(optimizer=optimizer,\n",
    "                                            T_max=num_epochs * len(train_loader),\n",
    "                                            T_warmup=20 * len(train_loader),\n",
    "                                            eta_min=1e-6)"
   ]
  },
  {
   "cell_type": "code",
   "execution_count": 28,
   "id": "da868db6",
   "metadata": {},
   "outputs": [
    {
     "name": "stdout",
     "output_type": "stream",
     "text": [
      "epoch:1/500 average TL:0.18812114 average VL:0.18806170 epoch time:39 seconds, lr:5.00e-05\n",
      "epoch:2/500 average TL:0.18796438 average VL:0.18782972 epoch time:39 seconds, lr:1.00e-04\n",
      "epoch:3/500 average TL:0.18768741 average VL:0.18751538 epoch time:39 seconds, lr:1.50e-04\n",
      "epoch:4/500 average TL:0.18736114 average VL:0.18719172 epoch time:39 seconds, lr:2.00e-04\n",
      "epoch:5/500 average TL:0.18705995 average VL:0.18692088 epoch time:39 seconds, lr:2.50e-04\n",
      "epoch:6/500 average TL:0.18681177 average VL:0.18668576 epoch time:39 seconds, lr:3.00e-04\n",
      "epoch:7/500 average TL:0.18654765 average VL:0.18635018 epoch time:39 seconds, lr:3.50e-04\n",
      "epoch:8/500 average TL:0.18608592 average VL:0.18567064 epoch time:39 seconds, lr:4.00e-04\n",
      "epoch:9/500 average TL:0.18491288 average VL:0.18359987 epoch time:39 seconds, lr:4.50e-04\n",
      "epoch:10/500 average TL:0.18205638 average VL:0.18080555 epoch time:39 seconds, lr:5.00e-04\n",
      "epoch:11/500 average TL:0.17971043 average VL:0.17825562 epoch time:39 seconds, lr:5.50e-04\n",
      "epoch:12/500 average TL:0.17687669 average VL:0.17454787 epoch time:39 seconds, lr:6.00e-04\n",
      "epoch:13/500 average TL:0.17266300 average VL:0.16892646 epoch time:39 seconds, lr:6.50e-04\n",
      "epoch:14/500 average TL:0.16679645 average VL:0.16143857 epoch time:39 seconds, lr:7.00e-04\n",
      "epoch:15/500 average TL:0.15964687 average VL:0.15296581 epoch time:38 seconds, lr:7.50e-04\n",
      "epoch:16/500 average TL:0.15092543 average VL:0.14233464 epoch time:39 seconds, lr:8.00e-04\n",
      "epoch:17/500 average TL:0.13940349 average VL:0.12935971 epoch time:39 seconds, lr:8.50e-04\n",
      "epoch:18/500 average TL:0.12691674 average VL:0.11938012 epoch time:39 seconds, lr:9.00e-04\n",
      "epoch:19/500 average TL:0.11880584 average VL:0.11546711 epoch time:38 seconds, lr:9.50e-04\n",
      "epoch:20/500 average TL:0.11556338 average VL:0.11355591 epoch time:39 seconds, lr:1.00e-03\n",
      "epoch:21/500 average TL:0.11331868 average VL:0.11138441 epoch time:39 seconds, lr:1.00e-03\n",
      "epoch:22/500 average TL:0.11152230 average VL:0.10929598 epoch time:39 seconds, lr:1.00e-03\n",
      "epoch:23/500 average TL:0.10918947 average VL:0.10628843 epoch time:39 seconds, lr:1.00e-03\n",
      "epoch:24/500 average TL:0.10598244 average VL:0.10237005 epoch time:39 seconds, lr:1.00e-03\n",
      "epoch:25/500 average TL:0.10190962 average VL:0.09752357 epoch time:39 seconds, lr:1.00e-03\n",
      "epoch:26/500 average TL:0.09726894 average VL:0.09291737 epoch time:39 seconds, lr:1.00e-03\n",
      "epoch:27/500 average TL:0.09317290 average VL:0.08855369 epoch time:39 seconds, lr:9.99e-04\n",
      "epoch:28/500 average TL:0.08931011 average VL:0.08478966 epoch time:38 seconds, lr:9.99e-04\n",
      "epoch:29/500 average TL:0.08579595 average VL:0.08119135 epoch time:39 seconds, lr:9.99e-04\n",
      "epoch:30/500 average TL:0.08274326 average VL:0.07957458 epoch time:39 seconds, lr:9.99e-04\n",
      "epoch:31/500 average TL:0.07990294 average VL:0.07542708 epoch time:39 seconds, lr:9.99e-04\n",
      "epoch:32/500 average TL:0.07635652 average VL:0.07236506 epoch time:39 seconds, lr:9.98e-04\n",
      "epoch:33/500 average TL:0.07318952 average VL:0.06866799 epoch time:39 seconds, lr:9.98e-04\n",
      "epoch:34/500 average TL:0.06984731 average VL:0.06467109 epoch time:38 seconds, lr:9.98e-04\n",
      "epoch:35/500 average TL:0.06693844 average VL:0.06316666 epoch time:39 seconds, lr:9.98e-04\n",
      "epoch:36/500 average TL:0.06369906 average VL:0.06032750 epoch time:39 seconds, lr:9.97e-04\n",
      "epoch:37/500 average TL:0.06171433 average VL:0.05834883 epoch time:39 seconds, lr:9.97e-04\n",
      "epoch:38/500 average TL:0.05950218 average VL:0.05589695 epoch time:39 seconds, lr:9.97e-04\n",
      "epoch:39/500 average TL:0.05732483 average VL:0.05386703 epoch time:39 seconds, lr:9.96e-04\n",
      "epoch:40/500 average TL:0.05627846 average VL:0.05326998 epoch time:38 seconds, lr:9.96e-04\n",
      "epoch:41/500 average TL:0.05509019 average VL:0.05182597 epoch time:39 seconds, lr:9.95e-04\n",
      "epoch:42/500 average TL:0.05393704 average VL:0.05043918 epoch time:39 seconds, lr:9.95e-04\n",
      "epoch:43/500 average TL:0.05238388 average VL:0.04878482 epoch time:39 seconds, lr:9.94e-04\n",
      "epoch:44/500 average TL:0.05128627 average VL:0.04995643 epoch time:39 seconds, lr:9.94e-04\n",
      "epoch:45/500 average TL:0.05051634 average VL:0.04740707 epoch time:39 seconds, lr:9.93e-04\n",
      "epoch:46/500 average TL:0.04956483 average VL:0.04673792 epoch time:39 seconds, lr:9.93e-04\n",
      "epoch:47/500 average TL:0.04852536 average VL:0.04592944 epoch time:39 seconds, lr:9.92e-04\n",
      "epoch:48/500 average TL:0.04808802 average VL:0.04438806 epoch time:38 seconds, lr:9.92e-04\n",
      "epoch:49/500 average TL:0.04666408 average VL:0.04434111 epoch time:38 seconds, lr:9.91e-04\n",
      "epoch:50/500 average TL:0.04612515 average VL:0.04355251 epoch time:38 seconds, lr:9.90e-04\n",
      "epoch:51/500 average TL:0.04558456 average VL:0.04195597 epoch time:38 seconds, lr:9.90e-04\n",
      "epoch:52/500 average TL:0.04464618 average VL:0.04138659 epoch time:38 seconds, lr:9.89e-04\n",
      "epoch:53/500 average TL:0.04407436 average VL:0.04093460 epoch time:38 seconds, lr:9.88e-04\n",
      "epoch:54/500 average TL:0.04358500 average VL:0.04046425 epoch time:38 seconds, lr:9.88e-04\n",
      "epoch:55/500 average TL:0.04242155 average VL:0.03976645 epoch time:38 seconds, lr:9.87e-04\n",
      "epoch:56/500 average TL:0.04201619 average VL:0.03856308 epoch time:38 seconds, lr:9.86e-04\n",
      "epoch:57/500 average TL:0.04153287 average VL:0.03941677 epoch time:38 seconds, lr:9.85e-04\n",
      "epoch:58/500 average TL:0.04104837 average VL:0.03855035 epoch time:38 seconds, lr:9.85e-04\n",
      "epoch:59/500 average TL:0.04055196 average VL:0.03704051 epoch time:38 seconds, lr:9.84e-04\n",
      "epoch:60/500 average TL:0.03945842 average VL:0.03674239 epoch time:38 seconds, lr:9.83e-04\n",
      "epoch:61/500 average TL:0.03882763 average VL:0.03624665 epoch time:38 seconds, lr:9.82e-04\n",
      "epoch:62/500 average TL:0.03840875 average VL:0.03501498 epoch time:38 seconds, lr:9.81e-04\n",
      "epoch:63/500 average TL:0.03833119 average VL:0.03525644 epoch time:38 seconds, lr:9.80e-04\n",
      "epoch:64/500 average TL:0.03761159 average VL:0.03471911 epoch time:38 seconds, lr:9.79e-04\n",
      "epoch:65/500 average TL:0.03691484 average VL:0.03427376 epoch time:38 seconds, lr:9.78e-04\n",
      "epoch:66/500 average TL:0.03678688 average VL:0.03407130 epoch time:38 seconds, lr:9.78e-04\n",
      "epoch:67/500 average TL:0.03668537 average VL:0.03319470 epoch time:38 seconds, lr:9.77e-04\n",
      "epoch:68/500 average TL:0.03586949 average VL:0.03341446 epoch time:43 seconds, lr:9.76e-04\n",
      "epoch:69/500 average TL:0.03534224 average VL:0.03265416 epoch time:52 seconds, lr:9.75e-04\n",
      "epoch:70/500 average TL:0.03488860 average VL:0.03304945 epoch time:53 seconds, lr:9.73e-04\n",
      "epoch:71/500 average TL:0.03479840 average VL:0.03251939 epoch time:53 seconds, lr:9.72e-04\n",
      "epoch:72/500 average TL:0.03394597 average VL:0.03244182 epoch time:53 seconds, lr:9.71e-04\n",
      "epoch:73/500 average TL:0.03445492 average VL:0.03286514 epoch time:42 seconds, lr:9.70e-04\n",
      "epoch:74/500 average TL:0.03357359 average VL:0.03120970 epoch time:38 seconds, lr:9.69e-04\n",
      "epoch:75/500 average TL:0.03342821 average VL:0.03109670 epoch time:38 seconds, lr:9.68e-04\n",
      "epoch:76/500 average TL:0.03319497 average VL:0.03072568 epoch time:38 seconds, lr:9.67e-04\n",
      "epoch:77/500 average TL:0.03328562 average VL:0.02992187 epoch time:38 seconds, lr:9.66e-04\n",
      "epoch:78/500 average TL:0.03224164 average VL:0.03001159 epoch time:38 seconds, lr:9.64e-04\n",
      "epoch:79/500 average TL:0.03147121 average VL:0.02882686 epoch time:38 seconds, lr:9.63e-04\n",
      "epoch:80/500 average TL:0.03134362 average VL:0.02887407 epoch time:38 seconds, lr:9.62e-04\n",
      "epoch:81/500 average TL:0.03080795 average VL:0.02870173 epoch time:38 seconds, lr:9.61e-04\n",
      "epoch:82/500 average TL:0.03139917 average VL:0.02846292 epoch time:38 seconds, lr:9.59e-04\n",
      "epoch:83/500 average TL:0.03109934 average VL:0.02835663 epoch time:38 seconds, lr:9.58e-04\n",
      "epoch:84/500 average TL:0.03060502 average VL:0.02829544 epoch time:38 seconds, lr:9.57e-04\n",
      "epoch:85/500 average TL:0.02995011 average VL:0.02708770 epoch time:38 seconds, lr:9.55e-04\n",
      "epoch:86/500 average TL:0.02941268 average VL:0.02764187 epoch time:38 seconds, lr:9.54e-04\n",
      "epoch:87/500 average TL:0.02947906 average VL:0.02715977 epoch time:38 seconds, lr:9.53e-04\n",
      "epoch:88/500 average TL:0.02936274 average VL:0.02609268 epoch time:38 seconds, lr:9.51e-04\n",
      "epoch:89/500 average TL:0.02855394 average VL:0.02693804 epoch time:41 seconds, lr:9.50e-04\n",
      "epoch:90/500 average TL:0.02847566 average VL:0.02623024 epoch time:45 seconds, lr:9.48e-04\n"
     ]
    },
    {
     "name": "stdout",
     "output_type": "stream",
     "text": [
      "epoch:91/500 average TL:0.02813185 average VL:0.02619644 epoch time:38 seconds, lr:9.47e-04\n",
      "epoch:92/500 average TL:0.02796520 average VL:0.02528113 epoch time:38 seconds, lr:9.46e-04\n",
      "epoch:93/500 average TL:0.02739069 average VL:0.02478138 epoch time:38 seconds, lr:9.44e-04\n",
      "epoch:94/500 average TL:0.02692705 average VL:0.02456878 epoch time:38 seconds, lr:9.43e-04\n",
      "epoch:95/500 average TL:0.02611155 average VL:0.02424762 epoch time:38 seconds, lr:9.41e-04\n",
      "epoch:96/500 average TL:0.02563600 average VL:0.02354407 epoch time:40 seconds, lr:9.39e-04\n",
      "epoch:97/500 average TL:0.02521593 average VL:0.02276280 epoch time:41 seconds, lr:9.38e-04\n",
      "epoch:98/500 average TL:0.02502514 average VL:0.02272600 epoch time:38 seconds, lr:9.36e-04\n",
      "epoch:99/500 average TL:0.02448759 average VL:0.02238756 epoch time:38 seconds, lr:9.35e-04\n",
      "epoch:100/500 average TL:0.02421843 average VL:0.02083487 epoch time:38 seconds, lr:9.33e-04\n",
      "epoch:101/500 average TL:0.02388810 average VL:0.02172737 epoch time:38 seconds, lr:9.31e-04\n",
      "epoch:102/500 average TL:0.02365522 average VL:0.02067573 epoch time:38 seconds, lr:9.30e-04\n",
      "epoch:103/500 average TL:0.02325494 average VL:0.02100687 epoch time:38 seconds, lr:9.28e-04\n",
      "epoch:104/500 average TL:0.02307795 average VL:0.02065980 epoch time:44 seconds, lr:9.26e-04\n",
      "epoch:105/500 average TL:0.02242307 average VL:0.01988909 epoch time:38 seconds, lr:9.25e-04\n",
      "epoch:106/500 average TL:0.02216391 average VL:0.01954409 epoch time:38 seconds, lr:9.23e-04\n",
      "epoch:107/500 average TL:0.02143000 average VL:0.01965646 epoch time:38 seconds, lr:9.21e-04\n",
      "epoch:108/500 average TL:0.02171078 average VL:0.02018755 epoch time:38 seconds, lr:9.19e-04\n",
      "epoch:109/500 average TL:0.02138054 average VL:0.01888212 epoch time:38 seconds, lr:9.18e-04\n",
      "epoch:110/500 average TL:0.02124436 average VL:0.01900749 epoch time:38 seconds, lr:9.16e-04\n",
      "epoch:111/500 average TL:0.02096461 average VL:0.01852800 epoch time:38 seconds, lr:9.14e-04\n",
      "epoch:112/500 average TL:0.02118283 average VL:0.01880530 epoch time:38 seconds, lr:9.12e-04\n",
      "epoch:113/500 average TL:0.02060949 average VL:0.01893665 epoch time:38 seconds, lr:9.10e-04\n",
      "epoch:114/500 average TL:0.02089866 average VL:0.01883335 epoch time:42 seconds, lr:9.08e-04\n",
      "epoch:115/500 average TL:0.02056346 average VL:0.01837879 epoch time:38 seconds, lr:9.07e-04\n",
      "epoch:116/500 average TL:0.02005726 average VL:0.01831018 epoch time:38 seconds, lr:9.05e-04\n",
      "epoch:117/500 average TL:0.01981430 average VL:0.01760256 epoch time:38 seconds, lr:9.03e-04\n",
      "epoch:118/500 average TL:0.02017221 average VL:0.01801207 epoch time:38 seconds, lr:9.01e-04\n",
      "epoch:119/500 average TL:0.01994219 average VL:0.01728885 epoch time:38 seconds, lr:8.99e-04\n",
      "epoch:120/500 average TL:0.01963672 average VL:0.01752756 epoch time:38 seconds, lr:8.97e-04\n",
      "epoch:121/500 average TL:0.01966165 average VL:0.01750778 epoch time:38 seconds, lr:8.95e-04\n",
      "epoch:122/500 average TL:0.01959084 average VL:0.01709591 epoch time:40 seconds, lr:8.93e-04\n",
      "epoch:123/500 average TL:0.01944554 average VL:0.01708148 epoch time:42 seconds, lr:8.91e-04\n",
      "epoch:124/500 average TL:0.01903082 average VL:0.01860988 epoch time:38 seconds, lr:8.89e-04\n",
      "epoch:125/500 average TL:0.01927488 average VL:0.01685758 epoch time:38 seconds, lr:8.87e-04\n",
      "epoch:126/500 average TL:0.01891680 average VL:0.01683939 epoch time:38 seconds, lr:8.85e-04\n",
      "epoch:127/500 average TL:0.01903138 average VL:0.01682307 epoch time:38 seconds, lr:8.82e-04\n",
      "epoch:128/500 average TL:0.01891370 average VL:0.01760743 epoch time:38 seconds, lr:8.80e-04\n",
      "epoch:129/500 average TL:0.01887800 average VL:0.01698910 epoch time:38 seconds, lr:8.78e-04\n",
      "epoch:130/500 average TL:0.01902770 average VL:0.01712129 epoch time:38 seconds, lr:8.76e-04\n",
      "epoch:131/500 average TL:0.01872310 average VL:0.01678868 epoch time:38 seconds, lr:8.74e-04\n",
      "epoch:132/500 average TL:0.01833232 average VL:0.01648703 epoch time:38 seconds, lr:8.72e-04\n",
      "epoch:133/500 average TL:0.01884175 average VL:0.01687441 epoch time:38 seconds, lr:8.70e-04\n",
      "epoch:134/500 average TL:0.01860709 average VL:0.01675294 epoch time:38 seconds, lr:8.67e-04\n",
      "epoch:135/500 average TL:0.01889910 average VL:0.01693184 epoch time:38 seconds, lr:8.65e-04\n",
      "epoch:136/500 average TL:0.01831310 average VL:0.01646637 epoch time:38 seconds, lr:8.63e-04\n",
      "epoch:137/500 average TL:0.01823984 average VL:0.01627352 epoch time:38 seconds, lr:8.61e-04\n",
      "epoch:138/500 average TL:0.01869314 average VL:0.01659625 epoch time:38 seconds, lr:8.58e-04\n",
      "epoch:139/500 average TL:0.01860974 average VL:0.01735851 epoch time:38 seconds, lr:8.56e-04\n",
      "epoch:140/500 average TL:0.01819115 average VL:0.01700678 epoch time:43 seconds, lr:8.54e-04\n",
      "epoch:141/500 average TL:0.01839152 average VL:0.01656332 epoch time:42 seconds, lr:8.51e-04\n",
      "epoch:142/500 average TL:0.01812666 average VL:0.01645767 epoch time:38 seconds, lr:8.49e-04\n",
      "epoch:143/500 average TL:0.01801929 average VL:0.01744261 epoch time:38 seconds, lr:8.47e-04\n",
      "epoch:144/500 average TL:0.01850173 average VL:0.01671917 epoch time:41 seconds, lr:8.44e-04\n",
      "epoch:145/500 average TL:0.01791045 average VL:0.01662350 epoch time:38 seconds, lr:8.42e-04\n",
      "epoch:146/500 average TL:0.01772602 average VL:0.01644667 epoch time:38 seconds, lr:8.40e-04\n",
      "epoch:147/500 average TL:0.01795509 average VL:0.01636141 epoch time:38 seconds, lr:8.37e-04\n",
      "epoch:148/500 average TL:0.01776163 average VL:0.01630838 epoch time:38 seconds, lr:8.35e-04\n",
      "epoch:149/500 average TL:0.01805430 average VL:0.01784300 epoch time:38 seconds, lr:8.32e-04\n",
      "epoch:150/500 average TL:0.01788687 average VL:0.01636781 epoch time:38 seconds, lr:8.30e-04\n",
      "epoch:151/500 average TL:0.01782205 average VL:0.01619964 epoch time:38 seconds, lr:8.27e-04\n",
      "epoch:152/500 average TL:0.01764437 average VL:0.01647622 epoch time:38 seconds, lr:8.25e-04\n",
      "epoch:153/500 average TL:0.01745274 average VL:0.01663703 epoch time:38 seconds, lr:8.22e-04\n",
      "epoch:154/500 average TL:0.01772609 average VL:0.01604839 epoch time:38 seconds, lr:8.20e-04\n",
      "epoch:155/500 average TL:0.01764179 average VL:0.01734861 epoch time:38 seconds, lr:8.17e-04\n",
      "epoch:156/500 average TL:0.01789881 average VL:0.01657015 epoch time:42 seconds, lr:8.15e-04\n",
      "epoch:157/500 average TL:0.01773314 average VL:0.01620178 epoch time:43 seconds, lr:8.12e-04\n",
      "epoch:158/500 average TL:0.01730836 average VL:0.01588773 epoch time:38 seconds, lr:8.10e-04\n",
      "epoch:159/500 average TL:0.01764162 average VL:0.01603698 epoch time:38 seconds, lr:8.07e-04\n",
      "epoch:160/500 average TL:0.01754204 average VL:0.01638505 epoch time:38 seconds, lr:8.05e-04\n",
      "epoch:161/500 average TL:0.01745493 average VL:0.01583818 epoch time:38 seconds, lr:8.02e-04\n",
      "epoch:162/500 average TL:0.01741097 average VL:0.01589416 epoch time:38 seconds, lr:7.99e-04\n",
      "epoch:163/500 average TL:0.01714497 average VL:0.01559195 epoch time:38 seconds, lr:7.97e-04\n",
      "epoch:164/500 average TL:0.01724284 average VL:0.01610936 epoch time:38 seconds, lr:7.94e-04\n",
      "epoch:165/500 average TL:0.01739732 average VL:0.01650407 epoch time:38 seconds, lr:7.91e-04\n",
      "epoch:166/500 average TL:0.01735333 average VL:0.01612799 epoch time:38 seconds, lr:7.89e-04\n",
      "epoch:167/500 average TL:0.01730444 average VL:0.01584098 epoch time:38 seconds, lr:7.86e-04\n",
      "epoch:168/500 average TL:0.01749379 average VL:0.01587966 epoch time:38 seconds, lr:7.83e-04\n",
      "epoch:169/500 average TL:0.01734097 average VL:0.01599624 epoch time:38 seconds, lr:7.81e-04\n",
      "epoch:170/500 average TL:0.01710804 average VL:0.01568499 epoch time:38 seconds, lr:7.78e-04\n",
      "epoch:171/500 average TL:0.01693416 average VL:0.01620334 epoch time:38 seconds, lr:7.75e-04\n",
      "epoch:172/500 average TL:0.01709260 average VL:0.01620077 epoch time:38 seconds, lr:7.73e-04\n",
      "epoch:173/500 average TL:0.01706162 average VL:0.01589223 epoch time:38 seconds, lr:7.70e-04\n",
      "epoch:174/500 average TL:0.01730083 average VL:0.01563798 epoch time:38 seconds, lr:7.67e-04\n",
      "epoch:175/500 average TL:0.01700095 average VL:0.01590927 epoch time:38 seconds, lr:7.64e-04\n",
      "epoch:176/500 average TL:0.01728506 average VL:0.01582736 epoch time:38 seconds, lr:7.61e-04\n",
      "epoch:177/500 average TL:0.01727924 average VL:0.01601660 epoch time:38 seconds, lr:7.59e-04\n",
      "epoch:178/500 average TL:0.01704313 average VL:0.01570008 epoch time:38 seconds, lr:7.56e-04\n",
      "epoch:179/500 average TL:0.01682497 average VL:0.01546078 epoch time:41 seconds, lr:7.53e-04\n"
     ]
    },
    {
     "name": "stdout",
     "output_type": "stream",
     "text": [
      "epoch:180/500 average TL:0.01671080 average VL:0.01537077 epoch time:46 seconds, lr:7.50e-04\n",
      "epoch:181/500 average TL:0.01673107 average VL:0.01534048 epoch time:39 seconds, lr:7.47e-04\n",
      "epoch:182/500 average TL:0.01700271 average VL:0.01568618 epoch time:38 seconds, lr:7.45e-04\n",
      "epoch:183/500 average TL:0.01704961 average VL:0.01572372 epoch time:38 seconds, lr:7.42e-04\n",
      "epoch:184/500 average TL:0.01682535 average VL:0.01633702 epoch time:38 seconds, lr:7.39e-04\n",
      "epoch:185/500 average TL:0.01682357 average VL:0.01589438 epoch time:38 seconds, lr:7.36e-04\n",
      "epoch:186/500 average TL:0.01678236 average VL:0.01570622 epoch time:38 seconds, lr:7.33e-04\n",
      "epoch:187/500 average TL:0.01720441 average VL:0.01585493 epoch time:40 seconds, lr:7.30e-04\n",
      "epoch:188/500 average TL:0.01695050 average VL:0.01557302 epoch time:38 seconds, lr:7.27e-04\n",
      "epoch:189/500 average TL:0.01652078 average VL:0.01551126 epoch time:38 seconds, lr:7.24e-04\n",
      "epoch:190/500 average TL:0.01665292 average VL:0.01589438 epoch time:42 seconds, lr:7.21e-04\n",
      "epoch:191/500 average TL:0.01683092 average VL:0.01601082 epoch time:47 seconds, lr:7.18e-04\n",
      "epoch:192/500 average TL:0.01670745 average VL:0.01602644 epoch time:38 seconds, lr:7.16e-04\n",
      "epoch:193/500 average TL:0.01663664 average VL:0.01525979 epoch time:38 seconds, lr:7.13e-04\n",
      "epoch:194/500 average TL:0.01698902 average VL:0.01597686 epoch time:38 seconds, lr:7.10e-04\n",
      "epoch:195/500 average TL:0.01663046 average VL:0.01513128 epoch time:38 seconds, lr:7.07e-04\n",
      "epoch:196/500 average TL:0.01662115 average VL:0.01592540 epoch time:38 seconds, lr:7.04e-04\n",
      "epoch:197/500 average TL:0.01668654 average VL:0.01579381 epoch time:38 seconds, lr:7.01e-04\n",
      "epoch:198/500 average TL:0.01688020 average VL:0.01566686 epoch time:38 seconds, lr:6.98e-04\n",
      "epoch:199/500 average TL:0.01685565 average VL:0.01575805 epoch time:45 seconds, lr:6.95e-04\n",
      "epoch:200/500 average TL:0.01648732 average VL:0.01528933 epoch time:38 seconds, lr:6.92e-04\n",
      "epoch:201/500 average TL:0.01671381 average VL:0.01554364 epoch time:38 seconds, lr:6.89e-04\n",
      "epoch:202/500 average TL:0.01664850 average VL:0.01516645 epoch time:38 seconds, lr:6.86e-04\n",
      "epoch:203/500 average TL:0.01678834 average VL:0.01531853 epoch time:38 seconds, lr:6.83e-04\n",
      "epoch:204/500 average TL:0.01667180 average VL:0.01606388 epoch time:38 seconds, lr:6.80e-04\n",
      "epoch:205/500 average TL:0.01673624 average VL:0.01542775 epoch time:38 seconds, lr:6.76e-04\n",
      "epoch:206/500 average TL:0.01658964 average VL:0.01603769 epoch time:38 seconds, lr:6.73e-04\n",
      "epoch:207/500 average TL:0.01661463 average VL:0.01536875 epoch time:38 seconds, lr:6.70e-04\n",
      "epoch:208/500 average TL:0.01630880 average VL:0.01540163 epoch time:38 seconds, lr:6.67e-04\n",
      "epoch:209/500 average TL:0.01644711 average VL:0.01548478 epoch time:38 seconds, lr:6.64e-04\n",
      "epoch:210/500 average TL:0.01620451 average VL:0.01549996 epoch time:38 seconds, lr:6.61e-04\n",
      "epoch:211/500 average TL:0.01635246 average VL:0.01540686 epoch time:38 seconds, lr:6.58e-04\n",
      "epoch:212/500 average TL:0.01638454 average VL:0.01548904 epoch time:38 seconds, lr:6.55e-04\n",
      "epoch:213/500 average TL:0.01621678 average VL:0.01546752 epoch time:38 seconds, lr:6.52e-04\n",
      "epoch:214/500 average TL:0.01644073 average VL:0.01540955 epoch time:38 seconds, lr:6.49e-04\n",
      "epoch:215/500 average TL:0.01636171 average VL:0.01552712 epoch time:38 seconds, lr:6.45e-04\n",
      "epoch:216/500 average TL:0.01617734 average VL:0.01537357 epoch time:38 seconds, lr:6.42e-04\n",
      "epoch:217/500 average TL:0.01652696 average VL:0.01584618 epoch time:38 seconds, lr:6.39e-04\n",
      "epoch:218/500 average TL:0.01642898 average VL:0.01539454 epoch time:38 seconds, lr:6.36e-04\n",
      "epoch:219/500 average TL:0.01637522 average VL:0.01514631 epoch time:38 seconds, lr:6.33e-04\n",
      "epoch:220/500 average TL:0.01648884 average VL:0.01502971 epoch time:39 seconds, lr:6.30e-04\n",
      "epoch:221/500 average TL:0.01655999 average VL:0.01556719 epoch time:38 seconds, lr:6.27e-04\n",
      "epoch:222/500 average TL:0.01636855 average VL:0.01556288 epoch time:38 seconds, lr:6.23e-04\n",
      "epoch:223/500 average TL:0.01614974 average VL:0.01541507 epoch time:38 seconds, lr:6.20e-04\n",
      "epoch:224/500 average TL:0.01610377 average VL:0.01603515 epoch time:38 seconds, lr:6.17e-04\n",
      "epoch:225/500 average TL:0.01617056 average VL:0.01484345 epoch time:38 seconds, lr:6.14e-04\n",
      "epoch:226/500 average TL:0.01622688 average VL:0.01525338 epoch time:38 seconds, lr:6.11e-04\n",
      "epoch:227/500 average TL:0.01621141 average VL:0.01546241 epoch time:38 seconds, lr:6.08e-04\n",
      "epoch:228/500 average TL:0.01598382 average VL:0.01545147 epoch time:38 seconds, lr:6.04e-04\n",
      "epoch:229/500 average TL:0.01635843 average VL:0.01546222 epoch time:38 seconds, lr:6.01e-04\n",
      "epoch:230/500 average TL:0.01637082 average VL:0.01496318 epoch time:38 seconds, lr:5.98e-04\n",
      "epoch:231/500 average TL:0.01616350 average VL:0.01493990 epoch time:38 seconds, lr:5.95e-04\n",
      "epoch:232/500 average TL:0.01611166 average VL:0.01526829 epoch time:38 seconds, lr:5.92e-04\n",
      "epoch:233/500 average TL:0.01598789 average VL:0.01505908 epoch time:38 seconds, lr:5.88e-04\n",
      "epoch:234/500 average TL:0.01590342 average VL:0.01504771 epoch time:38 seconds, lr:5.85e-04\n",
      "epoch:235/500 average TL:0.01604024 average VL:0.01510106 epoch time:38 seconds, lr:5.82e-04\n",
      "epoch:236/500 average TL:0.01595678 average VL:0.01501563 epoch time:38 seconds, lr:5.79e-04\n",
      "epoch:237/500 average TL:0.01608710 average VL:0.01514674 epoch time:38 seconds, lr:5.75e-04\n",
      "epoch:238/500 average TL:0.01627653 average VL:0.01550229 epoch time:38 seconds, lr:5.72e-04\n",
      "epoch:239/500 average TL:0.01643227 average VL:0.01570054 epoch time:38 seconds, lr:5.69e-04\n",
      "epoch:240/500 average TL:0.01630796 average VL:0.01527237 epoch time:38 seconds, lr:5.66e-04\n",
      "epoch:241/500 average TL:0.01604443 average VL:0.01495305 epoch time:38 seconds, lr:5.62e-04\n",
      "epoch:242/500 average TL:0.01598385 average VL:0.01532088 epoch time:38 seconds, lr:5.59e-04\n",
      "epoch:243/500 average TL:0.01599525 average VL:0.01528971 epoch time:38 seconds, lr:5.56e-04\n",
      "epoch:244/500 average TL:0.01618560 average VL:0.01468199 epoch time:38 seconds, lr:5.53e-04\n",
      "epoch:245/500 average TL:0.01613487 average VL:0.01513251 epoch time:38 seconds, lr:5.49e-04\n",
      "epoch:246/500 average TL:0.01618044 average VL:0.01522343 epoch time:38 seconds, lr:5.46e-04\n",
      "epoch:247/500 average TL:0.01593798 average VL:0.01522343 epoch time:38 seconds, lr:5.43e-04\n",
      "epoch:248/500 average TL:0.01589315 average VL:0.01465247 epoch time:38 seconds, lr:5.40e-04\n",
      "epoch:249/500 average TL:0.01585851 average VL:0.01528628 epoch time:38 seconds, lr:5.36e-04\n",
      "epoch:250/500 average TL:0.01600944 average VL:0.01475555 epoch time:38 seconds, lr:5.33e-04\n",
      "epoch:251/500 average TL:0.01600042 average VL:0.01527371 epoch time:38 seconds, lr:5.30e-04\n",
      "epoch:252/500 average TL:0.01604965 average VL:0.01555918 epoch time:38 seconds, lr:5.27e-04\n",
      "epoch:253/500 average TL:0.01614140 average VL:0.01518892 epoch time:38 seconds, lr:5.23e-04\n",
      "epoch:254/500 average TL:0.01583031 average VL:0.01543662 epoch time:38 seconds, lr:5.20e-04\n",
      "epoch:255/500 average TL:0.01630677 average VL:0.01510682 epoch time:38 seconds, lr:5.17e-04\n",
      "epoch:256/500 average TL:0.01603892 average VL:0.01536608 epoch time:38 seconds, lr:5.14e-04\n",
      "epoch:257/500 average TL:0.01579007 average VL:0.01547306 epoch time:38 seconds, lr:5.10e-04\n",
      "epoch:258/500 average TL:0.01601336 average VL:0.01526245 epoch time:38 seconds, lr:5.07e-04\n",
      "epoch:259/500 average TL:0.01583429 average VL:0.01527139 epoch time:38 seconds, lr:5.04e-04\n",
      "epoch:260/500 average TL:0.01615503 average VL:0.01510699 epoch time:38 seconds, lr:5.01e-04\n",
      "epoch:261/500 average TL:0.01571013 average VL:0.01468387 epoch time:38 seconds, lr:4.97e-04\n",
      "epoch:262/500 average TL:0.01587486 average VL:0.01473276 epoch time:38 seconds, lr:4.94e-04\n",
      "epoch:263/500 average TL:0.01579981 average VL:0.01505528 epoch time:38 seconds, lr:4.91e-04\n",
      "epoch:264/500 average TL:0.01575649 average VL:0.01481086 epoch time:38 seconds, lr:4.87e-04\n",
      "epoch:265/500 average TL:0.01595989 average VL:0.01455557 epoch time:38 seconds, lr:4.84e-04\n",
      "epoch:266/500 average TL:0.01577538 average VL:0.01502404 epoch time:38 seconds, lr:4.81e-04\n",
      "epoch:267/500 average TL:0.01588908 average VL:0.01555142 epoch time:38 seconds, lr:4.78e-04\n",
      "epoch:268/500 average TL:0.01582625 average VL:0.01510645 epoch time:38 seconds, lr:4.74e-04\n"
     ]
    },
    {
     "name": "stdout",
     "output_type": "stream",
     "text": [
      "epoch:269/500 average TL:0.01601448 average VL:0.01489077 epoch time:38 seconds, lr:4.71e-04\n",
      "epoch:270/500 average TL:0.01587197 average VL:0.01491314 epoch time:38 seconds, lr:4.68e-04\n",
      "epoch:271/500 average TL:0.01565691 average VL:0.01502600 epoch time:38 seconds, lr:4.65e-04\n",
      "epoch:272/500 average TL:0.01572766 average VL:0.01487611 epoch time:38 seconds, lr:4.61e-04\n",
      "epoch:273/500 average TL:0.01596034 average VL:0.01521843 epoch time:38 seconds, lr:4.58e-04\n",
      "epoch:274/500 average TL:0.01597764 average VL:0.01526977 epoch time:40 seconds, lr:4.55e-04\n",
      "epoch:275/500 average TL:0.01573729 average VL:0.01455128 epoch time:38 seconds, lr:4.52e-04\n",
      "epoch:276/500 average TL:0.01549591 average VL:0.01531758 epoch time:38 seconds, lr:4.48e-04\n",
      "epoch:277/500 average TL:0.01571592 average VL:0.01516754 epoch time:38 seconds, lr:4.45e-04\n",
      "epoch:278/500 average TL:0.01568534 average VL:0.01491184 epoch time:38 seconds, lr:4.42e-04\n",
      "epoch:279/500 average TL:0.01597175 average VL:0.01479950 epoch time:38 seconds, lr:4.39e-04\n",
      "epoch:280/500 average TL:0.01555075 average VL:0.01463836 epoch time:38 seconds, lr:4.35e-04\n",
      "epoch:281/500 average TL:0.01596319 average VL:0.01509472 epoch time:38 seconds, lr:4.32e-04\n",
      "epoch:282/500 average TL:0.01599787 average VL:0.01603990 epoch time:38 seconds, lr:4.29e-04\n",
      "epoch:283/500 average TL:0.01561019 average VL:0.01523450 epoch time:38 seconds, lr:4.26e-04\n",
      "epoch:284/500 average TL:0.01571102 average VL:0.01502461 epoch time:38 seconds, lr:4.22e-04\n",
      "epoch:285/500 average TL:0.01558760 average VL:0.01542749 epoch time:38 seconds, lr:4.19e-04\n",
      "epoch:286/500 average TL:0.01590387 average VL:0.01480435 epoch time:38 seconds, lr:4.16e-04\n",
      "epoch:287/500 average TL:0.01583062 average VL:0.01490230 epoch time:41 seconds, lr:4.13e-04\n",
      "epoch:288/500 average TL:0.01555541 average VL:0.01479817 epoch time:38 seconds, lr:4.09e-04\n",
      "epoch:289/500 average TL:0.01565795 average VL:0.01505202 epoch time:38 seconds, lr:4.06e-04\n",
      "epoch:290/500 average TL:0.01561006 average VL:0.01467550 epoch time:38 seconds, lr:4.03e-04\n",
      "epoch:291/500 average TL:0.01577526 average VL:0.01479022 epoch time:45 seconds, lr:4.00e-04\n",
      "epoch:292/500 average TL:0.01546633 average VL:0.01502571 epoch time:42 seconds, lr:3.97e-04\n",
      "epoch:293/500 average TL:0.01561356 average VL:0.01481659 epoch time:49 seconds, lr:3.93e-04\n",
      "epoch:294/500 average TL:0.01571225 average VL:0.01480190 epoch time:38 seconds, lr:3.90e-04\n",
      "epoch:295/500 average TL:0.01580849 average VL:0.01509976 epoch time:38 seconds, lr:3.87e-04\n",
      "epoch:296/500 average TL:0.01569221 average VL:0.01460572 epoch time:38 seconds, lr:3.84e-04\n",
      "epoch:297/500 average TL:0.01574599 average VL:0.01485881 epoch time:44 seconds, lr:3.81e-04\n",
      "epoch:298/500 average TL:0.01555783 average VL:0.01457405 epoch time:38 seconds, lr:3.78e-04\n",
      "epoch:299/500 average TL:0.01534034 average VL:0.01487575 epoch time:38 seconds, lr:3.74e-04\n",
      "epoch:300/500 average TL:0.01550410 average VL:0.01440729 epoch time:38 seconds, lr:3.71e-04\n",
      "epoch:301/500 average TL:0.01549267 average VL:0.01478888 epoch time:38 seconds, lr:3.68e-04\n",
      "epoch:302/500 average TL:0.01548037 average VL:0.01495599 epoch time:38 seconds, lr:3.65e-04\n",
      "epoch:303/500 average TL:0.01562449 average VL:0.01465020 epoch time:38 seconds, lr:3.62e-04\n",
      "epoch:304/500 average TL:0.01560853 average VL:0.01462850 epoch time:38 seconds, lr:3.59e-04\n",
      "epoch:305/500 average TL:0.01542362 average VL:0.01514634 epoch time:38 seconds, lr:3.56e-04\n",
      "epoch:306/500 average TL:0.01540199 average VL:0.01498809 epoch time:38 seconds, lr:3.52e-04\n",
      "epoch:307/500 average TL:0.01570174 average VL:0.01493797 epoch time:38 seconds, lr:3.49e-04\n",
      "epoch:308/500 average TL:0.01557510 average VL:0.01477651 epoch time:38 seconds, lr:3.46e-04\n",
      "epoch:309/500 average TL:0.01546707 average VL:0.01446659 epoch time:38 seconds, lr:3.43e-04\n",
      "epoch:310/500 average TL:0.01562524 average VL:0.01469498 epoch time:38 seconds, lr:3.40e-04\n",
      "epoch:311/500 average TL:0.01557933 average VL:0.01481971 epoch time:38 seconds, lr:3.37e-04\n",
      "epoch:312/500 average TL:0.01541963 average VL:0.01530282 epoch time:38 seconds, lr:3.34e-04\n",
      "epoch:313/500 average TL:0.01554944 average VL:0.01453202 epoch time:38 seconds, lr:3.31e-04\n",
      "epoch:314/500 average TL:0.01562247 average VL:0.01510477 epoch time:38 seconds, lr:3.28e-04\n",
      "epoch:315/500 average TL:0.01560942 average VL:0.01494246 epoch time:38 seconds, lr:3.25e-04\n",
      "epoch:316/500 average TL:0.01542169 average VL:0.01487465 epoch time:38 seconds, lr:3.21e-04\n",
      "epoch:317/500 average TL:0.01563719 average VL:0.01506589 epoch time:38 seconds, lr:3.18e-04\n",
      "epoch:318/500 average TL:0.01546796 average VL:0.01555675 epoch time:38 seconds, lr:3.15e-04\n",
      "epoch:319/500 average TL:0.01562454 average VL:0.01498316 epoch time:38 seconds, lr:3.12e-04\n",
      "epoch:320/500 average TL:0.01545127 average VL:0.01452886 epoch time:38 seconds, lr:3.09e-04\n",
      "epoch:321/500 average TL:0.01569129 average VL:0.01483784 epoch time:38 seconds, lr:3.06e-04\n",
      "epoch:322/500 average TL:0.01530419 average VL:0.01480507 epoch time:38 seconds, lr:3.03e-04\n",
      "epoch:323/500 average TL:0.01545637 average VL:0.01443873 epoch time:38 seconds, lr:3.00e-04\n",
      "epoch:324/500 average TL:0.01542397 average VL:0.01505024 epoch time:41 seconds, lr:2.97e-04\n",
      "epoch:325/500 average TL:0.01555213 average VL:0.01496548 epoch time:38 seconds, lr:2.94e-04\n",
      "epoch:326/500 average TL:0.01509913 average VL:0.01514279 epoch time:38 seconds, lr:2.91e-04\n",
      "epoch:327/500 average TL:0.01526462 average VL:0.01476821 epoch time:38 seconds, lr:2.88e-04\n",
      "epoch:328/500 average TL:0.01533691 average VL:0.01502485 epoch time:38 seconds, lr:2.85e-04\n",
      "epoch:329/500 average TL:0.01560440 average VL:0.01491243 epoch time:38 seconds, lr:2.83e-04\n",
      "epoch:330/500 average TL:0.01556160 average VL:0.01515960 epoch time:38 seconds, lr:2.80e-04\n",
      "epoch:331/500 average TL:0.01545189 average VL:0.01445598 epoch time:38 seconds, lr:2.77e-04\n",
      "epoch:332/500 average TL:0.01517189 average VL:0.01478742 epoch time:38 seconds, lr:2.74e-04\n",
      "epoch:333/500 average TL:0.01555477 average VL:0.01508588 epoch time:38 seconds, lr:2.71e-04\n",
      "epoch:334/500 average TL:0.01534495 average VL:0.01501212 epoch time:38 seconds, lr:2.68e-04\n",
      "epoch:335/500 average TL:0.01542046 average VL:0.01449831 epoch time:38 seconds, lr:2.65e-04\n",
      "epoch:336/500 average TL:0.01547450 average VL:0.01509294 epoch time:38 seconds, lr:2.62e-04\n",
      "epoch:337/500 average TL:0.01545340 average VL:0.01458290 epoch time:38 seconds, lr:2.59e-04\n",
      "epoch:338/500 average TL:0.01535515 average VL:0.01448107 epoch time:38 seconds, lr:2.56e-04\n",
      "epoch:339/500 average TL:0.01537105 average VL:0.01476943 epoch time:38 seconds, lr:2.54e-04\n",
      "epoch:340/500 average TL:0.01556403 average VL:0.01460510 epoch time:38 seconds, lr:2.51e-04\n",
      "epoch:341/500 average TL:0.01545163 average VL:0.01459688 epoch time:38 seconds, lr:2.48e-04\n",
      "epoch:342/500 average TL:0.01537659 average VL:0.01464962 epoch time:38 seconds, lr:2.45e-04\n",
      "epoch:343/500 average TL:0.01556791 average VL:0.01516354 epoch time:38 seconds, lr:2.42e-04\n",
      "epoch:344/500 average TL:0.01543400 average VL:0.01494609 epoch time:38 seconds, lr:2.40e-04\n",
      "epoch:345/500 average TL:0.01537035 average VL:0.01454629 epoch time:38 seconds, lr:2.37e-04\n",
      "epoch:346/500 average TL:0.01529683 average VL:0.01471426 epoch time:38 seconds, lr:2.34e-04\n",
      "epoch:347/500 average TL:0.01548187 average VL:0.01462136 epoch time:38 seconds, lr:2.31e-04\n",
      "epoch:348/500 average TL:0.01548466 average VL:0.01472765 epoch time:38 seconds, lr:2.28e-04\n",
      "epoch:349/500 average TL:0.01564633 average VL:0.01466576 epoch time:38 seconds, lr:2.26e-04\n",
      "epoch:350/500 average TL:0.01557066 average VL:0.01493214 epoch time:38 seconds, lr:2.23e-04\n",
      "epoch:351/500 average TL:0.01548838 average VL:0.01485855 epoch time:38 seconds, lr:2.20e-04\n",
      "epoch:352/500 average TL:0.01549854 average VL:0.01474904 epoch time:38 seconds, lr:2.18e-04\n",
      "epoch:353/500 average TL:0.01536819 average VL:0.01480684 epoch time:38 seconds, lr:2.15e-04\n",
      "epoch:354/500 average TL:0.01544962 average VL:0.01489629 epoch time:38 seconds, lr:2.12e-04\n",
      "epoch:355/500 average TL:0.01524740 average VL:0.01489591 epoch time:38 seconds, lr:2.10e-04\n",
      "epoch:356/500 average TL:0.01566986 average VL:0.01480797 epoch time:40 seconds, lr:2.07e-04\n",
      "epoch:357/500 average TL:0.01548513 average VL:0.01421761 epoch time:49 seconds, lr:2.04e-04\n"
     ]
    },
    {
     "name": "stdout",
     "output_type": "stream",
     "text": [
      "epoch:358/500 average TL:0.01540144 average VL:0.01438090 epoch time:38 seconds, lr:2.02e-04\n",
      "epoch:359/500 average TL:0.01525531 average VL:0.01456238 epoch time:38 seconds, lr:1.99e-04\n",
      "epoch:360/500 average TL:0.01533042 average VL:0.01482099 epoch time:38 seconds, lr:1.96e-04\n",
      "epoch:361/500 average TL:0.01529165 average VL:0.01467687 epoch time:38 seconds, lr:1.94e-04\n",
      "epoch:362/500 average TL:0.01566228 average VL:0.01474366 epoch time:38 seconds, lr:1.91e-04\n",
      "epoch:363/500 average TL:0.01540852 average VL:0.01483257 epoch time:38 seconds, lr:1.89e-04\n",
      "epoch:364/500 average TL:0.01540090 average VL:0.01432374 epoch time:38 seconds, lr:1.86e-04\n",
      "epoch:365/500 average TL:0.01545898 average VL:0.01426840 epoch time:38 seconds, lr:1.84e-04\n",
      "epoch:366/500 average TL:0.01542631 average VL:0.01467639 epoch time:38 seconds, lr:1.81e-04\n",
      "epoch:367/500 average TL:0.01514221 average VL:0.01484553 epoch time:38 seconds, lr:1.79e-04\n",
      "epoch:368/500 average TL:0.01553894 average VL:0.01494598 epoch time:38 seconds, lr:1.76e-04\n",
      "epoch:369/500 average TL:0.01553946 average VL:0.01465649 epoch time:38 seconds, lr:1.74e-04\n",
      "epoch:370/500 average TL:0.01552070 average VL:0.01452067 epoch time:38 seconds, lr:1.71e-04\n",
      "epoch:371/500 average TL:0.01521854 average VL:0.01449871 epoch time:38 seconds, lr:1.69e-04\n",
      "epoch:372/500 average TL:0.01526811 average VL:0.01459215 epoch time:38 seconds, lr:1.66e-04\n",
      "epoch:373/500 average TL:0.01534391 average VL:0.01474886 epoch time:38 seconds, lr:1.64e-04\n",
      "epoch:374/500 average TL:0.01522705 average VL:0.01459352 epoch time:38 seconds, lr:1.61e-04\n",
      "epoch:375/500 average TL:0.01512460 average VL:0.01440525 epoch time:38 seconds, lr:1.59e-04\n",
      "epoch:376/500 average TL:0.01559289 average VL:0.01446267 epoch time:38 seconds, lr:1.57e-04\n",
      "epoch:377/500 average TL:0.01510442 average VL:0.01470124 epoch time:38 seconds, lr:1.54e-04\n",
      "epoch:378/500 average TL:0.01526021 average VL:0.01472261 epoch time:40 seconds, lr:1.52e-04\n",
      "epoch:379/500 average TL:0.01525909 average VL:0.01439414 epoch time:38 seconds, lr:1.50e-04\n",
      "epoch:380/500 average TL:0.01516300 average VL:0.01432957 epoch time:38 seconds, lr:1.47e-04\n",
      "epoch:381/500 average TL:0.01543356 average VL:0.01451401 epoch time:38 seconds, lr:1.45e-04\n",
      "epoch:382/500 average TL:0.01548563 average VL:0.01459178 epoch time:38 seconds, lr:1.43e-04\n",
      "epoch:383/500 average TL:0.01545710 average VL:0.01479593 epoch time:38 seconds, lr:1.40e-04\n",
      "epoch:384/500 average TL:0.01536645 average VL:0.01491842 epoch time:38 seconds, lr:1.38e-04\n",
      "epoch:385/500 average TL:0.01548591 average VL:0.01439999 epoch time:38 seconds, lr:1.36e-04\n",
      "epoch:386/500 average TL:0.01534939 average VL:0.01440276 epoch time:38 seconds, lr:1.34e-04\n",
      "epoch:387/500 average TL:0.01550000 average VL:0.01459328 epoch time:39 seconds, lr:1.31e-04\n",
      "epoch:388/500 average TL:0.01536569 average VL:0.01474686 epoch time:38 seconds, lr:1.29e-04\n",
      "epoch:389/500 average TL:0.01520997 average VL:0.01465539 epoch time:38 seconds, lr:1.27e-04\n",
      "epoch:390/500 average TL:0.01538837 average VL:0.01437184 epoch time:38 seconds, lr:1.25e-04\n",
      "epoch:391/500 average TL:0.01525903 average VL:0.01409027 epoch time:38 seconds, lr:1.23e-04\n",
      "epoch:392/500 average TL:0.01536623 average VL:0.01476482 epoch time:38 seconds, lr:1.21e-04\n",
      "epoch:393/500 average TL:0.01509528 average VL:0.01485074 epoch time:38 seconds, lr:1.19e-04\n",
      "epoch:394/500 average TL:0.01527068 average VL:0.01445955 epoch time:38 seconds, lr:1.16e-04\n",
      "epoch:395/500 average TL:0.01511752 average VL:0.01455874 epoch time:38 seconds, lr:1.14e-04\n",
      "epoch:396/500 average TL:0.01535131 average VL:0.01470684 epoch time:38 seconds, lr:1.12e-04\n",
      "epoch:397/500 average TL:0.01526557 average VL:0.01493734 epoch time:45 seconds, lr:1.10e-04\n",
      "epoch:398/500 average TL:0.01530126 average VL:0.01485165 epoch time:45 seconds, lr:1.08e-04\n",
      "epoch:399/500 average TL:0.01530248 average VL:0.01436736 epoch time:41 seconds, lr:1.06e-04\n",
      "epoch:400/500 average TL:0.01526971 average VL:0.01447865 epoch time:38 seconds, lr:1.04e-04\n",
      "epoch:401/500 average TL:0.01521719 average VL:0.01475502 epoch time:38 seconds, lr:1.02e-04\n",
      "epoch:402/500 average TL:0.01524086 average VL:0.01462940 epoch time:38 seconds, lr:1.00e-04\n",
      "epoch:403/500 average TL:0.01531411 average VL:0.01479701 epoch time:38 seconds, lr:9.83e-05\n",
      "epoch:404/500 average TL:0.01525183 average VL:0.01466547 epoch time:38 seconds, lr:9.64e-05\n",
      "epoch:405/500 average TL:0.01511475 average VL:0.01467087 epoch time:38 seconds, lr:9.45e-05\n",
      "epoch:406/500 average TL:0.01518059 average VL:0.01469811 epoch time:40 seconds, lr:9.26e-05\n",
      "epoch:407/500 average TL:0.01507159 average VL:0.01412490 epoch time:38 seconds, lr:9.07e-05\n",
      "epoch:408/500 average TL:0.01531107 average VL:0.01408892 epoch time:38 seconds, lr:8.88e-05\n",
      "epoch:409/500 average TL:0.01523532 average VL:0.01471310 epoch time:38 seconds, lr:8.70e-05\n",
      "epoch:410/500 average TL:0.01509989 average VL:0.01473634 epoch time:38 seconds, lr:8.52e-05\n",
      "epoch:411/500 average TL:0.01525488 average VL:0.01472940 epoch time:38 seconds, lr:8.34e-05\n",
      "epoch:412/500 average TL:0.01495707 average VL:0.01376995 epoch time:38 seconds, lr:8.16e-05\n",
      "epoch:413/500 average TL:0.01531301 average VL:0.01483643 epoch time:38 seconds, lr:7.98e-05\n",
      "epoch:414/500 average TL:0.01503984 average VL:0.01454767 epoch time:38 seconds, lr:7.81e-05\n",
      "epoch:415/500 average TL:0.01519051 average VL:0.01458269 epoch time:38 seconds, lr:7.63e-05\n",
      "epoch:416/500 average TL:0.01491533 average VL:0.01428926 epoch time:38 seconds, lr:7.46e-05\n",
      "epoch:417/500 average TL:0.01534461 average VL:0.01461277 epoch time:38 seconds, lr:7.29e-05\n",
      "epoch:418/500 average TL:0.01510106 average VL:0.01519351 epoch time:38 seconds, lr:7.12e-05\n",
      "epoch:419/500 average TL:0.01522153 average VL:0.01460167 epoch time:38 seconds, lr:6.96e-05\n",
      "epoch:420/500 average TL:0.01532371 average VL:0.01480815 epoch time:47 seconds, lr:6.79e-05\n",
      "epoch:421/500 average TL:0.01538582 average VL:0.01449022 epoch time:38 seconds, lr:6.63e-05\n",
      "epoch:422/500 average TL:0.01556924 average VL:0.01475285 epoch time:38 seconds, lr:6.47e-05\n",
      "epoch:423/500 average TL:0.01535164 average VL:0.01530416 epoch time:38 seconds, lr:6.31e-05\n",
      "epoch:424/500 average TL:0.01507173 average VL:0.01458122 epoch time:38 seconds, lr:6.15e-05\n",
      "epoch:425/500 average TL:0.01523238 average VL:0.01433041 epoch time:38 seconds, lr:6.00e-05\n",
      "epoch:426/500 average TL:0.01527913 average VL:0.01435785 epoch time:38 seconds, lr:5.84e-05\n",
      "epoch:427/500 average TL:0.01527125 average VL:0.01434280 epoch time:43 seconds, lr:5.69e-05\n",
      "epoch:428/500 average TL:0.01504094 average VL:0.01456762 epoch time:52 seconds, lr:5.54e-05\n",
      "epoch:429/500 average TL:0.01532772 average VL:0.01457165 epoch time:39 seconds, lr:5.40e-05\n",
      "epoch:430/500 average TL:0.01535297 average VL:0.01479453 epoch time:38 seconds, lr:5.25e-05\n",
      "epoch:431/500 average TL:0.01540050 average VL:0.01452756 epoch time:38 seconds, lr:5.11e-05\n",
      "epoch:432/500 average TL:0.01507756 average VL:0.01455489 epoch time:38 seconds, lr:4.97e-05\n",
      "epoch:433/500 average TL:0.01490850 average VL:0.01461543 epoch time:38 seconds, lr:4.83e-05\n",
      "epoch:434/500 average TL:0.01508894 average VL:0.01460028 epoch time:38 seconds, lr:4.69e-05\n",
      "epoch:435/500 average TL:0.01523620 average VL:0.01454151 epoch time:38 seconds, lr:4.55e-05\n",
      "epoch:436/500 average TL:0.01526041 average VL:0.01486418 epoch time:38 seconds, lr:4.42e-05\n",
      "epoch:437/500 average TL:0.01509314 average VL:0.01467843 epoch time:46 seconds, lr:4.29e-05\n",
      "epoch:438/500 average TL:0.01510192 average VL:0.01491357 epoch time:45 seconds, lr:4.16e-05\n",
      "epoch:439/500 average TL:0.01531954 average VL:0.01467255 epoch time:38 seconds, lr:4.03e-05\n",
      "epoch:440/500 average TL:0.01523372 average VL:0.01419054 epoch time:38 seconds, lr:3.90e-05\n",
      "epoch:441/500 average TL:0.01496175 average VL:0.01463625 epoch time:38 seconds, lr:3.78e-05\n",
      "epoch:442/500 average TL:0.01513825 average VL:0.01477631 epoch time:38 seconds, lr:3.66e-05\n",
      "epoch:443/500 average TL:0.01505029 average VL:0.01462351 epoch time:38 seconds, lr:3.54e-05\n",
      "epoch:444/500 average TL:0.01510871 average VL:0.01496244 epoch time:38 seconds, lr:3.42e-05\n",
      "epoch:445/500 average TL:0.01534983 average VL:0.01464458 epoch time:38 seconds, lr:3.30e-05\n",
      "epoch:446/500 average TL:0.01507321 average VL:0.01458041 epoch time:38 seconds, lr:3.19e-05\n"
     ]
    },
    {
     "name": "stdout",
     "output_type": "stream",
     "text": [
      "epoch:447/500 average TL:0.01539727 average VL:0.01481797 epoch time:38 seconds, lr:3.08e-05\n",
      "epoch:448/500 average TL:0.01520320 average VL:0.01462814 epoch time:38 seconds, lr:2.97e-05\n",
      "epoch:449/500 average TL:0.01514563 average VL:0.01421679 epoch time:38 seconds, lr:2.86e-05\n",
      "epoch:450/500 average TL:0.01521196 average VL:0.01479088 epoch time:38 seconds, lr:2.75e-05\n",
      "epoch:451/500 average TL:0.01538972 average VL:0.01435428 epoch time:38 seconds, lr:2.65e-05\n",
      "epoch:452/500 average TL:0.01499376 average VL:0.01432545 epoch time:38 seconds, lr:2.54e-05\n",
      "epoch:453/500 average TL:0.01539578 average VL:0.01445460 epoch time:38 seconds, lr:2.44e-05\n",
      "epoch:454/500 average TL:0.01508655 average VL:0.01502149 epoch time:38 seconds, lr:2.35e-05\n",
      "epoch:455/500 average TL:0.01533759 average VL:0.01468473 epoch time:38 seconds, lr:2.25e-05\n",
      "epoch:456/500 average TL:0.01509431 average VL:0.01462630 epoch time:38 seconds, lr:2.16e-05\n",
      "epoch:457/500 average TL:0.01526580 average VL:0.01457013 epoch time:38 seconds, lr:2.07e-05\n",
      "epoch:458/500 average TL:0.01479914 average VL:0.01424519 epoch time:38 seconds, lr:1.98e-05\n",
      "epoch:459/500 average TL:0.01542038 average VL:0.01435428 epoch time:38 seconds, lr:1.89e-05\n",
      "epoch:460/500 average TL:0.01537575 average VL:0.01448308 epoch time:38 seconds, lr:1.80e-05\n",
      "epoch:461/500 average TL:0.01520481 average VL:0.01487032 epoch time:38 seconds, lr:1.72e-05\n",
      "epoch:462/500 average TL:0.01527573 average VL:0.01447931 epoch time:38 seconds, lr:1.64e-05\n",
      "epoch:463/500 average TL:0.01531068 average VL:0.01459240 epoch time:38 seconds, lr:1.56e-05\n",
      "epoch:464/500 average TL:0.01517830 average VL:0.01443177 epoch time:38 seconds, lr:1.48e-05\n",
      "epoch:465/500 average TL:0.01521289 average VL:0.01465145 epoch time:38 seconds, lr:1.40e-05\n",
      "epoch:466/500 average TL:0.01510666 average VL:0.01435117 epoch time:38 seconds, lr:1.33e-05\n",
      "epoch:467/500 average TL:0.01517345 average VL:0.01442012 epoch time:38 seconds, lr:1.26e-05\n",
      "epoch:468/500 average TL:0.01525988 average VL:0.01477180 epoch time:38 seconds, lr:1.19e-05\n",
      "epoch:469/500 average TL:0.01517081 average VL:0.01448732 epoch time:38 seconds, lr:1.12e-05\n",
      "epoch:470/500 average TL:0.01501039 average VL:0.01443034 epoch time:38 seconds, lr:1.06e-05\n",
      "epoch:471/500 average TL:0.01510923 average VL:0.01467327 epoch time:38 seconds, lr:9.97e-06\n",
      "epoch:472/500 average TL:0.01516810 average VL:0.01460035 epoch time:38 seconds, lr:9.36e-06\n",
      "epoch:473/500 average TL:0.01521946 average VL:0.01475115 epoch time:38 seconds, lr:8.78e-06\n",
      "epoch:474/500 average TL:0.01528074 average VL:0.01489986 epoch time:38 seconds, lr:8.21e-06\n",
      "epoch:475/500 average TL:0.01514476 average VL:0.01466732 epoch time:38 seconds, lr:7.67e-06\n",
      "epoch:476/500 average TL:0.01524217 average VL:0.01469717 epoch time:38 seconds, lr:7.15e-06\n",
      "epoch:477/500 average TL:0.01518863 average VL:0.01444228 epoch time:38 seconds, lr:6.65e-06\n",
      "epoch:478/500 average TL:0.01521268 average VL:0.01481852 epoch time:38 seconds, lr:6.17e-06\n",
      "epoch:479/500 average TL:0.01520651 average VL:0.01472689 epoch time:38 seconds, lr:5.71e-06\n",
      "epoch:480/500 average TL:0.01530602 average VL:0.01509431 epoch time:38 seconds, lr:5.27e-06\n",
      "epoch:481/500 average TL:0.01510692 average VL:0.01478945 epoch time:38 seconds, lr:4.86e-06\n",
      "epoch:482/500 average TL:0.01507663 average VL:0.01446938 epoch time:38 seconds, lr:4.46e-06\n",
      "epoch:483/500 average TL:0.01524414 average VL:0.01447329 epoch time:38 seconds, lr:4.09e-06\n",
      "epoch:484/500 average TL:0.01520922 average VL:0.01454357 epoch time:38 seconds, lr:3.74e-06\n",
      "epoch:485/500 average TL:0.01509057 average VL:0.01464628 epoch time:38 seconds, lr:3.41e-06\n",
      "epoch:486/500 average TL:0.01503831 average VL:0.01473358 epoch time:38 seconds, lr:3.10e-06\n",
      "epoch:487/500 average TL:0.01490267 average VL:0.01445451 epoch time:38 seconds, lr:2.81e-06\n",
      "epoch:488/500 average TL:0.01517708 average VL:0.01459643 epoch time:38 seconds, lr:2.54e-06\n",
      "epoch:489/500 average TL:0.01538288 average VL:0.01491136 epoch time:38 seconds, lr:2.29e-06\n",
      "epoch:490/500 average TL:0.01526412 average VL:0.01435060 epoch time:38 seconds, lr:2.07e-06\n",
      "epoch:491/500 average TL:0.01535083 average VL:0.01448028 epoch time:38 seconds, lr:1.87e-06\n",
      "epoch:492/500 average TL:0.01523389 average VL:0.01459995 epoch time:38 seconds, lr:1.68e-06\n",
      "epoch:493/500 average TL:0.01502938 average VL:0.01505913 epoch time:38 seconds, lr:1.52e-06\n",
      "epoch:494/500 average TL:0.01509458 average VL:0.01440355 epoch time:38 seconds, lr:1.39e-06\n",
      "epoch:495/500 average TL:0.01523194 average VL:0.01454120 epoch time:38 seconds, lr:1.27e-06\n",
      "epoch:496/500 average TL:0.01490692 average VL:0.01480154 epoch time:38 seconds, lr:1.17e-06\n",
      "epoch:497/500 average TL:0.01525875 average VL:0.01481161 epoch time:38 seconds, lr:1.10e-06\n",
      "epoch:498/500 average TL:0.01508777 average VL:0.01434971 epoch time:38 seconds, lr:1.04e-06\n",
      "epoch:499/500 average TL:0.01509992 average VL:0.01468914 epoch time:38 seconds, lr:1.01e-06\n",
      "epoch:500/500 average TL:0.01506115 average VL:0.01473921 epoch time:38 seconds, lr:1.00e-06\n",
      "\n",
      "Duration: 19280 seconds\n"
     ]
    }
   ],
   "source": [
    "start_time = time.time()\n",
    "num_train_batches=len(train_loader)\n",
    "num_test_batches=len(test_loader)\n",
    "train_losses = []\n",
    "val_losses = []\n",
    "patience_counter = 0\n",
    "best_val_loss = float('inf')\n",
    "\n",
    "for i in range(num_epochs):\n",
    "    loss1 = 0\n",
    "    epoch_time = time.time()\n",
    "    model.train()\n",
    "    # Run the training batches\n",
    "    for b, (X_train, y_train) in enumerate(train_loader):  \n",
    "        optimizer.zero_grad()\n",
    "        \n",
    "        # Apply the model\n",
    "        #X_train = torch.cat([X_train, 4*torch.ones(batch_size, num_errors, dtype=torch.int).to(device)], dim=1)\n",
    "        xt=one_hot_encode(X_train, 5)\n",
    "        y_pred=model(xt)\n",
    "        #print(y_pred.shape)\n",
    "        yt=one_hot_encode(y_train, 4)\n",
    "        loss = criterion(y_pred, yt) \n",
    "        # Update parameters\n",
    "        loss.backward()\n",
    "        optimizer.step()\n",
    "        scheduler.step()\n",
    "        loss1=loss1+loss\n",
    "        #if (b+1)%50==1:\n",
    "        #    print(f'epoch: {i+1}/{num_epochs} batch:{b+1}/{num_train_batches} loss: {loss.item():10.8f}')      \n",
    "    train_loss=loss1/num_train_batches  \n",
    "    train_losses.append(train_loss.item())\n",
    "    # Run the testing batches\n",
    "    model.eval()\n",
    "    with torch.no_grad():\n",
    "        loss1=0\n",
    "        for b, (X_test, y_test) in enumerate(test_loader):\n",
    "            y_test=y_test.to(device)\n",
    "            # Apply the model\n",
    "            #X_test = torch.cat([X_test, 4*torch.ones(batch_size, num_errors, dtype=torch.int).to(device)], dim=1)\n",
    "            xt=one_hot_encode(X_test, 5)\n",
    "            y_pred=model(xt)\n",
    "            \n",
    "            yt=one_hot_encode(y_test, 4)\n",
    "            loss = criterion(y_pred, yt) \n",
    "            loss1=loss1+loss         \n",
    "        val_loss=loss1/num_test_batches  \n",
    "        val_losses.append(val_loss.item())\n",
    "    \n",
    "    print(f'epoch:{i+1}/{num_epochs} average TL:{train_loss.item():10.8f} average VL:{val_loss.item():10.8f} epoch time:{time.time() - epoch_time:.0f} seconds, lr:{optimizer.param_groups[0][\"lr\"]:.2e}')               \n",
    "     # Early stopping\n",
    "    if val_loss < best_val_loss:\n",
    "        best_val_loss = val_loss\n",
    "        torch.save(model.state_dict(), path_directory+\"model.pth\")\n",
    "        patience_counter = 0\n",
    "    else:\n",
    "        patience_counter += 1\n",
    "\n",
    "    if patience_counter >= patience:\n",
    "        print(f'Validation loss did not decrease for {patience} epochs. Stopping training.')\n",
    "        break  \n",
    "        \n",
    "print(f'\\nDuration: {time.time() - start_time:.0f} seconds') # print the time elapsed            "
   ]
  },
  {
   "cell_type": "code",
   "execution_count": 29,
   "id": "d1b7ed3f",
   "metadata": {},
   "outputs": [
    {
     "data": {
      "image/png": "[encoded data removed]",
      "text/plain": [
       "<Figure size 640x480 with 1 Axes>"
      ]
     },
     "metadata": {},
     "output_type": "display_data"
    }
   ],
   "source": [
    "# Plotting\n",
    "plt.plot(train_losses, label='Train Loss')\n",
    "plt.plot(val_losses, label='Validation Loss')\n",
    "plt.xlabel('Epoch')\n",
    "plt.ylabel('Loss')\n",
    "plt.legend()\n",
    "plt.grid()\n",
    "plt.show()\n"
   ]
  },
  {
   "cell_type": "code",
   "execution_count": 30,
   "id": "730fe193",
   "metadata": {},
   "outputs": [],
   "source": [
    "dict={'train_losses':train_losses, 'val_losses':val_losses, 'flops':flops, 'parameters':params }"
   ]
  },
  {
   "cell_type": "code",
   "execution_count": 31,
   "id": "82c1c94c",
   "metadata": {},
   "outputs": [],
   "source": [
    "savemat(path_directory+'losses.mat', dict)\n",
    "with open(path_directory+'losses.pkl', 'wb') as file:\n",
    "    \n",
    "    # A new file will be created\n",
    "    pickle.dump(dict, file)"
   ]
  },
  {
   "cell_type": "markdown",
   "id": "486b1334",
   "metadata": {},
   "source": [
    "# Testing"
   ]
  },
  {
   "cell_type": "code",
   "execution_count": 32,
   "id": "0827e8c0",
   "metadata": {},
   "outputs": [
    {
     "data": {
      "text/plain": [
       "<All keys matched successfully>"
      ]
     },
     "execution_count": 32,
     "metadata": {},
     "output_type": "execute_result"
    }
   ],
   "source": [
    "model.load_state_dict(torch.load(path_directory+\"model.pth\"))"
   ]
  },
  {
   "cell_type": "code",
   "execution_count": 33,
   "id": "eefcadef",
   "metadata": {},
   "outputs": [],
   "source": [
    "start_test=1\n",
    "stop_test=4\n",
    "num_test=200000\n",
    "test_error_points=torch.arange(start_test, stop_test+1)\n",
    "#nucleotide error rate\n",
    "ner=torch.zeros((stop_test-start_test+1)).to(device)\n",
    "#sequence error rate\n",
    "ser=torch.zeros((stop_test-start_test+1)).to(device)"
   ]
  },
  {
   "cell_type": "code",
   "execution_count": 34,
   "id": "66257385",
   "metadata": {},
   "outputs": [],
   "source": [
    "def count_different_rows(matrix1, matrix2):\n",
    "    \"\"\"\n",
    "    Calculates the number of rows that are not equal between two 2D PyTorch matrices.\n",
    "\n",
    "    Args:\n",
    "        matrix1 (torch.Tensor): A 2D PyTorch tensor of shape (m, n).\n",
    "        matrix2 (torch.Tensor): A 2D PyTorch tensor of shape (m, n).\n",
    "\n",
    "    Returns:\n",
    "        int: The number of rows that are not equal between the two matrices.\n",
    "    \"\"\"\n",
    "    assert matrix1.shape == matrix2.shape, \"The input matrices must have the same shape.\"\n",
    "    equal_rows = torch.all(matrix1 == matrix2, dim=1)\n",
    "    return matrix1.shape[0] - torch.sum(equal_rows).item()"
   ]
  },
  {
   "cell_type": "code",
   "execution_count": 35,
   "id": "213866b5",
   "metadata": {},
   "outputs": [],
   "source": [
    "i1=0\n",
    "for i in range(start_test, stop_test+1):\n",
    "    test_data1 = LanguageDataset(dicts, num_samples=num_test, num_errors=i)\n",
    "    test_loader1 = DataLoader(test_data1, batch_size=batch_size, shuffle=True)\n",
    "    n_tbatch=len(test_loader1)\n",
    "    ne=0.0\n",
    "    count=0.0\n",
    "    # Run the testing batches\n",
    "    model.eval()\n",
    "    with torch.no_grad():\n",
    "        for b, (X_test, y_test) in enumerate(test_loader1):\n",
    "            y_test=y_test\n",
    "            X_test = torch.cat([X_test, 4*torch.ones(batch_size, i, dtype=torch.int).to(device)], dim=1)\n",
    "            # Apply the model\n",
    "            xt=one_hot_encode(X_test, 5)\n",
    "            y_pred=model(xt)\n",
    "            y_pred_d=one_hot_decode(y_pred)\n",
    "            ne=ne+torch.sum(y_pred_d!=y_test).item()\n",
    "            count=count+count_different_rows(y_test,y_pred_d)\n",
    "        ner[i1]=ne/(n_tbatch*batch_size*K)\n",
    "        ser[i1]=count/(n_tbatch*batch_size)\n",
    "    i1=i1+1"
   ]
  },
  {
   "cell_type": "code",
   "execution_count": 36,
   "id": "613b089d",
   "metadata": {},
   "outputs": [],
   "source": [
    "dict1={'ner':torch.Tensor.cpu(ner).numpy(), 'ser':torch.Tensor.cpu(ser).numpy()}"
   ]
  },
  {
   "cell_type": "code",
   "execution_count": 37,
   "id": "fb487284",
   "metadata": {},
   "outputs": [
    {
     "data": {
      "text/plain": [
       "tensor([0.0000, 0.0311, 0.0823, 0.1464], device='cuda:0')"
      ]
     },
     "execution_count": 37,
     "metadata": {},
     "output_type": "execute_result"
    }
   ],
   "source": [
    "ner"
   ]
  },
  {
   "cell_type": "code",
   "execution_count": 38,
   "id": "fbd05713",
   "metadata": {},
   "outputs": [
    {
     "data": {
      "text/plain": [
       "tensor([0.0000, 0.1876, 0.4607, 0.7151], device='cuda:0')"
      ]
     },
     "execution_count": 38,
     "metadata": {},
     "output_type": "execute_result"
    }
   ],
   "source": [
    "ser"
   ]
  },
  {
   "cell_type": "code",
   "execution_count": 39,
   "id": "e2bdc20c",
   "metadata": {},
   "outputs": [],
   "source": [
    "savemat(path_directory+'metric.mat', dict1)\n",
    "with open(path_directory+'metric.pkl', 'wb') as file:\n",
    "    \n",
    "    # A new file will be created\n",
    "    pickle.dump(dict1, file)"
   ]
  },
  {
   "cell_type": "code",
   "execution_count": 40,
   "id": "00193886",
   "metadata": {},
   "outputs": [
    {
     "data": {
      "image/png": "[encoded data removed]",
      "text/plain": [
       "<Figure size 640x480 with 1 Axes>"
      ]
     },
     "metadata": {},
     "output_type": "display_data"
    }
   ],
   "source": [
    "plt.plot(torch.Tensor.cpu(test_error_points).numpy(),torch.Tensor.cpu(ner).numpy())\n",
    "plt.yscale('log')\n",
    "plt.xlabel('Number of errors')\n",
    "plt.ylabel('NER')    \n",
    "plt.grid(True)\n",
    "plt.show()"
   ]
  },
  {
   "cell_type": "code",
   "execution_count": 41,
   "id": "e22b1f71",
   "metadata": {},
   "outputs": [
    {
     "data": {
      "image/png": "[encoded data removed]",
      "text/plain": [
       "<Figure size 640x480 with 1 Axes>"
      ]
     },
     "metadata": {},
     "output_type": "display_data"
    }
   ],
   "source": [
    "plt.plot(torch.Tensor.cpu(test_error_points).numpy(),torch.Tensor.cpu(ser).numpy())\n",
    "plt.yscale('log')\n",
    "plt.xlabel('Number of errors')\n",
    "plt.ylabel('SER')    \n",
    "plt.grid(True)\n",
    "plt.show()"
   ]
  },
  {
   "cell_type": "code",
   "execution_count": null,
   "id": "ff194c2d",
   "metadata": {},
   "outputs": [],
   "source": []
  }
 ],
 "metadata": {
  "kernelspec": {
   "display_name": "Python 3 (ipykernel)",
   "language": "python",
   "name": "python3"
  },
  "language_info": {
   "codemirror_mode": {
    "name": "ipython",
    "version": 3
   },
   "file_extension": ".py",
   "mimetype": "text/x-python",
   "name": "python",
   "nbconvert_exporter": "python",
   "pygments_lexer": "ipython3",
   "version": "3.10.9"
  }
 },
 "nbformat": 4,
 "nbformat_minor": 5
}

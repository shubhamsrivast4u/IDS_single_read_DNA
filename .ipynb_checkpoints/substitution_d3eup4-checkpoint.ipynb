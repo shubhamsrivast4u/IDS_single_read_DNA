{
 "cells": [
  {
   "cell_type": "code",
   "execution_count": 1,
   "id": "54bdf718",
   "metadata": {},
   "outputs": [],
   "source": [
    "import torch\n",
    "import torch.nn as nn\n",
    "import torch.nn.functional as F\n",
    "import random\n",
    "from torch.utils.data import Dataset, DataLoader\n",
    "import os\n",
    "os.environ[\"CUDA_VISIBLE_DEVICES\"] = \"1\"  # Select the GPU index\n",
    "import nltk\n",
    "from torch.optim.lr_scheduler import _LRScheduler\n",
    "import time\n",
    "import math\n",
    "import matplotlib.pyplot as plt\n",
    "import spacy\n",
    "from scipy.io import savemat\n",
    "import dill as pickle\n",
    "import thop"
   ]
  },
  {
   "cell_type": "code",
   "execution_count": 2,
   "id": "a700507b",
   "metadata": {},
   "outputs": [
    {
     "name": "stdout",
     "output_type": "stream",
     "text": [
      "['ACGTAGCAGA', 'ACTACAGACG', 'AGACGATGCA', 'AGCGACTATC', 'ATAGCTCGTG', 'CACGAGCTAT', 'CGTCTGTAGT', 'CTATCAGCGA', 'GATAGTCGCT', 'GCAGACATCA', 'GTGCTCGATA', 'TATCGAGCAC', 'TCGCTGATAG', 'TCTGCTACGT', 'TGATGTCTGC', 'TGCATCGTCT']\n"
     ]
    }
   ],
   "source": [
    "# Dictionary\n",
    "dicno=3\n",
    "dictionaries =[[],\n",
    "               \n",
    "               [],\n",
    "               \n",
    "               [],\n",
    "               \n",
    "               ['ACGTAGCAGA', 'ACTACAGACG', 'AGACGATGCA', 'AGCGACTATC', 'ATAGCTCGTG', 'CACGAGCTAT','CGTCTGTAGT',\n",
    "                'CTATCAGCGA', 'GATAGTCGCT', 'GCAGACATCA', 'GTGCTCGATA', 'TATCGAGCAC', 'TCGCTGATAG', 'TCTGCTACGT',\n",
    "                'TGATGTCTGC', 'TGCATCGTCT'],\n",
    "               \n",
    "               ['ATCGATCGATCGAT','TACGTAGCTAGCTA', 'TAGCTACGTAGCTA', 'ATGCATGCATCGAT', 'ATGCTACGATGCTA', \n",
    "                'TAGCATGCTACGAT', 'TACGATCGTACGAT', 'ATCGTAGCATGCTA', 'TACGATGCTAGCAT', 'ATCGTACGATCGTA', \n",
    "                'ATGCTAGCATCGTA', 'TAGCATCGTAGCAT', 'TAGCTAGCTACGTA', 'ATGCATCGATGCAT', 'ATCGATGCATGCAT', \n",
    "                'TACGTACGTACGTA'],\n",
    "              \n",
    "               []\n",
    "              \n",
    "               ]\n",
    "dicts=dictionaries[dicno]\n",
    "print(dicts)"
   ]
  },
  {
   "cell_type": "code",
   "execution_count": 3,
   "id": "dbcadf01",
   "metadata": {},
   "outputs": [],
   "source": [
    "batch_size=2000\n",
    "device = 'cuda' if torch.cuda.is_available() else 'cpu'\n",
    "lr=0.001\n",
    "num_epochs=500\n",
    "patience=400\n",
    "train_num_samples=30000\n",
    "test_num_samples=10000\n",
    "num_errors=4\n",
    "K=len(dicts[0])\n",
    "hidden_size=32"
   ]
  },
  {
   "cell_type": "code",
   "execution_count": 4,
   "id": "cd70d5fb",
   "metadata": {},
   "outputs": [
    {
     "data": {
      "text/plain": [
       "'substitutionmodels/BiLSTM/Dictionary_3/batch_size_2000/num_errors_4/initial_lr_0.001/epochs500_p400_tr30000ts10000K10hs32/'"
      ]
     },
     "execution_count": 4,
     "metadata": {},
     "output_type": "execute_result"
    }
   ],
   "source": [
    "path_directory=f\"substitutionmodels/BiLSTM/Dictionary_{dicno}/batch_size_{batch_size}/num_errors_{num_errors}/initial_lr_{lr}/epochs{num_epochs}_p{patience}_tr{train_num_samples}ts{test_num_samples}K{K}hs{hidden_size}/\"\n",
    "path_directory"
   ]
  },
  {
   "cell_type": "code",
   "execution_count": 5,
   "id": "62b8193e",
   "metadata": {},
   "outputs": [],
   "source": [
    "# Check if \"models\" folder exists, create it if it doesn't\n",
    "if not os.path.exists(path_directory):\n",
    "    os.makedirs(path_directory)\n"
   ]
  },
  {
   "cell_type": "code",
   "execution_count": 6,
   "id": "d805d412",
   "metadata": {},
   "outputs": [],
   "source": [
    "class LanguageDataset(Dataset):\n",
    "\n",
    "    def __init__(self, dictionary, num_samples, num_errors):\n",
    "        self.dictionary = dictionary\n",
    "        self.num_samples = num_samples \n",
    "        self.num_errors = num_errors\n",
    "\n",
    "    def __len__(self):\n",
    "        return self.num_samples\n",
    "\n",
    "    def __getitem__(self, idx):\n",
    "        source_idx = idx % len(self.dictionary)  \n",
    "        sequence = self.dictionary[source_idx]\n",
    "\n",
    "        if self.num_errors > 0:\n",
    "            sequence = self.introduce_errors(sequence, self.num_errors)\n",
    "\n",
    "        x = torch.tensor([self.char_to_idx(c) for c in sequence], dtype=torch.long)\n",
    "        y = torch.tensor([self.char_to_idx(c) for c in self.dictionary[source_idx]], dtype=torch.long)\n",
    "        return x, y\n",
    "\n",
    "    def introduce_errors(self, sequence, num_errors):\n",
    "        sequence = list(sequence)\n",
    "        for _ in range(num_errors):\n",
    "            i = random.randint(0, len(sequence)-1)\n",
    "            if sequence[i] == 'A':\n",
    "                sequence[i] = random.choice(['T', 'G', 'C'])\n",
    "            elif sequence[i] == 'T':\n",
    "                sequence[i] = random.choice(['A', 'G', 'C'])\n",
    "            elif sequence[i] == 'G':\n",
    "                sequence[i] = random.choice(['A', 'T', 'C'])\n",
    "            elif sequence[i] == 'C':\n",
    "                sequence[i] = random.choice(['A', 'T', 'G'])\n",
    "\n",
    "        return ''.join(sequence)\n",
    "\n",
    "    def char_to_idx(self, char):\n",
    "        return {'A': 0, 'C': 1, 'T': 2, 'G': 3}[char]"
   ]
  },
  {
   "cell_type": "code",
   "execution_count": 7,
   "id": "a9c0ed7b",
   "metadata": {},
   "outputs": [
    {
     "data": {
      "text/plain": [
       "2"
      ]
     },
     "execution_count": 7,
     "metadata": {},
     "output_type": "execute_result"
    }
   ],
   "source": [
    "random.randint(1, 2)"
   ]
  },
  {
   "cell_type": "code",
   "execution_count": 8,
   "id": "7d7bfb16",
   "metadata": {},
   "outputs": [],
   "source": [
    "class LanguageDataset1(Dataset):\n",
    "\n",
    "    def __init__(self, dictionary, num_samples, num_errors):\n",
    "        self.dictionary = dictionary\n",
    "        self.num_samples = num_samples \n",
    "        self.num_errors = num_errors\n",
    "\n",
    "    def __len__(self):\n",
    "        return self.num_samples\n",
    "\n",
    "    def __getitem__(self, idx):\n",
    "        source_idx = idx % len(self.dictionary)  \n",
    "        sequence = self.dictionary[source_idx]\n",
    "\n",
    "        if self.num_errors > 0:\n",
    "            sequence = self.introduce_errors(sequence, self.num_errors)\n",
    "\n",
    "        x = torch.tensor([self.char_to_idx(c) for c in sequence], dtype=torch.long)\n",
    "        y = torch.tensor([self.char_to_idx(c) for c in self.dictionary[source_idx]], dtype=torch.long)\n",
    "        return x, y\n",
    "\n",
    "    def introduce_errors(self, sequence, num_errors):\n",
    "        ne = random.randint(1, num_errors)\n",
    "        sequence = list(sequence)\n",
    "        for _ in range(ne):\n",
    "            i = random.randint(0, len(sequence)-1)\n",
    "            if sequence[i] == 'A':\n",
    "                sequence[i] = random.choice(['T', 'G', 'C'])\n",
    "            elif sequence[i] == 'T':\n",
    "                sequence[i] = random.choice(['A', 'G', 'C'])\n",
    "            elif sequence[i] == 'G':\n",
    "                sequence[i] = random.choice(['A', 'T', 'C'])\n",
    "            elif sequence[i] == 'C':\n",
    "                sequence[i] = random.choice(['A', 'T', 'G'])\n",
    "\n",
    "        return ''.join(sequence)\n",
    "\n",
    "    def char_to_idx(self, char):\n",
    "        return {'A': 0, 'C': 1, 'T': 2, 'G': 3}[char]\n"
   ]
  },
  {
   "cell_type": "code",
   "execution_count": 9,
   "id": "e6c5ca76",
   "metadata": {},
   "outputs": [],
   "source": [
    "train_data = LanguageDataset1(dicts, num_samples=train_num_samples, num_errors=num_errors)\n",
    "test_data = LanguageDataset1(dicts, num_samples=test_num_samples, num_errors=num_errors)\n",
    "\n",
    "train_loader = DataLoader(train_data, batch_size=batch_size, shuffle=True)\n",
    "test_loader = DataLoader(test_data, batch_size=batch_size)"
   ]
  },
  {
   "cell_type": "code",
   "execution_count": 10,
   "id": "87577e33",
   "metadata": {},
   "outputs": [],
   "source": [
    "t1=iter(train_loader)\n",
    "X,y=next(t1)"
   ]
  },
  {
   "cell_type": "code",
   "execution_count": 11,
   "id": "fc455f7a",
   "metadata": {},
   "outputs": [
    {
     "data": {
      "text/plain": [
       "torch.Size([2000, 10])"
      ]
     },
     "execution_count": 11,
     "metadata": {},
     "output_type": "execute_result"
    }
   ],
   "source": [
    "X.shape"
   ]
  },
  {
   "cell_type": "code",
   "execution_count": 12,
   "id": "83b83995",
   "metadata": {},
   "outputs": [
    {
     "data": {
      "text/plain": [
       "tensor([[2, 3, 1,  ..., 2, 1, 2],\n",
       "        [0, 3, 1,  ..., 0, 2, 1],\n",
       "        [0, 2, 0,  ..., 3, 2, 3],\n",
       "        ...,\n",
       "        [3, 0, 2,  ..., 3, 1, 2],\n",
       "        [0, 1, 2,  ..., 0, 1, 3],\n",
       "        [2, 3, 0,  ..., 2, 3, 1]])"
      ]
     },
     "execution_count": 12,
     "metadata": {},
     "output_type": "execute_result"
    }
   ],
   "source": [
    "y"
   ]
  },
  {
   "cell_type": "code",
   "execution_count": 13,
   "id": "640f9af6",
   "metadata": {},
   "outputs": [],
   "source": [
    "def one_hot_encode(sequences, n_unique):\n",
    "\n",
    "    # Get size of batch and max sequence length\n",
    "    batch_size,seq_len=sequences.shape\n",
    "    #len(sequences)\n",
    "    #seq_len=len(sequences[0])\n",
    "    \n",
    "    # Initialize encoded tensor\n",
    "    oneencoding = torch.zeros(batch_size, seq_len, n_unique, device = device)\n",
    "    # Set 1 at index of each character\n",
    "    for i in range(batch_size):\n",
    "        for j in range(seq_len):\n",
    "            index = sequences[i][j]\n",
    "            oneencoding[i, j, index] = 1          \n",
    "    return oneencoding"
   ]
  },
  {
   "cell_type": "code",
   "execution_count": 14,
   "id": "ee758123",
   "metadata": {},
   "outputs": [
    {
     "data": {
      "text/plain": [
       "torch.Size([2000, 10])"
      ]
     },
     "execution_count": 14,
     "metadata": {},
     "output_type": "execute_result"
    }
   ],
   "source": [
    "X.shape"
   ]
  },
  {
   "cell_type": "code",
   "execution_count": 15,
   "id": "6d4e7322",
   "metadata": {},
   "outputs": [],
   "source": [
    "def one_hot_decode(encoded_seq):\n",
    "    \"\"\"Converts a batch of one-hot encoded sequences to indices\"\"\"\n",
    "    \n",
    "    # Dimensions will be (batch_size, seq_len, num_classes)\n",
    "    batch_size, seq_len, num_classes = encoded_seq.shape\n",
    "    \n",
    "    # Flatten to treat as a list of one-hot vectors\n",
    "    encoded_seq = encoded_seq.reshape(-1, num_classes)\n",
    "    \n",
    "    # Argmax over classes to get class index\n",
    "    indices = encoded_seq.argmax(dim=1).to(device)\n",
    "    \n",
    "    # Reshape back to original dimensions\n",
    "    indices = indices.reshape(batch_size, seq_len)\n",
    "    \n",
    "    return indices"
   ]
  },
  {
   "cell_type": "code",
   "execution_count": 16,
   "id": "d3d48c1c",
   "metadata": {},
   "outputs": [],
   "source": [
    "class BiLSTMModel(nn.Module):\n",
    "\n",
    "    def __init__(self, hidden_size, dropout):\n",
    "        super().__init__()\n",
    "        \n",
    "        self.lstm1 = nn.LSTM(\n",
    "            input_size=4, \n",
    "            hidden_size=hidden_size,\n",
    "            num_layers=2,\n",
    "            batch_first=True,\n",
    "            bidirectional=True,\n",
    "            dropout=dropout\n",
    "        )\n",
    "        self.fc = nn.Linear(2*hidden_size, 4)\n",
    "        self.softmax = nn.Softmax(dim=2)\n",
    "    def forward(self, x):\n",
    "\n",
    "        # BiLSTM 1\n",
    "        out, _ = self.lstm1(x)\n",
    "        out = self.softmax(self.fc(out))\n",
    "        return out"
   ]
  },
  {
   "cell_type": "code",
   "execution_count": 17,
   "id": "c8bbfd99",
   "metadata": {},
   "outputs": [],
   "source": [
    "model=BiLSTMModel(hidden_size,0.1)"
   ]
  },
  {
   "cell_type": "code",
   "execution_count": 18,
   "id": "fdca5add",
   "metadata": {},
   "outputs": [],
   "source": [
    "def cal_model_parameters(model):\n",
    "    total_param  = []\n",
    "    for p1 in model.parameters():\n",
    "        total_param.append(int(p1.numel()))\n",
    "    return sum(total_param)"
   ]
  },
  {
   "cell_type": "code",
   "execution_count": 19,
   "id": "b4388fcc",
   "metadata": {},
   "outputs": [
    {
     "data": {
      "text/plain": [
       "35076"
      ]
     },
     "execution_count": 19,
     "metadata": {},
     "output_type": "execute_result"
    }
   ],
   "source": [
    "cal_model_parameters(model)"
   ]
  },
  {
   "cell_type": "code",
   "execution_count": 20,
   "id": "68ad73ac",
   "metadata": {},
   "outputs": [],
   "source": [
    "model=model.to(device)"
   ]
  },
  {
   "cell_type": "code",
   "execution_count": 21,
   "id": "d4268683",
   "metadata": {},
   "outputs": [],
   "source": [
    "train_next=iter(train_data)\n",
    "Xp, Yp=next(train_next)\n",
    "#Xp = torch.cat([Xp.view(1,-1), 4*torch.ones(1, num_errors, dtype=torch.int).to(device)], dim=1)\n",
    "xp=one_hot_encode(Xp.view(1,-1).to(device), 4).to(device)"
   ]
  },
  {
   "cell_type": "code",
   "execution_count": 22,
   "id": "e3e06394",
   "metadata": {},
   "outputs": [],
   "source": [
    "flops, params = thop.profile(model, inputs=(xp,), verbose=False)"
   ]
  },
  {
   "cell_type": "code",
   "execution_count": 23,
   "id": "d017e558",
   "metadata": {},
   "outputs": [
    {
     "name": "stdout",
     "output_type": "stream",
     "text": [
      "Model Flops: 361070.0\n",
      "Model Params Num: 35076.0\n",
      "\n"
     ]
    }
   ],
   "source": [
    "print(f'Model Flops: {flops}')\n",
    "print(f'Model Params Num: {params}\\n')"
   ]
  },
  {
   "cell_type": "code",
   "execution_count": 24,
   "id": "248e48b2",
   "metadata": {},
   "outputs": [],
   "source": [
    "\n",
    "criterion= nn.MSELoss().to(device)"
   ]
  },
  {
   "cell_type": "code",
   "execution_count": 25,
   "id": "ad91e622",
   "metadata": {},
   "outputs": [],
   "source": [
    "optimizer = torch.optim.Adam(model.parameters(), lr=lr, betas=(0.9, 0.98), eps=1e-9)"
   ]
  },
  {
   "cell_type": "code",
   "execution_count": 26,
   "id": "e5c7217e",
   "metadata": {},
   "outputs": [],
   "source": [
    "class WarmUpCosineAnnealingLR(_LRScheduler):\n",
    "    def __init__(self, optimizer, T_max, T_warmup, eta_min=0, last_epoch=-1):\n",
    "        self.T_max = T_max\n",
    "        self.T_warmup = T_warmup\n",
    "        self.eta_min = eta_min\n",
    "        super(WarmUpCosineAnnealingLR, self).__init__(optimizer, last_epoch)\n",
    "\n",
    "    def get_lr(self):\n",
    "        if self.last_epoch < self.T_warmup:\n",
    "            return [base_lr * self.last_epoch / self.T_warmup for base_lr in self.base_lrs]\n",
    "        else:\n",
    "            k = 1 + math.cos(math.pi * (self.last_epoch - self.T_warmup) / (self.T_max - self.T_warmup))\n",
    "            return [self.eta_min + (base_lr - self.eta_min) * k / 2 for base_lr in self.base_lrs]"
   ]
  },
  {
   "cell_type": "code",
   "execution_count": 27,
   "id": "23b7a66e",
   "metadata": {},
   "outputs": [],
   "source": [
    "scheduler = WarmUpCosineAnnealingLR(optimizer=optimizer,\n",
    "                                            T_max=num_epochs * len(train_loader),\n",
    "                                            T_warmup=20 * len(train_loader),\n",
    "                                            eta_min=1e-6)"
   ]
  },
  {
   "cell_type": "code",
   "execution_count": 28,
   "id": "da868db6",
   "metadata": {},
   "outputs": [
    {
     "name": "stdout",
     "output_type": "stream",
     "text": [
      "epoch:1/500 average TL:0.18747078 average VL:0.18744154 epoch time:119 seconds, lr:5.00e-05\n",
      "epoch:2/500 average TL:0.18739052 average VL:0.18731776 epoch time:119 seconds, lr:1.00e-04\n",
      "epoch:3/500 average TL:0.18723752 average VL:0.18713038 epoch time:119 seconds, lr:1.50e-04\n",
      "epoch:4/500 average TL:0.18701382 average VL:0.18686400 epoch time:119 seconds, lr:2.00e-04\n",
      "epoch:5/500 average TL:0.18669985 average VL:0.18647431 epoch time:118 seconds, lr:2.50e-04\n",
      "epoch:6/500 average TL:0.18622449 average VL:0.18587378 epoch time:119 seconds, lr:3.00e-04\n",
      "epoch:7/500 average TL:0.18546653 average VL:0.18488374 epoch time:119 seconds, lr:3.50e-04\n",
      "epoch:8/500 average TL:0.18415402 average VL:0.18307512 epoch time:119 seconds, lr:4.00e-04\n",
      "epoch:9/500 average TL:0.18164831 average VL:0.17955747 epoch time:119 seconds, lr:4.50e-04\n",
      "epoch:10/500 average TL:0.17684557 average VL:0.17311285 epoch time:118 seconds, lr:5.00e-04\n",
      "epoch:11/500 average TL:0.16895917 average VL:0.16276205 epoch time:118 seconds, lr:5.50e-04\n",
      "epoch:12/500 average TL:0.15601896 average VL:0.14513914 epoch time:118 seconds, lr:6.00e-04\n",
      "epoch:13/500 average TL:0.13659850 average VL:0.12280124 epoch time:119 seconds, lr:6.50e-04\n",
      "epoch:14/500 average TL:0.11614945 average VL:0.10310260 epoch time:118 seconds, lr:7.00e-04\n",
      "epoch:15/500 average TL:0.09963918 average VL:0.09186015 epoch time:118 seconds, lr:7.50e-04\n",
      "epoch:16/500 average TL:0.09145585 average VL:0.08823136 epoch time:118 seconds, lr:8.00e-04\n",
      "epoch:17/500 average TL:0.08825567 average VL:0.08631332 epoch time:118 seconds, lr:8.50e-04\n",
      "epoch:18/500 average TL:0.08651510 average VL:0.08429512 epoch time:118 seconds, lr:9.00e-04\n",
      "epoch:19/500 average TL:0.08453198 average VL:0.08269213 epoch time:119 seconds, lr:9.50e-04\n",
      "epoch:20/500 average TL:0.08318275 average VL:0.08181126 epoch time:119 seconds, lr:1.00e-03\n",
      "epoch:21/500 average TL:0.08182870 average VL:0.08042654 epoch time:118 seconds, lr:1.00e-03\n",
      "epoch:22/500 average TL:0.07991528 average VL:0.07822776 epoch time:118 seconds, lr:1.00e-03\n",
      "epoch:23/500 average TL:0.07865013 average VL:0.07708772 epoch time:118 seconds, lr:1.00e-03\n",
      "epoch:24/500 average TL:0.07771496 average VL:0.07561648 epoch time:119 seconds, lr:1.00e-03\n",
      "epoch:25/500 average TL:0.07611832 average VL:0.07392267 epoch time:118 seconds, lr:1.00e-03\n",
      "epoch:26/500 average TL:0.07461173 average VL:0.07245303 epoch time:118 seconds, lr:1.00e-03\n",
      "epoch:27/500 average TL:0.07287409 average VL:0.07064330 epoch time:119 seconds, lr:9.99e-04\n",
      "epoch:28/500 average TL:0.07120847 average VL:0.06850968 epoch time:119 seconds, lr:9.99e-04\n",
      "epoch:29/500 average TL:0.06919119 average VL:0.06691063 epoch time:119 seconds, lr:9.99e-04\n",
      "epoch:30/500 average TL:0.06758168 average VL:0.06476840 epoch time:118 seconds, lr:9.99e-04\n",
      "epoch:31/500 average TL:0.06511541 average VL:0.06243043 epoch time:118 seconds, lr:9.99e-04\n",
      "epoch:32/500 average TL:0.06284103 average VL:0.05942924 epoch time:118 seconds, lr:9.98e-04\n",
      "epoch:33/500 average TL:0.06026392 average VL:0.05698622 epoch time:118 seconds, lr:9.98e-04\n",
      "epoch:34/500 average TL:0.05777331 average VL:0.05355525 epoch time:119 seconds, lr:9.98e-04\n",
      "epoch:35/500 average TL:0.05471106 average VL:0.05029514 epoch time:119 seconds, lr:9.98e-04\n",
      "epoch:36/500 average TL:0.05130520 average VL:0.04748325 epoch time:118 seconds, lr:9.97e-04\n",
      "epoch:37/500 average TL:0.04894842 average VL:0.04413314 epoch time:118 seconds, lr:9.97e-04\n",
      "epoch:38/500 average TL:0.04551181 average VL:0.04043885 epoch time:118 seconds, lr:9.97e-04\n",
      "epoch:39/500 average TL:0.04241675 average VL:0.03799479 epoch time:119 seconds, lr:9.96e-04\n",
      "epoch:40/500 average TL:0.03942573 average VL:0.03533179 epoch time:118 seconds, lr:9.96e-04\n",
      "epoch:41/500 average TL:0.03682835 average VL:0.03259680 epoch time:119 seconds, lr:9.95e-04\n",
      "epoch:42/500 average TL:0.03463121 average VL:0.03025984 epoch time:118 seconds, lr:9.95e-04\n",
      "epoch:43/500 average TL:0.03311073 average VL:0.02756460 epoch time:119 seconds, lr:9.94e-04\n",
      "epoch:44/500 average TL:0.03004899 average VL:0.02634228 epoch time:118 seconds, lr:9.94e-04\n",
      "epoch:45/500 average TL:0.02887536 average VL:0.02515709 epoch time:118 seconds, lr:9.93e-04\n",
      "epoch:46/500 average TL:0.02696772 average VL:0.02332752 epoch time:119 seconds, lr:9.93e-04\n",
      "epoch:47/500 average TL:0.02570469 average VL:0.02144488 epoch time:118 seconds, lr:9.92e-04\n",
      "epoch:48/500 average TL:0.02417948 average VL:0.02078814 epoch time:118 seconds, lr:9.92e-04\n",
      "epoch:49/500 average TL:0.02315954 average VL:0.01911031 epoch time:118 seconds, lr:9.91e-04\n",
      "epoch:50/500 average TL:0.02172150 average VL:0.01885491 epoch time:118 seconds, lr:9.90e-04\n",
      "epoch:51/500 average TL:0.02071868 average VL:0.01802662 epoch time:119 seconds, lr:9.90e-04\n",
      "epoch:52/500 average TL:0.01983045 average VL:0.01701029 epoch time:118 seconds, lr:9.89e-04\n",
      "epoch:53/500 average TL:0.01920808 average VL:0.01736760 epoch time:119 seconds, lr:9.88e-04\n",
      "epoch:54/500 average TL:0.01811193 average VL:0.01563512 epoch time:119 seconds, lr:9.88e-04\n",
      "epoch:55/500 average TL:0.01763298 average VL:0.01456061 epoch time:119 seconds, lr:9.87e-04\n",
      "epoch:56/500 average TL:0.01731159 average VL:0.01377135 epoch time:118 seconds, lr:9.86e-04\n",
      "epoch:57/500 average TL:0.01650503 average VL:0.01413031 epoch time:118 seconds, lr:9.85e-04\n",
      "epoch:58/500 average TL:0.01616905 average VL:0.01335077 epoch time:118 seconds, lr:9.85e-04\n",
      "epoch:59/500 average TL:0.01526382 average VL:0.01325279 epoch time:119 seconds, lr:9.84e-04\n",
      "epoch:60/500 average TL:0.01499115 average VL:0.01321293 epoch time:118 seconds, lr:9.83e-04\n",
      "epoch:61/500 average TL:0.01482003 average VL:0.01169924 epoch time:119 seconds, lr:9.82e-04\n",
      "epoch:62/500 average TL:0.01447657 average VL:0.01167128 epoch time:118 seconds, lr:9.81e-04\n",
      "epoch:63/500 average TL:0.01392230 average VL:0.01194997 epoch time:118 seconds, lr:9.80e-04\n",
      "epoch:64/500 average TL:0.01352494 average VL:0.01111047 epoch time:119 seconds, lr:9.79e-04\n",
      "epoch:65/500 average TL:0.01326767 average VL:0.01104490 epoch time:119 seconds, lr:9.78e-04\n",
      "epoch:66/500 average TL:0.01267908 average VL:0.01078731 epoch time:119 seconds, lr:9.78e-04\n",
      "epoch:67/500 average TL:0.01239184 average VL:0.01062278 epoch time:119 seconds, lr:9.77e-04\n",
      "epoch:68/500 average TL:0.01262742 average VL:0.01082867 epoch time:118 seconds, lr:9.76e-04\n",
      "epoch:69/500 average TL:0.01207159 average VL:0.01008314 epoch time:119 seconds, lr:9.75e-04\n",
      "epoch:70/500 average TL:0.01190913 average VL:0.01026680 epoch time:119 seconds, lr:9.73e-04\n",
      "epoch:71/500 average TL:0.01173539 average VL:0.01003090 epoch time:118 seconds, lr:9.72e-04\n",
      "epoch:72/500 average TL:0.01163036 average VL:0.01002047 epoch time:119 seconds, lr:9.71e-04\n",
      "epoch:73/500 average TL:0.01149029 average VL:0.00966370 epoch time:118 seconds, lr:9.70e-04\n",
      "epoch:74/500 average TL:0.01130611 average VL:0.00911177 epoch time:119 seconds, lr:9.69e-04\n",
      "epoch:75/500 average TL:0.01098278 average VL:0.00943793 epoch time:119 seconds, lr:9.68e-04\n",
      "epoch:76/500 average TL:0.01092642 average VL:0.00916027 epoch time:118 seconds, lr:9.67e-04\n",
      "epoch:77/500 average TL:0.01061787 average VL:0.00864854 epoch time:119 seconds, lr:9.66e-04\n",
      "epoch:78/500 average TL:0.01075149 average VL:0.00859363 epoch time:118 seconds, lr:9.64e-04\n",
      "epoch:79/500 average TL:0.01034347 average VL:0.00869403 epoch time:118 seconds, lr:9.63e-04\n",
      "epoch:80/500 average TL:0.00980161 average VL:0.00862605 epoch time:119 seconds, lr:9.62e-04\n",
      "epoch:81/500 average TL:0.00994692 average VL:0.00859022 epoch time:118 seconds, lr:9.61e-04\n",
      "epoch:82/500 average TL:0.01047984 average VL:0.00863427 epoch time:119 seconds, lr:9.59e-04\n",
      "epoch:83/500 average TL:0.01024401 average VL:0.00838125 epoch time:118 seconds, lr:9.58e-04\n",
      "epoch:84/500 average TL:0.01006707 average VL:0.00846033 epoch time:119 seconds, lr:9.57e-04\n",
      "epoch:85/500 average TL:0.00949960 average VL:0.00812257 epoch time:119 seconds, lr:9.55e-04\n",
      "epoch:86/500 average TL:0.00961422 average VL:0.00825622 epoch time:119 seconds, lr:9.54e-04\n",
      "epoch:87/500 average TL:0.00970193 average VL:0.00808817 epoch time:118 seconds, lr:9.53e-04\n",
      "epoch:88/500 average TL:0.00969128 average VL:0.00845122 epoch time:118 seconds, lr:9.51e-04\n",
      "epoch:89/500 average TL:0.00917355 average VL:0.00808732 epoch time:118 seconds, lr:9.50e-04\n"
     ]
    },
    {
     "name": "stdout",
     "output_type": "stream",
     "text": [
      "epoch:90/500 average TL:0.00901644 average VL:0.00745994 epoch time:119 seconds, lr:9.48e-04\n",
      "epoch:91/500 average TL:0.00927203 average VL:0.00825994 epoch time:119 seconds, lr:9.47e-04\n",
      "epoch:92/500 average TL:0.00889984 average VL:0.00758618 epoch time:119 seconds, lr:9.46e-04\n",
      "epoch:93/500 average TL:0.00915131 average VL:0.00705520 epoch time:119 seconds, lr:9.44e-04\n",
      "epoch:94/500 average TL:0.00889923 average VL:0.00743336 epoch time:118 seconds, lr:9.43e-04\n",
      "epoch:95/500 average TL:0.00905235 average VL:0.00813558 epoch time:119 seconds, lr:9.41e-04\n",
      "epoch:96/500 average TL:0.00891055 average VL:0.00743743 epoch time:119 seconds, lr:9.39e-04\n",
      "epoch:97/500 average TL:0.00869006 average VL:0.00758459 epoch time:118 seconds, lr:9.38e-04\n",
      "epoch:98/500 average TL:0.00882374 average VL:0.00776930 epoch time:119 seconds, lr:9.36e-04\n",
      "epoch:99/500 average TL:0.00866421 average VL:0.00732373 epoch time:118 seconds, lr:9.35e-04\n",
      "epoch:100/500 average TL:0.00839481 average VL:0.00705178 epoch time:118 seconds, lr:9.33e-04\n",
      "epoch:101/500 average TL:0.00829583 average VL:0.00707329 epoch time:119 seconds, lr:9.31e-04\n",
      "epoch:102/500 average TL:0.00847957 average VL:0.00677410 epoch time:119 seconds, lr:9.30e-04\n",
      "epoch:103/500 average TL:0.00860092 average VL:0.00670214 epoch time:119 seconds, lr:9.28e-04\n",
      "epoch:104/500 average TL:0.00808238 average VL:0.00676133 epoch time:118 seconds, lr:9.26e-04\n",
      "epoch:105/500 average TL:0.00799594 average VL:0.00668472 epoch time:118 seconds, lr:9.25e-04\n",
      "epoch:106/500 average TL:0.00810406 average VL:0.00715205 epoch time:118 seconds, lr:9.23e-04\n",
      "epoch:107/500 average TL:0.00806091 average VL:0.00649926 epoch time:119 seconds, lr:9.21e-04\n",
      "epoch:108/500 average TL:0.00814404 average VL:0.00651267 epoch time:119 seconds, lr:9.19e-04\n",
      "epoch:109/500 average TL:0.00790950 average VL:0.00688152 epoch time:119 seconds, lr:9.18e-04\n",
      "epoch:110/500 average TL:0.00793227 average VL:0.00721977 epoch time:119 seconds, lr:9.16e-04\n",
      "epoch:111/500 average TL:0.00820948 average VL:0.00645518 epoch time:119 seconds, lr:9.14e-04\n",
      "epoch:112/500 average TL:0.00782407 average VL:0.00635273 epoch time:119 seconds, lr:9.12e-04\n",
      "epoch:113/500 average TL:0.00753015 average VL:0.00687639 epoch time:119 seconds, lr:9.10e-04\n",
      "epoch:114/500 average TL:0.00792383 average VL:0.00625235 epoch time:118 seconds, lr:9.08e-04\n",
      "epoch:115/500 average TL:0.00772859 average VL:0.00672661 epoch time:119 seconds, lr:9.07e-04\n",
      "epoch:116/500 average TL:0.00761080 average VL:0.00599080 epoch time:118 seconds, lr:9.05e-04\n",
      "epoch:117/500 average TL:0.00778860 average VL:0.00584833 epoch time:119 seconds, lr:9.03e-04\n",
      "epoch:118/500 average TL:0.00724904 average VL:0.00632388 epoch time:118 seconds, lr:9.01e-04\n",
      "epoch:119/500 average TL:0.00712931 average VL:0.00631089 epoch time:118 seconds, lr:8.99e-04\n",
      "epoch:120/500 average TL:0.00722115 average VL:0.00561719 epoch time:119 seconds, lr:8.97e-04\n",
      "epoch:121/500 average TL:0.00740573 average VL:0.00585894 epoch time:119 seconds, lr:8.95e-04\n",
      "epoch:122/500 average TL:0.00731460 average VL:0.00643576 epoch time:119 seconds, lr:8.93e-04\n",
      "epoch:123/500 average TL:0.00733496 average VL:0.00606724 epoch time:119 seconds, lr:8.91e-04\n",
      "epoch:124/500 average TL:0.00701654 average VL:0.00614150 epoch time:118 seconds, lr:8.89e-04\n",
      "epoch:125/500 average TL:0.00707910 average VL:0.00579142 epoch time:118 seconds, lr:8.87e-04\n",
      "epoch:126/500 average TL:0.00683730 average VL:0.00630829 epoch time:118 seconds, lr:8.85e-04\n",
      "epoch:127/500 average TL:0.00692970 average VL:0.00644796 epoch time:119 seconds, lr:8.82e-04\n",
      "epoch:128/500 average TL:0.00743463 average VL:0.00546949 epoch time:119 seconds, lr:8.80e-04\n",
      "epoch:129/500 average TL:0.00680779 average VL:0.00542662 epoch time:119 seconds, lr:8.78e-04\n",
      "epoch:130/500 average TL:0.00741536 average VL:0.00604896 epoch time:118 seconds, lr:8.76e-04\n",
      "epoch:131/500 average TL:0.00702862 average VL:0.00592764 epoch time:119 seconds, lr:8.74e-04\n",
      "epoch:132/500 average TL:0.00686262 average VL:0.00565100 epoch time:118 seconds, lr:8.72e-04\n",
      "epoch:133/500 average TL:0.00726652 average VL:0.00551390 epoch time:119 seconds, lr:8.70e-04\n",
      "epoch:134/500 average TL:0.00682922 average VL:0.00592868 epoch time:119 seconds, lr:8.67e-04\n",
      "epoch:135/500 average TL:0.00648961 average VL:0.00609922 epoch time:118 seconds, lr:8.65e-04\n",
      "epoch:136/500 average TL:0.00681481 average VL:0.00564968 epoch time:118 seconds, lr:8.63e-04\n",
      "epoch:137/500 average TL:0.00682718 average VL:0.00577994 epoch time:119 seconds, lr:8.61e-04\n",
      "epoch:138/500 average TL:0.00674429 average VL:0.00581964 epoch time:118 seconds, lr:8.58e-04\n",
      "epoch:139/500 average TL:0.00678233 average VL:0.00553657 epoch time:118 seconds, lr:8.56e-04\n",
      "epoch:140/500 average TL:0.00647536 average VL:0.00615356 epoch time:118 seconds, lr:8.54e-04\n",
      "epoch:141/500 average TL:0.00667649 average VL:0.00654326 epoch time:118 seconds, lr:8.51e-04\n",
      "epoch:142/500 average TL:0.00643010 average VL:0.00562251 epoch time:119 seconds, lr:8.49e-04\n",
      "epoch:143/500 average TL:0.00637289 average VL:0.00575283 epoch time:118 seconds, lr:8.47e-04\n",
      "epoch:144/500 average TL:0.00638918 average VL:0.00518173 epoch time:119 seconds, lr:8.44e-04\n",
      "epoch:145/500 average TL:0.00625012 average VL:0.00593038 epoch time:118 seconds, lr:8.42e-04\n",
      "epoch:146/500 average TL:0.00671158 average VL:0.00644014 epoch time:119 seconds, lr:8.40e-04\n",
      "epoch:147/500 average TL:0.00648444 average VL:0.00587228 epoch time:119 seconds, lr:8.37e-04\n",
      "epoch:148/500 average TL:0.00639828 average VL:0.00575890 epoch time:118 seconds, lr:8.35e-04\n",
      "epoch:149/500 average TL:0.00636686 average VL:0.00529425 epoch time:118 seconds, lr:8.32e-04\n",
      "epoch:150/500 average TL:0.00665344 average VL:0.00569352 epoch time:119 seconds, lr:8.30e-04\n",
      "epoch:151/500 average TL:0.00629697 average VL:0.00554735 epoch time:118 seconds, lr:8.27e-04\n",
      "epoch:152/500 average TL:0.00674610 average VL:0.00615605 epoch time:119 seconds, lr:8.25e-04\n",
      "epoch:153/500 average TL:0.00643918 average VL:0.00546786 epoch time:119 seconds, lr:8.22e-04\n",
      "epoch:154/500 average TL:0.00625051 average VL:0.00524017 epoch time:119 seconds, lr:8.20e-04\n",
      "epoch:155/500 average TL:0.00635767 average VL:0.00564261 epoch time:119 seconds, lr:8.17e-04\n",
      "epoch:156/500 average TL:0.00606770 average VL:0.00549413 epoch time:118 seconds, lr:8.15e-04\n",
      "epoch:157/500 average TL:0.00622988 average VL:0.00533313 epoch time:118 seconds, lr:8.12e-04\n",
      "epoch:158/500 average TL:0.00616742 average VL:0.00576240 epoch time:119 seconds, lr:8.10e-04\n",
      "epoch:159/500 average TL:0.00626687 average VL:0.00535162 epoch time:119 seconds, lr:8.07e-04\n",
      "epoch:160/500 average TL:0.00601875 average VL:0.00541160 epoch time:118 seconds, lr:8.05e-04\n",
      "epoch:161/500 average TL:0.00633454 average VL:0.00533981 epoch time:118 seconds, lr:8.02e-04\n",
      "epoch:162/500 average TL:0.00629858 average VL:0.00513525 epoch time:118 seconds, lr:7.99e-04\n",
      "epoch:163/500 average TL:0.00585018 average VL:0.00536035 epoch time:119 seconds, lr:7.97e-04\n",
      "epoch:164/500 average TL:0.00605077 average VL:0.00583708 epoch time:119 seconds, lr:7.94e-04\n",
      "epoch:165/500 average TL:0.00635868 average VL:0.00478789 epoch time:118 seconds, lr:7.91e-04\n",
      "epoch:166/500 average TL:0.00594052 average VL:0.00520411 epoch time:118 seconds, lr:7.89e-04\n",
      "epoch:167/500 average TL:0.00624760 average VL:0.00472144 epoch time:119 seconds, lr:7.86e-04\n",
      "epoch:168/500 average TL:0.00602879 average VL:0.00491632 epoch time:118 seconds, lr:7.83e-04\n",
      "epoch:169/500 average TL:0.00613233 average VL:0.00475149 epoch time:119 seconds, lr:7.81e-04\n",
      "epoch:170/500 average TL:0.00621212 average VL:0.00540184 epoch time:119 seconds, lr:7.78e-04\n",
      "epoch:171/500 average TL:0.00618027 average VL:0.00546243 epoch time:118 seconds, lr:7.75e-04\n",
      "epoch:172/500 average TL:0.00570799 average VL:0.00460698 epoch time:119 seconds, lr:7.73e-04\n",
      "epoch:173/500 average TL:0.00600185 average VL:0.00559047 epoch time:118 seconds, lr:7.70e-04\n",
      "epoch:174/500 average TL:0.00607797 average VL:0.00509949 epoch time:119 seconds, lr:7.67e-04\n",
      "epoch:175/500 average TL:0.00598437 average VL:0.00465772 epoch time:119 seconds, lr:7.64e-04\n",
      "epoch:176/500 average TL:0.00611675 average VL:0.00473232 epoch time:118 seconds, lr:7.61e-04\n",
      "epoch:177/500 average TL:0.00600638 average VL:0.00546981 epoch time:118 seconds, lr:7.59e-04\n"
     ]
    },
    {
     "name": "stdout",
     "output_type": "stream",
     "text": [
      "epoch:178/500 average TL:0.00579498 average VL:0.00503258 epoch time:119 seconds, lr:7.56e-04\n",
      "epoch:179/500 average TL:0.00585365 average VL:0.00518927 epoch time:118 seconds, lr:7.53e-04\n",
      "epoch:180/500 average TL:0.00603693 average VL:0.00492080 epoch time:119 seconds, lr:7.50e-04\n",
      "epoch:181/500 average TL:0.00573868 average VL:0.00518489 epoch time:118 seconds, lr:7.47e-04\n",
      "epoch:182/500 average TL:0.00555511 average VL:0.00515537 epoch time:118 seconds, lr:7.45e-04\n",
      "epoch:183/500 average TL:0.00569426 average VL:0.00541127 epoch time:119 seconds, lr:7.42e-04\n",
      "epoch:184/500 average TL:0.00585112 average VL:0.00519859 epoch time:118 seconds, lr:7.39e-04\n",
      "epoch:185/500 average TL:0.00577319 average VL:0.00506197 epoch time:119 seconds, lr:7.36e-04\n",
      "epoch:186/500 average TL:0.00585150 average VL:0.00512937 epoch time:119 seconds, lr:7.33e-04\n",
      "epoch:187/500 average TL:0.00562757 average VL:0.00491450 epoch time:118 seconds, lr:7.30e-04\n",
      "epoch:188/500 average TL:0.00592963 average VL:0.00474635 epoch time:118 seconds, lr:7.27e-04\n",
      "epoch:189/500 average TL:0.00576961 average VL:0.00495769 epoch time:118 seconds, lr:7.24e-04\n",
      "epoch:190/500 average TL:0.00563441 average VL:0.00523647 epoch time:118 seconds, lr:7.21e-04\n",
      "epoch:191/500 average TL:0.00581163 average VL:0.00474847 epoch time:119 seconds, lr:7.18e-04\n",
      "epoch:192/500 average TL:0.00563310 average VL:0.00498086 epoch time:118 seconds, lr:7.16e-04\n",
      "epoch:193/500 average TL:0.00556300 average VL:0.00472100 epoch time:119 seconds, lr:7.13e-04\n",
      "epoch:194/500 average TL:0.00563269 average VL:0.00477414 epoch time:119 seconds, lr:7.10e-04\n",
      "epoch:195/500 average TL:0.00561312 average VL:0.00485608 epoch time:119 seconds, lr:7.07e-04\n",
      "epoch:196/500 average TL:0.00531011 average VL:0.00462457 epoch time:118 seconds, lr:7.04e-04\n",
      "epoch:197/500 average TL:0.00559168 average VL:0.00459490 epoch time:118 seconds, lr:7.01e-04\n",
      "epoch:198/500 average TL:0.00595742 average VL:0.00430382 epoch time:118 seconds, lr:6.98e-04\n",
      "epoch:199/500 average TL:0.00543567 average VL:0.00544883 epoch time:119 seconds, lr:6.95e-04\n",
      "epoch:200/500 average TL:0.00562053 average VL:0.00487142 epoch time:118 seconds, lr:6.92e-04\n",
      "epoch:201/500 average TL:0.00515590 average VL:0.00504754 epoch time:119 seconds, lr:6.89e-04\n",
      "epoch:202/500 average TL:0.00538051 average VL:0.00494065 epoch time:118 seconds, lr:6.86e-04\n",
      "epoch:203/500 average TL:0.00541986 average VL:0.00464274 epoch time:119 seconds, lr:6.83e-04\n",
      "epoch:204/500 average TL:0.00573642 average VL:0.00471672 epoch time:119 seconds, lr:6.80e-04\n",
      "epoch:205/500 average TL:0.00567458 average VL:0.00445503 epoch time:119 seconds, lr:6.76e-04\n",
      "epoch:206/500 average TL:0.00563463 average VL:0.00455623 epoch time:118 seconds, lr:6.73e-04\n",
      "epoch:207/500 average TL:0.00548469 average VL:0.00440004 epoch time:119 seconds, lr:6.70e-04\n",
      "epoch:208/500 average TL:0.00564351 average VL:0.00464237 epoch time:118 seconds, lr:6.67e-04\n",
      "epoch:209/500 average TL:0.00575261 average VL:0.00508384 epoch time:119 seconds, lr:6.64e-04\n",
      "epoch:210/500 average TL:0.00574752 average VL:0.00514539 epoch time:118 seconds, lr:6.61e-04\n",
      "epoch:211/500 average TL:0.00563033 average VL:0.00486809 epoch time:119 seconds, lr:6.58e-04\n",
      "epoch:212/500 average TL:0.00561814 average VL:0.00465458 epoch time:119 seconds, lr:6.55e-04\n",
      "epoch:213/500 average TL:0.00515614 average VL:0.00473536 epoch time:118 seconds, lr:6.52e-04\n",
      "epoch:214/500 average TL:0.00559347 average VL:0.00479670 epoch time:118 seconds, lr:6.49e-04\n",
      "epoch:215/500 average TL:0.00539367 average VL:0.00465218 epoch time:119 seconds, lr:6.45e-04\n",
      "epoch:216/500 average TL:0.00550297 average VL:0.00437597 epoch time:118 seconds, lr:6.42e-04\n",
      "epoch:217/500 average TL:0.00544101 average VL:0.00485591 epoch time:119 seconds, lr:6.39e-04\n",
      "epoch:218/500 average TL:0.00524603 average VL:0.00457684 epoch time:118 seconds, lr:6.36e-04\n",
      "epoch:219/500 average TL:0.00575703 average VL:0.00464499 epoch time:119 seconds, lr:6.33e-04\n",
      "epoch:220/500 average TL:0.00524287 average VL:0.00454645 epoch time:118 seconds, lr:6.30e-04\n",
      "epoch:221/500 average TL:0.00569489 average VL:0.00393698 epoch time:118 seconds, lr:6.27e-04\n",
      "epoch:222/500 average TL:0.00531211 average VL:0.00446381 epoch time:119 seconds, lr:6.23e-04\n",
      "epoch:223/500 average TL:0.00574725 average VL:0.00474530 epoch time:118 seconds, lr:6.20e-04\n",
      "epoch:224/500 average TL:0.00500753 average VL:0.00426978 epoch time:118 seconds, lr:6.17e-04\n",
      "epoch:225/500 average TL:0.00528445 average VL:0.00480902 epoch time:118 seconds, lr:6.14e-04\n",
      "epoch:226/500 average TL:0.00534369 average VL:0.00468772 epoch time:118 seconds, lr:6.11e-04\n",
      "epoch:227/500 average TL:0.00509354 average VL:0.00401221 epoch time:118 seconds, lr:6.08e-04\n",
      "epoch:228/500 average TL:0.00540446 average VL:0.00467711 epoch time:118 seconds, lr:6.04e-04\n",
      "epoch:229/500 average TL:0.00564798 average VL:0.00450830 epoch time:118 seconds, lr:6.01e-04\n",
      "epoch:230/500 average TL:0.00535946 average VL:0.00444987 epoch time:119 seconds, lr:5.98e-04\n",
      "epoch:231/500 average TL:0.00523436 average VL:0.00438080 epoch time:119 seconds, lr:5.95e-04\n",
      "epoch:232/500 average TL:0.00525889 average VL:0.00463034 epoch time:119 seconds, lr:5.92e-04\n",
      "epoch:233/500 average TL:0.00499017 average VL:0.00503822 epoch time:118 seconds, lr:5.88e-04\n",
      "epoch:234/500 average TL:0.00520406 average VL:0.00466918 epoch time:118 seconds, lr:5.85e-04\n",
      "epoch:235/500 average TL:0.00510152 average VL:0.00431563 epoch time:118 seconds, lr:5.82e-04\n",
      "epoch:236/500 average TL:0.00531429 average VL:0.00425209 epoch time:119 seconds, lr:5.79e-04\n",
      "epoch:237/500 average TL:0.00516032 average VL:0.00483780 epoch time:118 seconds, lr:5.75e-04\n",
      "epoch:238/500 average TL:0.00518938 average VL:0.00467986 epoch time:119 seconds, lr:5.72e-04\n",
      "epoch:239/500 average TL:0.00520420 average VL:0.00439425 epoch time:117 seconds, lr:5.69e-04\n",
      "epoch:240/500 average TL:0.00501498 average VL:0.00406187 epoch time:118 seconds, lr:5.66e-04\n",
      "epoch:241/500 average TL:0.00490630 average VL:0.00425263 epoch time:118 seconds, lr:5.62e-04\n",
      "epoch:242/500 average TL:0.00503027 average VL:0.00422832 epoch time:118 seconds, lr:5.59e-04\n",
      "epoch:243/500 average TL:0.00505081 average VL:0.00432143 epoch time:119 seconds, lr:5.56e-04\n",
      "epoch:244/500 average TL:0.00518665 average VL:0.00442018 epoch time:118 seconds, lr:5.53e-04\n",
      "epoch:245/500 average TL:0.00506248 average VL:0.00435291 epoch time:119 seconds, lr:5.49e-04\n",
      "epoch:246/500 average TL:0.00526193 average VL:0.00404490 epoch time:119 seconds, lr:5.46e-04\n",
      "epoch:247/500 average TL:0.00485809 average VL:0.00403042 epoch time:118 seconds, lr:5.43e-04\n",
      "epoch:248/500 average TL:0.00501831 average VL:0.00418925 epoch time:118 seconds, lr:5.40e-04\n",
      "epoch:249/500 average TL:0.00508090 average VL:0.00402106 epoch time:118 seconds, lr:5.36e-04\n",
      "epoch:250/500 average TL:0.00529602 average VL:0.00462969 epoch time:119 seconds, lr:5.33e-04\n",
      "epoch:251/500 average TL:0.00496990 average VL:0.00374230 epoch time:118 seconds, lr:5.30e-04\n",
      "epoch:252/500 average TL:0.00524432 average VL:0.00482669 epoch time:119 seconds, lr:5.27e-04\n",
      "epoch:253/500 average TL:0.00504759 average VL:0.00446849 epoch time:118 seconds, lr:5.23e-04\n",
      "epoch:254/500 average TL:0.00509337 average VL:0.00425360 epoch time:117 seconds, lr:5.20e-04\n",
      "epoch:255/500 average TL:0.00501500 average VL:0.00489543 epoch time:118 seconds, lr:5.17e-04\n",
      "epoch:256/500 average TL:0.00527801 average VL:0.00431001 epoch time:118 seconds, lr:5.14e-04\n",
      "epoch:257/500 average TL:0.00514976 average VL:0.00471707 epoch time:118 seconds, lr:5.10e-04\n",
      "epoch:258/500 average TL:0.00504961 average VL:0.00433119 epoch time:118 seconds, lr:5.07e-04\n",
      "epoch:259/500 average TL:0.00527773 average VL:0.00440626 epoch time:118 seconds, lr:5.04e-04\n",
      "epoch:260/500 average TL:0.00501647 average VL:0.00480604 epoch time:118 seconds, lr:5.01e-04\n",
      "epoch:261/500 average TL:0.00490449 average VL:0.00449140 epoch time:118 seconds, lr:4.97e-04\n",
      "epoch:262/500 average TL:0.00512215 average VL:0.00433246 epoch time:118 seconds, lr:4.94e-04\n",
      "epoch:263/500 average TL:0.00499727 average VL:0.00437079 epoch time:118 seconds, lr:4.91e-04\n",
      "epoch:264/500 average TL:0.00513441 average VL:0.00459509 epoch time:118 seconds, lr:4.87e-04\n",
      "epoch:265/500 average TL:0.00502395 average VL:0.00432313 epoch time:118 seconds, lr:4.84e-04\n"
     ]
    },
    {
     "name": "stdout",
     "output_type": "stream",
     "text": [
      "epoch:266/500 average TL:0.00456886 average VL:0.00439357 epoch time:118 seconds, lr:4.81e-04\n",
      "epoch:267/500 average TL:0.00496181 average VL:0.00407599 epoch time:118 seconds, lr:4.78e-04\n",
      "epoch:268/500 average TL:0.00495927 average VL:0.00469776 epoch time:118 seconds, lr:4.74e-04\n",
      "epoch:269/500 average TL:0.00504953 average VL:0.00417646 epoch time:119 seconds, lr:4.71e-04\n",
      "epoch:270/500 average TL:0.00510328 average VL:0.00383853 epoch time:118 seconds, lr:4.68e-04\n",
      "epoch:271/500 average TL:0.00508723 average VL:0.00411784 epoch time:119 seconds, lr:4.65e-04\n",
      "epoch:272/500 average TL:0.00471270 average VL:0.00379753 epoch time:119 seconds, lr:4.61e-04\n",
      "epoch:273/500 average TL:0.00491180 average VL:0.00428240 epoch time:118 seconds, lr:4.58e-04\n",
      "epoch:274/500 average TL:0.00497639 average VL:0.00405843 epoch time:118 seconds, lr:4.55e-04\n",
      "epoch:275/500 average TL:0.00485293 average VL:0.00458032 epoch time:119 seconds, lr:4.52e-04\n",
      "epoch:276/500 average TL:0.00492482 average VL:0.00396365 epoch time:119 seconds, lr:4.48e-04\n",
      "epoch:277/500 average TL:0.00499870 average VL:0.00444227 epoch time:119 seconds, lr:4.45e-04\n",
      "epoch:278/500 average TL:0.00476728 average VL:0.00447671 epoch time:118 seconds, lr:4.42e-04\n",
      "epoch:279/500 average TL:0.00471690 average VL:0.00378655 epoch time:119 seconds, lr:4.39e-04\n",
      "epoch:280/500 average TL:0.00497267 average VL:0.00457170 epoch time:118 seconds, lr:4.35e-04\n",
      "epoch:281/500 average TL:0.00517259 average VL:0.00408957 epoch time:118 seconds, lr:4.32e-04\n",
      "epoch:282/500 average TL:0.00490558 average VL:0.00405679 epoch time:118 seconds, lr:4.29e-04\n",
      "epoch:283/500 average TL:0.00487605 average VL:0.00406437 epoch time:118 seconds, lr:4.26e-04\n",
      "epoch:284/500 average TL:0.00483875 average VL:0.00381081 epoch time:118 seconds, lr:4.22e-04\n",
      "epoch:285/500 average TL:0.00505657 average VL:0.00363537 epoch time:119 seconds, lr:4.19e-04\n",
      "epoch:286/500 average TL:0.00511405 average VL:0.00424642 epoch time:118 seconds, lr:4.16e-04\n",
      "epoch:287/500 average TL:0.00477235 average VL:0.00421788 epoch time:119 seconds, lr:4.13e-04\n",
      "epoch:288/500 average TL:0.00478264 average VL:0.00423585 epoch time:118 seconds, lr:4.09e-04\n",
      "epoch:289/500 average TL:0.00501413 average VL:0.00446014 epoch time:119 seconds, lr:4.06e-04\n",
      "epoch:290/500 average TL:0.00505889 average VL:0.00397837 epoch time:118 seconds, lr:4.03e-04\n",
      "epoch:291/500 average TL:0.00495346 average VL:0.00456474 epoch time:118 seconds, lr:4.00e-04\n",
      "epoch:292/500 average TL:0.00466630 average VL:0.00426744 epoch time:118 seconds, lr:3.97e-04\n",
      "epoch:293/500 average TL:0.00509229 average VL:0.00420292 epoch time:118 seconds, lr:3.93e-04\n",
      "epoch:294/500 average TL:0.00483544 average VL:0.00397940 epoch time:118 seconds, lr:3.90e-04\n",
      "epoch:295/500 average TL:0.00467343 average VL:0.00410581 epoch time:119 seconds, lr:3.87e-04\n",
      "epoch:296/500 average TL:0.00463486 average VL:0.00392010 epoch time:118 seconds, lr:3.84e-04\n",
      "epoch:297/500 average TL:0.00487216 average VL:0.00476542 epoch time:119 seconds, lr:3.81e-04\n",
      "epoch:298/500 average TL:0.00461972 average VL:0.00435937 epoch time:118 seconds, lr:3.78e-04\n",
      "epoch:299/500 average TL:0.00494881 average VL:0.00485434 epoch time:119 seconds, lr:3.74e-04\n",
      "epoch:300/500 average TL:0.00477370 average VL:0.00435607 epoch time:119 seconds, lr:3.71e-04\n",
      "epoch:301/500 average TL:0.00483099 average VL:0.00378875 epoch time:117 seconds, lr:3.68e-04\n",
      "epoch:302/500 average TL:0.00490051 average VL:0.00388856 epoch time:118 seconds, lr:3.65e-04\n",
      "epoch:303/500 average TL:0.00506356 average VL:0.00474887 epoch time:118 seconds, lr:3.62e-04\n",
      "epoch:304/500 average TL:0.00463356 average VL:0.00386420 epoch time:119 seconds, lr:3.59e-04\n",
      "epoch:305/500 average TL:0.00486734 average VL:0.00449115 epoch time:118 seconds, lr:3.56e-04\n",
      "epoch:306/500 average TL:0.00442757 average VL:0.00416681 epoch time:118 seconds, lr:3.52e-04\n",
      "epoch:307/500 average TL:0.00489018 average VL:0.00368917 epoch time:119 seconds, lr:3.49e-04\n",
      "epoch:308/500 average TL:0.00476805 average VL:0.00374778 epoch time:119 seconds, lr:3.46e-04\n",
      "epoch:309/500 average TL:0.00444964 average VL:0.00381199 epoch time:118 seconds, lr:3.43e-04\n",
      "epoch:310/500 average TL:0.00502344 average VL:0.00403665 epoch time:119 seconds, lr:3.40e-04\n",
      "epoch:311/500 average TL:0.00487439 average VL:0.00392976 epoch time:118 seconds, lr:3.37e-04\n",
      "epoch:312/500 average TL:0.00461821 average VL:0.00434865 epoch time:118 seconds, lr:3.34e-04\n",
      "epoch:313/500 average TL:0.00480573 average VL:0.00414059 epoch time:119 seconds, lr:3.31e-04\n",
      "epoch:314/500 average TL:0.00478069 average VL:0.00346943 epoch time:119 seconds, lr:3.28e-04\n",
      "epoch:315/500 average TL:0.00484533 average VL:0.00433550 epoch time:119 seconds, lr:3.25e-04\n",
      "epoch:316/500 average TL:0.00446347 average VL:0.00394717 epoch time:119 seconds, lr:3.21e-04\n",
      "epoch:317/500 average TL:0.00503242 average VL:0.00399565 epoch time:118 seconds, lr:3.18e-04\n",
      "epoch:318/500 average TL:0.00452967 average VL:0.00423668 epoch time:118 seconds, lr:3.15e-04\n",
      "epoch:319/500 average TL:0.00458999 average VL:0.00392644 epoch time:118 seconds, lr:3.12e-04\n",
      "epoch:320/500 average TL:0.00498128 average VL:0.00396084 epoch time:119 seconds, lr:3.09e-04\n",
      "epoch:321/500 average TL:0.00464687 average VL:0.00447058 epoch time:118 seconds, lr:3.06e-04\n",
      "epoch:322/500 average TL:0.00489959 average VL:0.00407367 epoch time:118 seconds, lr:3.03e-04\n",
      "epoch:323/500 average TL:0.00461879 average VL:0.00412545 epoch time:118 seconds, lr:3.00e-04\n",
      "epoch:324/500 average TL:0.00477097 average VL:0.00395799 epoch time:118 seconds, lr:2.97e-04\n",
      "epoch:325/500 average TL:0.00470658 average VL:0.00365772 epoch time:118 seconds, lr:2.94e-04\n",
      "epoch:326/500 average TL:0.00439707 average VL:0.00374305 epoch time:118 seconds, lr:2.91e-04\n",
      "epoch:327/500 average TL:0.00465733 average VL:0.00386532 epoch time:118 seconds, lr:2.88e-04\n",
      "epoch:328/500 average TL:0.00468770 average VL:0.00415655 epoch time:118 seconds, lr:2.85e-04\n",
      "epoch:329/500 average TL:0.00455046 average VL:0.00397128 epoch time:118 seconds, lr:2.83e-04\n",
      "epoch:330/500 average TL:0.00451720 average VL:0.00408366 epoch time:119 seconds, lr:2.80e-04\n",
      "epoch:331/500 average TL:0.00485894 average VL:0.00385200 epoch time:119 seconds, lr:2.77e-04\n",
      "epoch:332/500 average TL:0.00461781 average VL:0.00480087 epoch time:118 seconds, lr:2.74e-04\n",
      "epoch:333/500 average TL:0.00458309 average VL:0.00404087 epoch time:118 seconds, lr:2.71e-04\n",
      "epoch:334/500 average TL:0.00460665 average VL:0.00390665 epoch time:119 seconds, lr:2.68e-04\n",
      "epoch:335/500 average TL:0.00482599 average VL:0.00385853 epoch time:118 seconds, lr:2.65e-04\n",
      "epoch:336/500 average TL:0.00484262 average VL:0.00371074 epoch time:119 seconds, lr:2.62e-04\n",
      "epoch:337/500 average TL:0.00485315 average VL:0.00465267 epoch time:118 seconds, lr:2.59e-04\n",
      "epoch:338/500 average TL:0.00464264 average VL:0.00387880 epoch time:118 seconds, lr:2.56e-04\n",
      "epoch:339/500 average TL:0.00425765 average VL:0.00399908 epoch time:119 seconds, lr:2.54e-04\n",
      "epoch:340/500 average TL:0.00459637 average VL:0.00412021 epoch time:118 seconds, lr:2.51e-04\n",
      "epoch:341/500 average TL:0.00445519 average VL:0.00437881 epoch time:118 seconds, lr:2.48e-04\n",
      "epoch:342/500 average TL:0.00451541 average VL:0.00365083 epoch time:118 seconds, lr:2.45e-04\n",
      "epoch:343/500 average TL:0.00488124 average VL:0.00380841 epoch time:118 seconds, lr:2.42e-04\n",
      "epoch:344/500 average TL:0.00459243 average VL:0.00445321 epoch time:118 seconds, lr:2.40e-04\n",
      "epoch:345/500 average TL:0.00476933 average VL:0.00392194 epoch time:118 seconds, lr:2.37e-04\n",
      "epoch:346/500 average TL:0.00499729 average VL:0.00360113 epoch time:118 seconds, lr:2.34e-04\n",
      "epoch:347/500 average TL:0.00451518 average VL:0.00413679 epoch time:118 seconds, lr:2.31e-04\n",
      "epoch:348/500 average TL:0.00471882 average VL:0.00385406 epoch time:118 seconds, lr:2.28e-04\n",
      "epoch:349/500 average TL:0.00445202 average VL:0.00380298 epoch time:119 seconds, lr:2.26e-04\n",
      "epoch:350/500 average TL:0.00463978 average VL:0.00376374 epoch time:118 seconds, lr:2.23e-04\n",
      "epoch:351/500 average TL:0.00446386 average VL:0.00385263 epoch time:118 seconds, lr:2.20e-04\n",
      "epoch:352/500 average TL:0.00479657 average VL:0.00396843 epoch time:118 seconds, lr:2.18e-04\n",
      "epoch:353/500 average TL:0.00442807 average VL:0.00365418 epoch time:118 seconds, lr:2.15e-04\n"
     ]
    },
    {
     "name": "stdout",
     "output_type": "stream",
     "text": [
      "epoch:354/500 average TL:0.00477021 average VL:0.00417346 epoch time:118 seconds, lr:2.12e-04\n",
      "epoch:355/500 average TL:0.00427718 average VL:0.00379808 epoch time:118 seconds, lr:2.10e-04\n",
      "epoch:356/500 average TL:0.00443783 average VL:0.00368138 epoch time:118 seconds, lr:2.07e-04\n",
      "epoch:357/500 average TL:0.00466539 average VL:0.00410722 epoch time:118 seconds, lr:2.04e-04\n",
      "epoch:358/500 average TL:0.00449112 average VL:0.00401578 epoch time:118 seconds, lr:2.02e-04\n",
      "epoch:359/500 average TL:0.00439332 average VL:0.00351695 epoch time:118 seconds, lr:1.99e-04\n",
      "epoch:360/500 average TL:0.00464836 average VL:0.00375242 epoch time:118 seconds, lr:1.96e-04\n",
      "epoch:361/500 average TL:0.00430143 average VL:0.00354466 epoch time:118 seconds, lr:1.94e-04\n",
      "epoch:362/500 average TL:0.00477894 average VL:0.00421147 epoch time:118 seconds, lr:1.91e-04\n",
      "epoch:363/500 average TL:0.00427135 average VL:0.00449783 epoch time:118 seconds, lr:1.89e-04\n",
      "epoch:364/500 average TL:0.00480370 average VL:0.00397849 epoch time:118 seconds, lr:1.86e-04\n",
      "epoch:365/500 average TL:0.00456497 average VL:0.00372943 epoch time:118 seconds, lr:1.84e-04\n",
      "epoch:366/500 average TL:0.00455151 average VL:0.00417107 epoch time:118 seconds, lr:1.81e-04\n",
      "epoch:367/500 average TL:0.00436333 average VL:0.00434907 epoch time:119 seconds, lr:1.79e-04\n",
      "epoch:368/500 average TL:0.00461419 average VL:0.00390709 epoch time:118 seconds, lr:1.76e-04\n",
      "epoch:369/500 average TL:0.00466488 average VL:0.00391877 epoch time:118 seconds, lr:1.74e-04\n",
      "epoch:370/500 average TL:0.00457815 average VL:0.00403207 epoch time:118 seconds, lr:1.71e-04\n",
      "epoch:371/500 average TL:0.00434682 average VL:0.00359419 epoch time:118 seconds, lr:1.69e-04\n",
      "epoch:372/500 average TL:0.00457197 average VL:0.00363452 epoch time:118 seconds, lr:1.66e-04\n",
      "epoch:373/500 average TL:0.00460347 average VL:0.00342840 epoch time:118 seconds, lr:1.64e-04\n",
      "epoch:374/500 average TL:0.00430004 average VL:0.00388882 epoch time:118 seconds, lr:1.61e-04\n",
      "epoch:375/500 average TL:0.00456449 average VL:0.00442652 epoch time:118 seconds, lr:1.59e-04\n",
      "epoch:376/500 average TL:0.00476839 average VL:0.00384851 epoch time:118 seconds, lr:1.57e-04\n",
      "epoch:377/500 average TL:0.00446332 average VL:0.00391654 epoch time:119 seconds, lr:1.54e-04\n",
      "epoch:378/500 average TL:0.00478428 average VL:0.00407546 epoch time:119 seconds, lr:1.52e-04\n",
      "epoch:379/500 average TL:0.00464241 average VL:0.00391737 epoch time:118 seconds, lr:1.50e-04\n",
      "epoch:380/500 average TL:0.00458981 average VL:0.00386383 epoch time:118 seconds, lr:1.47e-04\n",
      "epoch:381/500 average TL:0.00458119 average VL:0.00414847 epoch time:118 seconds, lr:1.45e-04\n",
      "epoch:382/500 average TL:0.00451417 average VL:0.00369616 epoch time:119 seconds, lr:1.43e-04\n",
      "epoch:383/500 average TL:0.00466971 average VL:0.00405950 epoch time:118 seconds, lr:1.40e-04\n",
      "epoch:384/500 average TL:0.00464393 average VL:0.00368920 epoch time:118 seconds, lr:1.38e-04\n",
      "epoch:385/500 average TL:0.00416551 average VL:0.00401789 epoch time:119 seconds, lr:1.36e-04\n",
      "epoch:386/500 average TL:0.00460868 average VL:0.00427411 epoch time:118 seconds, lr:1.34e-04\n",
      "epoch:387/500 average TL:0.00452702 average VL:0.00408248 epoch time:118 seconds, lr:1.31e-04\n",
      "epoch:388/500 average TL:0.00462117 average VL:0.00372602 epoch time:118 seconds, lr:1.29e-04\n",
      "epoch:389/500 average TL:0.00465817 average VL:0.00367553 epoch time:119 seconds, lr:1.27e-04\n",
      "epoch:390/500 average TL:0.00476700 average VL:0.00370800 epoch time:119 seconds, lr:1.25e-04\n",
      "epoch:391/500 average TL:0.00443086 average VL:0.00428507 epoch time:118 seconds, lr:1.23e-04\n",
      "epoch:392/500 average TL:0.00434708 average VL:0.00377463 epoch time:118 seconds, lr:1.21e-04\n",
      "epoch:393/500 average TL:0.00436210 average VL:0.00367684 epoch time:119 seconds, lr:1.19e-04\n",
      "epoch:394/500 average TL:0.00460677 average VL:0.00400716 epoch time:119 seconds, lr:1.16e-04\n",
      "epoch:395/500 average TL:0.00455158 average VL:0.00357086 epoch time:118 seconds, lr:1.14e-04\n",
      "epoch:396/500 average TL:0.00428244 average VL:0.00405230 epoch time:119 seconds, lr:1.12e-04\n",
      "epoch:397/500 average TL:0.00446761 average VL:0.00376142 epoch time:118 seconds, lr:1.10e-04\n",
      "epoch:398/500 average TL:0.00496412 average VL:0.00338403 epoch time:119 seconds, lr:1.08e-04\n",
      "epoch:399/500 average TL:0.00429482 average VL:0.00416028 epoch time:119 seconds, lr:1.06e-04\n",
      "epoch:400/500 average TL:0.00457758 average VL:0.00393406 epoch time:118 seconds, lr:1.04e-04\n",
      "epoch:401/500 average TL:0.00430166 average VL:0.00368881 epoch time:118 seconds, lr:1.02e-04\n",
      "epoch:402/500 average TL:0.00446839 average VL:0.00354384 epoch time:118 seconds, lr:1.00e-04\n",
      "epoch:403/500 average TL:0.00446636 average VL:0.00371039 epoch time:118 seconds, lr:9.83e-05\n",
      "epoch:404/500 average TL:0.00438926 average VL:0.00386797 epoch time:119 seconds, lr:9.64e-05\n",
      "epoch:405/500 average TL:0.00456271 average VL:0.00396737 epoch time:118 seconds, lr:9.45e-05\n",
      "epoch:406/500 average TL:0.00436154 average VL:0.00373853 epoch time:119 seconds, lr:9.26e-05\n",
      "epoch:407/500 average TL:0.00440494 average VL:0.00429339 epoch time:118 seconds, lr:9.07e-05\n",
      "epoch:408/500 average TL:0.00433594 average VL:0.00364812 epoch time:118 seconds, lr:8.88e-05\n",
      "epoch:409/500 average TL:0.00430806 average VL:0.00401329 epoch time:118 seconds, lr:8.70e-05\n",
      "epoch:410/500 average TL:0.00435294 average VL:0.00377564 epoch time:118 seconds, lr:8.52e-05\n",
      "epoch:411/500 average TL:0.00427558 average VL:0.00357027 epoch time:119 seconds, lr:8.34e-05\n",
      "epoch:412/500 average TL:0.00439439 average VL:0.00349565 epoch time:119 seconds, lr:8.16e-05\n",
      "epoch:413/500 average TL:0.00460947 average VL:0.00411263 epoch time:118 seconds, lr:7.98e-05\n",
      "epoch:414/500 average TL:0.00457234 average VL:0.00369828 epoch time:118 seconds, lr:7.81e-05\n",
      "epoch:415/500 average TL:0.00435819 average VL:0.00402373 epoch time:118 seconds, lr:7.63e-05\n",
      "epoch:416/500 average TL:0.00438074 average VL:0.00348955 epoch time:118 seconds, lr:7.46e-05\n",
      "epoch:417/500 average TL:0.00467281 average VL:0.00374975 epoch time:119 seconds, lr:7.29e-05\n",
      "epoch:418/500 average TL:0.00438171 average VL:0.00391943 epoch time:118 seconds, lr:7.12e-05\n",
      "epoch:419/500 average TL:0.00456299 average VL:0.00404083 epoch time:118 seconds, lr:6.96e-05\n",
      "epoch:420/500 average TL:0.00448734 average VL:0.00356440 epoch time:118 seconds, lr:6.79e-05\n",
      "epoch:421/500 average TL:0.00461226 average VL:0.00339271 epoch time:118 seconds, lr:6.63e-05\n",
      "epoch:422/500 average TL:0.00473659 average VL:0.00329617 epoch time:118 seconds, lr:6.47e-05\n",
      "epoch:423/500 average TL:0.00442375 average VL:0.00368633 epoch time:118 seconds, lr:6.31e-05\n",
      "epoch:424/500 average TL:0.00423958 average VL:0.00388386 epoch time:118 seconds, lr:6.15e-05\n",
      "epoch:425/500 average TL:0.00446772 average VL:0.00371853 epoch time:118 seconds, lr:6.00e-05\n",
      "epoch:426/500 average TL:0.00422146 average VL:0.00344149 epoch time:118 seconds, lr:5.84e-05\n",
      "epoch:427/500 average TL:0.00414390 average VL:0.00399348 epoch time:119 seconds, lr:5.69e-05\n",
      "epoch:428/500 average TL:0.00451150 average VL:0.00382938 epoch time:118 seconds, lr:5.54e-05\n",
      "epoch:429/500 average TL:0.00437673 average VL:0.00377583 epoch time:119 seconds, lr:5.40e-05\n",
      "epoch:430/500 average TL:0.00442786 average VL:0.00322062 epoch time:119 seconds, lr:5.25e-05\n",
      "epoch:431/500 average TL:0.00457390 average VL:0.00428874 epoch time:118 seconds, lr:5.11e-05\n",
      "epoch:432/500 average TL:0.00418664 average VL:0.00374798 epoch time:119 seconds, lr:4.97e-05\n",
      "epoch:433/500 average TL:0.00471724 average VL:0.00396841 epoch time:119 seconds, lr:4.83e-05\n",
      "epoch:434/500 average TL:0.00434007 average VL:0.00372245 epoch time:118 seconds, lr:4.69e-05\n",
      "epoch:435/500 average TL:0.00454056 average VL:0.00384239 epoch time:118 seconds, lr:4.55e-05\n",
      "epoch:436/500 average TL:0.00444330 average VL:0.00403459 epoch time:118 seconds, lr:4.42e-05\n",
      "epoch:437/500 average TL:0.00431751 average VL:0.00376161 epoch time:118 seconds, lr:4.29e-05\n",
      "epoch:438/500 average TL:0.00439839 average VL:0.00356060 epoch time:118 seconds, lr:4.16e-05\n",
      "epoch:439/500 average TL:0.00448193 average VL:0.00376260 epoch time:118 seconds, lr:4.03e-05\n",
      "epoch:440/500 average TL:0.00455025 average VL:0.00371179 epoch time:118 seconds, lr:3.90e-05\n",
      "epoch:441/500 average TL:0.00448749 average VL:0.00363224 epoch time:119 seconds, lr:3.78e-05\n"
     ]
    },
    {
     "name": "stdout",
     "output_type": "stream",
     "text": [
      "epoch:442/500 average TL:0.00457895 average VL:0.00381063 epoch time:118 seconds, lr:3.66e-05\n",
      "epoch:443/500 average TL:0.00430941 average VL:0.00403072 epoch time:119 seconds, lr:3.54e-05\n",
      "epoch:444/500 average TL:0.00438517 average VL:0.00367442 epoch time:118 seconds, lr:3.42e-05\n",
      "epoch:445/500 average TL:0.00471785 average VL:0.00366051 epoch time:118 seconds, lr:3.30e-05\n",
      "epoch:446/500 average TL:0.00442145 average VL:0.00397447 epoch time:118 seconds, lr:3.19e-05\n",
      "epoch:447/500 average TL:0.00424697 average VL:0.00355926 epoch time:118 seconds, lr:3.08e-05\n",
      "epoch:448/500 average TL:0.00425764 average VL:0.00362012 epoch time:118 seconds, lr:2.97e-05\n",
      "epoch:449/500 average TL:0.00438738 average VL:0.00362757 epoch time:118 seconds, lr:2.86e-05\n",
      "epoch:450/500 average TL:0.00427472 average VL:0.00400913 epoch time:118 seconds, lr:2.75e-05\n",
      "epoch:451/500 average TL:0.00466704 average VL:0.00376670 epoch time:119 seconds, lr:2.65e-05\n",
      "epoch:452/500 average TL:0.00429624 average VL:0.00378689 epoch time:118 seconds, lr:2.54e-05\n",
      "epoch:453/500 average TL:0.00421128 average VL:0.00424746 epoch time:119 seconds, lr:2.44e-05\n",
      "epoch:454/500 average TL:0.00431472 average VL:0.00379310 epoch time:118 seconds, lr:2.35e-05\n",
      "epoch:455/500 average TL:0.00443693 average VL:0.00350004 epoch time:119 seconds, lr:2.25e-05\n",
      "epoch:456/500 average TL:0.00428742 average VL:0.00373489 epoch time:119 seconds, lr:2.16e-05\n",
      "epoch:457/500 average TL:0.00431863 average VL:0.00399275 epoch time:118 seconds, lr:2.07e-05\n",
      "epoch:458/500 average TL:0.00427513 average VL:0.00350658 epoch time:118 seconds, lr:1.98e-05\n",
      "epoch:459/500 average TL:0.00446637 average VL:0.00398193 epoch time:118 seconds, lr:1.89e-05\n",
      "epoch:460/500 average TL:0.00424116 average VL:0.00372699 epoch time:118 seconds, lr:1.80e-05\n",
      "epoch:461/500 average TL:0.00466840 average VL:0.00360616 epoch time:118 seconds, lr:1.72e-05\n",
      "epoch:462/500 average TL:0.00434394 average VL:0.00401731 epoch time:118 seconds, lr:1.64e-05\n",
      "epoch:463/500 average TL:0.00435778 average VL:0.00378466 epoch time:118 seconds, lr:1.56e-05\n",
      "epoch:464/500 average TL:0.00438130 average VL:0.00390595 epoch time:118 seconds, lr:1.48e-05\n",
      "epoch:465/500 average TL:0.00447331 average VL:0.00359979 epoch time:118 seconds, lr:1.40e-05\n",
      "epoch:466/500 average TL:0.00415628 average VL:0.00388234 epoch time:118 seconds, lr:1.33e-05\n",
      "epoch:467/500 average TL:0.00442222 average VL:0.00361326 epoch time:118 seconds, lr:1.26e-05\n",
      "epoch:468/500 average TL:0.00446944 average VL:0.00398952 epoch time:118 seconds, lr:1.19e-05\n",
      "epoch:469/500 average TL:0.00428824 average VL:0.00373265 epoch time:118 seconds, lr:1.12e-05\n",
      "epoch:470/500 average TL:0.00441421 average VL:0.00377000 epoch time:118 seconds, lr:1.06e-05\n",
      "epoch:471/500 average TL:0.00451009 average VL:0.00368637 epoch time:118 seconds, lr:9.97e-06\n",
      "epoch:472/500 average TL:0.00458163 average VL:0.00347598 epoch time:118 seconds, lr:9.36e-06\n",
      "epoch:473/500 average TL:0.00442973 average VL:0.00356242 epoch time:118 seconds, lr:8.78e-06\n",
      "epoch:474/500 average TL:0.00459044 average VL:0.00404217 epoch time:119 seconds, lr:8.21e-06\n",
      "epoch:475/500 average TL:0.00430012 average VL:0.00374483 epoch time:118 seconds, lr:7.67e-06\n",
      "epoch:476/500 average TL:0.00431112 average VL:0.00357361 epoch time:120 seconds, lr:7.15e-06\n",
      "epoch:477/500 average TL:0.00421391 average VL:0.00362746 epoch time:119 seconds, lr:6.65e-06\n",
      "epoch:478/500 average TL:0.00433322 average VL:0.00374463 epoch time:119 seconds, lr:6.17e-06\n",
      "epoch:479/500 average TL:0.00463493 average VL:0.00418741 epoch time:119 seconds, lr:5.71e-06\n",
      "epoch:480/500 average TL:0.00435997 average VL:0.00352119 epoch time:119 seconds, lr:5.27e-06\n",
      "epoch:481/500 average TL:0.00433489 average VL:0.00389987 epoch time:119 seconds, lr:4.86e-06\n",
      "epoch:482/500 average TL:0.00447501 average VL:0.00349705 epoch time:119 seconds, lr:4.46e-06\n",
      "epoch:483/500 average TL:0.00449135 average VL:0.00368447 epoch time:119 seconds, lr:4.09e-06\n",
      "epoch:484/500 average TL:0.00460753 average VL:0.00346587 epoch time:119 seconds, lr:3.74e-06\n",
      "epoch:485/500 average TL:0.00420113 average VL:0.00405603 epoch time:119 seconds, lr:3.41e-06\n",
      "epoch:486/500 average TL:0.00458784 average VL:0.00375989 epoch time:118 seconds, lr:3.10e-06\n",
      "epoch:487/500 average TL:0.00437461 average VL:0.00393854 epoch time:119 seconds, lr:2.81e-06\n",
      "epoch:488/500 average TL:0.00440912 average VL:0.00429810 epoch time:119 seconds, lr:2.54e-06\n",
      "epoch:489/500 average TL:0.00434307 average VL:0.00395730 epoch time:118 seconds, lr:2.29e-06\n",
      "epoch:490/500 average TL:0.00419033 average VL:0.00369804 epoch time:119 seconds, lr:2.07e-06\n",
      "epoch:491/500 average TL:0.00440644 average VL:0.00339788 epoch time:119 seconds, lr:1.87e-06\n",
      "epoch:492/500 average TL:0.00421846 average VL:0.00390262 epoch time:118 seconds, lr:1.68e-06\n",
      "epoch:493/500 average TL:0.00419255 average VL:0.00380752 epoch time:119 seconds, lr:1.52e-06\n",
      "epoch:494/500 average TL:0.00455221 average VL:0.00387966 epoch time:119 seconds, lr:1.39e-06\n",
      "epoch:495/500 average TL:0.00468619 average VL:0.00409372 epoch time:119 seconds, lr:1.27e-06\n",
      "epoch:496/500 average TL:0.00421353 average VL:0.00383430 epoch time:118 seconds, lr:1.17e-06\n",
      "epoch:497/500 average TL:0.00456138 average VL:0.00381017 epoch time:119 seconds, lr:1.10e-06\n",
      "epoch:498/500 average TL:0.00444728 average VL:0.00361811 epoch time:119 seconds, lr:1.04e-06\n",
      "epoch:499/500 average TL:0.00429193 average VL:0.00362693 epoch time:119 seconds, lr:1.01e-06\n",
      "epoch:500/500 average TL:0.00432521 average VL:0.00384610 epoch time:118 seconds, lr:1.00e-06\n",
      "\n",
      "Duration: 59200 seconds\n"
     ]
    }
   ],
   "source": [
    "start_time = time.time()\n",
    "num_train_batches=len(train_loader)\n",
    "num_test_batches=len(test_loader)\n",
    "train_losses = []\n",
    "val_losses = []\n",
    "patience_counter = 0\n",
    "best_val_loss = float('inf')\n",
    "\n",
    "for i in range(num_epochs):\n",
    "    loss1 = 0\n",
    "    epoch_time = time.time()\n",
    "    model.train()\n",
    "    # Run the training batches\n",
    "    for b, (X_train, y_train) in enumerate(train_loader):  \n",
    "        optimizer.zero_grad()\n",
    "        y_train=y_train.to(device)\n",
    "        # Apply the model\n",
    "        xt=one_hot_encode(X_train.to(device), 4).to(device)\n",
    "        y_pred=model(xt)\n",
    "        #print(y_pred.shape)\n",
    "        yt=one_hot_encode(y_train, 4).to(device)\n",
    "        loss = criterion(y_pred, yt) \n",
    "        # Update parameters\n",
    "        loss.backward()\n",
    "        optimizer.step()\n",
    "        scheduler.step()\n",
    "        loss1=loss1+loss\n",
    "        #if (b+1)%50==1:\n",
    "        #    print(f'epoch: {i+1}/{num_epochs} batch:{b+1}/{num_train_batches} loss: {loss.item():10.8f}')      \n",
    "    train_loss=loss1/num_train_batches  \n",
    "    train_losses.append(train_loss.item())\n",
    "    # Run the testing batches\n",
    "    model.eval()\n",
    "    with torch.no_grad():\n",
    "        loss1=0\n",
    "        for b, (X_test, y_test) in enumerate(test_loader):\n",
    "            y_test=y_test.to(device)\n",
    "            # Apply the model\n",
    "            xt=one_hot_encode(X_test.to(device), 4).to(device)\n",
    "            y_pred=model(xt)\n",
    "            \n",
    "            yt=one_hot_encode(y_test, 4).to(device)\n",
    "            loss = criterion(y_pred, yt) \n",
    "            loss1=loss1+loss         \n",
    "        val_loss=loss1/num_test_batches  \n",
    "        val_losses.append(val_loss.item())\n",
    "    \n",
    "    print(f'epoch:{i+1}/{num_epochs} average TL:{train_loss.item():10.8f} average VL:{val_loss.item():10.8f} epoch time:{time.time() - epoch_time:.0f} seconds, lr:{optimizer.param_groups[0][\"lr\"]:.2e}')               \n",
    "     # Early stopping\n",
    "    if val_loss < best_val_loss:\n",
    "        best_val_loss = val_loss\n",
    "        torch.save(model.state_dict(), path_directory+\"model.pth\")\n",
    "        patience_counter = 0\n",
    "    else:\n",
    "        patience_counter += 1\n",
    "\n",
    "    if patience_counter >= patience:\n",
    "        print(f'Validation loss did not decrease for {patience} epochs. Stopping training.')\n",
    "        break  \n",
    "        \n",
    "print(f'\\nDuration: {time.time() - start_time:.0f} seconds') # print the time elapsed            "
   ]
  },
  {
   "cell_type": "code",
   "execution_count": 29,
   "id": "d1b7ed3f",
   "metadata": {},
   "outputs": [
    {
     "data": {
      "image/png": "[encoded data removed]",
      "text/plain": [
       "<Figure size 640x480 with 1 Axes>"
      ]
     },
     "metadata": {},
     "output_type": "display_data"
    }
   ],
   "source": [
    "# Plotting\n",
    "plt.plot(train_losses, label='Train Loss')\n",
    "plt.plot(val_losses, label='Validation Loss')\n",
    "plt.xlabel('Epoch')\n",
    "plt.ylabel('Loss')\n",
    "plt.legend()\n",
    "plt.grid()\n",
    "plt.show()\n"
   ]
  },
  {
   "cell_type": "code",
   "execution_count": 30,
   "id": "730fe193",
   "metadata": {},
   "outputs": [],
   "source": [
    "dict={'train_losses':train_losses, 'val_losses':val_losses, 'flops':flops, 'parameters':params }"
   ]
  },
  {
   "cell_type": "code",
   "execution_count": 31,
   "id": "82c1c94c",
   "metadata": {},
   "outputs": [],
   "source": [
    "savemat(path_directory+'losses.mat', dict)\n",
    "with open(path_directory+'losses.pkl', 'wb') as file:\n",
    "    \n",
    "    # A new file will be created\n",
    "    pickle.dump(dict, file)"
   ]
  },
  {
   "cell_type": "markdown",
   "id": "486b1334",
   "metadata": {},
   "source": [
    "# Testing"
   ]
  },
  {
   "cell_type": "code",
   "execution_count": 32,
   "id": "0827e8c0",
   "metadata": {},
   "outputs": [
    {
     "data": {
      "text/plain": [
       "<All keys matched successfully>"
      ]
     },
     "execution_count": 32,
     "metadata": {},
     "output_type": "execute_result"
    }
   ],
   "source": [
    "model.load_state_dict(torch.load(path_directory+\"model.pth\"))"
   ]
  },
  {
   "cell_type": "code",
   "execution_count": 33,
   "id": "eefcadef",
   "metadata": {},
   "outputs": [],
   "source": [
    "start_test=1\n",
    "stop_test=4\n",
    "num_test=200000\n",
    "test_error_points=torch.arange(start_test, stop_test+1)\n",
    "#nucleotide error rate\n",
    "ner=torch.zeros((stop_test-start_test+1)).to(device)\n",
    "#sequence error rate\n",
    "ser=torch.zeros((stop_test-start_test+1)).to(device)"
   ]
  },
  {
   "cell_type": "code",
   "execution_count": 34,
   "id": "66257385",
   "metadata": {},
   "outputs": [],
   "source": [
    "def count_different_rows(matrix1, matrix2):\n",
    "    \"\"\"\n",
    "    Calculates the number of rows that are not equal between two 2D PyTorch matrices.\n",
    "\n",
    "    Args:\n",
    "        matrix1 (torch.Tensor): A 2D PyTorch tensor of shape (m, n).\n",
    "        matrix2 (torch.Tensor): A 2D PyTorch tensor of shape (m, n).\n",
    "\n",
    "    Returns:\n",
    "        int: The number of rows that are not equal between the two matrices.\n",
    "    \"\"\"\n",
    "    assert matrix1.shape == matrix2.shape, \"The input matrices must have the same shape.\"\n",
    "    equal_rows = torch.all(matrix1 == matrix2, dim=1)\n",
    "    return matrix1.shape[0] - torch.sum(equal_rows).item()"
   ]
  },
  {
   "cell_type": "code",
   "execution_count": 35,
   "id": "213866b5",
   "metadata": {},
   "outputs": [],
   "source": [
    "i1=0\n",
    "for i in range(start_test, stop_test+1):\n",
    "    test_data1 = LanguageDataset(dicts, num_samples=num_test, num_errors=i)\n",
    "    test_loader1 = DataLoader(test_data1, batch_size=batch_size, shuffle=True)\n",
    "    n_tbatch=len(test_loader1)\n",
    "    ne=0.0\n",
    "    count=0.0\n",
    "    # Run the testing batches\n",
    "    model.eval()\n",
    "    with torch.no_grad():\n",
    "        for b, (X_test, y_test) in enumerate(test_loader1):\n",
    "            y_test=y_test.to(device)\n",
    "            # Apply the model\n",
    "            xt=one_hot_encode(X_test.to(device), 4).to(device)\n",
    "            y_pred=model(xt)\n",
    "            y_pred_d=one_hot_decode(y_pred)\n",
    "            ne=ne+torch.sum(y_pred_d!=y_test).item()\n",
    "            count=count+count_different_rows(y_test,y_pred_d)\n",
    "        ner[i1]=ne/(n_tbatch*batch_size*K)\n",
    "        ser[i1]=count/(n_tbatch*batch_size)\n",
    "    i1=i1+1"
   ]
  },
  {
   "cell_type": "code",
   "execution_count": 36,
   "id": "613b089d",
   "metadata": {},
   "outputs": [],
   "source": [
    "dict1={'ner':torch.Tensor.cpu(ner).numpy(), 'ser':torch.Tensor.cpu(ser).numpy()}"
   ]
  },
  {
   "cell_type": "code",
   "execution_count": 37,
   "id": "947e5ade",
   "metadata": {},
   "outputs": [
    {
     "data": {
      "text/plain": [
       "tensor([0.0000, 0.0000, 0.0002, 0.0389], device='cuda:0')"
      ]
     },
     "execution_count": 37,
     "metadata": {},
     "output_type": "execute_result"
    }
   ],
   "source": [
    "ner"
   ]
  },
  {
   "cell_type": "code",
   "execution_count": 38,
   "id": "fb487284",
   "metadata": {},
   "outputs": [
    {
     "data": {
      "text/plain": [
       "tensor([0.0000, 0.0000, 0.0002, 0.0389], device='cuda:0')"
      ]
     },
     "execution_count": 38,
     "metadata": {},
     "output_type": "execute_result"
    }
   ],
   "source": [
    "ner"
   ]
  },
  {
   "cell_type": "code",
   "execution_count": 39,
   "id": "fbd05713",
   "metadata": {},
   "outputs": [
    {
     "data": {
      "text/plain": [
       "tensor([0.0000, 0.0000, 0.0012, 0.1138], device='cuda:0')"
      ]
     },
     "execution_count": 39,
     "metadata": {},
     "output_type": "execute_result"
    }
   ],
   "source": [
    "ser"
   ]
  },
  {
   "cell_type": "code",
   "execution_count": 40,
   "id": "e2bdc20c",
   "metadata": {},
   "outputs": [],
   "source": [
    "savemat(path_directory+'metric.mat', dict1)\n",
    "with open(path_directory+'metric.pkl', 'wb') as file:\n",
    "    \n",
    "    # A new file will be created\n",
    "    pickle.dump(dict1, file)"
   ]
  },
  {
   "cell_type": "code",
   "execution_count": 41,
   "id": "00193886",
   "metadata": {},
   "outputs": [
    {
     "data": {
      "image/png": "[encoded data removed]",
      "text/plain": [
       "<Figure size 640x480 with 1 Axes>"
      ]
     },
     "metadata": {},
     "output_type": "display_data"
    }
   ],
   "source": [
    "plt.plot(torch.Tensor.cpu(test_error_points).numpy(),torch.Tensor.cpu(ner).numpy())\n",
    "plt.yscale('log')\n",
    "plt.xlabel('Number of errors')\n",
    "plt.ylabel('NER')    \n",
    "plt.grid(True)\n",
    "plt.show()"
   ]
  },
  {
   "cell_type": "code",
   "execution_count": 42,
   "id": "e22b1f71",
   "metadata": {},
   "outputs": [
    {
     "data": {
      "image/png": "[encoded data removed]",
      "text/plain": [
       "<Figure size 640x480 with 1 Axes>"
      ]
     },
     "metadata": {},
     "output_type": "display_data"
    }
   ],
   "source": [
    "plt.plot(torch.Tensor.cpu(test_error_points).numpy(),torch.Tensor.cpu(ser).numpy())\n",
    "plt.yscale('log')\n",
    "plt.xlabel('Number of errors')\n",
    "plt.ylabel('SER')    \n",
    "plt.grid(True)\n",
    "plt.show()"
   ]
  },
  {
   "cell_type": "code",
   "execution_count": null,
   "id": "ff194c2d",
   "metadata": {},
   "outputs": [],
   "source": []
  },
  {
   "cell_type": "code",
   "execution_count": null,
   "id": "a43e290d",
   "metadata": {},
   "outputs": [],
   "source": []
  }
 ],
 "metadata": {
  "kernelspec": {
   "display_name": "Python 3 (ipykernel)",
   "language": "python",
   "name": "python3"
  },
  "language_info": {
   "codemirror_mode": {
    "name": "ipython",
    "version": 3
   },
   "file_extension": ".py",
   "mimetype": "text/x-python",
   "name": "python",
   "nbconvert_exporter": "python",
   "pygments_lexer": "ipython3",
   "version": "3.10.9"
  }
 },
 "nbformat": 4,
 "nbformat_minor": 5
}
